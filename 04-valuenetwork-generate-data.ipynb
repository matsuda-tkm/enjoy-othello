{
 "cells": [
  {
   "cell_type": "markdown",
   "id": "b8a54d08",
   "metadata": {
    "_cell_guid": "b1076dfc-b9ad-4769-8c92-a6c4dae69d19",
    "_uuid": "8f2839f25d086af736a60e9eeb907d3b93b6e0e5",
    "papermill": {
     "duration": 0.004851,
     "end_time": "2023-09-09T16:03:31.448686",
     "exception": false,
     "start_time": "2023-09-09T16:03:31.443835",
     "status": "completed"
    },
    "tags": []
   },
   "source": [
    "# 概要\n",
    "- このノートブックでは、ValueNetworkを学習させる。\n",
    "- ネットワークの構造は以下のとおり。\n",
    "    - 入力層：9チャネル\n",
    "        - 黒石の位置(1)\n",
    "        - 白石の位置(1)\n",
    "        - 空白の位置(1)\n",
    "        - 合法手の位置(1)\n",
    "        - そこに打った場合、何個石を返せるか(1)\n",
    "        - 隅の危険領域4マス×4隅をすべて1で埋める(1)\n",
    "        - すべて1で埋める(1)\n",
    "        - すべて0で埋める(1)\n",
    "        - **手番情報：黒番ならすべて0で埋め、白番ならすべて1で埋める**(1)\n",
    "    - 第1層：5x5のn_filters種類のフィルターとReLU関数\n",
    "    - 第2-11層：3x3のn_filters種類のフィルターとReLU関数\n",
    "    - 第12層：3x3のn_filters種類のフィルター\n",
    "    - 第13層：1x1のn_filters種類のフィルター\n",
    "    - 第14層：出力256個の全結合ネットワークとReLU関数\n",
    "    - 第15層：出力1個の全結合ネットワークとtanh関数\n",
    "- 学習データの作成方法は以下のとおり。（cf.AlphaGo解体新書p.171）\n",
    "    - 1以上60以下の整数からランダムに数字を選択し、これをUとする。\n",
    "    - ~~SL-PolicyNetworkをU-1回使って~~ランダムに手を選んで、U-1手目まで局面を進める。\n",
    "    - 次のU手目は合法手の中からランダムに選択し局面を進め、この局面をSとする。\n",
    "    - 局面Sからは、~~RL~~SLポリシーネットワークを使って、終局まで手を進める。最終的な勝敗をzとする。\n",
    "    - 組(S,z)を学習データとする。"
   ]
  },
  {
   "cell_type": "code",
   "execution_count": 1,
   "id": "d9a16f8a",
   "metadata": {
    "execution": {
     "iopub.execute_input": "2023-09-09T16:03:31.458321Z",
     "iopub.status.busy": "2023-09-09T16:03:31.458008Z",
     "iopub.status.idle": "2023-09-09T16:03:42.052665Z",
     "shell.execute_reply": "2023-09-09T16:03:42.051208Z"
    },
    "papermill": {
     "duration": 10.602238,
     "end_time": "2023-09-09T16:03:42.055044",
     "exception": false,
     "start_time": "2023-09-09T16:03:31.452806",
     "status": "completed"
    },
    "tags": []
   },
   "outputs": [],
   "source": [
    "%%capture\n",
    "!pip install creversi"
   ]
  },
  {
   "cell_type": "code",
   "execution_count": 2,
   "id": "a97a042c",
   "metadata": {
    "execution": {
     "iopub.execute_input": "2023-09-09T16:03:42.065171Z",
     "iopub.status.busy": "2023-09-09T16:03:42.064868Z",
     "iopub.status.idle": "2023-09-09T16:03:46.342767Z",
     "shell.execute_reply": "2023-09-09T16:03:46.342064Z"
    },
    "papermill": {
     "duration": 4.2857,
     "end_time": "2023-09-09T16:03:46.345123",
     "exception": false,
     "start_time": "2023-09-09T16:03:42.059423",
     "status": "completed"
    },
    "tags": []
   },
   "outputs": [
    {
     "name": "stderr",
     "output_type": "stream",
     "text": [
      "/opt/conda/lib/python3.10/site-packages/scipy/__init__.py:146: UserWarning: A NumPy version >=1.16.5 and <1.23.0 is required for this version of SciPy (detected version 1.23.5\n",
      "  warnings.warn(f\"A NumPy version >={np_minversion} and <{np_maxversion}\"\n"
     ]
    }
   ],
   "source": [
    "from creversi import *\n",
    "\n",
    "import numpy as np\n",
    "import matplotlib.pyplot as plt\n",
    "import seaborn as sns\n",
    "from tqdm import tqdm\n",
    "from copy import copy\n",
    "import gc\n",
    "\n",
    "import torch\n",
    "import torch.nn as nn\n",
    "from sklearn.model_selection import train_test_split"
   ]
  },
  {
   "cell_type": "code",
   "execution_count": 3,
   "id": "3736f0ce",
   "metadata": {
    "execution": {
     "iopub.execute_input": "2023-09-09T16:03:46.356628Z",
     "iopub.status.busy": "2023-09-09T16:03:46.355564Z",
     "iopub.status.idle": "2023-09-09T16:03:46.365136Z",
     "shell.execute_reply": "2023-09-09T16:03:46.364346Z"
    },
    "papermill": {
     "duration": 0.017338,
     "end_time": "2023-09-09T16:03:46.366889",
     "exception": false,
     "start_time": "2023-09-09T16:03:46.349551",
     "status": "completed"
    },
    "tags": []
   },
   "outputs": [],
   "source": [
    "def board_to_array(board):\n",
    "    \"\"\"\n",
    "    boardオブジェクトからndarrayに変換する関数(PolicyNetwork用)。\n",
    "    第1チャンネルは黒石の位置、第2チャンネルに白石の位置、第3チャンネルに空白の位置、\n",
    "    第4チャンネルに合法手の位置、第5チャンネルに返せる石の個数、第6チャンネルに隅=1、\n",
    "    第7チャンネルに1埋め、第8チャンネルに0埋め。\n",
    "    \"\"\"\n",
    "    b = np.zeros((8,8,8), dtype=np.float32)\n",
    "    board.piece_planes(b)\n",
    "    if not board.turn:\n",
    "        b = b[[1,0,2,3,4,5,6,7],:,:]\n",
    "    b[2] = np.where(b[0]+b[1]==1, 0, 1)\n",
    "    legal_moves = list(board.legal_moves)\n",
    "    if legal_moves != [64]:\n",
    "        n_returns = []\n",
    "        for move in legal_moves:\n",
    "            board_ = copy(board)\n",
    "            n_before = board_.opponent_piece_num()\n",
    "            board_.move(move)\n",
    "            n_after = board_.piece_num()\n",
    "            n_returns.append(n_before-n_after)\n",
    "        tmp = np.zeros(64)\n",
    "        tmp[legal_moves] = n_returns\n",
    "        tmp = tmp.reshape(8,8)\n",
    "        b[3] = np.where(tmp > 0,1,0)\n",
    "        b[4] = tmp\n",
    "    b[5] = np.array([1., 1., 0., 0., 0., 0., 1., 1., 1., 1., 0., 0., 0., 0., 1., 1., \n",
    "                     0., 0., 0., 0., 0., 0., 0., 0., 0., 0., 0., 0., 0., 0., 0., 0., \n",
    "                     0., 0., 0., 0., 0., 0., 0., 0., 0., 0., 0., 0., 0., 0., 0., 0.,\n",
    "                     1., 1., 0., 0., 0., 0., 1., 1., 1., 1., 0., 0., 0., 0., 1., 1.]).reshape(8,8)\n",
    "    b[6] = 1\n",
    "    return b"
   ]
  },
  {
   "cell_type": "code",
   "execution_count": 4,
   "id": "5b7cdeac",
   "metadata": {
    "execution": {
     "iopub.execute_input": "2023-09-09T16:03:46.376142Z",
     "iopub.status.busy": "2023-09-09T16:03:46.375902Z",
     "iopub.status.idle": "2023-09-09T16:03:46.384966Z",
     "shell.execute_reply": "2023-09-09T16:03:46.384120Z"
    },
    "papermill": {
     "duration": 0.01556,
     "end_time": "2023-09-09T16:03:46.386556",
     "exception": false,
     "start_time": "2023-09-09T16:03:46.370996",
     "status": "completed"
    },
    "tags": []
   },
   "outputs": [],
   "source": [
    "def board_to_array2(board):\n",
    "    \"\"\"\n",
    "    boardオブジェクトからndarrayに変換する関数(ValueNetwork用)。\n",
    "    第1チャネルは黒石の位置、第2チャネルに白石の位置、第3チャネルに空白の位置、\n",
    "    第4チャネルに合法手の位置、第5チャネルに返せる石の個数、第6チャネルに隅=1、\n",
    "    第7チャネルに1埋め、第8チャネルに0埋め、第9チャネルに手番情報(黒番=0埋め、白番=1埋め)\n",
    "    \"\"\"\n",
    "    b = np.zeros((9,8,8), dtype=np.float32)\n",
    "    board.piece_planes(b)\n",
    "    if not board.turn:\n",
    "        b = b[[1,0,2,3,4,5,6,7,8],:,:]\n",
    "        b[8] = 1\n",
    "    b[2] = np.where(b[0]+b[1]==1, 0, 1)\n",
    "    legal_moves = list(board.legal_moves)\n",
    "    if legal_moves != [64]:\n",
    "        n_returns = []\n",
    "        for move in legal_moves:\n",
    "            board_ = copy(board)\n",
    "            n_before = board_.opponent_piece_num()\n",
    "            board_.move(move)\n",
    "            n_after = board_.piece_num()\n",
    "            n_returns.append(n_before-n_after)\n",
    "        tmp = np.zeros(64)\n",
    "        tmp[legal_moves] = n_returns\n",
    "        tmp = tmp.reshape(8,8)\n",
    "        b[3] = np.where(tmp > 0,1,0)\n",
    "        b[4] = tmp\n",
    "    b[5] = np.array([1., 1., 0., 0., 0., 0., 1., 1., 1., 1., 0., 0., 0., 0., 1., 1., \n",
    "                     0., 0., 0., 0., 0., 0., 0., 0., 0., 0., 0., 0., 0., 0., 0., 0., \n",
    "                     0., 0., 0., 0., 0., 0., 0., 0., 0., 0., 0., 0., 0., 0., 0., 0.,\n",
    "                     1., 1., 0., 0., 0., 0., 1., 1., 1., 1., 0., 0., 0., 0., 1., 1.]).reshape(8,8)\n",
    "    b[6] = 1\n",
    "    return b"
   ]
  },
  {
   "cell_type": "code",
   "execution_count": 5,
   "id": "816cd594",
   "metadata": {
    "execution": {
     "iopub.execute_input": "2023-09-09T16:03:46.395533Z",
     "iopub.status.busy": "2023-09-09T16:03:46.395269Z",
     "iopub.status.idle": "2023-09-09T16:03:46.400985Z",
     "shell.execute_reply": "2023-09-09T16:03:46.400084Z"
    },
    "papermill": {
     "duration": 0.012232,
     "end_time": "2023-09-09T16:03:46.402769",
     "exception": false,
     "start_time": "2023-09-09T16:03:46.390537",
     "status": "completed"
    },
    "tags": []
   },
   "outputs": [],
   "source": [
    "def move_rotate(move, k):\n",
    "    if k == 1:\n",
    "        return move_rotate270(move)\n",
    "    if k == 2:\n",
    "        return move_rotate180(move)\n",
    "    if k == 3:\n",
    "        return move_rotate90(move)\n",
    "    \n",
    "def move_fliplr(move):\n",
    "    row = move // 8\n",
    "    col = move % 8\n",
    "\n",
    "    reversed_col = 7 - col\n",
    "    reversed_move = row * 8 + reversed_col\n",
    "    return reversed_move"
   ]
  },
  {
   "cell_type": "code",
   "execution_count": 6,
   "id": "0191414e",
   "metadata": {
    "execution": {
     "iopub.execute_input": "2023-09-09T16:03:46.412439Z",
     "iopub.status.busy": "2023-09-09T16:03:46.412176Z",
     "iopub.status.idle": "2023-09-09T16:03:46.421249Z",
     "shell.execute_reply": "2023-09-09T16:03:46.420653Z"
    },
    "papermill": {
     "duration": 0.015552,
     "end_time": "2023-09-09T16:03:46.422755",
     "exception": false,
     "start_time": "2023-09-09T16:03:46.407203",
     "status": "completed"
    },
    "tags": []
   },
   "outputs": [],
   "source": [
    "class PolicyNetwork(nn.Module):\n",
    "    def __init__(self):\n",
    "        super().__init__()\n",
    "        n_filters = 100\n",
    "        self.input_layer = nn.Sequential(\n",
    "            nn.Conv2d(8,n_filters,kernel_size=5,padding=2),\n",
    "            nn.ReLU()\n",
    "        )\n",
    "        self.hidden_layer = nn.Sequential(\n",
    "            nn.Conv2d(n_filters,n_filters,kernel_size=3,padding=1),\n",
    "            nn.BatchNorm2d(n_filters),\n",
    "            nn.ReLU(),\n",
    "            nn.Conv2d(n_filters,n_filters,kernel_size=3,padding=1),\n",
    "            nn.BatchNorm2d(n_filters),\n",
    "            nn.ReLU(),\n",
    "            nn.Conv2d(n_filters,n_filters,kernel_size=3,padding=1),\n",
    "            nn.BatchNorm2d(n_filters),\n",
    "            nn.ReLU(),\n",
    "            nn.Conv2d(n_filters,n_filters,kernel_size=3,padding=1),\n",
    "            nn.BatchNorm2d(n_filters),\n",
    "            nn.ReLU(),\n",
    "            nn.Conv2d(n_filters,n_filters,kernel_size=3,padding=1),\n",
    "            nn.BatchNorm2d(n_filters),\n",
    "            nn.ReLU(),\n",
    "            nn.Conv2d(n_filters,n_filters,kernel_size=3,padding=1),\n",
    "            nn.BatchNorm2d(n_filters),\n",
    "            nn.ReLU(),\n",
    "            nn.Conv2d(n_filters,n_filters,kernel_size=3,padding=1),\n",
    "            nn.BatchNorm2d(n_filters),\n",
    "            nn.ReLU(),\n",
    "            nn.Conv2d(n_filters,n_filters,kernel_size=3,padding=1),\n",
    "            nn.BatchNorm2d(n_filters),\n",
    "            nn.ReLU(),\n",
    "            nn.Conv2d(n_filters,n_filters,kernel_size=3,padding=1),\n",
    "            nn.BatchNorm2d(n_filters),\n",
    "            nn.ReLU(),\n",
    "            nn.Conv2d(n_filters,n_filters,kernel_size=3,padding=1),\n",
    "            nn.BatchNorm2d(n_filters),\n",
    "            nn.ReLU(),\n",
    "            nn.Conv2d(n_filters,n_filters,kernel_size=3,padding=1),\n",
    "            nn.BatchNorm2d(n_filters),\n",
    "            nn.ReLU()\n",
    "        )\n",
    "        self.output_layer = nn.Sequential(\n",
    "            nn.Conv2d(n_filters,1,kernel_size=1),\n",
    "            nn.Flatten()\n",
    "        )\n",
    "        \n",
    "    def forward(self,x):\n",
    "        out = self.input_layer(x)\n",
    "        out = self.hidden_layer(out)\n",
    "        out = self.output_layer(out)\n",
    "        return out"
   ]
  },
  {
   "cell_type": "markdown",
   "id": "4627fd15",
   "metadata": {
    "papermill": {
     "duration": 0.0037,
     "end_time": "2023-09-09T16:03:46.430580",
     "exception": false,
     "start_time": "2023-09-09T16:03:46.426880",
     "status": "completed"
    },
    "tags": []
   },
   "source": [
    "# 学習データ作成"
   ]
  },
  {
   "cell_type": "code",
   "execution_count": 7,
   "id": "c8af6bba",
   "metadata": {
    "execution": {
     "iopub.execute_input": "2023-09-09T16:03:46.440594Z",
     "iopub.status.busy": "2023-09-09T16:03:46.439632Z",
     "iopub.status.idle": "2023-09-09T16:03:46.532565Z",
     "shell.execute_reply": "2023-09-09T16:03:46.531914Z"
    },
    "papermill": {
     "duration": 0.099836,
     "end_time": "2023-09-09T16:03:46.534234",
     "exception": false,
     "start_time": "2023-09-09T16:03:46.434398",
     "status": "completed"
    },
    "tags": []
   },
   "outputs": [
    {
     "name": "stdout",
     "output_type": "stream",
     "text": [
      "cpu\n"
     ]
    }
   ],
   "source": [
    "device = 'cuda' if torch.cuda.is_available() else 'cpu'\n",
    "print(device)\n",
    "\n",
    "model_SL = torch.load('/kaggle/input/reversi-datasets/SL-PolicyNetwork-v3-checkpoint-5epoch-subdata99.pth').to(device)"
   ]
  },
  {
   "cell_type": "code",
   "execution_count": 8,
   "id": "2ad20847",
   "metadata": {
    "execution": {
     "iopub.execute_input": "2023-09-09T16:03:46.546119Z",
     "iopub.status.busy": "2023-09-09T16:03:46.545607Z",
     "iopub.status.idle": "2023-09-09T16:03:46.549977Z",
     "shell.execute_reply": "2023-09-09T16:03:46.549355Z"
    },
    "papermill": {
     "duration": 0.012716,
     "end_time": "2023-09-09T16:03:46.551524",
     "exception": false,
     "start_time": "2023-09-09T16:03:46.538808",
     "status": "completed"
    },
    "tags": []
   },
   "outputs": [],
   "source": [
    "def model_move(board, legal_moves, model):\n",
    "    with torch.no_grad():\n",
    "        p = model(torch.from_numpy(board_to_array(board)).unsqueeze(0).to(device)).cpu()\n",
    "    p_legal = p[0][legal_moves].softmax(0).numpy()\n",
    "    move = np.random.choice(legal_moves, p=p_legal)\n",
    "    return move"
   ]
  },
  {
   "cell_type": "code",
   "execution_count": 9,
   "id": "1ad295fb",
   "metadata": {
    "execution": {
     "iopub.execute_input": "2023-09-09T16:03:46.561060Z",
     "iopub.status.busy": "2023-09-09T16:03:46.560577Z",
     "iopub.status.idle": "2023-09-09T20:50:02.291909Z",
     "shell.execute_reply": "2023-09-09T20:50:02.290861Z"
    },
    "papermill": {
     "duration": 17175.738106,
     "end_time": "2023-09-09T20:50:02.293705",
     "exception": false,
     "start_time": "2023-09-09T16:03:46.555599",
     "status": "completed"
    },
    "tags": []
   },
   "outputs": [
    {
     "name": "stdout",
     "output_type": "stream",
     "text": [
      "----file1----\n"
     ]
    },
    {
     "name": "stderr",
     "output_type": "stream",
     "text": [
      "  2%|▏         | 449/25000 [00:42<37:08, 11.01it/s]"
     ]
    },
    {
     "name": "stdout",
     "output_type": "stream",
     "text": [
      "[WARNING] early gameover.\n"
     ]
    },
    {
     "name": "stderr",
     "output_type": "stream",
     "text": [
      "  9%|▉         | 2298/25000 [03:37<21:24, 17.67it/s]"
     ]
    },
    {
     "name": "stdout",
     "output_type": "stream",
     "text": [
      "[WARNING] early gameover.\n"
     ]
    },
    {
     "name": "stderr",
     "output_type": "stream",
     "text": [
      " 16%|█▌        | 3970/25000 [06:19<26:11, 13.38it/s]"
     ]
    },
    {
     "name": "stdout",
     "output_type": "stream",
     "text": [
      "[WARNING] early gameover.\n"
     ]
    },
    {
     "name": "stderr",
     "output_type": "stream",
     "text": [
      " 18%|█▊        | 4460/25000 [07:07<36:54,  9.28it/s]"
     ]
    },
    {
     "name": "stdout",
     "output_type": "stream",
     "text": [
      "[WARNING] early gameover.\n"
     ]
    },
    {
     "name": "stderr",
     "output_type": "stream",
     "text": [
      " 35%|███▌      | 8852/25000 [14:05<18:25, 14.61it/s]"
     ]
    },
    {
     "name": "stdout",
     "output_type": "stream",
     "text": [
      "[WARNING] early gameover.\n"
     ]
    },
    {
     "name": "stderr",
     "output_type": "stream",
     "text": [
      " 37%|███▋      | 9294/25000 [14:48<19:57, 13.11it/s]"
     ]
    },
    {
     "name": "stdout",
     "output_type": "stream",
     "text": [
      "[WARNING] early gameover.\n"
     ]
    },
    {
     "name": "stderr",
     "output_type": "stream",
     "text": [
      " 60%|██████    | 15016/25000 [23:58<18:04,  9.21it/s]"
     ]
    },
    {
     "name": "stdout",
     "output_type": "stream",
     "text": [
      "[WARNING] early gameover.\n"
     ]
    },
    {
     "name": "stderr",
     "output_type": "stream",
     "text": [
      " 73%|███████▎  | 18216/25000 [29:14<10:56, 10.33it/s]"
     ]
    },
    {
     "name": "stdout",
     "output_type": "stream",
     "text": [
      "[WARNING] early gameover.\n"
     ]
    },
    {
     "name": "stderr",
     "output_type": "stream",
     "text": [
      " 77%|███████▋  | 19341/25000 [31:06<07:14, 13.04it/s]"
     ]
    },
    {
     "name": "stdout",
     "output_type": "stream",
     "text": [
      "[WARNING] early gameover.\n"
     ]
    },
    {
     "name": "stderr",
     "output_type": "stream",
     "text": [
      " 87%|████████▋ | 21665/25000 [34:55<03:34, 15.58it/s]"
     ]
    },
    {
     "name": "stdout",
     "output_type": "stream",
     "text": [
      "[WARNING] early gameover.\n"
     ]
    },
    {
     "name": "stderr",
     "output_type": "stream",
     "text": [
      " 93%|█████████▎| 23179/25000 [37:20<02:14, 13.59it/s]"
     ]
    },
    {
     "name": "stdout",
     "output_type": "stream",
     "text": [
      "[WARNING] early gameover.\n"
     ]
    },
    {
     "name": "stderr",
     "output_type": "stream",
     "text": [
      " 97%|█████████▋| 24162/25000 [38:53<00:54, 15.48it/s]"
     ]
    },
    {
     "name": "stdout",
     "output_type": "stream",
     "text": [
      "[WARNING] early gameover.\n"
     ]
    },
    {
     "name": "stderr",
     "output_type": "stream",
     "text": [
      "100%|██████████| 25000/25000 [40:14<00:00, 10.35it/s]\n"
     ]
    },
    {
     "name": "stdout",
     "output_type": "stream",
     "text": [
      "S:(24988, 9, 8, 8), z:(24988,)\n",
      "pos:12696, neg:11411, draw:881\n",
      "----file2----\n"
     ]
    },
    {
     "name": "stderr",
     "output_type": "stream",
     "text": [
      " 24%|██▎       | 5916/25000 [09:47<34:35,  9.19it/s]"
     ]
    },
    {
     "name": "stdout",
     "output_type": "stream",
     "text": [
      "[WARNING] early gameover.\n"
     ]
    },
    {
     "name": "stderr",
     "output_type": "stream",
     "text": [
      " 33%|███▎      | 8264/25000 [13:43<20:10, 13.82it/s]"
     ]
    },
    {
     "name": "stdout",
     "output_type": "stream",
     "text": [
      "[WARNING] early gameover.\n"
     ]
    },
    {
     "name": "stderr",
     "output_type": "stream",
     "text": [
      " 76%|███████▋  | 19095/25000 [31:14<07:43, 12.73it/s]"
     ]
    },
    {
     "name": "stdout",
     "output_type": "stream",
     "text": [
      "[WARNING] early gameover.\n"
     ]
    },
    {
     "name": "stderr",
     "output_type": "stream",
     "text": [
      " 89%|████████▉ | 22249/25000 [36:24<05:36,  8.17it/s]"
     ]
    },
    {
     "name": "stdout",
     "output_type": "stream",
     "text": [
      "[WARNING] early gameover.\n"
     ]
    },
    {
     "name": "stderr",
     "output_type": "stream",
     "text": [
      "100%|██████████| 25000/25000 [40:51<00:00, 10.20it/s]\n"
     ]
    },
    {
     "name": "stdout",
     "output_type": "stream",
     "text": [
      "S:(24996, 9, 8, 8), z:(24996,)\n",
      "pos:12795, neg:11300, draw:901\n",
      "----file3----\n"
     ]
    },
    {
     "name": "stderr",
     "output_type": "stream",
     "text": [
      " 18%|█▊        | 4474/25000 [07:09<22:17, 15.34it/s]"
     ]
    },
    {
     "name": "stdout",
     "output_type": "stream",
     "text": [
      "[WARNING] early gameover.\n"
     ]
    },
    {
     "name": "stderr",
     "output_type": "stream",
     "text": [
      " 20%|██        | 5019/25000 [08:02<32:34, 10.22it/s]"
     ]
    },
    {
     "name": "stdout",
     "output_type": "stream",
     "text": [
      "[WARNING] early gameover.\n"
     ]
    },
    {
     "name": "stderr",
     "output_type": "stream",
     "text": [
      " 21%|██▏       | 5328/25000 [08:31<28:36, 11.46it/s]"
     ]
    },
    {
     "name": "stdout",
     "output_type": "stream",
     "text": [
      "[WARNING] early gameover.\n"
     ]
    },
    {
     "name": "stderr",
     "output_type": "stream",
     "text": [
      " 41%|████      | 10154/25000 [16:19<23:56, 10.34it/s]"
     ]
    },
    {
     "name": "stdout",
     "output_type": "stream",
     "text": [
      "[WARNING] early gameover.\n"
     ]
    },
    {
     "name": "stderr",
     "output_type": "stream",
     "text": [
      " 47%|████▋     | 11755/25000 [18:55<17:59, 12.27it/s]"
     ]
    },
    {
     "name": "stdout",
     "output_type": "stream",
     "text": [
      "[WARNING] early gameover.\n"
     ]
    },
    {
     "name": "stderr",
     "output_type": "stream",
     "text": [
      " 57%|█████▋    | 14361/25000 [23:12<13:37, 13.02it/s]"
     ]
    },
    {
     "name": "stdout",
     "output_type": "stream",
     "text": [
      "[WARNING] early gameover.\n"
     ]
    },
    {
     "name": "stderr",
     "output_type": "stream",
     "text": [
      " 64%|██████▍   | 16110/25000 [26:03<12:24, 11.95it/s]"
     ]
    },
    {
     "name": "stdout",
     "output_type": "stream",
     "text": [
      "[WARNING] early gameover.\n"
     ]
    },
    {
     "name": "stderr",
     "output_type": "stream",
     "text": [
      " 67%|██████▋   | 16820/25000 [27:14<12:08, 11.22it/s]"
     ]
    },
    {
     "name": "stdout",
     "output_type": "stream",
     "text": [
      "[WARNING] early gameover.\n"
     ]
    },
    {
     "name": "stderr",
     "output_type": "stream",
     "text": [
      " 88%|████████▊ | 21939/25000 [35:38<04:25, 11.51it/s]"
     ]
    },
    {
     "name": "stdout",
     "output_type": "stream",
     "text": [
      "[WARNING] early gameover.\n"
     ]
    },
    {
     "name": "stderr",
     "output_type": "stream",
     "text": [
      "100%|██████████| 25000/25000 [40:41<00:00, 10.24it/s]\n"
     ]
    },
    {
     "name": "stdout",
     "output_type": "stream",
     "text": [
      "S:(24991, 9, 8, 8), z:(24991,)\n",
      "pos:12726, neg:11390, draw:875\n",
      "----file4----\n"
     ]
    },
    {
     "name": "stderr",
     "output_type": "stream",
     "text": [
      "  1%|          | 153/25000 [00:14<38:18, 10.81it/s]"
     ]
    },
    {
     "name": "stdout",
     "output_type": "stream",
     "text": [
      "[WARNING] early gameover.\n"
     ]
    },
    {
     "name": "stderr",
     "output_type": "stream",
     "text": [
      "  3%|▎         | 690/25000 [01:04<27:45, 14.59it/s]"
     ]
    },
    {
     "name": "stdout",
     "output_type": "stream",
     "text": [
      "[WARNING] early gameover.\n"
     ]
    },
    {
     "name": "stderr",
     "output_type": "stream",
     "text": [
      "  5%|▌         | 1348/25000 [02:07<37:43, 10.45it/s]"
     ]
    },
    {
     "name": "stdout",
     "output_type": "stream",
     "text": [
      "[WARNING] early gameover.\n"
     ]
    },
    {
     "name": "stderr",
     "output_type": "stream",
     "text": [
      " 21%|██        | 5182/25000 [08:25<20:58, 15.75it/s]"
     ]
    },
    {
     "name": "stdout",
     "output_type": "stream",
     "text": [
      "[WARNING] early gameover.\n"
     ]
    },
    {
     "name": "stderr",
     "output_type": "stream",
     "text": [
      " 33%|███▎      | 8140/25000 [13:15<23:21, 12.03it/s]"
     ]
    },
    {
     "name": "stdout",
     "output_type": "stream",
     "text": [
      "[WARNING] early gameover.\n"
     ]
    },
    {
     "name": "stderr",
     "output_type": "stream",
     "text": [
      " 35%|███▍      | 8628/25000 [14:02<24:03, 11.34it/s]"
     ]
    },
    {
     "name": "stdout",
     "output_type": "stream",
     "text": [
      "[WARNING] early gameover.\n"
     ]
    },
    {
     "name": "stderr",
     "output_type": "stream",
     "text": [
      " 46%|████▌     | 11535/25000 [18:51<19:27, 11.54it/s]"
     ]
    },
    {
     "name": "stdout",
     "output_type": "stream",
     "text": [
      "[WARNING] early gameover.\n"
     ]
    },
    {
     "name": "stderr",
     "output_type": "stream",
     "text": [
      " 58%|█████▊    | 14416/25000 [23:34<11:16, 15.64it/s]"
     ]
    },
    {
     "name": "stdout",
     "output_type": "stream",
     "text": [
      "[WARNING] early gameover.\n"
     ]
    },
    {
     "name": "stderr",
     "output_type": "stream",
     "text": [
      " 60%|██████    | 15055/25000 [24:36<13:24, 12.36it/s]"
     ]
    },
    {
     "name": "stdout",
     "output_type": "stream",
     "text": [
      "[WARNING] early gameover.\n"
     ]
    },
    {
     "name": "stderr",
     "output_type": "stream",
     "text": [
      " 65%|██████▌   | 16326/25000 [26:41<08:24, 17.19it/s]"
     ]
    },
    {
     "name": "stdout",
     "output_type": "stream",
     "text": [
      "[WARNING] early gameover.\n"
     ]
    },
    {
     "name": "stderr",
     "output_type": "stream",
     "text": [
      " 68%|██████▊   | 16986/25000 [27:42<08:11, 16.29it/s]"
     ]
    },
    {
     "name": "stdout",
     "output_type": "stream",
     "text": [
      "[WARNING] early gameover.\n"
     ]
    },
    {
     "name": "stderr",
     "output_type": "stream",
     "text": [
      " 84%|████████▎ | 20928/25000 [34:06<06:48,  9.98it/s]"
     ]
    },
    {
     "name": "stdout",
     "output_type": "stream",
     "text": [
      "[WARNING] early gameover.\n"
     ]
    },
    {
     "name": "stderr",
     "output_type": "stream",
     "text": [
      " 91%|█████████▏| 22836/25000 [37:17<02:51, 12.65it/s]"
     ]
    },
    {
     "name": "stdout",
     "output_type": "stream",
     "text": [
      "[WARNING] early gameover.\n"
     ]
    },
    {
     "name": "stderr",
     "output_type": "stream",
     "text": [
      " 91%|█████████▏| 22843/25000 [37:17<03:05, 11.64it/s]"
     ]
    },
    {
     "name": "stdout",
     "output_type": "stream",
     "text": [
      "[WARNING] early gameover.\n"
     ]
    },
    {
     "name": "stderr",
     "output_type": "stream",
     "text": [
      " 95%|█████████▌| 23776/25000 [38:46<01:38, 12.37it/s]"
     ]
    },
    {
     "name": "stdout",
     "output_type": "stream",
     "text": [
      "[WARNING] early gameover.\n"
     ]
    },
    {
     "name": "stderr",
     "output_type": "stream",
     "text": [
      "100%|██████████| 25000/25000 [40:44<00:00, 10.23it/s]\n"
     ]
    },
    {
     "name": "stdout",
     "output_type": "stream",
     "text": [
      "S:(24985, 9, 8, 8), z:(24985,)\n",
      "pos:12748, neg:11439, draw:798\n",
      "----file5----\n"
     ]
    },
    {
     "name": "stderr",
     "output_type": "stream",
     "text": [
      "  2%|▏         | 568/25000 [00:54<36:35, 11.13it/s]"
     ]
    },
    {
     "name": "stdout",
     "output_type": "stream",
     "text": [
      "[WARNING] early gameover.\n"
     ]
    },
    {
     "name": "stderr",
     "output_type": "stream",
     "text": [
      "  4%|▍         | 1099/25000 [01:46<34:47, 11.45it/s]"
     ]
    },
    {
     "name": "stdout",
     "output_type": "stream",
     "text": [
      "[WARNING] early gameover.\n"
     ]
    },
    {
     "name": "stderr",
     "output_type": "stream",
     "text": [
      "  8%|▊         | 2055/25000 [03:20<32:28, 11.78it/s]"
     ]
    },
    {
     "name": "stdout",
     "output_type": "stream",
     "text": [
      "[WARNING] early gameover.\n"
     ]
    },
    {
     "name": "stderr",
     "output_type": "stream",
     "text": [
      " 12%|█▏        | 3095/25000 [05:03<24:54, 14.66it/s]"
     ]
    },
    {
     "name": "stdout",
     "output_type": "stream",
     "text": [
      "[WARNING] early gameover.\n"
     ]
    },
    {
     "name": "stderr",
     "output_type": "stream",
     "text": [
      " 27%|██▋       | 6797/25000 [11:01<27:41, 10.95it/s]"
     ]
    },
    {
     "name": "stdout",
     "output_type": "stream",
     "text": [
      "[WARNING] early gameover.\n"
     ]
    },
    {
     "name": "stderr",
     "output_type": "stream",
     "text": [
      " 34%|███▍      | 8575/25000 [13:51<26:43, 10.24it/s]"
     ]
    },
    {
     "name": "stdout",
     "output_type": "stream",
     "text": [
      "[WARNING] early gameover.\n"
     ]
    },
    {
     "name": "stderr",
     "output_type": "stream",
     "text": [
      " 52%|█████▏    | 12877/25000 [20:58<29:59,  6.74it/s]"
     ]
    },
    {
     "name": "stdout",
     "output_type": "stream",
     "text": [
      "[WARNING] early gameover.\n"
     ]
    },
    {
     "name": "stderr",
     "output_type": "stream",
     "text": [
      " 55%|█████▍    | 13628/25000 [22:10<16:11, 11.71it/s]"
     ]
    },
    {
     "name": "stdout",
     "output_type": "stream",
     "text": [
      "[WARNING] early gameover.\n"
     ]
    },
    {
     "name": "stderr",
     "output_type": "stream",
     "text": [
      " 64%|██████▍   | 15988/25000 [26:02<19:47,  7.59it/s]"
     ]
    },
    {
     "name": "stdout",
     "output_type": "stream",
     "text": [
      "[WARNING] early gameover.\n"
     ]
    },
    {
     "name": "stderr",
     "output_type": "stream",
     "text": [
      " 92%|█████████▏| 22910/25000 [37:30<02:31, 13.76it/s]"
     ]
    },
    {
     "name": "stdout",
     "output_type": "stream",
     "text": [
      "[WARNING] early gameover.\n"
     ]
    },
    {
     "name": "stderr",
     "output_type": "stream",
     "text": [
      "100%|██████████| 25000/25000 [40:54<00:00, 10.18it/s]\n"
     ]
    },
    {
     "name": "stdout",
     "output_type": "stream",
     "text": [
      "S:(24990, 9, 8, 8), z:(24990,)\n",
      "pos:12794, neg:11313, draw:883\n",
      "----file6----\n"
     ]
    },
    {
     "name": "stderr",
     "output_type": "stream",
     "text": [
      "  8%|▊         | 2020/25000 [03:18<32:41, 11.71it/s]"
     ]
    },
    {
     "name": "stdout",
     "output_type": "stream",
     "text": [
      "[WARNING] early gameover.\n"
     ]
    },
    {
     "name": "stderr",
     "output_type": "stream",
     "text": [
      "  8%|▊         | 2107/25000 [03:27<34:13, 11.15it/s]"
     ]
    },
    {
     "name": "stdout",
     "output_type": "stream",
     "text": [
      "[WARNING] early gameover.\n"
     ]
    },
    {
     "name": "stderr",
     "output_type": "stream",
     "text": [
      " 13%|█▎        | 3209/25000 [05:14<26:22, 13.77it/s]"
     ]
    },
    {
     "name": "stdout",
     "output_type": "stream",
     "text": [
      "[WARNING] early gameover.\n"
     ]
    },
    {
     "name": "stderr",
     "output_type": "stream",
     "text": [
      " 14%|█▍        | 3600/25000 [05:54<29:48, 11.97it/s]"
     ]
    },
    {
     "name": "stdout",
     "output_type": "stream",
     "text": [
      "[WARNING] early gameover.\n"
     ]
    },
    {
     "name": "stderr",
     "output_type": "stream",
     "text": [
      " 25%|██▌       | 6263/25000 [10:17<30:07, 10.36it/s]"
     ]
    },
    {
     "name": "stdout",
     "output_type": "stream",
     "text": [
      "[WARNING] early gameover.\n"
     ]
    },
    {
     "name": "stderr",
     "output_type": "stream",
     "text": [
      " 29%|██▊       | 7127/25000 [11:41<26:54, 11.07it/s]"
     ]
    },
    {
     "name": "stdout",
     "output_type": "stream",
     "text": [
      "[WARNING] early gameover.\n"
     ]
    },
    {
     "name": "stderr",
     "output_type": "stream",
     "text": [
      " 41%|████      | 10288/25000 [16:54<18:40, 13.13it/s]"
     ]
    },
    {
     "name": "stdout",
     "output_type": "stream",
     "text": [
      "[WARNING] early gameover.\n"
     ]
    },
    {
     "name": "stderr",
     "output_type": "stream",
     "text": [
      " 45%|████▍     | 11158/25000 [18:18<18:57, 12.17it/s]"
     ]
    },
    {
     "name": "stdout",
     "output_type": "stream",
     "text": [
      "[WARNING] early gameover.\n"
     ]
    },
    {
     "name": "stderr",
     "output_type": "stream",
     "text": [
      " 49%|████▉     | 12289/25000 [20:08<17:40, 11.99it/s]"
     ]
    },
    {
     "name": "stdout",
     "output_type": "stream",
     "text": [
      "[WARNING] early gameover.\n"
     ]
    },
    {
     "name": "stderr",
     "output_type": "stream",
     "text": [
      " 53%|█████▎    | 13272/25000 [21:46<18:37, 10.49it/s]"
     ]
    },
    {
     "name": "stdout",
     "output_type": "stream",
     "text": [
      "[WARNING] early gameover.\n"
     ]
    },
    {
     "name": "stderr",
     "output_type": "stream",
     "text": [
      " 58%|█████▊    | 14515/25000 [23:50<11:22, 15.37it/s]"
     ]
    },
    {
     "name": "stdout",
     "output_type": "stream",
     "text": [
      "[WARNING] early gameover.\n"
     ]
    },
    {
     "name": "stderr",
     "output_type": "stream",
     "text": [
      " 69%|██████▉   | 17299/25000 [28:22<08:03, 15.94it/s]"
     ]
    },
    {
     "name": "stdout",
     "output_type": "stream",
     "text": [
      "[WARNING] early gameover.\n"
     ]
    },
    {
     "name": "stderr",
     "output_type": "stream",
     "text": [
      " 72%|███████▏  | 18093/25000 [29:42<06:19, 18.22it/s]"
     ]
    },
    {
     "name": "stdout",
     "output_type": "stream",
     "text": [
      "[WARNING] early gameover.\n"
     ]
    },
    {
     "name": "stderr",
     "output_type": "stream",
     "text": [
      " 72%|███████▎  | 18125/25000 [29:44<10:17, 11.14it/s]"
     ]
    },
    {
     "name": "stdout",
     "output_type": "stream",
     "text": [
      "[WARNING] early gameover.\n"
     ]
    },
    {
     "name": "stderr",
     "output_type": "stream",
     "text": [
      " 85%|████████▍ | 21234/25000 [34:54<05:41, 11.04it/s]"
     ]
    },
    {
     "name": "stdout",
     "output_type": "stream",
     "text": [
      "[WARNING] early gameover.\n"
     ]
    },
    {
     "name": "stderr",
     "output_type": "stream",
     "text": [
      " 87%|████████▋ | 21643/25000 [35:36<08:23,  6.66it/s]"
     ]
    },
    {
     "name": "stdout",
     "output_type": "stream",
     "text": [
      "[WARNING] early gameover.\n"
     ]
    },
    {
     "name": "stderr",
     "output_type": "stream",
     "text": [
      " 92%|█████████▏| 22928/25000 [37:44<03:07, 11.08it/s]"
     ]
    },
    {
     "name": "stdout",
     "output_type": "stream",
     "text": [
      "[WARNING] early gameover.\n"
     ]
    },
    {
     "name": "stderr",
     "output_type": "stream",
     "text": [
      "100%|██████████| 25000/25000 [41:18<00:00, 10.09it/s]\n"
     ]
    },
    {
     "name": "stdout",
     "output_type": "stream",
     "text": [
      "S:(24983, 9, 8, 8), z:(24983,)\n",
      "pos:12581, neg:11512, draw:890\n",
      "----file7----\n"
     ]
    },
    {
     "name": "stderr",
     "output_type": "stream",
     "text": [
      " 19%|█▉        | 4839/25000 [07:55<27:31, 12.21it/s]"
     ]
    },
    {
     "name": "stdout",
     "output_type": "stream",
     "text": [
      "[WARNING] early gameover.\n"
     ]
    },
    {
     "name": "stderr",
     "output_type": "stream",
     "text": [
      " 22%|██▏       | 5448/25000 [08:56<19:36, 16.62it/s]"
     ]
    },
    {
     "name": "stdout",
     "output_type": "stream",
     "text": [
      "[WARNING] early gameover.\n"
     ]
    },
    {
     "name": "stderr",
     "output_type": "stream",
     "text": [
      " 26%|██▌       | 6406/25000 [10:33<37:42,  8.22it/s]"
     ]
    },
    {
     "name": "stdout",
     "output_type": "stream",
     "text": [
      "[WARNING] early gameover.\n"
     ]
    },
    {
     "name": "stderr",
     "output_type": "stream",
     "text": [
      " 27%|██▋       | 6674/25000 [10:58<27:59, 10.91it/s]"
     ]
    },
    {
     "name": "stdout",
     "output_type": "stream",
     "text": [
      "[WARNING] early gameover.\n"
     ]
    },
    {
     "name": "stderr",
     "output_type": "stream",
     "text": [
      " 29%|██▉       | 7317/25000 [12:03<24:35, 11.99it/s]"
     ]
    },
    {
     "name": "stdout",
     "output_type": "stream",
     "text": [
      "[WARNING] early gameover.\n"
     ]
    },
    {
     "name": "stderr",
     "output_type": "stream",
     "text": [
      " 32%|███▏      | 8013/25000 [13:11<19:55, 14.21it/s]"
     ]
    },
    {
     "name": "stdout",
     "output_type": "stream",
     "text": [
      "[WARNING] early gameover.\n"
     ]
    },
    {
     "name": "stderr",
     "output_type": "stream",
     "text": [
      " 37%|███▋      | 9126/25000 [15:03<24:13, 10.92it/s]"
     ]
    },
    {
     "name": "stdout",
     "output_type": "stream",
     "text": [
      "[WARNING] early gameover.\n"
     ]
    },
    {
     "name": "stderr",
     "output_type": "stream",
     "text": [
      " 38%|███▊      | 9433/25000 [15:32<21:58, 11.80it/s]"
     ]
    },
    {
     "name": "stdout",
     "output_type": "stream",
     "text": [
      "[WARNING] early gameover.\n"
     ]
    },
    {
     "name": "stderr",
     "output_type": "stream",
     "text": [
      " 44%|████▍     | 11051/25000 [18:12<18:45, 12.40it/s]"
     ]
    },
    {
     "name": "stdout",
     "output_type": "stream",
     "text": [
      "[WARNING] early gameover.\n"
     ]
    },
    {
     "name": "stderr",
     "output_type": "stream",
     "text": [
      " 60%|█████▉    | 14918/25000 [24:41<12:48, 13.12it/s]"
     ]
    },
    {
     "name": "stdout",
     "output_type": "stream",
     "text": [
      "[WARNING] early gameover.\n"
     ]
    },
    {
     "name": "stderr",
     "output_type": "stream",
     "text": [
      " 68%|██████▊   | 17068/25000 [28:18<12:45, 10.36it/s]"
     ]
    },
    {
     "name": "stdout",
     "output_type": "stream",
     "text": [
      "[WARNING] early gameover.\n"
     ]
    },
    {
     "name": "stderr",
     "output_type": "stream",
     "text": [
      " 70%|███████   | 17613/25000 [29:15<13:27,  9.15it/s]"
     ]
    },
    {
     "name": "stdout",
     "output_type": "stream",
     "text": [
      "[WARNING] early gameover.\n"
     ]
    },
    {
     "name": "stderr",
     "output_type": "stream",
     "text": [
      " 72%|███████▏  | 17903/25000 [29:46<07:24, 15.98it/s]"
     ]
    },
    {
     "name": "stdout",
     "output_type": "stream",
     "text": [
      "[WARNING] early gameover.\n"
     ]
    },
    {
     "name": "stderr",
     "output_type": "stream",
     "text": [
      " 81%|████████▏ | 20333/25000 [33:53<06:13, 12.51it/s]"
     ]
    },
    {
     "name": "stdout",
     "output_type": "stream",
     "text": [
      "[WARNING] early gameover.\n"
     ]
    },
    {
     "name": "stderr",
     "output_type": "stream",
     "text": [
      " 97%|█████████▋| 24360/25000 [40:27<00:55, 11.56it/s]"
     ]
    },
    {
     "name": "stdout",
     "output_type": "stream",
     "text": [
      "[WARNING] early gameover.\n"
     ]
    },
    {
     "name": "stderr",
     "output_type": "stream",
     "text": [
      " 99%|█████████▊| 24641/25000 [40:55<00:21, 16.70it/s]"
     ]
    },
    {
     "name": "stdout",
     "output_type": "stream",
     "text": [
      "[WARNING] early gameover.\n"
     ]
    },
    {
     "name": "stderr",
     "output_type": "stream",
     "text": [
      "100%|██████████| 25000/25000 [41:30<00:00, 10.04it/s]"
     ]
    },
    {
     "name": "stdout",
     "output_type": "stream",
     "text": [
      "S:(24984, 9, 8, 8), z:(24984,)\n",
      "pos:12749, neg:11346, draw:889\n"
     ]
    },
    {
     "name": "stderr",
     "output_type": "stream",
     "text": [
      "\n"
     ]
    }
   ],
   "source": [
    "# 1ファイル当たりの対局数\n",
    "N = 25000\n",
    "N_file = 7\n",
    "\n",
    "for i in range(N_file):\n",
    "    print(f'----file{i+1}----')\n",
    "    S,z = [],[]\n",
    "    for n in tqdm(range(N)):\n",
    "        board = Board()\n",
    "        U = np.random.randint(1,61)\n",
    "        u = 1  # 手数のカウンター\n",
    "        while not board.is_game_over():\n",
    "            legal_moves = list(board.legal_moves)\n",
    "            if 64 in legal_moves: # パスの処理\n",
    "                board.move_pass()\n",
    "                if u == U:\n",
    "                    S.append(board_to_array2(board))\n",
    "                    turn = board.turn\n",
    "            elif u < U:\n",
    "                move = np.random.choice(legal_moves)\n",
    "                board.move(move)\n",
    "            elif u == U:\n",
    "                move = np.random.choice(legal_moves)\n",
    "                board.move(move)\n",
    "                S.append(board_to_array2(board))\n",
    "                turn = board.turn\n",
    "            else:\n",
    "                move = model_move(board, legal_moves, model_SL)\n",
    "                board.move(move)\n",
    "            u += 1\n",
    "        if len(S) == len(z):\n",
    "            print('[WARNING] early gameover.')\n",
    "            continue\n",
    "\n",
    "        if board.turn == turn:\n",
    "            z.append(1 if board.diff_num()>0 else (-1 if board.diff_num()<0 else 0))\n",
    "        else:\n",
    "            z.append(1 if board.diff_num()<0 else (-1 if board.diff_num()>0 else 0))\n",
    "\n",
    "    S = np.array(S)\n",
    "    z = np.array(z).astype(np.float32)\n",
    "    np.save(f'S-{str(i+1).zfill(3)}-data-for-ValueNetwork.npy', S)\n",
    "    np.save(f'z-{str(i+1).zfill(3)}-data-for-ValueNetwork.npy', z)\n",
    "    print(f'S:{S.shape}, z:{z.shape}')\n",
    "    print(f'pos:{np.where(z>0,1,0).sum()}, neg:{np.where(z<0,1,0).sum()}, draw:{np.where(z==0,1,0).sum()}')"
   ]
  }
 ],
 "kernelspec": {
  "display_name": "Python 3",
  "language": "python",
  "name": "python3"
 },
 "language_info": {
  "codemirror_mode": {
   "name": "ipython",
   "version": 3
  },
  "file_extension": ".py",
  "mimetype": "text/x-python",
  "name": "python",
  "nbconvert_exporter": "python",
  "pygments_lexer": "ipython3",
  "version": "3.6.4"
 },
 "metadata": {
  "kernelspec": {
   "display_name": "Python 3",
   "language": "python",
   "name": "python3"
  },
  "language_info": {
   "codemirror_mode": {
    "name": "ipython",
    "version": 3
   },
   "file_extension": ".py",
   "mimetype": "text/x-python",
   "name": "python",
   "nbconvert_exporter": "python",
   "pygments_lexer": "ipython3",
   "version": "3.10.12"
  },
  "papermill": {
   "default_parameters": {},
   "duration": 17205.498895,
   "end_time": "2023-09-09T20:50:08.878172",
   "environment_variables": {},
   "exception": null,
   "input_path": "__notebook__.ipynb",
   "output_path": "__notebook__.ipynb",
   "parameters": {},
   "start_time": "2023-09-09T16:03:23.379277",
   "version": "2.4.0"
  }
 },
 "nbformat": 4,
 "nbformat_minor": 5
}
