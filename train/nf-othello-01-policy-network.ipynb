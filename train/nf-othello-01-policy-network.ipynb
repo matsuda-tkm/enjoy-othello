{
 "cells": [
  {
   "cell_type": "markdown",
   "id": "9ff847a0",
   "metadata": {
    "papermill": {
     "duration": 0.006066,
     "end_time": "2023-08-09T00:54:36.118678",
     "exception": false,
     "start_time": "2023-08-09T00:54:36.112612",
     "status": "completed"
    },
    "tags": []
   },
   "source": [
    "# 方針\n",
    "- このノートブックでは、SLポリシーネットワークを学習させる。\n",
    "- パスは予測値に含めず、出力は0~63\n",
    "- ネットワークの構造は以下のとおり。\n",
    "    - 入力層：16チャネル\n",
    "        - 黒石の位置(1)\n",
    "        - 白石の位置(1)\n",
    "        - 空白の位置(1)\n",
    "        - 合法手の位置(1)\n",
    "        - そこに打った場合、何個石を返せるか(1)\n",
    "        - 隅の危険領域4マス×4隅をすべて1で埋める(1)\n",
    "        - すべて1で埋める(1)\n",
    "        - すべて0で埋める(1)\n",
    "        - k手前(k=1-8)に打たれた位置(8)\n",
    "    - 第1層：5x5のn_filters種類のフィルターとReLU関数\n",
    "    - 第2-12層：3x3のn_filters種類のフィルターとReLU関数\n",
    "    - 第13層：1x1の1種類のフィルターと位置に依存するバイアス項＋softmax関数"
   ]
  },
  {
   "cell_type": "code",
   "execution_count": 1,
   "id": "a02f0319",
   "metadata": {
    "execution": {
     "iopub.execute_input": "2023-08-09T00:54:36.131750Z",
     "iopub.status.busy": "2023-08-09T00:54:36.131323Z",
     "iopub.status.idle": "2023-08-09T00:54:48.410864Z",
     "shell.execute_reply": "2023-08-09T00:54:48.409720Z"
    },
    "papermill": {
     "duration": 12.289061,
     "end_time": "2023-08-09T00:54:48.413644",
     "exception": false,
     "start_time": "2023-08-09T00:54:36.124583",
     "status": "completed"
    },
    "tags": []
   },
   "outputs": [
    {
     "name": "stdout",
     "output_type": "stream",
     "text": [
      "Collecting creversi\r\n",
      "  Downloading creversi-0.0.1-cp310-cp310-manylinux_2_24_x86_64.whl (711 kB)\r\n",
      "\u001b[2K     \u001b[90m━━━━━━━━━━━━━━━━━━━━━━━━━━━━━━━━━━━━━━\u001b[0m \u001b[32m711.0/711.0 kB\u001b[0m \u001b[31m19.0 MB/s\u001b[0m eta \u001b[36m0:00:00\u001b[0m\r\n",
      "\u001b[?25hInstalling collected packages: creversi\r\n",
      "Successfully installed creversi-0.0.1\r\n"
     ]
    }
   ],
   "source": [
    "!pip install creversi"
   ]
  },
  {
   "cell_type": "code",
   "execution_count": 2,
   "id": "cf38190d",
   "metadata": {
    "execution": {
     "iopub.execute_input": "2023-08-09T00:54:48.427091Z",
     "iopub.status.busy": "2023-08-09T00:54:48.426769Z",
     "iopub.status.idle": "2023-08-09T00:54:53.053180Z",
     "shell.execute_reply": "2023-08-09T00:54:53.052102Z"
    },
    "papermill": {
     "duration": 4.641906,
     "end_time": "2023-08-09T00:54:53.061767",
     "exception": false,
     "start_time": "2023-08-09T00:54:48.419861",
     "status": "completed"
    },
    "tags": []
   },
   "outputs": [
    {
     "name": "stderr",
     "output_type": "stream",
     "text": [
      "/opt/conda/lib/python3.10/site-packages/scipy/__init__.py:146: UserWarning: A NumPy version >=1.16.5 and <1.23.0 is required for this version of SciPy (detected version 1.23.5\n",
      "  warnings.warn(f\"A NumPy version >={np_minversion} and <{np_maxversion}\"\n"
     ]
    }
   ],
   "source": [
    "# リバーシ用ライブラリ\n",
    "from creversi import Board,move_to_str,move_from_str,move_rotate90,move_rotate180,move_rotate270\n",
    "import creversi\n",
    "# 基礎ライブラリ\n",
    "import random\n",
    "import numpy as np\n",
    "import pandas as pd\n",
    "import matplotlib.pyplot as plt\n",
    "import seaborn as sns\n",
    "from tqdm.notebook import tqdm\n",
    "from copy import copy\n",
    "import gc\n",
    "# 学習用ライブラリ\n",
    "import torch\n",
    "import torch.nn as nn\n",
    "from sklearn.model_selection import train_test_split"
   ]
  },
  {
   "cell_type": "markdown",
   "id": "d4141402",
   "metadata": {
    "papermill": {
     "duration": 0.005993,
     "end_time": "2023-08-09T00:54:53.080147",
     "exception": false,
     "start_time": "2023-08-09T00:54:53.074154",
     "status": "completed"
    },
    "tags": []
   },
   "source": [
    "`piece_planes()`の仕様\n",
    "- 自分の石が第1チャンネル、相手の石が第2チャンネルに出力される。\n",
    "\n",
    "`legal_moves`の仕様\n",
    "- 石を置けない場合は、64(=pass)のみが返される。"
   ]
  },
  {
   "cell_type": "markdown",
   "id": "2f3d10b3",
   "metadata": {
    "papermill": {
     "duration": 0.009525,
     "end_time": "2023-08-09T00:54:53.096123",
     "exception": false,
     "start_time": "2023-08-09T00:54:53.086598",
     "status": "completed"
    },
    "tags": []
   },
   "source": [
    "# 学習データの準備"
   ]
  },
  {
   "cell_type": "code",
   "execution_count": 3,
   "id": "a33711a8",
   "metadata": {
    "execution": {
     "iopub.execute_input": "2023-08-09T00:54:53.113143Z",
     "iopub.status.busy": "2023-08-09T00:54:53.112437Z",
     "iopub.status.idle": "2023-08-09T00:54:53.125439Z",
     "shell.execute_reply": "2023-08-09T00:54:53.124172Z"
    },
    "papermill": {
     "duration": 0.025143,
     "end_time": "2023-08-09T00:54:53.129341",
     "exception": false,
     "start_time": "2023-08-09T00:54:53.104198",
     "status": "completed"
    },
    "tags": []
   },
   "outputs": [],
   "source": [
    "def parse(x):\n",
    "    move_arr = np.zeros(60,dtype=int)\n",
    "    move = [move_from_str(x[i:i+2]) for i in range(0, len(x), 2)]\n",
    "    move_arr[:len(move)] = move\n",
    "    move_arr[len(move):] = -1\n",
    "    return move_arr\n",
    "\n",
    "def read_data(year):\n",
    "    \"\"\"1年分のデータを読み込む関数\"\"\"\n",
    "    df = pd.read_csv(f\"/kaggle/input/reversi-datasets/wthor_{year}.csv\")\n",
    "    df = df[\"transcript\"].apply(parse).apply(pd.Series)\n",
    "    return df.values"
   ]
  },
  {
   "cell_type": "code",
   "execution_count": 4,
   "id": "0cd8606e",
   "metadata": {
    "execution": {
     "iopub.execute_input": "2023-08-09T00:54:53.143473Z",
     "iopub.status.busy": "2023-08-09T00:54:53.143186Z",
     "iopub.status.idle": "2023-08-09T00:55:18.091760Z",
     "shell.execute_reply": "2023-08-09T00:55:18.090733Z"
    },
    "papermill": {
     "duration": 24.958929,
     "end_time": "2023-08-09T00:55:18.094902",
     "exception": false,
     "start_time": "2023-08-09T00:54:53.135973",
     "status": "completed"
    },
    "tags": []
   },
   "outputs": [
    {
     "data": {
      "application/vnd.jupyter.widget-view+json": {
       "model_id": "5ac597675e0f42d7b5c6dee5da8502cd",
       "version_major": 2,
       "version_minor": 0
      },
      "text/plain": [
       "  0%|          | 0/46 [00:00<?, ?it/s]"
      ]
     },
     "metadata": {},
     "output_type": "display_data"
    },
    {
     "data": {
      "text/plain": [
       "array([[37, 43, 18, ..., 14, 15,  7],\n",
       "       [37, 45, 44, ..., 55,  5,  7],\n",
       "       [37, 45, 44, ..., 15, 55, 63],\n",
       "       ...,\n",
       "       [37, 45, 19, ..., 14, 15,  7],\n",
       "       [37, 43, 34, ...,  7,  4,  5],\n",
       "       [37, 45, 44, ..., 56, 63, 55]])"
      ]
     },
     "execution_count": 4,
     "metadata": {},
     "output_type": "execute_result"
    }
   ],
   "source": [
    "# 47年分のデータを読み込む\n",
    "for y in tqdm(range(1977,2023)):\n",
    "    d = read_data(y)\n",
    "    if y==1977:\n",
    "        data = d\n",
    "    else:\n",
    "        data = np.concatenate([data, d])\n",
    "data"
   ]
  },
  {
   "cell_type": "code",
   "execution_count": 5,
   "id": "4060eeb9",
   "metadata": {
    "execution": {
     "iopub.execute_input": "2023-08-09T00:55:18.109876Z",
     "iopub.status.busy": "2023-08-09T00:55:18.108958Z",
     "iopub.status.idle": "2023-08-09T00:55:18.120581Z",
     "shell.execute_reply": "2023-08-09T00:55:18.119609Z"
    },
    "papermill": {
     "duration": 0.021153,
     "end_time": "2023-08-09T00:55:18.122727",
     "exception": false,
     "start_time": "2023-08-09T00:55:18.101574",
     "status": "completed"
    },
    "tags": []
   },
   "outputs": [],
   "source": [
    "def board_to_array(board):\n",
    "    \"\"\"\n",
    "    boardオブジェクトからndarrayに変換する関数。\n",
    "    第1チャンネルは黒石の位置、第2チャンネルに白石の位置、第3チャンネルに空白の位置、\n",
    "    第4チャンネルに合法手の位置、第5チャンネルに返せる石の個数、第6チャンネルに隅=1、\n",
    "    第7チャンネルに1埋め、第8チャンネルに0埋め。\n",
    "    \"\"\"\n",
    "    b = np.zeros((8,8,8), dtype=np.float32)\n",
    "    board.piece_planes(b)\n",
    "    if not board.turn:\n",
    "        b = b[[1,0,2,3,4,5,6,7],:,:]\n",
    "    b[2] = np.where(b[0]+b[1]==1, 0, 1)\n",
    "    legal_moves = list(board.legal_moves)\n",
    "    if legal_moves != [64]:\n",
    "        n_returns = []\n",
    "        for move in legal_moves:\n",
    "            board_ = copy(board)\n",
    "            n_before = board_.opponent_piece_num()\n",
    "            board_.move(move)\n",
    "            n_after = board_.piece_num()\n",
    "            n_returns.append(n_before-n_after)\n",
    "        tmp = np.zeros(64)\n",
    "        tmp[legal_moves] = n_returns\n",
    "        tmp = tmp.reshape(8,8)\n",
    "        b[3] = np.where(tmp > 0,1,0)\n",
    "        b[4] = tmp\n",
    "    b[5] = np.array([1., 1., 0., 0., 0., 0., 1., 1., 1., 1., 0., 0., 0., 0., 1., 1., \n",
    "                     0., 0., 0., 0., 0., 0., 0., 0., 0., 0., 0., 0., 0., 0., 0., 0., \n",
    "                     0., 0., 0., 0., 0., 0., 0., 0., 0., 0., 0., 0., 0., 0., 0., 0.,\n",
    "                     1., 1., 0., 0., 0., 0., 1., 1., 1., 1., 0., 0., 0., 0., 1., 1.]).reshape(8,8)\n",
    "    b[6] = 1\n",
    "    return b"
   ]
  },
  {
   "cell_type": "code",
   "execution_count": 6,
   "id": "0ab8ddd5",
   "metadata": {
    "execution": {
     "iopub.execute_input": "2023-08-09T00:55:18.136092Z",
     "iopub.status.busy": "2023-08-09T00:55:18.135812Z",
     "iopub.status.idle": "2023-08-09T00:55:18.143638Z",
     "shell.execute_reply": "2023-08-09T00:55:18.142601Z"
    },
    "papermill": {
     "duration": 0.01708,
     "end_time": "2023-08-09T00:55:18.145969",
     "exception": false,
     "start_time": "2023-08-09T00:55:18.128889",
     "status": "completed"
    },
    "tags": []
   },
   "outputs": [],
   "source": [
    "def load_sub_data(data, n, n_split=10):\n",
    "    \"\"\"dataをn_split(=10)分割したうちのn番目(n=0,1,...)のブロック(sub-data)をロード\"\"\"\n",
    "    N = data.shape[0]\n",
    "    assert n_split <= N\n",
    "    N_batch = N // n_split\n",
    "    X = []\n",
    "    y = []\n",
    "\n",
    "    for i in tqdm(range(N_batch*n, N_batch*(n+1))):\n",
    "        board = Board()\n",
    "        for j,move in enumerate(data[i]):\n",
    "            if move == -1:\n",
    "                break\n",
    "            if list(board.legal_moves) != [64]: # パスの局面ではない場合\n",
    "                X.append(board_to_array(board))\n",
    "                y.append(move)\n",
    "                board.move(move)\n",
    "            else:  # パスの局面の場合\n",
    "                board.move_pass()\n",
    "    X = np.array(X).astype(np.float32)\n",
    "    y = np.array(y).astype(np.int64)\n",
    "    print(f'X:{X.shape}, y:{y.shape}')\n",
    "    return X, y"
   ]
  },
  {
   "cell_type": "markdown",
   "id": "1b6372bd",
   "metadata": {
    "papermill": {
     "duration": 0.005797,
     "end_time": "2023-08-09T00:55:18.157760",
     "exception": false,
     "start_time": "2023-08-09T00:55:18.151963",
     "status": "completed"
    },
    "tags": []
   },
   "source": [
    "# ネットワーク"
   ]
  },
  {
   "cell_type": "code",
   "execution_count": 7,
   "id": "934a2df7",
   "metadata": {
    "execution": {
     "iopub.execute_input": "2023-08-09T00:55:18.171581Z",
     "iopub.status.busy": "2023-08-09T00:55:18.170825Z",
     "iopub.status.idle": "2023-08-09T00:55:18.181795Z",
     "shell.execute_reply": "2023-08-09T00:55:18.180891Z"
    },
    "papermill": {
     "duration": 0.02,
     "end_time": "2023-08-09T00:55:18.183814",
     "exception": false,
     "start_time": "2023-08-09T00:55:18.163814",
     "status": "completed"
    },
    "tags": []
   },
   "outputs": [],
   "source": [
    "class PolicyNetwork(nn.Module):\n",
    "    def __init__(self):\n",
    "        super().__init__()\n",
    "        n_filters = 80\n",
    "        self.input_layer = nn.Sequential(\n",
    "            nn.Conv2d(8,n_filters,kernel_size=5,padding=2),\n",
    "            nn.ReLU()\n",
    "        )\n",
    "        self.hidden_layer = nn.Sequential(\n",
    "            nn.Conv2d(n_filters,n_filters,kernel_size=3,padding=1),\n",
    "            nn.ReLU(),\n",
    "            nn.Conv2d(n_filters,n_filters,kernel_size=3,padding=1),\n",
    "            nn.ReLU(),\n",
    "            nn.Conv2d(n_filters,n_filters,kernel_size=3,padding=1),\n",
    "            nn.ReLU(),\n",
    "            nn.Conv2d(n_filters,n_filters,kernel_size=3,padding=1),\n",
    "            nn.ReLU(),\n",
    "            nn.Conv2d(n_filters,n_filters,kernel_size=3,padding=1),\n",
    "            nn.ReLU(),\n",
    "            nn.Conv2d(n_filters,n_filters,kernel_size=3,padding=1),\n",
    "            nn.ReLU(),\n",
    "            nn.Conv2d(n_filters,n_filters,kernel_size=3,padding=1),\n",
    "            nn.ReLU(),\n",
    "            nn.Conv2d(n_filters,n_filters,kernel_size=3,padding=1),\n",
    "            nn.ReLU(),\n",
    "            nn.Conv2d(n_filters,n_filters,kernel_size=3,padding=1),\n",
    "            nn.ReLU(),\n",
    "            nn.Conv2d(n_filters,n_filters,kernel_size=3,padding=1),\n",
    "            nn.ReLU(),\n",
    "            nn.Conv2d(n_filters,n_filters,kernel_size=3,padding=1),\n",
    "            nn.ReLU()\n",
    "        )\n",
    "        self.output_layer = nn.Sequential(\n",
    "            nn.Conv2d(n_filters,1,kernel_size=1),\n",
    "            nn.Flatten()\n",
    "        )\n",
    "        \n",
    "    def forward(self,x):\n",
    "        out = self.input_layer(x)\n",
    "        out = self.hidden_layer(out)\n",
    "        out = self.output_layer(out)\n",
    "        return out"
   ]
  },
  {
   "cell_type": "markdown",
   "id": "c48e1ee5",
   "metadata": {
    "papermill": {
     "duration": 0.00573,
     "end_time": "2023-08-09T00:55:18.195609",
     "exception": false,
     "start_time": "2023-08-09T00:55:18.189879",
     "status": "completed"
    },
    "tags": []
   },
   "source": [
    "# 学習"
   ]
  },
  {
   "cell_type": "code",
   "execution_count": 8,
   "id": "2ba66da4",
   "metadata": {
    "execution": {
     "iopub.execute_input": "2023-08-09T00:55:18.209156Z",
     "iopub.status.busy": "2023-08-09T00:55:18.208630Z",
     "iopub.status.idle": "2023-08-09T00:55:18.282917Z",
     "shell.execute_reply": "2023-08-09T00:55:18.281965Z"
    },
    "papermill": {
     "duration": 0.083038,
     "end_time": "2023-08-09T00:55:18.284920",
     "exception": false,
     "start_time": "2023-08-09T00:55:18.201882",
     "status": "completed"
    },
    "tags": []
   },
   "outputs": [
    {
     "name": "stdout",
     "output_type": "stream",
     "text": [
      "cuda\n"
     ]
    }
   ],
   "source": [
    "device = 'cuda' if torch.cuda.is_available() else 'cpu'\n",
    "print(device)"
   ]
  },
  {
   "cell_type": "code",
   "execution_count": 9,
   "id": "8c8628b8",
   "metadata": {
    "execution": {
     "iopub.execute_input": "2023-08-09T00:55:18.299631Z",
     "iopub.status.busy": "2023-08-09T00:55:18.298237Z",
     "iopub.status.idle": "2023-08-09T00:55:21.300547Z",
     "shell.execute_reply": "2023-08-09T00:55:21.299232Z"
    },
    "papermill": {
     "duration": 3.012175,
     "end_time": "2023-08-09T00:55:21.303360",
     "exception": false,
     "start_time": "2023-08-09T00:55:18.291185",
     "status": "completed"
    },
    "tags": []
   },
   "outputs": [],
   "source": [
    "n_epoch = 5\n",
    "n_batch = 256\n",
    "n_interval = 1\n",
    "n_split = 8\n",
    "lr = 0.001\n",
    "\n",
    "model = PolicyNetwork().to(device)\n",
    "optim = torch.optim.Adam(model.parameters(),lr=lr)\n",
    "scheduler = torch.optim.lr_scheduler.StepLR(optim,step_size=1,gamma=0.8)\n",
    "criterion = nn.CrossEntropyLoss()\n",
    "train_loss_list = []\n",
    "valid_loss_list = []\n",
    "acc_list = []\n"
   ]
  },
  {
   "cell_type": "code",
   "execution_count": 10,
   "id": "ee9cbb48",
   "metadata": {
    "execution": {
     "iopub.execute_input": "2023-08-09T00:55:21.317521Z",
     "iopub.status.busy": "2023-08-09T00:55:21.317213Z",
     "iopub.status.idle": "2023-08-09T01:40:17.670285Z",
     "shell.execute_reply": "2023-08-09T01:40:17.665834Z"
    },
    "papermill": {
     "duration": 2696.370973,
     "end_time": "2023-08-09T01:40:17.680895",
     "exception": false,
     "start_time": "2023-08-09T00:55:21.309922",
     "status": "completed"
    },
    "tags": []
   },
   "outputs": [
    {
     "data": {
      "application/vnd.jupyter.widget-view+json": {
       "model_id": "ab9e140b5b2747eface8989a7bb4c4f0",
       "version_major": 2,
       "version_minor": 0
      },
      "text/plain": [
       "  0%|          | 0/16077 [00:00<?, ?it/s]"
      ]
     },
     "metadata": {},
     "output_type": "display_data"
    },
    {
     "name": "stdout",
     "output_type": "stream",
     "text": [
      "X:(949166, 8, 8, 8), y:(949166,)\n",
      "----subData0(lr:[0.001])----\n",
      "train:854249, valid:94917\n",
      "[0] train loss: 1.63069 valid loss: 1.42514 valid acc: 46.818%\n",
      "[1] train loss: 1.38905 valid loss: 1.38014 valid acc: 49.547%\n",
      "[2] train loss: 1.33614 valid loss: 1.32867 valid acc: 50.666%\n",
      "[3] train loss: 1.30275 valid loss: 1.31028 valid acc: 51.238%\n",
      "[4] train loss: 1.27702 valid loss: 1.30962 valid acc: 51.522%\n"
     ]
    },
    {
     "data": {
      "application/vnd.jupyter.widget-view+json": {
       "model_id": "8ee3d945a496437d8dd2e19d51e07a9d",
       "version_major": 2,
       "version_minor": 0
      },
      "text/plain": [
       "  0%|          | 0/16077 [00:00<?, ?it/s]"
      ]
     },
     "metadata": {},
     "output_type": "display_data"
    },
    {
     "name": "stdout",
     "output_type": "stream",
     "text": [
      "X:(948966, 8, 8, 8), y:(948966,)\n",
      "----subData1(lr:[0.0008])----\n",
      "train:854069, valid:94897\n",
      "[0] train loss: 1.28236 valid loss: 1.27197 valid acc: 52.880%\n",
      "[1] train loss: 1.24877 valid loss: 1.26293 valid acc: 53.125%\n",
      "[2] train loss: 1.22656 valid loss: 1.25515 valid acc: 53.087%\n",
      "[3] train loss: 1.20813 valid loss: 1.25016 valid acc: 53.466%\n",
      "[4] train loss: 1.19311 valid loss: 1.25982 valid acc: 53.476%\n"
     ]
    },
    {
     "data": {
      "application/vnd.jupyter.widget-view+json": {
       "model_id": "3840b1c27baf4c2f8067048393bc150a",
       "version_major": 2,
       "version_minor": 0
      },
      "text/plain": [
       "  0%|          | 0/16077 [00:00<?, ?it/s]"
      ]
     },
     "metadata": {},
     "output_type": "display_data"
    },
    {
     "name": "stdout",
     "output_type": "stream",
     "text": [
      "X:(952583, 8, 8, 8), y:(952583,)\n",
      "----subData2(lr:[0.00064])----\n",
      "train:857324, valid:95259\n",
      "[0] train loss: 1.20608 valid loss: 1.19896 valid acc: 55.230%\n",
      "[1] train loss: 1.17335 valid loss: 1.19555 valid acc: 55.383%\n",
      "[2] train loss: 1.15111 valid loss: 1.19044 valid acc: 55.531%\n",
      "[3] train loss: 1.13344 valid loss: 1.18830 valid acc: 55.748%\n",
      "[4] train loss: 1.11803 valid loss: 1.19179 valid acc: 55.764%\n"
     ]
    },
    {
     "data": {
      "application/vnd.jupyter.widget-view+json": {
       "model_id": "fcb0b928dd364cdca1416d6e778c74ec",
       "version_major": 2,
       "version_minor": 0
      },
      "text/plain": [
       "  0%|          | 0/16077 [00:00<?, ?it/s]"
      ]
     },
     "metadata": {},
     "output_type": "display_data"
    },
    {
     "name": "stdout",
     "output_type": "stream",
     "text": [
      "X:(952641, 8, 8, 8), y:(952641,)\n",
      "----subData3(lr:[0.0005120000000000001])----\n",
      "train:857376, valid:95265\n",
      "[0] train loss: 1.18121 valid loss: 1.17681 valid acc: 56.585%\n",
      "[1] train loss: 1.14758 valid loss: 1.16821 valid acc: 56.597%\n",
      "[2] train loss: 1.12463 valid loss: 1.16843 valid acc: 56.836%\n",
      "[3] train loss: 1.10579 valid loss: 1.17730 valid acc: 56.909%\n",
      "[4] train loss: 1.08960 valid loss: 1.16810 valid acc: 56.841%\n"
     ]
    },
    {
     "data": {
      "application/vnd.jupyter.widget-view+json": {
       "model_id": "8ba0c382e53f46e3ae2c96dd5592df4f",
       "version_major": 2,
       "version_minor": 0
      },
      "text/plain": [
       "  0%|          | 0/16077 [00:00<?, ?it/s]"
      ]
     },
     "metadata": {},
     "output_type": "display_data"
    },
    {
     "name": "stdout",
     "output_type": "stream",
     "text": [
      "X:(952549, 8, 8, 8), y:(952549,)\n",
      "----subData4(lr:[0.0004096000000000001])----\n",
      "train:857294, valid:95255\n",
      "[0] train loss: 1.16875 valid loss: 1.16140 valid acc: 56.859%\n",
      "[1] train loss: 1.13836 valid loss: 1.15841 valid acc: 57.004%\n",
      "[2] train loss: 1.11580 valid loss: 1.15940 valid acc: 56.979%\n",
      "[3] train loss: 1.09719 valid loss: 1.16391 valid acc: 57.202%\n",
      "[4] train loss: 1.08189 valid loss: 1.17084 valid acc: 57.109%\n"
     ]
    },
    {
     "data": {
      "application/vnd.jupyter.widget-view+json": {
       "model_id": "eeb9162c2edd4d508f3218fdfa7238f4",
       "version_major": 2,
       "version_minor": 0
      },
      "text/plain": [
       "  0%|          | 0/16077 [00:00<?, ?it/s]"
      ]
     },
     "metadata": {},
     "output_type": "display_data"
    },
    {
     "name": "stdout",
     "output_type": "stream",
     "text": [
      "X:(953014, 8, 8, 8), y:(953014,)\n",
      "----subData5(lr:[0.0003276800000000001])----\n",
      "train:857712, valid:95302\n",
      "[0] train loss: 1.15247 valid loss: 1.14518 valid acc: 57.383%\n",
      "[1] train loss: 1.11520 valid loss: 1.13604 valid acc: 57.595%\n",
      "[2] train loss: 1.08960 valid loss: 1.13173 valid acc: 57.759%\n",
      "[3] train loss: 1.06794 valid loss: 1.13688 valid acc: 57.821%\n",
      "[4] train loss: 1.04917 valid loss: 1.13766 valid acc: 57.800%\n"
     ]
    },
    {
     "data": {
      "application/vnd.jupyter.widget-view+json": {
       "model_id": "681114027b7a4fabae75f6c0bf0bd424",
       "version_major": 2,
       "version_minor": 0
      },
      "text/plain": [
       "  0%|          | 0/16077 [00:00<?, ?it/s]"
      ]
     },
     "metadata": {},
     "output_type": "display_data"
    },
    {
     "name": "stdout",
     "output_type": "stream",
     "text": [
      "X:(950671, 8, 8, 8), y:(950671,)\n",
      "----subData6(lr:[0.0002621440000000001])----\n",
      "train:855603, valid:95068\n",
      "[0] train loss: 1.18848 valid loss: 1.17243 valid acc: 56.074%\n",
      "[1] train loss: 1.15717 valid loss: 1.16723 valid acc: 56.297%\n",
      "[2] train loss: 1.13486 valid loss: 1.16467 valid acc: 56.406%\n",
      "[3] train loss: 1.11565 valid loss: 1.16917 valid acc: 56.513%\n",
      "[4] train loss: 1.09818 valid loss: 1.17209 valid acc: 56.470%\n"
     ]
    },
    {
     "data": {
      "application/vnd.jupyter.widget-view+json": {
       "model_id": "460ae9e288c5442bbe36e9a09390b04e",
       "version_major": 2,
       "version_minor": 0
      },
      "text/plain": [
       "  0%|          | 0/16077 [00:00<?, ?it/s]"
      ]
     },
     "metadata": {},
     "output_type": "display_data"
    },
    {
     "name": "stdout",
     "output_type": "stream",
     "text": [
      "X:(949875, 8, 8, 8), y:(949875,)\n",
      "----subData7(lr:[0.00020971520000000012])----\n",
      "train:854887, valid:94988\n",
      "[0] train loss: 1.21212 valid loss: 1.21146 valid acc: 55.128%\n",
      "[1] train loss: 1.18562 valid loss: 1.20819 valid acc: 55.267%\n",
      "[2] train loss: 1.16586 valid loss: 1.21157 valid acc: 55.428%\n",
      "[3] train loss: 1.14827 valid loss: 1.21727 valid acc: 55.403%\n",
      "[4] train loss: 1.13232 valid loss: 1.21434 valid acc: 55.380%\n"
     ]
    }
   ],
   "source": [
    "for n in range(n_split):\n",
    "    X_tr,X_va,y_tr,y_va = train_test_split(*load_sub_data(data,n,n_split), test_size=0.1, random_state=123)\n",
    "    X_tr,X_va,y_tr,y_va = torch.from_numpy(X_tr),torch.from_numpy(X_va),torch.from_numpy(y_tr),torch.from_numpy(y_va)\n",
    "    n_train_data = len(X_tr)\n",
    "    n_valid_data = len(X_va)\n",
    "    print(f'----subData{n}(lr:{scheduler.get_last_lr()})----')\n",
    "    print(f'train:{n_train_data}, valid:{n_valid_data}')\n",
    "    \n",
    "    for epoch in range(n_epoch):\n",
    "        train_loss = 0.\n",
    "        random_idx = np.random.permutation(n_train_data)\n",
    "        for i in range(n_train_data//n_batch):\n",
    "            X_batch = X_tr[random_idx[n_batch*i:n_batch*(i+1)]].to(device)\n",
    "            y_batch = y_tr[random_idx[n_batch*i:n_batch*(i+1)]].to(device)\n",
    "\n",
    "            optim.zero_grad()\n",
    "            output = model(X_batch)\n",
    "            loss = criterion(output, y_batch)\n",
    "            loss.backward()\n",
    "            optim.step()\n",
    "            train_loss += loss.item()\n",
    "        train_loss_list.append(train_loss / (n_train_data//n_batch))\n",
    "\n",
    "        if epoch % n_interval == 0:\n",
    "            valid_loss = 0.\n",
    "            correct = 0\n",
    "            idx = np.arange(n_valid_data)\n",
    "            for i in range(n_valid_data//n_batch):\n",
    "                X_batch = X_va[idx[n_batch*i:n_batch*(i+1)]].to(device)\n",
    "                y_batch = y_va[idx[n_batch*i:n_batch*(i+1)]].to(device)\n",
    "                pred = model(X_batch)\n",
    "                valid_loss += criterion(pred, y_batch).item()\n",
    "                correct += (pred.argmax(axis=1) == y_batch).sum().item()\n",
    "            valid_loss_list.append(valid_loss / (n_valid_data//n_batch))\n",
    "            acc = correct / ((n_valid_data//n_batch)*n_batch) * 100\n",
    "            acc_list.append(acc)\n",
    "            print(f'[{epoch}] train loss: {train_loss / (n_train_data//n_batch):.5f} valid loss: {valid_loss / (n_valid_data//n_batch):.5f} valid acc: {acc:.3f}%')\n",
    "    scheduler.step()"
   ]
  },
  {
   "cell_type": "code",
   "execution_count": 11,
   "id": "da7e0f5e",
   "metadata": {
    "execution": {
     "iopub.execute_input": "2023-08-09T01:40:17.706120Z",
     "iopub.status.busy": "2023-08-09T01:40:17.705809Z",
     "iopub.status.idle": "2023-08-09T01:40:17.723491Z",
     "shell.execute_reply": "2023-08-09T01:40:17.722629Z"
    },
    "papermill": {
     "duration": 0.032527,
     "end_time": "2023-08-09T01:40:17.725515",
     "exception": false,
     "start_time": "2023-08-09T01:40:17.692988",
     "status": "completed"
    },
    "tags": []
   },
   "outputs": [],
   "source": [
    "torch.save(model.to('cpu'),'model.pth')"
   ]
  },
  {
   "cell_type": "code",
   "execution_count": 12,
   "id": "e018023c",
   "metadata": {
    "execution": {
     "iopub.execute_input": "2023-08-09T01:40:17.750133Z",
     "iopub.status.busy": "2023-08-09T01:40:17.749358Z",
     "iopub.status.idle": "2023-08-09T01:40:18.184432Z",
     "shell.execute_reply": "2023-08-09T01:40:18.183487Z"
    },
    "papermill": {
     "duration": 0.449618,
     "end_time": "2023-08-09T01:40:18.186583",
     "exception": false,
     "start_time": "2023-08-09T01:40:17.736965",
     "status": "completed"
    },
    "tags": []
   },
   "outputs": [
    {
     "data": {
      "image/png": "[encoded data removed]",
      "text/plain": [
       "<Figure size 800x300 with 2 Axes>"
      ]
     },
     "metadata": {},
     "output_type": "display_data"
    }
   ],
   "source": [
    "# 学習曲線\n",
    "plt.figure(figsize=(8,3))\n",
    "plt.subplot(1,2,1)\n",
    "plt.plot(train_loss_list,label='train')\n",
    "plt.plot(valid_loss_list,label='valid')\n",
    "plt.xlabel('Epoch')\n",
    "plt.title('Loss')\n",
    "plt.legend()\n",
    "\n",
    "plt.subplot(1,2,2)\n",
    "plt.plot(acc_list)\n",
    "plt.xlabel('Epoch')\n",
    "plt.title('Accuracy(%)')\n",
    "plt.ylim(0,100)\n",
    "plt.show()"
   ]
  },
  {
   "cell_type": "code",
   "execution_count": 13,
   "id": "94d7bc81",
   "metadata": {
    "execution": {
     "iopub.execute_input": "2023-08-09T01:40:18.212559Z",
     "iopub.status.busy": "2023-08-09T01:40:18.211768Z",
     "iopub.status.idle": "2023-08-09T01:42:10.339491Z",
     "shell.execute_reply": "2023-08-09T01:42:10.338426Z"
    },
    "papermill": {
     "duration": 112.143298,
     "end_time": "2023-08-09T01:42:10.342043",
     "exception": false,
     "start_time": "2023-08-09T01:40:18.198745",
     "status": "completed"
    },
    "tags": []
   },
   "outputs": [
    {
     "data": {
      "application/vnd.jupyter.widget-view+json": {
       "model_id": "29d75b8bf70c46a1b1eb4eece00c8275",
       "version_major": 2,
       "version_minor": 0
      },
      "text/plain": [
       "  0%|          | 0/1000 [00:00<?, ?it/s]"
      ]
     },
     "metadata": {},
     "output_type": "display_data"
    },
    {
     "data": {
      "image/png": "[encoded data removed]",
      "text/plain": [
       "<Figure size 300x300 with 1 Axes>"
      ]
     },
     "metadata": {},
     "output_type": "display_data"
    },
    {
     "data": {
      "image/svg+xml": [
       "<svg xmlns=\"http://www.w3.org/2000/svg\" version=\"1.1\" xmlns:xlink=\"http://www.w3.org/1999/xlink\" width=\"215.0\" height=\"215.0\" viewBox=\"0 0 172 172\"><defs><g id=\"black\"><circle cx=\"10\" cy=\"10\" r=\"8.5\" fill=\"black\" /></g><g id=\"white\"><circle cx=\"10\" cy=\"10\" r=\"8.5\" fill=\"white\" /></g></defs><rect fill=\"green\" height=\"161\" width=\"161\" x=\"10\" y=\"10\" /><g stroke=\"black\"><rect width=\"161\" height=\"161\" stroke-width=\"1.5\" fill=\"none\" x=\"10\" y=\"10\" /><line stroke-width=\"1.0\" x1=\"10.5\" x2=\"170.5\" y1=\"30.5\" y2=\"30.5\" /><line stroke-width=\"1.0\" x1=\"10.5\" x2=\"170.5\" y1=\"50.5\" y2=\"50.5\" /><line stroke-width=\"1.0\" x1=\"10.5\" x2=\"170.5\" y1=\"70.5\" y2=\"70.5\" /><line stroke-width=\"1.0\" x1=\"10.5\" x2=\"170.5\" y1=\"90.5\" y2=\"90.5\" /><line stroke-width=\"1.0\" x1=\"10.5\" x2=\"170.5\" y1=\"110.5\" y2=\"110.5\" /><line stroke-width=\"1.0\" x1=\"10.5\" x2=\"170.5\" y1=\"130.5\" y2=\"130.5\" /><line stroke-width=\"1.0\" x1=\"10.5\" x2=\"170.5\" y1=\"150.5\" y2=\"150.5\" /><line stroke-width=\"1.0\" x1=\"30.5\" x2=\"30.5\" y1=\"10.5\" y2=\"170.5\" /><line stroke-width=\"1.0\" x1=\"50.5\" x2=\"50.5\" y1=\"10.5\" y2=\"170.5\" /><line stroke-width=\"1.0\" x1=\"70.5\" x2=\"70.5\" y1=\"10.5\" y2=\"170.5\" /><line stroke-width=\"1.0\" x1=\"90.5\" x2=\"90.5\" y1=\"10.5\" y2=\"170.5\" /><line stroke-width=\"1.0\" x1=\"110.5\" x2=\"110.5\" y1=\"10.5\" y2=\"170.5\" /><line stroke-width=\"1.0\" x1=\"130.5\" x2=\"130.5\" y1=\"10.5\" y2=\"170.5\" /><line stroke-width=\"1.0\" x1=\"150.5\" x2=\"150.5\" y1=\"10.5\" y2=\"170.5\" /></g><g><text font-family=\"serif\" font-size=\"9.5\" text-anchor=\"middle\" x=\"20.5\" y=\"8\">a</text><text font-family=\"serif\" font-size=\"9.5\" text-anchor=\"middle\" x=\"40.5\" y=\"8\">b</text><text font-family=\"serif\" font-size=\"9.5\" text-anchor=\"middle\" x=\"60.5\" y=\"8\">c</text><text font-family=\"serif\" font-size=\"9.5\" text-anchor=\"middle\" x=\"80.5\" y=\"8\">d</text><text font-family=\"serif\" font-size=\"9.5\" text-anchor=\"middle\" x=\"100.5\" y=\"8\">e</text><text font-family=\"serif\" font-size=\"9.5\" text-anchor=\"middle\" x=\"120.5\" y=\"8\">f</text><text font-family=\"serif\" font-size=\"9.5\" text-anchor=\"middle\" x=\"140.5\" y=\"8\">g</text><text font-family=\"serif\" font-size=\"9.5\" text-anchor=\"middle\" x=\"160.5\" y=\"8\">h</text><text font-family=\"serif\" font-size=\"9.5\" x=\"2.5\" y=\"23.5\">1</text><text font-family=\"serif\" font-size=\"9.5\" x=\"2.5\" y=\"43.5\">2</text><text font-family=\"serif\" font-size=\"9.5\" x=\"2.5\" y=\"63.5\">3</text><text font-family=\"serif\" font-size=\"9.5\" x=\"2.5\" y=\"83.5\">4</text><text font-family=\"serif\" font-size=\"9.5\" x=\"2.5\" y=\"103.5\">5</text><text font-family=\"serif\" font-size=\"9.5\" x=\"2.5\" y=\"123.5\">6</text><text font-family=\"serif\" font-size=\"9.5\" x=\"2.5\" y=\"143.5\">7</text><text font-family=\"serif\" font-size=\"9.5\" x=\"2.5\" y=\"163.5\">8</text></g><use xlink:href=\"#white\" x=\"70.5\" y=\"70.5\" /><use xlink:href=\"#black\" x=\"90.5\" y=\"70.5\" /><use xlink:href=\"#black\" x=\"70.5\" y=\"90.5\" /><use xlink:href=\"#black\" x=\"90.5\" y=\"90.5\" /><use xlink:href=\"#black\" x=\"110.5\" y=\"90.5\" /></svg>"
      ],
      "text/plain": [
       " |abcdefgh\n",
       "-+--------\n",
       "1|........\n",
       "2|........\n",
       "3|........\n",
       "4|...ox...\n",
       "5|...xxx..\n",
       "6|........\n",
       "7|........\n",
       "8|........"
      ]
     },
     "metadata": {},
     "output_type": "display_data"
    },
    {
     "data": {
      "image/svg+xml": [
       "<svg xmlns=\"http://www.w3.org/2000/svg\" version=\"1.1\" xmlns:xlink=\"http://www.w3.org/1999/xlink\" width=\"215.0\" height=\"215.0\" viewBox=\"0 0 172 172\"><defs><g id=\"black\"><circle cx=\"10\" cy=\"10\" r=\"8.5\" fill=\"black\" /></g><g id=\"white\"><circle cx=\"10\" cy=\"10\" r=\"8.5\" fill=\"white\" /></g></defs><rect fill=\"green\" height=\"161\" width=\"161\" x=\"10\" y=\"10\" /><g stroke=\"black\"><rect width=\"161\" height=\"161\" stroke-width=\"1.5\" fill=\"none\" x=\"10\" y=\"10\" /><line stroke-width=\"1.0\" x1=\"10.5\" x2=\"170.5\" y1=\"30.5\" y2=\"30.5\" /><line stroke-width=\"1.0\" x1=\"10.5\" x2=\"170.5\" y1=\"50.5\" y2=\"50.5\" /><line stroke-width=\"1.0\" x1=\"10.5\" x2=\"170.5\" y1=\"70.5\" y2=\"70.5\" /><line stroke-width=\"1.0\" x1=\"10.5\" x2=\"170.5\" y1=\"90.5\" y2=\"90.5\" /><line stroke-width=\"1.0\" x1=\"10.5\" x2=\"170.5\" y1=\"110.5\" y2=\"110.5\" /><line stroke-width=\"1.0\" x1=\"10.5\" x2=\"170.5\" y1=\"130.5\" y2=\"130.5\" /><line stroke-width=\"1.0\" x1=\"10.5\" x2=\"170.5\" y1=\"150.5\" y2=\"150.5\" /><line stroke-width=\"1.0\" x1=\"30.5\" x2=\"30.5\" y1=\"10.5\" y2=\"170.5\" /><line stroke-width=\"1.0\" x1=\"50.5\" x2=\"50.5\" y1=\"10.5\" y2=\"170.5\" /><line stroke-width=\"1.0\" x1=\"70.5\" x2=\"70.5\" y1=\"10.5\" y2=\"170.5\" /><line stroke-width=\"1.0\" x1=\"90.5\" x2=\"90.5\" y1=\"10.5\" y2=\"170.5\" /><line stroke-width=\"1.0\" x1=\"110.5\" x2=\"110.5\" y1=\"10.5\" y2=\"170.5\" /><line stroke-width=\"1.0\" x1=\"130.5\" x2=\"130.5\" y1=\"10.5\" y2=\"170.5\" /><line stroke-width=\"1.0\" x1=\"150.5\" x2=\"150.5\" y1=\"10.5\" y2=\"170.5\" /></g><g><text font-family=\"serif\" font-size=\"9.5\" text-anchor=\"middle\" x=\"20.5\" y=\"8\">a</text><text font-family=\"serif\" font-size=\"9.5\" text-anchor=\"middle\" x=\"40.5\" y=\"8\">b</text><text font-family=\"serif\" font-size=\"9.5\" text-anchor=\"middle\" x=\"60.5\" y=\"8\">c</text><text font-family=\"serif\" font-size=\"9.5\" text-anchor=\"middle\" x=\"80.5\" y=\"8\">d</text><text font-family=\"serif\" font-size=\"9.5\" text-anchor=\"middle\" x=\"100.5\" y=\"8\">e</text><text font-family=\"serif\" font-size=\"9.5\" text-anchor=\"middle\" x=\"120.5\" y=\"8\">f</text><text font-family=\"serif\" font-size=\"9.5\" text-anchor=\"middle\" x=\"140.5\" y=\"8\">g</text><text font-family=\"serif\" font-size=\"9.5\" text-anchor=\"middle\" x=\"160.5\" y=\"8\">h</text><text font-family=\"serif\" font-size=\"9.5\" x=\"2.5\" y=\"23.5\">1</text><text font-family=\"serif\" font-size=\"9.5\" x=\"2.5\" y=\"43.5\">2</text><text font-family=\"serif\" font-size=\"9.5\" x=\"2.5\" y=\"63.5\">3</text><text font-family=\"serif\" font-size=\"9.5\" x=\"2.5\" y=\"83.5\">4</text><text font-family=\"serif\" font-size=\"9.5\" x=\"2.5\" y=\"103.5\">5</text><text font-family=\"serif\" font-size=\"9.5\" x=\"2.5\" y=\"123.5\">6</text><text font-family=\"serif\" font-size=\"9.5\" x=\"2.5\" y=\"143.5\">7</text><text font-family=\"serif\" font-size=\"9.5\" x=\"2.5\" y=\"163.5\">8</text></g><use xlink:href=\"#white\" x=\"70.5\" y=\"70.5\" /><use xlink:href=\"#black\" x=\"90.5\" y=\"70.5\" /><use xlink:href=\"#white\" x=\"70.5\" y=\"90.5\" /><use xlink:href=\"#black\" x=\"90.5\" y=\"90.5\" /><use xlink:href=\"#black\" x=\"110.5\" y=\"90.5\" /><use xlink:href=\"#white\" x=\"70.5\" y=\"110.5\" /></svg>"
      ],
      "text/plain": [
       " |abcdefgh\n",
       "-+--------\n",
       "1|........\n",
       "2|........\n",
       "3|........\n",
       "4|...ox...\n",
       "5|...oxx..\n",
       "6|...o....\n",
       "7|........\n",
       "8|........"
      ]
     },
     "metadata": {},
     "output_type": "display_data"
    },
    {
     "data": {
      "image/png": "[encoded data removed]",
      "text/plain": [
       "<Figure size 300x300 with 1 Axes>"
      ]
     },
     "metadata": {},
     "output_type": "display_data"
    },
    {
     "data": {
      "image/svg+xml": [
       "<svg xmlns=\"http://www.w3.org/2000/svg\" version=\"1.1\" xmlns:xlink=\"http://www.w3.org/1999/xlink\" width=\"215.0\" height=\"215.0\" viewBox=\"0 0 172 172\"><defs><g id=\"black\"><circle cx=\"10\" cy=\"10\" r=\"8.5\" fill=\"black\" /></g><g id=\"white\"><circle cx=\"10\" cy=\"10\" r=\"8.5\" fill=\"white\" /></g></defs><rect fill=\"green\" height=\"161\" width=\"161\" x=\"10\" y=\"10\" /><g stroke=\"black\"><rect width=\"161\" height=\"161\" stroke-width=\"1.5\" fill=\"none\" x=\"10\" y=\"10\" /><line stroke-width=\"1.0\" x1=\"10.5\" x2=\"170.5\" y1=\"30.5\" y2=\"30.5\" /><line stroke-width=\"1.0\" x1=\"10.5\" x2=\"170.5\" y1=\"50.5\" y2=\"50.5\" /><line stroke-width=\"1.0\" x1=\"10.5\" x2=\"170.5\" y1=\"70.5\" y2=\"70.5\" /><line stroke-width=\"1.0\" x1=\"10.5\" x2=\"170.5\" y1=\"90.5\" y2=\"90.5\" /><line stroke-width=\"1.0\" x1=\"10.5\" x2=\"170.5\" y1=\"110.5\" y2=\"110.5\" /><line stroke-width=\"1.0\" x1=\"10.5\" x2=\"170.5\" y1=\"130.5\" y2=\"130.5\" /><line stroke-width=\"1.0\" x1=\"10.5\" x2=\"170.5\" y1=\"150.5\" y2=\"150.5\" /><line stroke-width=\"1.0\" x1=\"30.5\" x2=\"30.5\" y1=\"10.5\" y2=\"170.5\" /><line stroke-width=\"1.0\" x1=\"50.5\" x2=\"50.5\" y1=\"10.5\" y2=\"170.5\" /><line stroke-width=\"1.0\" x1=\"70.5\" x2=\"70.5\" y1=\"10.5\" y2=\"170.5\" /><line stroke-width=\"1.0\" x1=\"90.5\" x2=\"90.5\" y1=\"10.5\" y2=\"170.5\" /><line stroke-width=\"1.0\" x1=\"110.5\" x2=\"110.5\" y1=\"10.5\" y2=\"170.5\" /><line stroke-width=\"1.0\" x1=\"130.5\" x2=\"130.5\" y1=\"10.5\" y2=\"170.5\" /><line stroke-width=\"1.0\" x1=\"150.5\" x2=\"150.5\" y1=\"10.5\" y2=\"170.5\" /></g><g><text font-family=\"serif\" font-size=\"9.5\" text-anchor=\"middle\" x=\"20.5\" y=\"8\">a</text><text font-family=\"serif\" font-size=\"9.5\" text-anchor=\"middle\" x=\"40.5\" y=\"8\">b</text><text font-family=\"serif\" font-size=\"9.5\" text-anchor=\"middle\" x=\"60.5\" y=\"8\">c</text><text font-family=\"serif\" font-size=\"9.5\" text-anchor=\"middle\" x=\"80.5\" y=\"8\">d</text><text font-family=\"serif\" font-size=\"9.5\" text-anchor=\"middle\" x=\"100.5\" y=\"8\">e</text><text font-family=\"serif\" font-size=\"9.5\" text-anchor=\"middle\" x=\"120.5\" y=\"8\">f</text><text font-family=\"serif\" font-size=\"9.5\" text-anchor=\"middle\" x=\"140.5\" y=\"8\">g</text><text font-family=\"serif\" font-size=\"9.5\" text-anchor=\"middle\" x=\"160.5\" y=\"8\">h</text><text font-family=\"serif\" font-size=\"9.5\" x=\"2.5\" y=\"23.5\">1</text><text font-family=\"serif\" font-size=\"9.5\" x=\"2.5\" y=\"43.5\">2</text><text font-family=\"serif\" font-size=\"9.5\" x=\"2.5\" y=\"63.5\">3</text><text font-family=\"serif\" font-size=\"9.5\" x=\"2.5\" y=\"83.5\">4</text><text font-family=\"serif\" font-size=\"9.5\" x=\"2.5\" y=\"103.5\">5</text><text font-family=\"serif\" font-size=\"9.5\" x=\"2.5\" y=\"123.5\">6</text><text font-family=\"serif\" font-size=\"9.5\" x=\"2.5\" y=\"143.5\">7</text><text font-family=\"serif\" font-size=\"9.5\" x=\"2.5\" y=\"163.5\">8</text></g><use xlink:href=\"#black\" x=\"50.5\" y=\"50.5\" /><use xlink:href=\"#black\" x=\"70.5\" y=\"70.5\" /><use xlink:href=\"#black\" x=\"90.5\" y=\"70.5\" /><use xlink:href=\"#white\" x=\"70.5\" y=\"90.5\" /><use xlink:href=\"#black\" x=\"90.5\" y=\"90.5\" /><use xlink:href=\"#black\" x=\"110.5\" y=\"90.5\" /><use xlink:href=\"#white\" x=\"70.5\" y=\"110.5\" /></svg>"
      ],
      "text/plain": [
       " |abcdefgh\n",
       "-+--------\n",
       "1|........\n",
       "2|........\n",
       "3|..x.....\n",
       "4|...xx...\n",
       "5|...oxx..\n",
       "6|...o....\n",
       "7|........\n",
       "8|........"
      ]
     },
     "metadata": {},
     "output_type": "display_data"
    },
    {
     "data": {
      "image/svg+xml": [
       "<svg xmlns=\"http://www.w3.org/2000/svg\" version=\"1.1\" xmlns:xlink=\"http://www.w3.org/1999/xlink\" width=\"215.0\" height=\"215.0\" viewBox=\"0 0 172 172\"><defs><g id=\"black\"><circle cx=\"10\" cy=\"10\" r=\"8.5\" fill=\"black\" /></g><g id=\"white\"><circle cx=\"10\" cy=\"10\" r=\"8.5\" fill=\"white\" /></g></defs><rect fill=\"green\" height=\"161\" width=\"161\" x=\"10\" y=\"10\" /><g stroke=\"black\"><rect width=\"161\" height=\"161\" stroke-width=\"1.5\" fill=\"none\" x=\"10\" y=\"10\" /><line stroke-width=\"1.0\" x1=\"10.5\" x2=\"170.5\" y1=\"30.5\" y2=\"30.5\" /><line stroke-width=\"1.0\" x1=\"10.5\" x2=\"170.5\" y1=\"50.5\" y2=\"50.5\" /><line stroke-width=\"1.0\" x1=\"10.5\" x2=\"170.5\" y1=\"70.5\" y2=\"70.5\" /><line stroke-width=\"1.0\" x1=\"10.5\" x2=\"170.5\" y1=\"90.5\" y2=\"90.5\" /><line stroke-width=\"1.0\" x1=\"10.5\" x2=\"170.5\" y1=\"110.5\" y2=\"110.5\" /><line stroke-width=\"1.0\" x1=\"10.5\" x2=\"170.5\" y1=\"130.5\" y2=\"130.5\" /><line stroke-width=\"1.0\" x1=\"10.5\" x2=\"170.5\" y1=\"150.5\" y2=\"150.5\" /><line stroke-width=\"1.0\" x1=\"30.5\" x2=\"30.5\" y1=\"10.5\" y2=\"170.5\" /><line stroke-width=\"1.0\" x1=\"50.5\" x2=\"50.5\" y1=\"10.5\" y2=\"170.5\" /><line stroke-width=\"1.0\" x1=\"70.5\" x2=\"70.5\" y1=\"10.5\" y2=\"170.5\" /><line stroke-width=\"1.0\" x1=\"90.5\" x2=\"90.5\" y1=\"10.5\" y2=\"170.5\" /><line stroke-width=\"1.0\" x1=\"110.5\" x2=\"110.5\" y1=\"10.5\" y2=\"170.5\" /><line stroke-width=\"1.0\" x1=\"130.5\" x2=\"130.5\" y1=\"10.5\" y2=\"170.5\" /><line stroke-width=\"1.0\" x1=\"150.5\" x2=\"150.5\" y1=\"10.5\" y2=\"170.5\" /></g><g><text font-family=\"serif\" font-size=\"9.5\" text-anchor=\"middle\" x=\"20.5\" y=\"8\">a</text><text font-family=\"serif\" font-size=\"9.5\" text-anchor=\"middle\" x=\"40.5\" y=\"8\">b</text><text font-family=\"serif\" font-size=\"9.5\" text-anchor=\"middle\" x=\"60.5\" y=\"8\">c</text><text font-family=\"serif\" font-size=\"9.5\" text-anchor=\"middle\" x=\"80.5\" y=\"8\">d</text><text font-family=\"serif\" font-size=\"9.5\" text-anchor=\"middle\" x=\"100.5\" y=\"8\">e</text><text font-family=\"serif\" font-size=\"9.5\" text-anchor=\"middle\" x=\"120.5\" y=\"8\">f</text><text font-family=\"serif\" font-size=\"9.5\" text-anchor=\"middle\" x=\"140.5\" y=\"8\">g</text><text font-family=\"serif\" font-size=\"9.5\" text-anchor=\"middle\" x=\"160.5\" y=\"8\">h</text><text font-family=\"serif\" font-size=\"9.5\" x=\"2.5\" y=\"23.5\">1</text><text font-family=\"serif\" font-size=\"9.5\" x=\"2.5\" y=\"43.5\">2</text><text font-family=\"serif\" font-size=\"9.5\" x=\"2.5\" y=\"63.5\">3</text><text font-family=\"serif\" font-size=\"9.5\" x=\"2.5\" y=\"83.5\">4</text><text font-family=\"serif\" font-size=\"9.5\" x=\"2.5\" y=\"103.5\">5</text><text font-family=\"serif\" font-size=\"9.5\" x=\"2.5\" y=\"123.5\">6</text><text font-family=\"serif\" font-size=\"9.5\" x=\"2.5\" y=\"143.5\">7</text><text font-family=\"serif\" font-size=\"9.5\" x=\"2.5\" y=\"163.5\">8</text></g><use xlink:href=\"#black\" x=\"50.5\" y=\"50.5\" /><use xlink:href=\"#white\" x=\"70.5\" y=\"50.5\" /><use xlink:href=\"#white\" x=\"70.5\" y=\"70.5\" /><use xlink:href=\"#black\" x=\"90.5\" y=\"70.5\" /><use xlink:href=\"#white\" x=\"70.5\" y=\"90.5\" /><use xlink:href=\"#black\" x=\"90.5\" y=\"90.5\" /><use xlink:href=\"#black\" x=\"110.5\" y=\"90.5\" /><use xlink:href=\"#white\" x=\"70.5\" y=\"110.5\" /></svg>"
      ],
      "text/plain": [
       " |abcdefgh\n",
       "-+--------\n",
       "1|........\n",
       "2|........\n",
       "3|..xo....\n",
       "4|...ox...\n",
       "5|...oxx..\n",
       "6|...o....\n",
       "7|........\n",
       "8|........"
      ]
     },
     "metadata": {},
     "output_type": "display_data"
    },
    {
     "data": {
      "image/png": "[encoded data removed]",
      "text/plain": [
       "<Figure size 300x300 with 1 Axes>"
      ]
     },
     "metadata": {},
     "output_type": "display_data"
    },
    {
     "data": {
      "image/svg+xml": [
       "<svg xmlns=\"http://www.w3.org/2000/svg\" version=\"1.1\" xmlns:xlink=\"http://www.w3.org/1999/xlink\" width=\"215.0\" height=\"215.0\" viewBox=\"0 0 172 172\"><defs><g id=\"black\"><circle cx=\"10\" cy=\"10\" r=\"8.5\" fill=\"black\" /></g><g id=\"white\"><circle cx=\"10\" cy=\"10\" r=\"8.5\" fill=\"white\" /></g></defs><rect fill=\"green\" height=\"161\" width=\"161\" x=\"10\" y=\"10\" /><g stroke=\"black\"><rect width=\"161\" height=\"161\" stroke-width=\"1.5\" fill=\"none\" x=\"10\" y=\"10\" /><line stroke-width=\"1.0\" x1=\"10.5\" x2=\"170.5\" y1=\"30.5\" y2=\"30.5\" /><line stroke-width=\"1.0\" x1=\"10.5\" x2=\"170.5\" y1=\"50.5\" y2=\"50.5\" /><line stroke-width=\"1.0\" x1=\"10.5\" x2=\"170.5\" y1=\"70.5\" y2=\"70.5\" /><line stroke-width=\"1.0\" x1=\"10.5\" x2=\"170.5\" y1=\"90.5\" y2=\"90.5\" /><line stroke-width=\"1.0\" x1=\"10.5\" x2=\"170.5\" y1=\"110.5\" y2=\"110.5\" /><line stroke-width=\"1.0\" x1=\"10.5\" x2=\"170.5\" y1=\"130.5\" y2=\"130.5\" /><line stroke-width=\"1.0\" x1=\"10.5\" x2=\"170.5\" y1=\"150.5\" y2=\"150.5\" /><line stroke-width=\"1.0\" x1=\"30.5\" x2=\"30.5\" y1=\"10.5\" y2=\"170.5\" /><line stroke-width=\"1.0\" x1=\"50.5\" x2=\"50.5\" y1=\"10.5\" y2=\"170.5\" /><line stroke-width=\"1.0\" x1=\"70.5\" x2=\"70.5\" y1=\"10.5\" y2=\"170.5\" /><line stroke-width=\"1.0\" x1=\"90.5\" x2=\"90.5\" y1=\"10.5\" y2=\"170.5\" /><line stroke-width=\"1.0\" x1=\"110.5\" x2=\"110.5\" y1=\"10.5\" y2=\"170.5\" /><line stroke-width=\"1.0\" x1=\"130.5\" x2=\"130.5\" y1=\"10.5\" y2=\"170.5\" /><line stroke-width=\"1.0\" x1=\"150.5\" x2=\"150.5\" y1=\"10.5\" y2=\"170.5\" /></g><g><text font-family=\"serif\" font-size=\"9.5\" text-anchor=\"middle\" x=\"20.5\" y=\"8\">a</text><text font-family=\"serif\" font-size=\"9.5\" text-anchor=\"middle\" x=\"40.5\" y=\"8\">b</text><text font-family=\"serif\" font-size=\"9.5\" text-anchor=\"middle\" x=\"60.5\" y=\"8\">c</text><text font-family=\"serif\" font-size=\"9.5\" text-anchor=\"middle\" x=\"80.5\" y=\"8\">d</text><text font-family=\"serif\" font-size=\"9.5\" text-anchor=\"middle\" x=\"100.5\" y=\"8\">e</text><text font-family=\"serif\" font-size=\"9.5\" text-anchor=\"middle\" x=\"120.5\" y=\"8\">f</text><text font-family=\"serif\" font-size=\"9.5\" text-anchor=\"middle\" x=\"140.5\" y=\"8\">g</text><text font-family=\"serif\" font-size=\"9.5\" text-anchor=\"middle\" x=\"160.5\" y=\"8\">h</text><text font-family=\"serif\" font-size=\"9.5\" x=\"2.5\" y=\"23.5\">1</text><text font-family=\"serif\" font-size=\"9.5\" x=\"2.5\" y=\"43.5\">2</text><text font-family=\"serif\" font-size=\"9.5\" x=\"2.5\" y=\"63.5\">3</text><text font-family=\"serif\" font-size=\"9.5\" x=\"2.5\" y=\"83.5\">4</text><text font-family=\"serif\" font-size=\"9.5\" x=\"2.5\" y=\"103.5\">5</text><text font-family=\"serif\" font-size=\"9.5\" x=\"2.5\" y=\"123.5\">6</text><text font-family=\"serif\" font-size=\"9.5\" x=\"2.5\" y=\"143.5\">7</text><text font-family=\"serif\" font-size=\"9.5\" x=\"2.5\" y=\"163.5\">8</text></g><use xlink:href=\"#black\" x=\"50.5\" y=\"50.5\" /><use xlink:href=\"#white\" x=\"70.5\" y=\"50.5\" /><use xlink:href=\"#black\" x=\"50.5\" y=\"70.5\" /><use xlink:href=\"#black\" x=\"70.5\" y=\"70.5\" /><use xlink:href=\"#black\" x=\"90.5\" y=\"70.5\" /><use xlink:href=\"#white\" x=\"70.5\" y=\"90.5\" /><use xlink:href=\"#black\" x=\"90.5\" y=\"90.5\" /><use xlink:href=\"#black\" x=\"110.5\" y=\"90.5\" /><use xlink:href=\"#white\" x=\"70.5\" y=\"110.5\" /></svg>"
      ],
      "text/plain": [
       " |abcdefgh\n",
       "-+--------\n",
       "1|........\n",
       "2|........\n",
       "3|..xo....\n",
       "4|..xxx...\n",
       "5|...oxx..\n",
       "6|...o....\n",
       "7|........\n",
       "8|........"
      ]
     },
     "metadata": {},
     "output_type": "display_data"
    },
    {
     "data": {
      "image/svg+xml": [
       "<svg xmlns=\"http://www.w3.org/2000/svg\" version=\"1.1\" xmlns:xlink=\"http://www.w3.org/1999/xlink\" width=\"215.0\" height=\"215.0\" viewBox=\"0 0 172 172\"><defs><g id=\"black\"><circle cx=\"10\" cy=\"10\" r=\"8.5\" fill=\"black\" /></g><g id=\"white\"><circle cx=\"10\" cy=\"10\" r=\"8.5\" fill=\"white\" /></g></defs><rect fill=\"green\" height=\"161\" width=\"161\" x=\"10\" y=\"10\" /><g stroke=\"black\"><rect width=\"161\" height=\"161\" stroke-width=\"1.5\" fill=\"none\" x=\"10\" y=\"10\" /><line stroke-width=\"1.0\" x1=\"10.5\" x2=\"170.5\" y1=\"30.5\" y2=\"30.5\" /><line stroke-width=\"1.0\" x1=\"10.5\" x2=\"170.5\" y1=\"50.5\" y2=\"50.5\" /><line stroke-width=\"1.0\" x1=\"10.5\" x2=\"170.5\" y1=\"70.5\" y2=\"70.5\" /><line stroke-width=\"1.0\" x1=\"10.5\" x2=\"170.5\" y1=\"90.5\" y2=\"90.5\" /><line stroke-width=\"1.0\" x1=\"10.5\" x2=\"170.5\" y1=\"110.5\" y2=\"110.5\" /><line stroke-width=\"1.0\" x1=\"10.5\" x2=\"170.5\" y1=\"130.5\" y2=\"130.5\" /><line stroke-width=\"1.0\" x1=\"10.5\" x2=\"170.5\" y1=\"150.5\" y2=\"150.5\" /><line stroke-width=\"1.0\" x1=\"30.5\" x2=\"30.5\" y1=\"10.5\" y2=\"170.5\" /><line stroke-width=\"1.0\" x1=\"50.5\" x2=\"50.5\" y1=\"10.5\" y2=\"170.5\" /><line stroke-width=\"1.0\" x1=\"70.5\" x2=\"70.5\" y1=\"10.5\" y2=\"170.5\" /><line stroke-width=\"1.0\" x1=\"90.5\" x2=\"90.5\" y1=\"10.5\" y2=\"170.5\" /><line stroke-width=\"1.0\" x1=\"110.5\" x2=\"110.5\" y1=\"10.5\" y2=\"170.5\" /><line stroke-width=\"1.0\" x1=\"130.5\" x2=\"130.5\" y1=\"10.5\" y2=\"170.5\" /><line stroke-width=\"1.0\" x1=\"150.5\" x2=\"150.5\" y1=\"10.5\" y2=\"170.5\" /></g><g><text font-family=\"serif\" font-size=\"9.5\" text-anchor=\"middle\" x=\"20.5\" y=\"8\">a</text><text font-family=\"serif\" font-size=\"9.5\" text-anchor=\"middle\" x=\"40.5\" y=\"8\">b</text><text font-family=\"serif\" font-size=\"9.5\" text-anchor=\"middle\" x=\"60.5\" y=\"8\">c</text><text font-family=\"serif\" font-size=\"9.5\" text-anchor=\"middle\" x=\"80.5\" y=\"8\">d</text><text font-family=\"serif\" font-size=\"9.5\" text-anchor=\"middle\" x=\"100.5\" y=\"8\">e</text><text font-family=\"serif\" font-size=\"9.5\" text-anchor=\"middle\" x=\"120.5\" y=\"8\">f</text><text font-family=\"serif\" font-size=\"9.5\" text-anchor=\"middle\" x=\"140.5\" y=\"8\">g</text><text font-family=\"serif\" font-size=\"9.5\" text-anchor=\"middle\" x=\"160.5\" y=\"8\">h</text><text font-family=\"serif\" font-size=\"9.5\" x=\"2.5\" y=\"23.5\">1</text><text font-family=\"serif\" font-size=\"9.5\" x=\"2.5\" y=\"43.5\">2</text><text font-family=\"serif\" font-size=\"9.5\" x=\"2.5\" y=\"63.5\">3</text><text font-family=\"serif\" font-size=\"9.5\" x=\"2.5\" y=\"83.5\">4</text><text font-family=\"serif\" font-size=\"9.5\" x=\"2.5\" y=\"103.5\">5</text><text font-family=\"serif\" font-size=\"9.5\" x=\"2.5\" y=\"123.5\">6</text><text font-family=\"serif\" font-size=\"9.5\" x=\"2.5\" y=\"143.5\">7</text><text font-family=\"serif\" font-size=\"9.5\" x=\"2.5\" y=\"163.5\">8</text></g><use xlink:href=\"#black\" x=\"50.5\" y=\"50.5\" /><use xlink:href=\"#white\" x=\"70.5\" y=\"50.5\" /><use xlink:href=\"#black\" x=\"50.5\" y=\"70.5\" /><use xlink:href=\"#black\" x=\"70.5\" y=\"70.5\" /><use xlink:href=\"#black\" x=\"90.5\" y=\"70.5\" /><use xlink:href=\"#white\" x=\"70.5\" y=\"90.5\" /><use xlink:href=\"#white\" x=\"90.5\" y=\"90.5\" /><use xlink:href=\"#white\" x=\"110.5\" y=\"90.5\" /><use xlink:href=\"#white\" x=\"130.5\" y=\"90.5\" /><use xlink:href=\"#white\" x=\"70.5\" y=\"110.5\" /></svg>"
      ],
      "text/plain": [
       " |abcdefgh\n",
       "-+--------\n",
       "1|........\n",
       "2|........\n",
       "3|..xo....\n",
       "4|..xxx...\n",
       "5|...oooo.\n",
       "6|...o....\n",
       "7|........\n",
       "8|........"
      ]
     },
     "metadata": {},
     "output_type": "display_data"
    },
    {
     "data": {
      "image/png": "[encoded data removed]",
      "text/plain": [
       "<Figure size 300x300 with 1 Axes>"
      ]
     },
     "metadata": {},
     "output_type": "display_data"
    },
    {
     "data": {
      "image/svg+xml": [
       "<svg xmlns=\"http://www.w3.org/2000/svg\" version=\"1.1\" xmlns:xlink=\"http://www.w3.org/1999/xlink\" width=\"215.0\" height=\"215.0\" viewBox=\"0 0 172 172\"><defs><g id=\"black\"><circle cx=\"10\" cy=\"10\" r=\"8.5\" fill=\"black\" /></g><g id=\"white\"><circle cx=\"10\" cy=\"10\" r=\"8.5\" fill=\"white\" /></g></defs><rect fill=\"green\" height=\"161\" width=\"161\" x=\"10\" y=\"10\" /><g stroke=\"black\"><rect width=\"161\" height=\"161\" stroke-width=\"1.5\" fill=\"none\" x=\"10\" y=\"10\" /><line stroke-width=\"1.0\" x1=\"10.5\" x2=\"170.5\" y1=\"30.5\" y2=\"30.5\" /><line stroke-width=\"1.0\" x1=\"10.5\" x2=\"170.5\" y1=\"50.5\" y2=\"50.5\" /><line stroke-width=\"1.0\" x1=\"10.5\" x2=\"170.5\" y1=\"70.5\" y2=\"70.5\" /><line stroke-width=\"1.0\" x1=\"10.5\" x2=\"170.5\" y1=\"90.5\" y2=\"90.5\" /><line stroke-width=\"1.0\" x1=\"10.5\" x2=\"170.5\" y1=\"110.5\" y2=\"110.5\" /><line stroke-width=\"1.0\" x1=\"10.5\" x2=\"170.5\" y1=\"130.5\" y2=\"130.5\" /><line stroke-width=\"1.0\" x1=\"10.5\" x2=\"170.5\" y1=\"150.5\" y2=\"150.5\" /><line stroke-width=\"1.0\" x1=\"30.5\" x2=\"30.5\" y1=\"10.5\" y2=\"170.5\" /><line stroke-width=\"1.0\" x1=\"50.5\" x2=\"50.5\" y1=\"10.5\" y2=\"170.5\" /><line stroke-width=\"1.0\" x1=\"70.5\" x2=\"70.5\" y1=\"10.5\" y2=\"170.5\" /><line stroke-width=\"1.0\" x1=\"90.5\" x2=\"90.5\" y1=\"10.5\" y2=\"170.5\" /><line stroke-width=\"1.0\" x1=\"110.5\" x2=\"110.5\" y1=\"10.5\" y2=\"170.5\" /><line stroke-width=\"1.0\" x1=\"130.5\" x2=\"130.5\" y1=\"10.5\" y2=\"170.5\" /><line stroke-width=\"1.0\" x1=\"150.5\" x2=\"150.5\" y1=\"10.5\" y2=\"170.5\" /></g><g><text font-family=\"serif\" font-size=\"9.5\" text-anchor=\"middle\" x=\"20.5\" y=\"8\">a</text><text font-family=\"serif\" font-size=\"9.5\" text-anchor=\"middle\" x=\"40.5\" y=\"8\">b</text><text font-family=\"serif\" font-size=\"9.5\" text-anchor=\"middle\" x=\"60.5\" y=\"8\">c</text><text font-family=\"serif\" font-size=\"9.5\" text-anchor=\"middle\" x=\"80.5\" y=\"8\">d</text><text font-family=\"serif\" font-size=\"9.5\" text-anchor=\"middle\" x=\"100.5\" y=\"8\">e</text><text font-family=\"serif\" font-size=\"9.5\" text-anchor=\"middle\" x=\"120.5\" y=\"8\">f</text><text font-family=\"serif\" font-size=\"9.5\" text-anchor=\"middle\" x=\"140.5\" y=\"8\">g</text><text font-family=\"serif\" font-size=\"9.5\" text-anchor=\"middle\" x=\"160.5\" y=\"8\">h</text><text font-family=\"serif\" font-size=\"9.5\" x=\"2.5\" y=\"23.5\">1</text><text font-family=\"serif\" font-size=\"9.5\" x=\"2.5\" y=\"43.5\">2</text><text font-family=\"serif\" font-size=\"9.5\" x=\"2.5\" y=\"63.5\">3</text><text font-family=\"serif\" font-size=\"9.5\" x=\"2.5\" y=\"83.5\">4</text><text font-family=\"serif\" font-size=\"9.5\" x=\"2.5\" y=\"103.5\">5</text><text font-family=\"serif\" font-size=\"9.5\" x=\"2.5\" y=\"123.5\">6</text><text font-family=\"serif\" font-size=\"9.5\" x=\"2.5\" y=\"143.5\">7</text><text font-family=\"serif\" font-size=\"9.5\" x=\"2.5\" y=\"163.5\">8</text></g><use xlink:href=\"#black\" x=\"50.5\" y=\"50.5\" /><use xlink:href=\"#black\" x=\"70.5\" y=\"50.5\" /><use xlink:href=\"#black\" x=\"90.5\" y=\"50.5\" /><use xlink:href=\"#black\" x=\"50.5\" y=\"70.5\" /><use xlink:href=\"#black\" x=\"70.5\" y=\"70.5\" /><use xlink:href=\"#black\" x=\"90.5\" y=\"70.5\" /><use xlink:href=\"#white\" x=\"70.5\" y=\"90.5\" /><use xlink:href=\"#white\" x=\"90.5\" y=\"90.5\" /><use xlink:href=\"#white\" x=\"110.5\" y=\"90.5\" /><use xlink:href=\"#white\" x=\"130.5\" y=\"90.5\" /><use xlink:href=\"#white\" x=\"70.5\" y=\"110.5\" /></svg>"
      ],
      "text/plain": [
       " |abcdefgh\n",
       "-+--------\n",
       "1|........\n",
       "2|........\n",
       "3|..xxx...\n",
       "4|..xxx...\n",
       "5|...oooo.\n",
       "6|...o....\n",
       "7|........\n",
       "8|........"
      ]
     },
     "metadata": {},
     "output_type": "display_data"
    },
    {
     "data": {
      "image/svg+xml": [
       "<svg xmlns=\"http://www.w3.org/2000/svg\" version=\"1.1\" xmlns:xlink=\"http://www.w3.org/1999/xlink\" width=\"215.0\" height=\"215.0\" viewBox=\"0 0 172 172\"><defs><g id=\"black\"><circle cx=\"10\" cy=\"10\" r=\"8.5\" fill=\"black\" /></g><g id=\"white\"><circle cx=\"10\" cy=\"10\" r=\"8.5\" fill=\"white\" /></g></defs><rect fill=\"green\" height=\"161\" width=\"161\" x=\"10\" y=\"10\" /><g stroke=\"black\"><rect width=\"161\" height=\"161\" stroke-width=\"1.5\" fill=\"none\" x=\"10\" y=\"10\" /><line stroke-width=\"1.0\" x1=\"10.5\" x2=\"170.5\" y1=\"30.5\" y2=\"30.5\" /><line stroke-width=\"1.0\" x1=\"10.5\" x2=\"170.5\" y1=\"50.5\" y2=\"50.5\" /><line stroke-width=\"1.0\" x1=\"10.5\" x2=\"170.5\" y1=\"70.5\" y2=\"70.5\" /><line stroke-width=\"1.0\" x1=\"10.5\" x2=\"170.5\" y1=\"90.5\" y2=\"90.5\" /><line stroke-width=\"1.0\" x1=\"10.5\" x2=\"170.5\" y1=\"110.5\" y2=\"110.5\" /><line stroke-width=\"1.0\" x1=\"10.5\" x2=\"170.5\" y1=\"130.5\" y2=\"130.5\" /><line stroke-width=\"1.0\" x1=\"10.5\" x2=\"170.5\" y1=\"150.5\" y2=\"150.5\" /><line stroke-width=\"1.0\" x1=\"30.5\" x2=\"30.5\" y1=\"10.5\" y2=\"170.5\" /><line stroke-width=\"1.0\" x1=\"50.5\" x2=\"50.5\" y1=\"10.5\" y2=\"170.5\" /><line stroke-width=\"1.0\" x1=\"70.5\" x2=\"70.5\" y1=\"10.5\" y2=\"170.5\" /><line stroke-width=\"1.0\" x1=\"90.5\" x2=\"90.5\" y1=\"10.5\" y2=\"170.5\" /><line stroke-width=\"1.0\" x1=\"110.5\" x2=\"110.5\" y1=\"10.5\" y2=\"170.5\" /><line stroke-width=\"1.0\" x1=\"130.5\" x2=\"130.5\" y1=\"10.5\" y2=\"170.5\" /><line stroke-width=\"1.0\" x1=\"150.5\" x2=\"150.5\" y1=\"10.5\" y2=\"170.5\" /></g><g><text font-family=\"serif\" font-size=\"9.5\" text-anchor=\"middle\" x=\"20.5\" y=\"8\">a</text><text font-family=\"serif\" font-size=\"9.5\" text-anchor=\"middle\" x=\"40.5\" y=\"8\">b</text><text font-family=\"serif\" font-size=\"9.5\" text-anchor=\"middle\" x=\"60.5\" y=\"8\">c</text><text font-family=\"serif\" font-size=\"9.5\" text-anchor=\"middle\" x=\"80.5\" y=\"8\">d</text><text font-family=\"serif\" font-size=\"9.5\" text-anchor=\"middle\" x=\"100.5\" y=\"8\">e</text><text font-family=\"serif\" font-size=\"9.5\" text-anchor=\"middle\" x=\"120.5\" y=\"8\">f</text><text font-family=\"serif\" font-size=\"9.5\" text-anchor=\"middle\" x=\"140.5\" y=\"8\">g</text><text font-family=\"serif\" font-size=\"9.5\" text-anchor=\"middle\" x=\"160.5\" y=\"8\">h</text><text font-family=\"serif\" font-size=\"9.5\" x=\"2.5\" y=\"23.5\">1</text><text font-family=\"serif\" font-size=\"9.5\" x=\"2.5\" y=\"43.5\">2</text><text font-family=\"serif\" font-size=\"9.5\" x=\"2.5\" y=\"63.5\">3</text><text font-family=\"serif\" font-size=\"9.5\" x=\"2.5\" y=\"83.5\">4</text><text font-family=\"serif\" font-size=\"9.5\" x=\"2.5\" y=\"103.5\">5</text><text font-family=\"serif\" font-size=\"9.5\" x=\"2.5\" y=\"123.5\">6</text><text font-family=\"serif\" font-size=\"9.5\" x=\"2.5\" y=\"143.5\">7</text><text font-family=\"serif\" font-size=\"9.5\" x=\"2.5\" y=\"163.5\">8</text></g><use xlink:href=\"#white\" x=\"30.5\" y=\"50.5\" /><use xlink:href=\"#black\" x=\"50.5\" y=\"50.5\" /><use xlink:href=\"#black\" x=\"70.5\" y=\"50.5\" /><use xlink:href=\"#black\" x=\"90.5\" y=\"50.5\" /><use xlink:href=\"#white\" x=\"50.5\" y=\"70.5\" /><use xlink:href=\"#black\" x=\"70.5\" y=\"70.5\" /><use xlink:href=\"#black\" x=\"90.5\" y=\"70.5\" /><use xlink:href=\"#white\" x=\"70.5\" y=\"90.5\" /><use xlink:href=\"#white\" x=\"90.5\" y=\"90.5\" /><use xlink:href=\"#white\" x=\"110.5\" y=\"90.5\" /><use xlink:href=\"#white\" x=\"130.5\" y=\"90.5\" /><use xlink:href=\"#white\" x=\"70.5\" y=\"110.5\" /></svg>"
      ],
      "text/plain": [
       " |abcdefgh\n",
       "-+--------\n",
       "1|........\n",
       "2|........\n",
       "3|.oxxx...\n",
       "4|..oxx...\n",
       "5|...oooo.\n",
       "6|...o....\n",
       "7|........\n",
       "8|........"
      ]
     },
     "metadata": {},
     "output_type": "display_data"
    },
    {
     "data": {
      "image/png": "[encoded data removed]",
      "text/plain": [
       "<Figure size 300x300 with 1 Axes>"
      ]
     },
     "metadata": {},
     "output_type": "display_data"
    },
    {
     "data": {
      "image/svg+xml": [
       "<svg xmlns=\"http://www.w3.org/2000/svg\" version=\"1.1\" xmlns:xlink=\"http://www.w3.org/1999/xlink\" width=\"215.0\" height=\"215.0\" viewBox=\"0 0 172 172\"><defs><g id=\"black\"><circle cx=\"10\" cy=\"10\" r=\"8.5\" fill=\"black\" /></g><g id=\"white\"><circle cx=\"10\" cy=\"10\" r=\"8.5\" fill=\"white\" /></g></defs><rect fill=\"green\" height=\"161\" width=\"161\" x=\"10\" y=\"10\" /><g stroke=\"black\"><rect width=\"161\" height=\"161\" stroke-width=\"1.5\" fill=\"none\" x=\"10\" y=\"10\" /><line stroke-width=\"1.0\" x1=\"10.5\" x2=\"170.5\" y1=\"30.5\" y2=\"30.5\" /><line stroke-width=\"1.0\" x1=\"10.5\" x2=\"170.5\" y1=\"50.5\" y2=\"50.5\" /><line stroke-width=\"1.0\" x1=\"10.5\" x2=\"170.5\" y1=\"70.5\" y2=\"70.5\" /><line stroke-width=\"1.0\" x1=\"10.5\" x2=\"170.5\" y1=\"90.5\" y2=\"90.5\" /><line stroke-width=\"1.0\" x1=\"10.5\" x2=\"170.5\" y1=\"110.5\" y2=\"110.5\" /><line stroke-width=\"1.0\" x1=\"10.5\" x2=\"170.5\" y1=\"130.5\" y2=\"130.5\" /><line stroke-width=\"1.0\" x1=\"10.5\" x2=\"170.5\" y1=\"150.5\" y2=\"150.5\" /><line stroke-width=\"1.0\" x1=\"30.5\" x2=\"30.5\" y1=\"10.5\" y2=\"170.5\" /><line stroke-width=\"1.0\" x1=\"50.5\" x2=\"50.5\" y1=\"10.5\" y2=\"170.5\" /><line stroke-width=\"1.0\" x1=\"70.5\" x2=\"70.5\" y1=\"10.5\" y2=\"170.5\" /><line stroke-width=\"1.0\" x1=\"90.5\" x2=\"90.5\" y1=\"10.5\" y2=\"170.5\" /><line stroke-width=\"1.0\" x1=\"110.5\" x2=\"110.5\" y1=\"10.5\" y2=\"170.5\" /><line stroke-width=\"1.0\" x1=\"130.5\" x2=\"130.5\" y1=\"10.5\" y2=\"170.5\" /><line stroke-width=\"1.0\" x1=\"150.5\" x2=\"150.5\" y1=\"10.5\" y2=\"170.5\" /></g><g><text font-family=\"serif\" font-size=\"9.5\" text-anchor=\"middle\" x=\"20.5\" y=\"8\">a</text><text font-family=\"serif\" font-size=\"9.5\" text-anchor=\"middle\" x=\"40.5\" y=\"8\">b</text><text font-family=\"serif\" font-size=\"9.5\" text-anchor=\"middle\" x=\"60.5\" y=\"8\">c</text><text font-family=\"serif\" font-size=\"9.5\" text-anchor=\"middle\" x=\"80.5\" y=\"8\">d</text><text font-family=\"serif\" font-size=\"9.5\" text-anchor=\"middle\" x=\"100.5\" y=\"8\">e</text><text font-family=\"serif\" font-size=\"9.5\" text-anchor=\"middle\" x=\"120.5\" y=\"8\">f</text><text font-family=\"serif\" font-size=\"9.5\" text-anchor=\"middle\" x=\"140.5\" y=\"8\">g</text><text font-family=\"serif\" font-size=\"9.5\" text-anchor=\"middle\" x=\"160.5\" y=\"8\">h</text><text font-family=\"serif\" font-size=\"9.5\" x=\"2.5\" y=\"23.5\">1</text><text font-family=\"serif\" font-size=\"9.5\" x=\"2.5\" y=\"43.5\">2</text><text font-family=\"serif\" font-size=\"9.5\" x=\"2.5\" y=\"63.5\">3</text><text font-family=\"serif\" font-size=\"9.5\" x=\"2.5\" y=\"83.5\">4</text><text font-family=\"serif\" font-size=\"9.5\" x=\"2.5\" y=\"103.5\">5</text><text font-family=\"serif\" font-size=\"9.5\" x=\"2.5\" y=\"123.5\">6</text><text font-family=\"serif\" font-size=\"9.5\" x=\"2.5\" y=\"143.5\">7</text><text font-family=\"serif\" font-size=\"9.5\" x=\"2.5\" y=\"163.5\">8</text></g><use xlink:href=\"#white\" x=\"30.5\" y=\"50.5\" /><use xlink:href=\"#black\" x=\"50.5\" y=\"50.5\" /><use xlink:href=\"#black\" x=\"70.5\" y=\"50.5\" /><use xlink:href=\"#black\" x=\"90.5\" y=\"50.5\" /><use xlink:href=\"#black\" x=\"50.5\" y=\"70.5\" /><use xlink:href=\"#black\" x=\"70.5\" y=\"70.5\" /><use xlink:href=\"#black\" x=\"90.5\" y=\"70.5\" /><use xlink:href=\"#black\" x=\"50.5\" y=\"90.5\" /><use xlink:href=\"#white\" x=\"70.5\" y=\"90.5\" /><use xlink:href=\"#white\" x=\"90.5\" y=\"90.5\" /><use xlink:href=\"#white\" x=\"110.5\" y=\"90.5\" /><use xlink:href=\"#white\" x=\"130.5\" y=\"90.5\" /><use xlink:href=\"#white\" x=\"70.5\" y=\"110.5\" /></svg>"
      ],
      "text/plain": [
       " |abcdefgh\n",
       "-+--------\n",
       "1|........\n",
       "2|........\n",
       "3|.oxxx...\n",
       "4|..xxx...\n",
       "5|..xoooo.\n",
       "6|...o....\n",
       "7|........\n",
       "8|........"
      ]
     },
     "metadata": {},
     "output_type": "display_data"
    },
    {
     "data": {
      "image/svg+xml": [
       "<svg xmlns=\"http://www.w3.org/2000/svg\" version=\"1.1\" xmlns:xlink=\"http://www.w3.org/1999/xlink\" width=\"215.0\" height=\"215.0\" viewBox=\"0 0 172 172\"><defs><g id=\"black\"><circle cx=\"10\" cy=\"10\" r=\"8.5\" fill=\"black\" /></g><g id=\"white\"><circle cx=\"10\" cy=\"10\" r=\"8.5\" fill=\"white\" /></g></defs><rect fill=\"green\" height=\"161\" width=\"161\" x=\"10\" y=\"10\" /><g stroke=\"black\"><rect width=\"161\" height=\"161\" stroke-width=\"1.5\" fill=\"none\" x=\"10\" y=\"10\" /><line stroke-width=\"1.0\" x1=\"10.5\" x2=\"170.5\" y1=\"30.5\" y2=\"30.5\" /><line stroke-width=\"1.0\" x1=\"10.5\" x2=\"170.5\" y1=\"50.5\" y2=\"50.5\" /><line stroke-width=\"1.0\" x1=\"10.5\" x2=\"170.5\" y1=\"70.5\" y2=\"70.5\" /><line stroke-width=\"1.0\" x1=\"10.5\" x2=\"170.5\" y1=\"90.5\" y2=\"90.5\" /><line stroke-width=\"1.0\" x1=\"10.5\" x2=\"170.5\" y1=\"110.5\" y2=\"110.5\" /><line stroke-width=\"1.0\" x1=\"10.5\" x2=\"170.5\" y1=\"130.5\" y2=\"130.5\" /><line stroke-width=\"1.0\" x1=\"10.5\" x2=\"170.5\" y1=\"150.5\" y2=\"150.5\" /><line stroke-width=\"1.0\" x1=\"30.5\" x2=\"30.5\" y1=\"10.5\" y2=\"170.5\" /><line stroke-width=\"1.0\" x1=\"50.5\" x2=\"50.5\" y1=\"10.5\" y2=\"170.5\" /><line stroke-width=\"1.0\" x1=\"70.5\" x2=\"70.5\" y1=\"10.5\" y2=\"170.5\" /><line stroke-width=\"1.0\" x1=\"90.5\" x2=\"90.5\" y1=\"10.5\" y2=\"170.5\" /><line stroke-width=\"1.0\" x1=\"110.5\" x2=\"110.5\" y1=\"10.5\" y2=\"170.5\" /><line stroke-width=\"1.0\" x1=\"130.5\" x2=\"130.5\" y1=\"10.5\" y2=\"170.5\" /><line stroke-width=\"1.0\" x1=\"150.5\" x2=\"150.5\" y1=\"10.5\" y2=\"170.5\" /></g><g><text font-family=\"serif\" font-size=\"9.5\" text-anchor=\"middle\" x=\"20.5\" y=\"8\">a</text><text font-family=\"serif\" font-size=\"9.5\" text-anchor=\"middle\" x=\"40.5\" y=\"8\">b</text><text font-family=\"serif\" font-size=\"9.5\" text-anchor=\"middle\" x=\"60.5\" y=\"8\">c</text><text font-family=\"serif\" font-size=\"9.5\" text-anchor=\"middle\" x=\"80.5\" y=\"8\">d</text><text font-family=\"serif\" font-size=\"9.5\" text-anchor=\"middle\" x=\"100.5\" y=\"8\">e</text><text font-family=\"serif\" font-size=\"9.5\" text-anchor=\"middle\" x=\"120.5\" y=\"8\">f</text><text font-family=\"serif\" font-size=\"9.5\" text-anchor=\"middle\" x=\"140.5\" y=\"8\">g</text><text font-family=\"serif\" font-size=\"9.5\" text-anchor=\"middle\" x=\"160.5\" y=\"8\">h</text><text font-family=\"serif\" font-size=\"9.5\" x=\"2.5\" y=\"23.5\">1</text><text font-family=\"serif\" font-size=\"9.5\" x=\"2.5\" y=\"43.5\">2</text><text font-family=\"serif\" font-size=\"9.5\" x=\"2.5\" y=\"63.5\">3</text><text font-family=\"serif\" font-size=\"9.5\" x=\"2.5\" y=\"83.5\">4</text><text font-family=\"serif\" font-size=\"9.5\" x=\"2.5\" y=\"103.5\">5</text><text font-family=\"serif\" font-size=\"9.5\" x=\"2.5\" y=\"123.5\">6</text><text font-family=\"serif\" font-size=\"9.5\" x=\"2.5\" y=\"143.5\">7</text><text font-family=\"serif\" font-size=\"9.5\" x=\"2.5\" y=\"163.5\">8</text></g><use xlink:href=\"#white\" x=\"30.5\" y=\"30.5\" /><use xlink:href=\"#white\" x=\"30.5\" y=\"50.5\" /><use xlink:href=\"#white\" x=\"50.5\" y=\"50.5\" /><use xlink:href=\"#black\" x=\"70.5\" y=\"50.5\" /><use xlink:href=\"#black\" x=\"90.5\" y=\"50.5\" /><use xlink:href=\"#black\" x=\"50.5\" y=\"70.5\" /><use xlink:href=\"#white\" x=\"70.5\" y=\"70.5\" /><use xlink:href=\"#black\" x=\"90.5\" y=\"70.5\" /><use xlink:href=\"#black\" x=\"50.5\" y=\"90.5\" /><use xlink:href=\"#white\" x=\"70.5\" y=\"90.5\" /><use xlink:href=\"#white\" x=\"90.5\" y=\"90.5\" /><use xlink:href=\"#white\" x=\"110.5\" y=\"90.5\" /><use xlink:href=\"#white\" x=\"130.5\" y=\"90.5\" /><use xlink:href=\"#white\" x=\"70.5\" y=\"110.5\" /></svg>"
      ],
      "text/plain": [
       " |abcdefgh\n",
       "-+--------\n",
       "1|........\n",
       "2|.o......\n",
       "3|.ooxx...\n",
       "4|..xox...\n",
       "5|..xoooo.\n",
       "6|...o....\n",
       "7|........\n",
       "8|........"
      ]
     },
     "metadata": {},
     "output_type": "display_data"
    },
    {
     "data": {
      "image/png": "[encoded data removed]",
      "text/plain": [
       "<Figure size 300x300 with 1 Axes>"
      ]
     },
     "metadata": {},
     "output_type": "display_data"
    },
    {
     "data": {
      "image/svg+xml": [
       "<svg xmlns=\"http://www.w3.org/2000/svg\" version=\"1.1\" xmlns:xlink=\"http://www.w3.org/1999/xlink\" width=\"215.0\" height=\"215.0\" viewBox=\"0 0 172 172\"><defs><g id=\"black\"><circle cx=\"10\" cy=\"10\" r=\"8.5\" fill=\"black\" /></g><g id=\"white\"><circle cx=\"10\" cy=\"10\" r=\"8.5\" fill=\"white\" /></g></defs><rect fill=\"green\" height=\"161\" width=\"161\" x=\"10\" y=\"10\" /><g stroke=\"black\"><rect width=\"161\" height=\"161\" stroke-width=\"1.5\" fill=\"none\" x=\"10\" y=\"10\" /><line stroke-width=\"1.0\" x1=\"10.5\" x2=\"170.5\" y1=\"30.5\" y2=\"30.5\" /><line stroke-width=\"1.0\" x1=\"10.5\" x2=\"170.5\" y1=\"50.5\" y2=\"50.5\" /><line stroke-width=\"1.0\" x1=\"10.5\" x2=\"170.5\" y1=\"70.5\" y2=\"70.5\" /><line stroke-width=\"1.0\" x1=\"10.5\" x2=\"170.5\" y1=\"90.5\" y2=\"90.5\" /><line stroke-width=\"1.0\" x1=\"10.5\" x2=\"170.5\" y1=\"110.5\" y2=\"110.5\" /><line stroke-width=\"1.0\" x1=\"10.5\" x2=\"170.5\" y1=\"130.5\" y2=\"130.5\" /><line stroke-width=\"1.0\" x1=\"10.5\" x2=\"170.5\" y1=\"150.5\" y2=\"150.5\" /><line stroke-width=\"1.0\" x1=\"30.5\" x2=\"30.5\" y1=\"10.5\" y2=\"170.5\" /><line stroke-width=\"1.0\" x1=\"50.5\" x2=\"50.5\" y1=\"10.5\" y2=\"170.5\" /><line stroke-width=\"1.0\" x1=\"70.5\" x2=\"70.5\" y1=\"10.5\" y2=\"170.5\" /><line stroke-width=\"1.0\" x1=\"90.5\" x2=\"90.5\" y1=\"10.5\" y2=\"170.5\" /><line stroke-width=\"1.0\" x1=\"110.5\" x2=\"110.5\" y1=\"10.5\" y2=\"170.5\" /><line stroke-width=\"1.0\" x1=\"130.5\" x2=\"130.5\" y1=\"10.5\" y2=\"170.5\" /><line stroke-width=\"1.0\" x1=\"150.5\" x2=\"150.5\" y1=\"10.5\" y2=\"170.5\" /></g><g><text font-family=\"serif\" font-size=\"9.5\" text-anchor=\"middle\" x=\"20.5\" y=\"8\">a</text><text font-family=\"serif\" font-size=\"9.5\" text-anchor=\"middle\" x=\"40.5\" y=\"8\">b</text><text font-family=\"serif\" font-size=\"9.5\" text-anchor=\"middle\" x=\"60.5\" y=\"8\">c</text><text font-family=\"serif\" font-size=\"9.5\" text-anchor=\"middle\" x=\"80.5\" y=\"8\">d</text><text font-family=\"serif\" font-size=\"9.5\" text-anchor=\"middle\" x=\"100.5\" y=\"8\">e</text><text font-family=\"serif\" font-size=\"9.5\" text-anchor=\"middle\" x=\"120.5\" y=\"8\">f</text><text font-family=\"serif\" font-size=\"9.5\" text-anchor=\"middle\" x=\"140.5\" y=\"8\">g</text><text font-family=\"serif\" font-size=\"9.5\" text-anchor=\"middle\" x=\"160.5\" y=\"8\">h</text><text font-family=\"serif\" font-size=\"9.5\" x=\"2.5\" y=\"23.5\">1</text><text font-family=\"serif\" font-size=\"9.5\" x=\"2.5\" y=\"43.5\">2</text><text font-family=\"serif\" font-size=\"9.5\" x=\"2.5\" y=\"63.5\">3</text><text font-family=\"serif\" font-size=\"9.5\" x=\"2.5\" y=\"83.5\">4</text><text font-family=\"serif\" font-size=\"9.5\" x=\"2.5\" y=\"103.5\">5</text><text font-family=\"serif\" font-size=\"9.5\" x=\"2.5\" y=\"123.5\">6</text><text font-family=\"serif\" font-size=\"9.5\" x=\"2.5\" y=\"143.5\">7</text><text font-family=\"serif\" font-size=\"9.5\" x=\"2.5\" y=\"163.5\">8</text></g><use xlink:href=\"#white\" x=\"30.5\" y=\"30.5\" /><use xlink:href=\"#white\" x=\"30.5\" y=\"50.5\" /><use xlink:href=\"#white\" x=\"50.5\" y=\"50.5\" /><use xlink:href=\"#black\" x=\"70.5\" y=\"50.5\" /><use xlink:href=\"#black\" x=\"90.5\" y=\"50.5\" /><use xlink:href=\"#black\" x=\"50.5\" y=\"70.5\" /><use xlink:href=\"#white\" x=\"70.5\" y=\"70.5\" /><use xlink:href=\"#black\" x=\"90.5\" y=\"70.5\" /><use xlink:href=\"#black\" x=\"50.5\" y=\"90.5\" /><use xlink:href=\"#black\" x=\"70.5\" y=\"90.5\" /><use xlink:href=\"#white\" x=\"90.5\" y=\"90.5\" /><use xlink:href=\"#white\" x=\"110.5\" y=\"90.5\" /><use xlink:href=\"#white\" x=\"130.5\" y=\"90.5\" /><use xlink:href=\"#black\" x=\"50.5\" y=\"110.5\" /><use xlink:href=\"#white\" x=\"70.5\" y=\"110.5\" /></svg>"
      ],
      "text/plain": [
       " |abcdefgh\n",
       "-+--------\n",
       "1|........\n",
       "2|.o......\n",
       "3|.ooxx...\n",
       "4|..xox...\n",
       "5|..xxooo.\n",
       "6|..xo....\n",
       "7|........\n",
       "8|........"
      ]
     },
     "metadata": {},
     "output_type": "display_data"
    },
    {
     "data": {
      "image/svg+xml": [
       "<svg xmlns=\"http://www.w3.org/2000/svg\" version=\"1.1\" xmlns:xlink=\"http://www.w3.org/1999/xlink\" width=\"215.0\" height=\"215.0\" viewBox=\"0 0 172 172\"><defs><g id=\"black\"><circle cx=\"10\" cy=\"10\" r=\"8.5\" fill=\"black\" /></g><g id=\"white\"><circle cx=\"10\" cy=\"10\" r=\"8.5\" fill=\"white\" /></g></defs><rect fill=\"green\" height=\"161\" width=\"161\" x=\"10\" y=\"10\" /><g stroke=\"black\"><rect width=\"161\" height=\"161\" stroke-width=\"1.5\" fill=\"none\" x=\"10\" y=\"10\" /><line stroke-width=\"1.0\" x1=\"10.5\" x2=\"170.5\" y1=\"30.5\" y2=\"30.5\" /><line stroke-width=\"1.0\" x1=\"10.5\" x2=\"170.5\" y1=\"50.5\" y2=\"50.5\" /><line stroke-width=\"1.0\" x1=\"10.5\" x2=\"170.5\" y1=\"70.5\" y2=\"70.5\" /><line stroke-width=\"1.0\" x1=\"10.5\" x2=\"170.5\" y1=\"90.5\" y2=\"90.5\" /><line stroke-width=\"1.0\" x1=\"10.5\" x2=\"170.5\" y1=\"110.5\" y2=\"110.5\" /><line stroke-width=\"1.0\" x1=\"10.5\" x2=\"170.5\" y1=\"130.5\" y2=\"130.5\" /><line stroke-width=\"1.0\" x1=\"10.5\" x2=\"170.5\" y1=\"150.5\" y2=\"150.5\" /><line stroke-width=\"1.0\" x1=\"30.5\" x2=\"30.5\" y1=\"10.5\" y2=\"170.5\" /><line stroke-width=\"1.0\" x1=\"50.5\" x2=\"50.5\" y1=\"10.5\" y2=\"170.5\" /><line stroke-width=\"1.0\" x1=\"70.5\" x2=\"70.5\" y1=\"10.5\" y2=\"170.5\" /><line stroke-width=\"1.0\" x1=\"90.5\" x2=\"90.5\" y1=\"10.5\" y2=\"170.5\" /><line stroke-width=\"1.0\" x1=\"110.5\" x2=\"110.5\" y1=\"10.5\" y2=\"170.5\" /><line stroke-width=\"1.0\" x1=\"130.5\" x2=\"130.5\" y1=\"10.5\" y2=\"170.5\" /><line stroke-width=\"1.0\" x1=\"150.5\" x2=\"150.5\" y1=\"10.5\" y2=\"170.5\" /></g><g><text font-family=\"serif\" font-size=\"9.5\" text-anchor=\"middle\" x=\"20.5\" y=\"8\">a</text><text font-family=\"serif\" font-size=\"9.5\" text-anchor=\"middle\" x=\"40.5\" y=\"8\">b</text><text font-family=\"serif\" font-size=\"9.5\" text-anchor=\"middle\" x=\"60.5\" y=\"8\">c</text><text font-family=\"serif\" font-size=\"9.5\" text-anchor=\"middle\" x=\"80.5\" y=\"8\">d</text><text font-family=\"serif\" font-size=\"9.5\" text-anchor=\"middle\" x=\"100.5\" y=\"8\">e</text><text font-family=\"serif\" font-size=\"9.5\" text-anchor=\"middle\" x=\"120.5\" y=\"8\">f</text><text font-family=\"serif\" font-size=\"9.5\" text-anchor=\"middle\" x=\"140.5\" y=\"8\">g</text><text font-family=\"serif\" font-size=\"9.5\" text-anchor=\"middle\" x=\"160.5\" y=\"8\">h</text><text font-family=\"serif\" font-size=\"9.5\" x=\"2.5\" y=\"23.5\">1</text><text font-family=\"serif\" font-size=\"9.5\" x=\"2.5\" y=\"43.5\">2</text><text font-family=\"serif\" font-size=\"9.5\" x=\"2.5\" y=\"63.5\">3</text><text font-family=\"serif\" font-size=\"9.5\" x=\"2.5\" y=\"83.5\">4</text><text font-family=\"serif\" font-size=\"9.5\" x=\"2.5\" y=\"103.5\">5</text><text font-family=\"serif\" font-size=\"9.5\" x=\"2.5\" y=\"123.5\">6</text><text font-family=\"serif\" font-size=\"9.5\" x=\"2.5\" y=\"143.5\">7</text><text font-family=\"serif\" font-size=\"9.5\" x=\"2.5\" y=\"163.5\">8</text></g><use xlink:href=\"#white\" x=\"30.5\" y=\"30.5\" /><use xlink:href=\"#white\" x=\"70.5\" y=\"30.5\" /><use xlink:href=\"#white\" x=\"30.5\" y=\"50.5\" /><use xlink:href=\"#white\" x=\"50.5\" y=\"50.5\" /><use xlink:href=\"#white\" x=\"70.5\" y=\"50.5\" /><use xlink:href=\"#black\" x=\"90.5\" y=\"50.5\" /><use xlink:href=\"#black\" x=\"50.5\" y=\"70.5\" /><use xlink:href=\"#white\" x=\"70.5\" y=\"70.5\" /><use xlink:href=\"#black\" x=\"90.5\" y=\"70.5\" /><use xlink:href=\"#black\" x=\"50.5\" y=\"90.5\" /><use xlink:href=\"#black\" x=\"70.5\" y=\"90.5\" /><use xlink:href=\"#white\" x=\"90.5\" y=\"90.5\" /><use xlink:href=\"#white\" x=\"110.5\" y=\"90.5\" /><use xlink:href=\"#white\" x=\"130.5\" y=\"90.5\" /><use xlink:href=\"#black\" x=\"50.5\" y=\"110.5\" /><use xlink:href=\"#white\" x=\"70.5\" y=\"110.5\" /></svg>"
      ],
      "text/plain": [
       " |abcdefgh\n",
       "-+--------\n",
       "1|........\n",
       "2|.o.o....\n",
       "3|.ooox...\n",
       "4|..xox...\n",
       "5|..xxooo.\n",
       "6|..xo....\n",
       "7|........\n",
       "8|........"
      ]
     },
     "metadata": {},
     "output_type": "display_data"
    },
    {
     "data": {
      "image/png": "[encoded data removed]",
      "text/plain": [
       "<Figure size 300x300 with 1 Axes>"
      ]
     },
     "metadata": {},
     "output_type": "display_data"
    },
    {
     "data": {
      "image/svg+xml": [
       "<svg xmlns=\"http://www.w3.org/2000/svg\" version=\"1.1\" xmlns:xlink=\"http://www.w3.org/1999/xlink\" width=\"215.0\" height=\"215.0\" viewBox=\"0 0 172 172\"><defs><g id=\"black\"><circle cx=\"10\" cy=\"10\" r=\"8.5\" fill=\"black\" /></g><g id=\"white\"><circle cx=\"10\" cy=\"10\" r=\"8.5\" fill=\"white\" /></g></defs><rect fill=\"green\" height=\"161\" width=\"161\" x=\"10\" y=\"10\" /><g stroke=\"black\"><rect width=\"161\" height=\"161\" stroke-width=\"1.5\" fill=\"none\" x=\"10\" y=\"10\" /><line stroke-width=\"1.0\" x1=\"10.5\" x2=\"170.5\" y1=\"30.5\" y2=\"30.5\" /><line stroke-width=\"1.0\" x1=\"10.5\" x2=\"170.5\" y1=\"50.5\" y2=\"50.5\" /><line stroke-width=\"1.0\" x1=\"10.5\" x2=\"170.5\" y1=\"70.5\" y2=\"70.5\" /><line stroke-width=\"1.0\" x1=\"10.5\" x2=\"170.5\" y1=\"90.5\" y2=\"90.5\" /><line stroke-width=\"1.0\" x1=\"10.5\" x2=\"170.5\" y1=\"110.5\" y2=\"110.5\" /><line stroke-width=\"1.0\" x1=\"10.5\" x2=\"170.5\" y1=\"130.5\" y2=\"130.5\" /><line stroke-width=\"1.0\" x1=\"10.5\" x2=\"170.5\" y1=\"150.5\" y2=\"150.5\" /><line stroke-width=\"1.0\" x1=\"30.5\" x2=\"30.5\" y1=\"10.5\" y2=\"170.5\" /><line stroke-width=\"1.0\" x1=\"50.5\" x2=\"50.5\" y1=\"10.5\" y2=\"170.5\" /><line stroke-width=\"1.0\" x1=\"70.5\" x2=\"70.5\" y1=\"10.5\" y2=\"170.5\" /><line stroke-width=\"1.0\" x1=\"90.5\" x2=\"90.5\" y1=\"10.5\" y2=\"170.5\" /><line stroke-width=\"1.0\" x1=\"110.5\" x2=\"110.5\" y1=\"10.5\" y2=\"170.5\" /><line stroke-width=\"1.0\" x1=\"130.5\" x2=\"130.5\" y1=\"10.5\" y2=\"170.5\" /><line stroke-width=\"1.0\" x1=\"150.5\" x2=\"150.5\" y1=\"10.5\" y2=\"170.5\" /></g><g><text font-family=\"serif\" font-size=\"9.5\" text-anchor=\"middle\" x=\"20.5\" y=\"8\">a</text><text font-family=\"serif\" font-size=\"9.5\" text-anchor=\"middle\" x=\"40.5\" y=\"8\">b</text><text font-family=\"serif\" font-size=\"9.5\" text-anchor=\"middle\" x=\"60.5\" y=\"8\">c</text><text font-family=\"serif\" font-size=\"9.5\" text-anchor=\"middle\" x=\"80.5\" y=\"8\">d</text><text font-family=\"serif\" font-size=\"9.5\" text-anchor=\"middle\" x=\"100.5\" y=\"8\">e</text><text font-family=\"serif\" font-size=\"9.5\" text-anchor=\"middle\" x=\"120.5\" y=\"8\">f</text><text font-family=\"serif\" font-size=\"9.5\" text-anchor=\"middle\" x=\"140.5\" y=\"8\">g</text><text font-family=\"serif\" font-size=\"9.5\" text-anchor=\"middle\" x=\"160.5\" y=\"8\">h</text><text font-family=\"serif\" font-size=\"9.5\" x=\"2.5\" y=\"23.5\">1</text><text font-family=\"serif\" font-size=\"9.5\" x=\"2.5\" y=\"43.5\">2</text><text font-family=\"serif\" font-size=\"9.5\" x=\"2.5\" y=\"63.5\">3</text><text font-family=\"serif\" font-size=\"9.5\" x=\"2.5\" y=\"83.5\">4</text><text font-family=\"serif\" font-size=\"9.5\" x=\"2.5\" y=\"103.5\">5</text><text font-family=\"serif\" font-size=\"9.5\" x=\"2.5\" y=\"123.5\">6</text><text font-family=\"serif\" font-size=\"9.5\" x=\"2.5\" y=\"143.5\">7</text><text font-family=\"serif\" font-size=\"9.5\" x=\"2.5\" y=\"163.5\">8</text></g><use xlink:href=\"#white\" x=\"30.5\" y=\"30.5\" /><use xlink:href=\"#white\" x=\"70.5\" y=\"30.5\" /><use xlink:href=\"#black\" x=\"90.5\" y=\"30.5\" /><use xlink:href=\"#white\" x=\"30.5\" y=\"50.5\" /><use xlink:href=\"#white\" x=\"50.5\" y=\"50.5\" /><use xlink:href=\"#black\" x=\"70.5\" y=\"50.5\" /><use xlink:href=\"#black\" x=\"90.5\" y=\"50.5\" /><use xlink:href=\"#black\" x=\"50.5\" y=\"70.5\" /><use xlink:href=\"#white\" x=\"70.5\" y=\"70.5\" /><use xlink:href=\"#black\" x=\"90.5\" y=\"70.5\" /><use xlink:href=\"#black\" x=\"50.5\" y=\"90.5\" /><use xlink:href=\"#black\" x=\"70.5\" y=\"90.5\" /><use xlink:href=\"#white\" x=\"90.5\" y=\"90.5\" /><use xlink:href=\"#white\" x=\"110.5\" y=\"90.5\" /><use xlink:href=\"#white\" x=\"130.5\" y=\"90.5\" /><use xlink:href=\"#black\" x=\"50.5\" y=\"110.5\" /><use xlink:href=\"#white\" x=\"70.5\" y=\"110.5\" /></svg>"
      ],
      "text/plain": [
       " |abcdefgh\n",
       "-+--------\n",
       "1|........\n",
       "2|.o.ox...\n",
       "3|.ooxx...\n",
       "4|..xox...\n",
       "5|..xxooo.\n",
       "6|..xo....\n",
       "7|........\n",
       "8|........"
      ]
     },
     "metadata": {},
     "output_type": "display_data"
    },
    {
     "data": {
      "image/svg+xml": [
       "<svg xmlns=\"http://www.w3.org/2000/svg\" version=\"1.1\" xmlns:xlink=\"http://www.w3.org/1999/xlink\" width=\"215.0\" height=\"215.0\" viewBox=\"0 0 172 172\"><defs><g id=\"black\"><circle cx=\"10\" cy=\"10\" r=\"8.5\" fill=\"black\" /></g><g id=\"white\"><circle cx=\"10\" cy=\"10\" r=\"8.5\" fill=\"white\" /></g></defs><rect fill=\"green\" height=\"161\" width=\"161\" x=\"10\" y=\"10\" /><g stroke=\"black\"><rect width=\"161\" height=\"161\" stroke-width=\"1.5\" fill=\"none\" x=\"10\" y=\"10\" /><line stroke-width=\"1.0\" x1=\"10.5\" x2=\"170.5\" y1=\"30.5\" y2=\"30.5\" /><line stroke-width=\"1.0\" x1=\"10.5\" x2=\"170.5\" y1=\"50.5\" y2=\"50.5\" /><line stroke-width=\"1.0\" x1=\"10.5\" x2=\"170.5\" y1=\"70.5\" y2=\"70.5\" /><line stroke-width=\"1.0\" x1=\"10.5\" x2=\"170.5\" y1=\"90.5\" y2=\"90.5\" /><line stroke-width=\"1.0\" x1=\"10.5\" x2=\"170.5\" y1=\"110.5\" y2=\"110.5\" /><line stroke-width=\"1.0\" x1=\"10.5\" x2=\"170.5\" y1=\"130.5\" y2=\"130.5\" /><line stroke-width=\"1.0\" x1=\"10.5\" x2=\"170.5\" y1=\"150.5\" y2=\"150.5\" /><line stroke-width=\"1.0\" x1=\"30.5\" x2=\"30.5\" y1=\"10.5\" y2=\"170.5\" /><line stroke-width=\"1.0\" x1=\"50.5\" x2=\"50.5\" y1=\"10.5\" y2=\"170.5\" /><line stroke-width=\"1.0\" x1=\"70.5\" x2=\"70.5\" y1=\"10.5\" y2=\"170.5\" /><line stroke-width=\"1.0\" x1=\"90.5\" x2=\"90.5\" y1=\"10.5\" y2=\"170.5\" /><line stroke-width=\"1.0\" x1=\"110.5\" x2=\"110.5\" y1=\"10.5\" y2=\"170.5\" /><line stroke-width=\"1.0\" x1=\"130.5\" x2=\"130.5\" y1=\"10.5\" y2=\"170.5\" /><line stroke-width=\"1.0\" x1=\"150.5\" x2=\"150.5\" y1=\"10.5\" y2=\"170.5\" /></g><g><text font-family=\"serif\" font-size=\"9.5\" text-anchor=\"middle\" x=\"20.5\" y=\"8\">a</text><text font-family=\"serif\" font-size=\"9.5\" text-anchor=\"middle\" x=\"40.5\" y=\"8\">b</text><text font-family=\"serif\" font-size=\"9.5\" text-anchor=\"middle\" x=\"60.5\" y=\"8\">c</text><text font-family=\"serif\" font-size=\"9.5\" text-anchor=\"middle\" x=\"80.5\" y=\"8\">d</text><text font-family=\"serif\" font-size=\"9.5\" text-anchor=\"middle\" x=\"100.5\" y=\"8\">e</text><text font-family=\"serif\" font-size=\"9.5\" text-anchor=\"middle\" x=\"120.5\" y=\"8\">f</text><text font-family=\"serif\" font-size=\"9.5\" text-anchor=\"middle\" x=\"140.5\" y=\"8\">g</text><text font-family=\"serif\" font-size=\"9.5\" text-anchor=\"middle\" x=\"160.5\" y=\"8\">h</text><text font-family=\"serif\" font-size=\"9.5\" x=\"2.5\" y=\"23.5\">1</text><text font-family=\"serif\" font-size=\"9.5\" x=\"2.5\" y=\"43.5\">2</text><text font-family=\"serif\" font-size=\"9.5\" x=\"2.5\" y=\"63.5\">3</text><text font-family=\"serif\" font-size=\"9.5\" x=\"2.5\" y=\"83.5\">4</text><text font-family=\"serif\" font-size=\"9.5\" x=\"2.5\" y=\"103.5\">5</text><text font-family=\"serif\" font-size=\"9.5\" x=\"2.5\" y=\"123.5\">6</text><text font-family=\"serif\" font-size=\"9.5\" x=\"2.5\" y=\"143.5\">7</text><text font-family=\"serif\" font-size=\"9.5\" x=\"2.5\" y=\"163.5\">8</text></g><use xlink:href=\"#white\" x=\"90.5\" y=\"10.5\" /><use xlink:href=\"#white\" x=\"30.5\" y=\"30.5\" /><use xlink:href=\"#white\" x=\"70.5\" y=\"30.5\" /><use xlink:href=\"#white\" x=\"90.5\" y=\"30.5\" /><use xlink:href=\"#white\" x=\"30.5\" y=\"50.5\" /><use xlink:href=\"#white\" x=\"50.5\" y=\"50.5\" /><use xlink:href=\"#black\" x=\"70.5\" y=\"50.5\" /><use xlink:href=\"#white\" x=\"90.5\" y=\"50.5\" /><use xlink:href=\"#black\" x=\"50.5\" y=\"70.5\" /><use xlink:href=\"#white\" x=\"70.5\" y=\"70.5\" /><use xlink:href=\"#white\" x=\"90.5\" y=\"70.5\" /><use xlink:href=\"#black\" x=\"50.5\" y=\"90.5\" /><use xlink:href=\"#black\" x=\"70.5\" y=\"90.5\" /><use xlink:href=\"#white\" x=\"90.5\" y=\"90.5\" /><use xlink:href=\"#white\" x=\"110.5\" y=\"90.5\" /><use xlink:href=\"#white\" x=\"130.5\" y=\"90.5\" /><use xlink:href=\"#black\" x=\"50.5\" y=\"110.5\" /><use xlink:href=\"#white\" x=\"70.5\" y=\"110.5\" /></svg>"
      ],
      "text/plain": [
       " |abcdefgh\n",
       "-+--------\n",
       "1|....o...\n",
       "2|.o.oo...\n",
       "3|.ooxo...\n",
       "4|..xoo...\n",
       "5|..xxooo.\n",
       "6|..xo....\n",
       "7|........\n",
       "8|........"
      ]
     },
     "metadata": {},
     "output_type": "display_data"
    },
    {
     "data": {
      "image/png": "[encoded data removed]",
      "text/plain": [
       "<Figure size 300x300 with 1 Axes>"
      ]
     },
     "metadata": {},
     "output_type": "display_data"
    },
    {
     "data": {
      "image/svg+xml": [
       "<svg xmlns=\"http://www.w3.org/2000/svg\" version=\"1.1\" xmlns:xlink=\"http://www.w3.org/1999/xlink\" width=\"215.0\" height=\"215.0\" viewBox=\"0 0 172 172\"><defs><g id=\"black\"><circle cx=\"10\" cy=\"10\" r=\"8.5\" fill=\"black\" /></g><g id=\"white\"><circle cx=\"10\" cy=\"10\" r=\"8.5\" fill=\"white\" /></g></defs><rect fill=\"green\" height=\"161\" width=\"161\" x=\"10\" y=\"10\" /><g stroke=\"black\"><rect width=\"161\" height=\"161\" stroke-width=\"1.5\" fill=\"none\" x=\"10\" y=\"10\" /><line stroke-width=\"1.0\" x1=\"10.5\" x2=\"170.5\" y1=\"30.5\" y2=\"30.5\" /><line stroke-width=\"1.0\" x1=\"10.5\" x2=\"170.5\" y1=\"50.5\" y2=\"50.5\" /><line stroke-width=\"1.0\" x1=\"10.5\" x2=\"170.5\" y1=\"70.5\" y2=\"70.5\" /><line stroke-width=\"1.0\" x1=\"10.5\" x2=\"170.5\" y1=\"90.5\" y2=\"90.5\" /><line stroke-width=\"1.0\" x1=\"10.5\" x2=\"170.5\" y1=\"110.5\" y2=\"110.5\" /><line stroke-width=\"1.0\" x1=\"10.5\" x2=\"170.5\" y1=\"130.5\" y2=\"130.5\" /><line stroke-width=\"1.0\" x1=\"10.5\" x2=\"170.5\" y1=\"150.5\" y2=\"150.5\" /><line stroke-width=\"1.0\" x1=\"30.5\" x2=\"30.5\" y1=\"10.5\" y2=\"170.5\" /><line stroke-width=\"1.0\" x1=\"50.5\" x2=\"50.5\" y1=\"10.5\" y2=\"170.5\" /><line stroke-width=\"1.0\" x1=\"70.5\" x2=\"70.5\" y1=\"10.5\" y2=\"170.5\" /><line stroke-width=\"1.0\" x1=\"90.5\" x2=\"90.5\" y1=\"10.5\" y2=\"170.5\" /><line stroke-width=\"1.0\" x1=\"110.5\" x2=\"110.5\" y1=\"10.5\" y2=\"170.5\" /><line stroke-width=\"1.0\" x1=\"130.5\" x2=\"130.5\" y1=\"10.5\" y2=\"170.5\" /><line stroke-width=\"1.0\" x1=\"150.5\" x2=\"150.5\" y1=\"10.5\" y2=\"170.5\" /></g><g><text font-family=\"serif\" font-size=\"9.5\" text-anchor=\"middle\" x=\"20.5\" y=\"8\">a</text><text font-family=\"serif\" font-size=\"9.5\" text-anchor=\"middle\" x=\"40.5\" y=\"8\">b</text><text font-family=\"serif\" font-size=\"9.5\" text-anchor=\"middle\" x=\"60.5\" y=\"8\">c</text><text font-family=\"serif\" font-size=\"9.5\" text-anchor=\"middle\" x=\"80.5\" y=\"8\">d</text><text font-family=\"serif\" font-size=\"9.5\" text-anchor=\"middle\" x=\"100.5\" y=\"8\">e</text><text font-family=\"serif\" font-size=\"9.5\" text-anchor=\"middle\" x=\"120.5\" y=\"8\">f</text><text font-family=\"serif\" font-size=\"9.5\" text-anchor=\"middle\" x=\"140.5\" y=\"8\">g</text><text font-family=\"serif\" font-size=\"9.5\" text-anchor=\"middle\" x=\"160.5\" y=\"8\">h</text><text font-family=\"serif\" font-size=\"9.5\" x=\"2.5\" y=\"23.5\">1</text><text font-family=\"serif\" font-size=\"9.5\" x=\"2.5\" y=\"43.5\">2</text><text font-family=\"serif\" font-size=\"9.5\" x=\"2.5\" y=\"63.5\">3</text><text font-family=\"serif\" font-size=\"9.5\" x=\"2.5\" y=\"83.5\">4</text><text font-family=\"serif\" font-size=\"9.5\" x=\"2.5\" y=\"103.5\">5</text><text font-family=\"serif\" font-size=\"9.5\" x=\"2.5\" y=\"123.5\">6</text><text font-family=\"serif\" font-size=\"9.5\" x=\"2.5\" y=\"143.5\">7</text><text font-family=\"serif\" font-size=\"9.5\" x=\"2.5\" y=\"163.5\">8</text></g><use xlink:href=\"#white\" x=\"90.5\" y=\"10.5\" /><use xlink:href=\"#white\" x=\"30.5\" y=\"30.5\" /><use xlink:href=\"#black\" x=\"50.5\" y=\"30.5\" /><use xlink:href=\"#white\" x=\"70.5\" y=\"30.5\" /><use xlink:href=\"#white\" x=\"90.5\" y=\"30.5\" /><use xlink:href=\"#white\" x=\"30.5\" y=\"50.5\" /><use xlink:href=\"#black\" x=\"50.5\" y=\"50.5\" /><use xlink:href=\"#black\" x=\"70.5\" y=\"50.5\" /><use xlink:href=\"#white\" x=\"90.5\" y=\"50.5\" /><use xlink:href=\"#black\" x=\"50.5\" y=\"70.5\" /><use xlink:href=\"#white\" x=\"70.5\" y=\"70.5\" /><use xlink:href=\"#white\" x=\"90.5\" y=\"70.5\" /><use xlink:href=\"#black\" x=\"50.5\" y=\"90.5\" /><use xlink:href=\"#black\" x=\"70.5\" y=\"90.5\" /><use xlink:href=\"#white\" x=\"90.5\" y=\"90.5\" /><use xlink:href=\"#white\" x=\"110.5\" y=\"90.5\" /><use xlink:href=\"#white\" x=\"130.5\" y=\"90.5\" /><use xlink:href=\"#black\" x=\"50.5\" y=\"110.5\" /><use xlink:href=\"#white\" x=\"70.5\" y=\"110.5\" /></svg>"
      ],
      "text/plain": [
       " |abcdefgh\n",
       "-+--------\n",
       "1|....o...\n",
       "2|.oxoo...\n",
       "3|.oxxo...\n",
       "4|..xoo...\n",
       "5|..xxooo.\n",
       "6|..xo....\n",
       "7|........\n",
       "8|........"
      ]
     },
     "metadata": {},
     "output_type": "display_data"
    },
    {
     "data": {
      "image/svg+xml": [
       "<svg xmlns=\"http://www.w3.org/2000/svg\" version=\"1.1\" xmlns:xlink=\"http://www.w3.org/1999/xlink\" width=\"215.0\" height=\"215.0\" viewBox=\"0 0 172 172\"><defs><g id=\"black\"><circle cx=\"10\" cy=\"10\" r=\"8.5\" fill=\"black\" /></g><g id=\"white\"><circle cx=\"10\" cy=\"10\" r=\"8.5\" fill=\"white\" /></g></defs><rect fill=\"green\" height=\"161\" width=\"161\" x=\"10\" y=\"10\" /><g stroke=\"black\"><rect width=\"161\" height=\"161\" stroke-width=\"1.5\" fill=\"none\" x=\"10\" y=\"10\" /><line stroke-width=\"1.0\" x1=\"10.5\" x2=\"170.5\" y1=\"30.5\" y2=\"30.5\" /><line stroke-width=\"1.0\" x1=\"10.5\" x2=\"170.5\" y1=\"50.5\" y2=\"50.5\" /><line stroke-width=\"1.0\" x1=\"10.5\" x2=\"170.5\" y1=\"70.5\" y2=\"70.5\" /><line stroke-width=\"1.0\" x1=\"10.5\" x2=\"170.5\" y1=\"90.5\" y2=\"90.5\" /><line stroke-width=\"1.0\" x1=\"10.5\" x2=\"170.5\" y1=\"110.5\" y2=\"110.5\" /><line stroke-width=\"1.0\" x1=\"10.5\" x2=\"170.5\" y1=\"130.5\" y2=\"130.5\" /><line stroke-width=\"1.0\" x1=\"10.5\" x2=\"170.5\" y1=\"150.5\" y2=\"150.5\" /><line stroke-width=\"1.0\" x1=\"30.5\" x2=\"30.5\" y1=\"10.5\" y2=\"170.5\" /><line stroke-width=\"1.0\" x1=\"50.5\" x2=\"50.5\" y1=\"10.5\" y2=\"170.5\" /><line stroke-width=\"1.0\" x1=\"70.5\" x2=\"70.5\" y1=\"10.5\" y2=\"170.5\" /><line stroke-width=\"1.0\" x1=\"90.5\" x2=\"90.5\" y1=\"10.5\" y2=\"170.5\" /><line stroke-width=\"1.0\" x1=\"110.5\" x2=\"110.5\" y1=\"10.5\" y2=\"170.5\" /><line stroke-width=\"1.0\" x1=\"130.5\" x2=\"130.5\" y1=\"10.5\" y2=\"170.5\" /><line stroke-width=\"1.0\" x1=\"150.5\" x2=\"150.5\" y1=\"10.5\" y2=\"170.5\" /></g><g><text font-family=\"serif\" font-size=\"9.5\" text-anchor=\"middle\" x=\"20.5\" y=\"8\">a</text><text font-family=\"serif\" font-size=\"9.5\" text-anchor=\"middle\" x=\"40.5\" y=\"8\">b</text><text font-family=\"serif\" font-size=\"9.5\" text-anchor=\"middle\" x=\"60.5\" y=\"8\">c</text><text font-family=\"serif\" font-size=\"9.5\" text-anchor=\"middle\" x=\"80.5\" y=\"8\">d</text><text font-family=\"serif\" font-size=\"9.5\" text-anchor=\"middle\" x=\"100.5\" y=\"8\">e</text><text font-family=\"serif\" font-size=\"9.5\" text-anchor=\"middle\" x=\"120.5\" y=\"8\">f</text><text font-family=\"serif\" font-size=\"9.5\" text-anchor=\"middle\" x=\"140.5\" y=\"8\">g</text><text font-family=\"serif\" font-size=\"9.5\" text-anchor=\"middle\" x=\"160.5\" y=\"8\">h</text><text font-family=\"serif\" font-size=\"9.5\" x=\"2.5\" y=\"23.5\">1</text><text font-family=\"serif\" font-size=\"9.5\" x=\"2.5\" y=\"43.5\">2</text><text font-family=\"serif\" font-size=\"9.5\" x=\"2.5\" y=\"63.5\">3</text><text font-family=\"serif\" font-size=\"9.5\" x=\"2.5\" y=\"83.5\">4</text><text font-family=\"serif\" font-size=\"9.5\" x=\"2.5\" y=\"103.5\">5</text><text font-family=\"serif\" font-size=\"9.5\" x=\"2.5\" y=\"123.5\">6</text><text font-family=\"serif\" font-size=\"9.5\" x=\"2.5\" y=\"143.5\">7</text><text font-family=\"serif\" font-size=\"9.5\" x=\"2.5\" y=\"163.5\">8</text></g><use xlink:href=\"#white\" x=\"90.5\" y=\"10.5\" /><use xlink:href=\"#white\" x=\"30.5\" y=\"30.5\" /><use xlink:href=\"#black\" x=\"50.5\" y=\"30.5\" /><use xlink:href=\"#white\" x=\"70.5\" y=\"30.5\" /><use xlink:href=\"#white\" x=\"90.5\" y=\"30.5\" /><use xlink:href=\"#white\" x=\"30.5\" y=\"50.5\" /><use xlink:href=\"#black\" x=\"50.5\" y=\"50.5\" /><use xlink:href=\"#black\" x=\"70.5\" y=\"50.5\" /><use xlink:href=\"#white\" x=\"90.5\" y=\"50.5\" /><use xlink:href=\"#black\" x=\"50.5\" y=\"70.5\" /><use xlink:href=\"#white\" x=\"70.5\" y=\"70.5\" /><use xlink:href=\"#white\" x=\"90.5\" y=\"70.5\" /><use xlink:href=\"#white\" x=\"50.5\" y=\"90.5\" /><use xlink:href=\"#black\" x=\"70.5\" y=\"90.5\" /><use xlink:href=\"#white\" x=\"90.5\" y=\"90.5\" /><use xlink:href=\"#white\" x=\"110.5\" y=\"90.5\" /><use xlink:href=\"#white\" x=\"130.5\" y=\"90.5\" /><use xlink:href=\"#white\" x=\"30.5\" y=\"110.5\" /><use xlink:href=\"#white\" x=\"50.5\" y=\"110.5\" /><use xlink:href=\"#white\" x=\"70.5\" y=\"110.5\" /></svg>"
      ],
      "text/plain": [
       " |abcdefgh\n",
       "-+--------\n",
       "1|....o...\n",
       "2|.oxoo...\n",
       "3|.oxxo...\n",
       "4|..xoo...\n",
       "5|..oxooo.\n",
       "6|.ooo....\n",
       "7|........\n",
       "8|........"
      ]
     },
     "metadata": {},
     "output_type": "display_data"
    },
    {
     "data": {
      "image/png": "[encoded data removed]",
      "text/plain": [
       "<Figure size 300x300 with 1 Axes>"
      ]
     },
     "metadata": {},
     "output_type": "display_data"
    },
    {
     "data": {
      "image/svg+xml": [
       "<svg xmlns=\"http://www.w3.org/2000/svg\" version=\"1.1\" xmlns:xlink=\"http://www.w3.org/1999/xlink\" width=\"215.0\" height=\"215.0\" viewBox=\"0 0 172 172\"><defs><g id=\"black\"><circle cx=\"10\" cy=\"10\" r=\"8.5\" fill=\"black\" /></g><g id=\"white\"><circle cx=\"10\" cy=\"10\" r=\"8.5\" fill=\"white\" /></g></defs><rect fill=\"green\" height=\"161\" width=\"161\" x=\"10\" y=\"10\" /><g stroke=\"black\"><rect width=\"161\" height=\"161\" stroke-width=\"1.5\" fill=\"none\" x=\"10\" y=\"10\" /><line stroke-width=\"1.0\" x1=\"10.5\" x2=\"170.5\" y1=\"30.5\" y2=\"30.5\" /><line stroke-width=\"1.0\" x1=\"10.5\" x2=\"170.5\" y1=\"50.5\" y2=\"50.5\" /><line stroke-width=\"1.0\" x1=\"10.5\" x2=\"170.5\" y1=\"70.5\" y2=\"70.5\" /><line stroke-width=\"1.0\" x1=\"10.5\" x2=\"170.5\" y1=\"90.5\" y2=\"90.5\" /><line stroke-width=\"1.0\" x1=\"10.5\" x2=\"170.5\" y1=\"110.5\" y2=\"110.5\" /><line stroke-width=\"1.0\" x1=\"10.5\" x2=\"170.5\" y1=\"130.5\" y2=\"130.5\" /><line stroke-width=\"1.0\" x1=\"10.5\" x2=\"170.5\" y1=\"150.5\" y2=\"150.5\" /><line stroke-width=\"1.0\" x1=\"30.5\" x2=\"30.5\" y1=\"10.5\" y2=\"170.5\" /><line stroke-width=\"1.0\" x1=\"50.5\" x2=\"50.5\" y1=\"10.5\" y2=\"170.5\" /><line stroke-width=\"1.0\" x1=\"70.5\" x2=\"70.5\" y1=\"10.5\" y2=\"170.5\" /><line stroke-width=\"1.0\" x1=\"90.5\" x2=\"90.5\" y1=\"10.5\" y2=\"170.5\" /><line stroke-width=\"1.0\" x1=\"110.5\" x2=\"110.5\" y1=\"10.5\" y2=\"170.5\" /><line stroke-width=\"1.0\" x1=\"130.5\" x2=\"130.5\" y1=\"10.5\" y2=\"170.5\" /><line stroke-width=\"1.0\" x1=\"150.5\" x2=\"150.5\" y1=\"10.5\" y2=\"170.5\" /></g><g><text font-family=\"serif\" font-size=\"9.5\" text-anchor=\"middle\" x=\"20.5\" y=\"8\">a</text><text font-family=\"serif\" font-size=\"9.5\" text-anchor=\"middle\" x=\"40.5\" y=\"8\">b</text><text font-family=\"serif\" font-size=\"9.5\" text-anchor=\"middle\" x=\"60.5\" y=\"8\">c</text><text font-family=\"serif\" font-size=\"9.5\" text-anchor=\"middle\" x=\"80.5\" y=\"8\">d</text><text font-family=\"serif\" font-size=\"9.5\" text-anchor=\"middle\" x=\"100.5\" y=\"8\">e</text><text font-family=\"serif\" font-size=\"9.5\" text-anchor=\"middle\" x=\"120.5\" y=\"8\">f</text><text font-family=\"serif\" font-size=\"9.5\" text-anchor=\"middle\" x=\"140.5\" y=\"8\">g</text><text font-family=\"serif\" font-size=\"9.5\" text-anchor=\"middle\" x=\"160.5\" y=\"8\">h</text><text font-family=\"serif\" font-size=\"9.5\" x=\"2.5\" y=\"23.5\">1</text><text font-family=\"serif\" font-size=\"9.5\" x=\"2.5\" y=\"43.5\">2</text><text font-family=\"serif\" font-size=\"9.5\" x=\"2.5\" y=\"63.5\">3</text><text font-family=\"serif\" font-size=\"9.5\" x=\"2.5\" y=\"83.5\">4</text><text font-family=\"serif\" font-size=\"9.5\" x=\"2.5\" y=\"103.5\">5</text><text font-family=\"serif\" font-size=\"9.5\" x=\"2.5\" y=\"123.5\">6</text><text font-family=\"serif\" font-size=\"9.5\" x=\"2.5\" y=\"143.5\">7</text><text font-family=\"serif\" font-size=\"9.5\" x=\"2.5\" y=\"163.5\">8</text></g><use xlink:href=\"#black\" x=\"10.5\" y=\"10.5\" /><use xlink:href=\"#white\" x=\"90.5\" y=\"10.5\" /><use xlink:href=\"#black\" x=\"30.5\" y=\"30.5\" /><use xlink:href=\"#black\" x=\"50.5\" y=\"30.5\" /><use xlink:href=\"#white\" x=\"70.5\" y=\"30.5\" /><use xlink:href=\"#white\" x=\"90.5\" y=\"30.5\" /><use xlink:href=\"#white\" x=\"30.5\" y=\"50.5\" /><use xlink:href=\"#black\" x=\"50.5\" y=\"50.5\" /><use xlink:href=\"#black\" x=\"70.5\" y=\"50.5\" /><use xlink:href=\"#white\" x=\"90.5\" y=\"50.5\" /><use xlink:href=\"#black\" x=\"50.5\" y=\"70.5\" /><use xlink:href=\"#white\" x=\"70.5\" y=\"70.5\" /><use xlink:href=\"#white\" x=\"90.5\" y=\"70.5\" /><use xlink:href=\"#white\" x=\"50.5\" y=\"90.5\" /><use xlink:href=\"#black\" x=\"70.5\" y=\"90.5\" /><use xlink:href=\"#white\" x=\"90.5\" y=\"90.5\" /><use xlink:href=\"#white\" x=\"110.5\" y=\"90.5\" /><use xlink:href=\"#white\" x=\"130.5\" y=\"90.5\" /><use xlink:href=\"#white\" x=\"30.5\" y=\"110.5\" /><use xlink:href=\"#white\" x=\"50.5\" y=\"110.5\" /><use xlink:href=\"#white\" x=\"70.5\" y=\"110.5\" /></svg>"
      ],
      "text/plain": [
       " |abcdefgh\n",
       "-+--------\n",
       "1|x...o...\n",
       "2|.xxoo...\n",
       "3|.oxxo...\n",
       "4|..xoo...\n",
       "5|..oxooo.\n",
       "6|.ooo....\n",
       "7|........\n",
       "8|........"
      ]
     },
     "metadata": {},
     "output_type": "display_data"
    },
    {
     "data": {
      "image/svg+xml": [
       "<svg xmlns=\"http://www.w3.org/2000/svg\" version=\"1.1\" xmlns:xlink=\"http://www.w3.org/1999/xlink\" width=\"215.0\" height=\"215.0\" viewBox=\"0 0 172 172\"><defs><g id=\"black\"><circle cx=\"10\" cy=\"10\" r=\"8.5\" fill=\"black\" /></g><g id=\"white\"><circle cx=\"10\" cy=\"10\" r=\"8.5\" fill=\"white\" /></g></defs><rect fill=\"green\" height=\"161\" width=\"161\" x=\"10\" y=\"10\" /><g stroke=\"black\"><rect width=\"161\" height=\"161\" stroke-width=\"1.5\" fill=\"none\" x=\"10\" y=\"10\" /><line stroke-width=\"1.0\" x1=\"10.5\" x2=\"170.5\" y1=\"30.5\" y2=\"30.5\" /><line stroke-width=\"1.0\" x1=\"10.5\" x2=\"170.5\" y1=\"50.5\" y2=\"50.5\" /><line stroke-width=\"1.0\" x1=\"10.5\" x2=\"170.5\" y1=\"70.5\" y2=\"70.5\" /><line stroke-width=\"1.0\" x1=\"10.5\" x2=\"170.5\" y1=\"90.5\" y2=\"90.5\" /><line stroke-width=\"1.0\" x1=\"10.5\" x2=\"170.5\" y1=\"110.5\" y2=\"110.5\" /><line stroke-width=\"1.0\" x1=\"10.5\" x2=\"170.5\" y1=\"130.5\" y2=\"130.5\" /><line stroke-width=\"1.0\" x1=\"10.5\" x2=\"170.5\" y1=\"150.5\" y2=\"150.5\" /><line stroke-width=\"1.0\" x1=\"30.5\" x2=\"30.5\" y1=\"10.5\" y2=\"170.5\" /><line stroke-width=\"1.0\" x1=\"50.5\" x2=\"50.5\" y1=\"10.5\" y2=\"170.5\" /><line stroke-width=\"1.0\" x1=\"70.5\" x2=\"70.5\" y1=\"10.5\" y2=\"170.5\" /><line stroke-width=\"1.0\" x1=\"90.5\" x2=\"90.5\" y1=\"10.5\" y2=\"170.5\" /><line stroke-width=\"1.0\" x1=\"110.5\" x2=\"110.5\" y1=\"10.5\" y2=\"170.5\" /><line stroke-width=\"1.0\" x1=\"130.5\" x2=\"130.5\" y1=\"10.5\" y2=\"170.5\" /><line stroke-width=\"1.0\" x1=\"150.5\" x2=\"150.5\" y1=\"10.5\" y2=\"170.5\" /></g><g><text font-family=\"serif\" font-size=\"9.5\" text-anchor=\"middle\" x=\"20.5\" y=\"8\">a</text><text font-family=\"serif\" font-size=\"9.5\" text-anchor=\"middle\" x=\"40.5\" y=\"8\">b</text><text font-family=\"serif\" font-size=\"9.5\" text-anchor=\"middle\" x=\"60.5\" y=\"8\">c</text><text font-family=\"serif\" font-size=\"9.5\" text-anchor=\"middle\" x=\"80.5\" y=\"8\">d</text><text font-family=\"serif\" font-size=\"9.5\" text-anchor=\"middle\" x=\"100.5\" y=\"8\">e</text><text font-family=\"serif\" font-size=\"9.5\" text-anchor=\"middle\" x=\"120.5\" y=\"8\">f</text><text font-family=\"serif\" font-size=\"9.5\" text-anchor=\"middle\" x=\"140.5\" y=\"8\">g</text><text font-family=\"serif\" font-size=\"9.5\" text-anchor=\"middle\" x=\"160.5\" y=\"8\">h</text><text font-family=\"serif\" font-size=\"9.5\" x=\"2.5\" y=\"23.5\">1</text><text font-family=\"serif\" font-size=\"9.5\" x=\"2.5\" y=\"43.5\">2</text><text font-family=\"serif\" font-size=\"9.5\" x=\"2.5\" y=\"63.5\">3</text><text font-family=\"serif\" font-size=\"9.5\" x=\"2.5\" y=\"83.5\">4</text><text font-family=\"serif\" font-size=\"9.5\" x=\"2.5\" y=\"103.5\">5</text><text font-family=\"serif\" font-size=\"9.5\" x=\"2.5\" y=\"123.5\">6</text><text font-family=\"serif\" font-size=\"9.5\" x=\"2.5\" y=\"143.5\">7</text><text font-family=\"serif\" font-size=\"9.5\" x=\"2.5\" y=\"163.5\">8</text></g><use xlink:href=\"#black\" x=\"10.5\" y=\"10.5\" /><use xlink:href=\"#white\" x=\"90.5\" y=\"10.5\" /><use xlink:href=\"#black\" x=\"30.5\" y=\"30.5\" /><use xlink:href=\"#black\" x=\"50.5\" y=\"30.5\" /><use xlink:href=\"#white\" x=\"70.5\" y=\"30.5\" /><use xlink:href=\"#white\" x=\"90.5\" y=\"30.5\" /><use xlink:href=\"#white\" x=\"30.5\" y=\"50.5\" /><use xlink:href=\"#black\" x=\"50.5\" y=\"50.5\" /><use xlink:href=\"#white\" x=\"70.5\" y=\"50.5\" /><use xlink:href=\"#white\" x=\"90.5\" y=\"50.5\" /><use xlink:href=\"#white\" x=\"50.5\" y=\"70.5\" /><use xlink:href=\"#white\" x=\"70.5\" y=\"70.5\" /><use xlink:href=\"#white\" x=\"90.5\" y=\"70.5\" /><use xlink:href=\"#white\" x=\"30.5\" y=\"90.5\" /><use xlink:href=\"#white\" x=\"50.5\" y=\"90.5\" /><use xlink:href=\"#black\" x=\"70.5\" y=\"90.5\" /><use xlink:href=\"#white\" x=\"90.5\" y=\"90.5\" /><use xlink:href=\"#white\" x=\"110.5\" y=\"90.5\" /><use xlink:href=\"#white\" x=\"130.5\" y=\"90.5\" /><use xlink:href=\"#white\" x=\"30.5\" y=\"110.5\" /><use xlink:href=\"#white\" x=\"50.5\" y=\"110.5\" /><use xlink:href=\"#white\" x=\"70.5\" y=\"110.5\" /></svg>"
      ],
      "text/plain": [
       " |abcdefgh\n",
       "-+--------\n",
       "1|x...o...\n",
       "2|.xxoo...\n",
       "3|.oxoo...\n",
       "4|..ooo...\n",
       "5|.ooxooo.\n",
       "6|.ooo....\n",
       "7|........\n",
       "8|........"
      ]
     },
     "metadata": {},
     "output_type": "display_data"
    },
    {
     "data": {
      "image/png": "[encoded data removed]",
      "text/plain": [
       "<Figure size 300x300 with 1 Axes>"
      ]
     },
     "metadata": {},
     "output_type": "display_data"
    },
    {
     "data": {
      "image/svg+xml": [
       "<svg xmlns=\"http://www.w3.org/2000/svg\" version=\"1.1\" xmlns:xlink=\"http://www.w3.org/1999/xlink\" width=\"215.0\" height=\"215.0\" viewBox=\"0 0 172 172\"><defs><g id=\"black\"><circle cx=\"10\" cy=\"10\" r=\"8.5\" fill=\"black\" /></g><g id=\"white\"><circle cx=\"10\" cy=\"10\" r=\"8.5\" fill=\"white\" /></g></defs><rect fill=\"green\" height=\"161\" width=\"161\" x=\"10\" y=\"10\" /><g stroke=\"black\"><rect width=\"161\" height=\"161\" stroke-width=\"1.5\" fill=\"none\" x=\"10\" y=\"10\" /><line stroke-width=\"1.0\" x1=\"10.5\" x2=\"170.5\" y1=\"30.5\" y2=\"30.5\" /><line stroke-width=\"1.0\" x1=\"10.5\" x2=\"170.5\" y1=\"50.5\" y2=\"50.5\" /><line stroke-width=\"1.0\" x1=\"10.5\" x2=\"170.5\" y1=\"70.5\" y2=\"70.5\" /><line stroke-width=\"1.0\" x1=\"10.5\" x2=\"170.5\" y1=\"90.5\" y2=\"90.5\" /><line stroke-width=\"1.0\" x1=\"10.5\" x2=\"170.5\" y1=\"110.5\" y2=\"110.5\" /><line stroke-width=\"1.0\" x1=\"10.5\" x2=\"170.5\" y1=\"130.5\" y2=\"130.5\" /><line stroke-width=\"1.0\" x1=\"10.5\" x2=\"170.5\" y1=\"150.5\" y2=\"150.5\" /><line stroke-width=\"1.0\" x1=\"30.5\" x2=\"30.5\" y1=\"10.5\" y2=\"170.5\" /><line stroke-width=\"1.0\" x1=\"50.5\" x2=\"50.5\" y1=\"10.5\" y2=\"170.5\" /><line stroke-width=\"1.0\" x1=\"70.5\" x2=\"70.5\" y1=\"10.5\" y2=\"170.5\" /><line stroke-width=\"1.0\" x1=\"90.5\" x2=\"90.5\" y1=\"10.5\" y2=\"170.5\" /><line stroke-width=\"1.0\" x1=\"110.5\" x2=\"110.5\" y1=\"10.5\" y2=\"170.5\" /><line stroke-width=\"1.0\" x1=\"130.5\" x2=\"130.5\" y1=\"10.5\" y2=\"170.5\" /><line stroke-width=\"1.0\" x1=\"150.5\" x2=\"150.5\" y1=\"10.5\" y2=\"170.5\" /></g><g><text font-family=\"serif\" font-size=\"9.5\" text-anchor=\"middle\" x=\"20.5\" y=\"8\">a</text><text font-family=\"serif\" font-size=\"9.5\" text-anchor=\"middle\" x=\"40.5\" y=\"8\">b</text><text font-family=\"serif\" font-size=\"9.5\" text-anchor=\"middle\" x=\"60.5\" y=\"8\">c</text><text font-family=\"serif\" font-size=\"9.5\" text-anchor=\"middle\" x=\"80.5\" y=\"8\">d</text><text font-family=\"serif\" font-size=\"9.5\" text-anchor=\"middle\" x=\"100.5\" y=\"8\">e</text><text font-family=\"serif\" font-size=\"9.5\" text-anchor=\"middle\" x=\"120.5\" y=\"8\">f</text><text font-family=\"serif\" font-size=\"9.5\" text-anchor=\"middle\" x=\"140.5\" y=\"8\">g</text><text font-family=\"serif\" font-size=\"9.5\" text-anchor=\"middle\" x=\"160.5\" y=\"8\">h</text><text font-family=\"serif\" font-size=\"9.5\" x=\"2.5\" y=\"23.5\">1</text><text font-family=\"serif\" font-size=\"9.5\" x=\"2.5\" y=\"43.5\">2</text><text font-family=\"serif\" font-size=\"9.5\" x=\"2.5\" y=\"63.5\">3</text><text font-family=\"serif\" font-size=\"9.5\" x=\"2.5\" y=\"83.5\">4</text><text font-family=\"serif\" font-size=\"9.5\" x=\"2.5\" y=\"103.5\">5</text><text font-family=\"serif\" font-size=\"9.5\" x=\"2.5\" y=\"123.5\">6</text><text font-family=\"serif\" font-size=\"9.5\" x=\"2.5\" y=\"143.5\">7</text><text font-family=\"serif\" font-size=\"9.5\" x=\"2.5\" y=\"163.5\">8</text></g><use xlink:href=\"#black\" x=\"10.5\" y=\"10.5\" /><use xlink:href=\"#black\" x=\"70.5\" y=\"10.5\" /><use xlink:href=\"#white\" x=\"90.5\" y=\"10.5\" /><use xlink:href=\"#black\" x=\"30.5\" y=\"30.5\" /><use xlink:href=\"#black\" x=\"50.5\" y=\"30.5\" /><use xlink:href=\"#black\" x=\"70.5\" y=\"30.5\" /><use xlink:href=\"#white\" x=\"90.5\" y=\"30.5\" /><use xlink:href=\"#white\" x=\"30.5\" y=\"50.5\" /><use xlink:href=\"#black\" x=\"50.5\" y=\"50.5\" /><use xlink:href=\"#black\" x=\"70.5\" y=\"50.5\" /><use xlink:href=\"#white\" x=\"90.5\" y=\"50.5\" /><use xlink:href=\"#white\" x=\"50.5\" y=\"70.5\" /><use xlink:href=\"#black\" x=\"70.5\" y=\"70.5\" /><use xlink:href=\"#white\" x=\"90.5\" y=\"70.5\" /><use xlink:href=\"#white\" x=\"30.5\" y=\"90.5\" /><use xlink:href=\"#white\" x=\"50.5\" y=\"90.5\" /><use xlink:href=\"#black\" x=\"70.5\" y=\"90.5\" /><use xlink:href=\"#white\" x=\"90.5\" y=\"90.5\" /><use xlink:href=\"#white\" x=\"110.5\" y=\"90.5\" /><use xlink:href=\"#white\" x=\"130.5\" y=\"90.5\" /><use xlink:href=\"#white\" x=\"30.5\" y=\"110.5\" /><use xlink:href=\"#white\" x=\"50.5\" y=\"110.5\" /><use xlink:href=\"#white\" x=\"70.5\" y=\"110.5\" /></svg>"
      ],
      "text/plain": [
       " |abcdefgh\n",
       "-+--------\n",
       "1|x..xo...\n",
       "2|.xxxo...\n",
       "3|.oxxo...\n",
       "4|..oxo...\n",
       "5|.ooxooo.\n",
       "6|.ooo....\n",
       "7|........\n",
       "8|........"
      ]
     },
     "metadata": {},
     "output_type": "display_data"
    },
    {
     "data": {
      "image/svg+xml": [
       "<svg xmlns=\"http://www.w3.org/2000/svg\" version=\"1.1\" xmlns:xlink=\"http://www.w3.org/1999/xlink\" width=\"215.0\" height=\"215.0\" viewBox=\"0 0 172 172\"><defs><g id=\"black\"><circle cx=\"10\" cy=\"10\" r=\"8.5\" fill=\"black\" /></g><g id=\"white\"><circle cx=\"10\" cy=\"10\" r=\"8.5\" fill=\"white\" /></g></defs><rect fill=\"green\" height=\"161\" width=\"161\" x=\"10\" y=\"10\" /><g stroke=\"black\"><rect width=\"161\" height=\"161\" stroke-width=\"1.5\" fill=\"none\" x=\"10\" y=\"10\" /><line stroke-width=\"1.0\" x1=\"10.5\" x2=\"170.5\" y1=\"30.5\" y2=\"30.5\" /><line stroke-width=\"1.0\" x1=\"10.5\" x2=\"170.5\" y1=\"50.5\" y2=\"50.5\" /><line stroke-width=\"1.0\" x1=\"10.5\" x2=\"170.5\" y1=\"70.5\" y2=\"70.5\" /><line stroke-width=\"1.0\" x1=\"10.5\" x2=\"170.5\" y1=\"90.5\" y2=\"90.5\" /><line stroke-width=\"1.0\" x1=\"10.5\" x2=\"170.5\" y1=\"110.5\" y2=\"110.5\" /><line stroke-width=\"1.0\" x1=\"10.5\" x2=\"170.5\" y1=\"130.5\" y2=\"130.5\" /><line stroke-width=\"1.0\" x1=\"10.5\" x2=\"170.5\" y1=\"150.5\" y2=\"150.5\" /><line stroke-width=\"1.0\" x1=\"30.5\" x2=\"30.5\" y1=\"10.5\" y2=\"170.5\" /><line stroke-width=\"1.0\" x1=\"50.5\" x2=\"50.5\" y1=\"10.5\" y2=\"170.5\" /><line stroke-width=\"1.0\" x1=\"70.5\" x2=\"70.5\" y1=\"10.5\" y2=\"170.5\" /><line stroke-width=\"1.0\" x1=\"90.5\" x2=\"90.5\" y1=\"10.5\" y2=\"170.5\" /><line stroke-width=\"1.0\" x1=\"110.5\" x2=\"110.5\" y1=\"10.5\" y2=\"170.5\" /><line stroke-width=\"1.0\" x1=\"130.5\" x2=\"130.5\" y1=\"10.5\" y2=\"170.5\" /><line stroke-width=\"1.0\" x1=\"150.5\" x2=\"150.5\" y1=\"10.5\" y2=\"170.5\" /></g><g><text font-family=\"serif\" font-size=\"9.5\" text-anchor=\"middle\" x=\"20.5\" y=\"8\">a</text><text font-family=\"serif\" font-size=\"9.5\" text-anchor=\"middle\" x=\"40.5\" y=\"8\">b</text><text font-family=\"serif\" font-size=\"9.5\" text-anchor=\"middle\" x=\"60.5\" y=\"8\">c</text><text font-family=\"serif\" font-size=\"9.5\" text-anchor=\"middle\" x=\"80.5\" y=\"8\">d</text><text font-family=\"serif\" font-size=\"9.5\" text-anchor=\"middle\" x=\"100.5\" y=\"8\">e</text><text font-family=\"serif\" font-size=\"9.5\" text-anchor=\"middle\" x=\"120.5\" y=\"8\">f</text><text font-family=\"serif\" font-size=\"9.5\" text-anchor=\"middle\" x=\"140.5\" y=\"8\">g</text><text font-family=\"serif\" font-size=\"9.5\" text-anchor=\"middle\" x=\"160.5\" y=\"8\">h</text><text font-family=\"serif\" font-size=\"9.5\" x=\"2.5\" y=\"23.5\">1</text><text font-family=\"serif\" font-size=\"9.5\" x=\"2.5\" y=\"43.5\">2</text><text font-family=\"serif\" font-size=\"9.5\" x=\"2.5\" y=\"63.5\">3</text><text font-family=\"serif\" font-size=\"9.5\" x=\"2.5\" y=\"83.5\">4</text><text font-family=\"serif\" font-size=\"9.5\" x=\"2.5\" y=\"103.5\">5</text><text font-family=\"serif\" font-size=\"9.5\" x=\"2.5\" y=\"123.5\">6</text><text font-family=\"serif\" font-size=\"9.5\" x=\"2.5\" y=\"143.5\">7</text><text font-family=\"serif\" font-size=\"9.5\" x=\"2.5\" y=\"163.5\">8</text></g><use xlink:href=\"#black\" x=\"10.5\" y=\"10.5\" /><use xlink:href=\"#black\" x=\"70.5\" y=\"10.5\" /><use xlink:href=\"#white\" x=\"90.5\" y=\"10.5\" /><use xlink:href=\"#white\" x=\"10.5\" y=\"30.5\" /><use xlink:href=\"#white\" x=\"30.5\" y=\"30.5\" /><use xlink:href=\"#white\" x=\"50.5\" y=\"30.5\" /><use xlink:href=\"#white\" x=\"70.5\" y=\"30.5\" /><use xlink:href=\"#white\" x=\"90.5\" y=\"30.5\" /><use xlink:href=\"#white\" x=\"30.5\" y=\"50.5\" /><use xlink:href=\"#black\" x=\"50.5\" y=\"50.5\" /><use xlink:href=\"#black\" x=\"70.5\" y=\"50.5\" /><use xlink:href=\"#white\" x=\"90.5\" y=\"50.5\" /><use xlink:href=\"#white\" x=\"50.5\" y=\"70.5\" /><use xlink:href=\"#black\" x=\"70.5\" y=\"70.5\" /><use xlink:href=\"#white\" x=\"90.5\" y=\"70.5\" /><use xlink:href=\"#white\" x=\"30.5\" y=\"90.5\" /><use xlink:href=\"#white\" x=\"50.5\" y=\"90.5\" /><use xlink:href=\"#black\" x=\"70.5\" y=\"90.5\" /><use xlink:href=\"#white\" x=\"90.5\" y=\"90.5\" /><use xlink:href=\"#white\" x=\"110.5\" y=\"90.5\" /><use xlink:href=\"#white\" x=\"130.5\" y=\"90.5\" /><use xlink:href=\"#white\" x=\"30.5\" y=\"110.5\" /><use xlink:href=\"#white\" x=\"50.5\" y=\"110.5\" /><use xlink:href=\"#white\" x=\"70.5\" y=\"110.5\" /></svg>"
      ],
      "text/plain": [
       " |abcdefgh\n",
       "-+--------\n",
       "1|x..xo...\n",
       "2|ooooo...\n",
       "3|.oxxo...\n",
       "4|..oxo...\n",
       "5|.ooxooo.\n",
       "6|.ooo....\n",
       "7|........\n",
       "8|........"
      ]
     },
     "metadata": {},
     "output_type": "display_data"
    },
    {
     "data": {
      "image/png": "[encoded data removed]",
      "text/plain": [
       "<Figure size 300x300 with 1 Axes>"
      ]
     },
     "metadata": {},
     "output_type": "display_data"
    },
    {
     "data": {
      "image/svg+xml": [
       "<svg xmlns=\"http://www.w3.org/2000/svg\" version=\"1.1\" xmlns:xlink=\"http://www.w3.org/1999/xlink\" width=\"215.0\" height=\"215.0\" viewBox=\"0 0 172 172\"><defs><g id=\"black\"><circle cx=\"10\" cy=\"10\" r=\"8.5\" fill=\"black\" /></g><g id=\"white\"><circle cx=\"10\" cy=\"10\" r=\"8.5\" fill=\"white\" /></g></defs><rect fill=\"green\" height=\"161\" width=\"161\" x=\"10\" y=\"10\" /><g stroke=\"black\"><rect width=\"161\" height=\"161\" stroke-width=\"1.5\" fill=\"none\" x=\"10\" y=\"10\" /><line stroke-width=\"1.0\" x1=\"10.5\" x2=\"170.5\" y1=\"30.5\" y2=\"30.5\" /><line stroke-width=\"1.0\" x1=\"10.5\" x2=\"170.5\" y1=\"50.5\" y2=\"50.5\" /><line stroke-width=\"1.0\" x1=\"10.5\" x2=\"170.5\" y1=\"70.5\" y2=\"70.5\" /><line stroke-width=\"1.0\" x1=\"10.5\" x2=\"170.5\" y1=\"90.5\" y2=\"90.5\" /><line stroke-width=\"1.0\" x1=\"10.5\" x2=\"170.5\" y1=\"110.5\" y2=\"110.5\" /><line stroke-width=\"1.0\" x1=\"10.5\" x2=\"170.5\" y1=\"130.5\" y2=\"130.5\" /><line stroke-width=\"1.0\" x1=\"10.5\" x2=\"170.5\" y1=\"150.5\" y2=\"150.5\" /><line stroke-width=\"1.0\" x1=\"30.5\" x2=\"30.5\" y1=\"10.5\" y2=\"170.5\" /><line stroke-width=\"1.0\" x1=\"50.5\" x2=\"50.5\" y1=\"10.5\" y2=\"170.5\" /><line stroke-width=\"1.0\" x1=\"70.5\" x2=\"70.5\" y1=\"10.5\" y2=\"170.5\" /><line stroke-width=\"1.0\" x1=\"90.5\" x2=\"90.5\" y1=\"10.5\" y2=\"170.5\" /><line stroke-width=\"1.0\" x1=\"110.5\" x2=\"110.5\" y1=\"10.5\" y2=\"170.5\" /><line stroke-width=\"1.0\" x1=\"130.5\" x2=\"130.5\" y1=\"10.5\" y2=\"170.5\" /><line stroke-width=\"1.0\" x1=\"150.5\" x2=\"150.5\" y1=\"10.5\" y2=\"170.5\" /></g><g><text font-family=\"serif\" font-size=\"9.5\" text-anchor=\"middle\" x=\"20.5\" y=\"8\">a</text><text font-family=\"serif\" font-size=\"9.5\" text-anchor=\"middle\" x=\"40.5\" y=\"8\">b</text><text font-family=\"serif\" font-size=\"9.5\" text-anchor=\"middle\" x=\"60.5\" y=\"8\">c</text><text font-family=\"serif\" font-size=\"9.5\" text-anchor=\"middle\" x=\"80.5\" y=\"8\">d</text><text font-family=\"serif\" font-size=\"9.5\" text-anchor=\"middle\" x=\"100.5\" y=\"8\">e</text><text font-family=\"serif\" font-size=\"9.5\" text-anchor=\"middle\" x=\"120.5\" y=\"8\">f</text><text font-family=\"serif\" font-size=\"9.5\" text-anchor=\"middle\" x=\"140.5\" y=\"8\">g</text><text font-family=\"serif\" font-size=\"9.5\" text-anchor=\"middle\" x=\"160.5\" y=\"8\">h</text><text font-family=\"serif\" font-size=\"9.5\" x=\"2.5\" y=\"23.5\">1</text><text font-family=\"serif\" font-size=\"9.5\" x=\"2.5\" y=\"43.5\">2</text><text font-family=\"serif\" font-size=\"9.5\" x=\"2.5\" y=\"63.5\">3</text><text font-family=\"serif\" font-size=\"9.5\" x=\"2.5\" y=\"83.5\">4</text><text font-family=\"serif\" font-size=\"9.5\" x=\"2.5\" y=\"103.5\">5</text><text font-family=\"serif\" font-size=\"9.5\" x=\"2.5\" y=\"123.5\">6</text><text font-family=\"serif\" font-size=\"9.5\" x=\"2.5\" y=\"143.5\">7</text><text font-family=\"serif\" font-size=\"9.5\" x=\"2.5\" y=\"163.5\">8</text></g><use xlink:href=\"#black\" x=\"10.5\" y=\"10.5\" /><use xlink:href=\"#black\" x=\"70.5\" y=\"10.5\" /><use xlink:href=\"#black\" x=\"90.5\" y=\"10.5\" /><use xlink:href=\"#black\" x=\"110.5\" y=\"10.5\" /><use xlink:href=\"#white\" x=\"10.5\" y=\"30.5\" /><use xlink:href=\"#white\" x=\"30.5\" y=\"30.5\" /><use xlink:href=\"#white\" x=\"50.5\" y=\"30.5\" /><use xlink:href=\"#white\" x=\"70.5\" y=\"30.5\" /><use xlink:href=\"#black\" x=\"90.5\" y=\"30.5\" /><use xlink:href=\"#white\" x=\"30.5\" y=\"50.5\" /><use xlink:href=\"#black\" x=\"50.5\" y=\"50.5\" /><use xlink:href=\"#black\" x=\"70.5\" y=\"50.5\" /><use xlink:href=\"#white\" x=\"90.5\" y=\"50.5\" /><use xlink:href=\"#white\" x=\"50.5\" y=\"70.5\" /><use xlink:href=\"#black\" x=\"70.5\" y=\"70.5\" /><use xlink:href=\"#white\" x=\"90.5\" y=\"70.5\" /><use xlink:href=\"#white\" x=\"30.5\" y=\"90.5\" /><use xlink:href=\"#white\" x=\"50.5\" y=\"90.5\" /><use xlink:href=\"#black\" x=\"70.5\" y=\"90.5\" /><use xlink:href=\"#white\" x=\"90.5\" y=\"90.5\" /><use xlink:href=\"#white\" x=\"110.5\" y=\"90.5\" /><use xlink:href=\"#white\" x=\"130.5\" y=\"90.5\" /><use xlink:href=\"#white\" x=\"30.5\" y=\"110.5\" /><use xlink:href=\"#white\" x=\"50.5\" y=\"110.5\" /><use xlink:href=\"#white\" x=\"70.5\" y=\"110.5\" /></svg>"
      ],
      "text/plain": [
       " |abcdefgh\n",
       "-+--------\n",
       "1|x..xxx..\n",
       "2|oooox...\n",
       "3|.oxxo...\n",
       "4|..oxo...\n",
       "5|.ooxooo.\n",
       "6|.ooo....\n",
       "7|........\n",
       "8|........"
      ]
     },
     "metadata": {},
     "output_type": "display_data"
    },
    {
     "data": {
      "image/svg+xml": [
       "<svg xmlns=\"http://www.w3.org/2000/svg\" version=\"1.1\" xmlns:xlink=\"http://www.w3.org/1999/xlink\" width=\"215.0\" height=\"215.0\" viewBox=\"0 0 172 172\"><defs><g id=\"black\"><circle cx=\"10\" cy=\"10\" r=\"8.5\" fill=\"black\" /></g><g id=\"white\"><circle cx=\"10\" cy=\"10\" r=\"8.5\" fill=\"white\" /></g></defs><rect fill=\"green\" height=\"161\" width=\"161\" x=\"10\" y=\"10\" /><g stroke=\"black\"><rect width=\"161\" height=\"161\" stroke-width=\"1.5\" fill=\"none\" x=\"10\" y=\"10\" /><line stroke-width=\"1.0\" x1=\"10.5\" x2=\"170.5\" y1=\"30.5\" y2=\"30.5\" /><line stroke-width=\"1.0\" x1=\"10.5\" x2=\"170.5\" y1=\"50.5\" y2=\"50.5\" /><line stroke-width=\"1.0\" x1=\"10.5\" x2=\"170.5\" y1=\"70.5\" y2=\"70.5\" /><line stroke-width=\"1.0\" x1=\"10.5\" x2=\"170.5\" y1=\"90.5\" y2=\"90.5\" /><line stroke-width=\"1.0\" x1=\"10.5\" x2=\"170.5\" y1=\"110.5\" y2=\"110.5\" /><line stroke-width=\"1.0\" x1=\"10.5\" x2=\"170.5\" y1=\"130.5\" y2=\"130.5\" /><line stroke-width=\"1.0\" x1=\"10.5\" x2=\"170.5\" y1=\"150.5\" y2=\"150.5\" /><line stroke-width=\"1.0\" x1=\"30.5\" x2=\"30.5\" y1=\"10.5\" y2=\"170.5\" /><line stroke-width=\"1.0\" x1=\"50.5\" x2=\"50.5\" y1=\"10.5\" y2=\"170.5\" /><line stroke-width=\"1.0\" x1=\"70.5\" x2=\"70.5\" y1=\"10.5\" y2=\"170.5\" /><line stroke-width=\"1.0\" x1=\"90.5\" x2=\"90.5\" y1=\"10.5\" y2=\"170.5\" /><line stroke-width=\"1.0\" x1=\"110.5\" x2=\"110.5\" y1=\"10.5\" y2=\"170.5\" /><line stroke-width=\"1.0\" x1=\"130.5\" x2=\"130.5\" y1=\"10.5\" y2=\"170.5\" /><line stroke-width=\"1.0\" x1=\"150.5\" x2=\"150.5\" y1=\"10.5\" y2=\"170.5\" /></g><g><text font-family=\"serif\" font-size=\"9.5\" text-anchor=\"middle\" x=\"20.5\" y=\"8\">a</text><text font-family=\"serif\" font-size=\"9.5\" text-anchor=\"middle\" x=\"40.5\" y=\"8\">b</text><text font-family=\"serif\" font-size=\"9.5\" text-anchor=\"middle\" x=\"60.5\" y=\"8\">c</text><text font-family=\"serif\" font-size=\"9.5\" text-anchor=\"middle\" x=\"80.5\" y=\"8\">d</text><text font-family=\"serif\" font-size=\"9.5\" text-anchor=\"middle\" x=\"100.5\" y=\"8\">e</text><text font-family=\"serif\" font-size=\"9.5\" text-anchor=\"middle\" x=\"120.5\" y=\"8\">f</text><text font-family=\"serif\" font-size=\"9.5\" text-anchor=\"middle\" x=\"140.5\" y=\"8\">g</text><text font-family=\"serif\" font-size=\"9.5\" text-anchor=\"middle\" x=\"160.5\" y=\"8\">h</text><text font-family=\"serif\" font-size=\"9.5\" x=\"2.5\" y=\"23.5\">1</text><text font-family=\"serif\" font-size=\"9.5\" x=\"2.5\" y=\"43.5\">2</text><text font-family=\"serif\" font-size=\"9.5\" x=\"2.5\" y=\"63.5\">3</text><text font-family=\"serif\" font-size=\"9.5\" x=\"2.5\" y=\"83.5\">4</text><text font-family=\"serif\" font-size=\"9.5\" x=\"2.5\" y=\"103.5\">5</text><text font-family=\"serif\" font-size=\"9.5\" x=\"2.5\" y=\"123.5\">6</text><text font-family=\"serif\" font-size=\"9.5\" x=\"2.5\" y=\"143.5\">7</text><text font-family=\"serif\" font-size=\"9.5\" x=\"2.5\" y=\"163.5\">8</text></g><use xlink:href=\"#black\" x=\"10.5\" y=\"10.5\" /><use xlink:href=\"#black\" x=\"70.5\" y=\"10.5\" /><use xlink:href=\"#black\" x=\"90.5\" y=\"10.5\" /><use xlink:href=\"#black\" x=\"110.5\" y=\"10.5\" /><use xlink:href=\"#white\" x=\"10.5\" y=\"30.5\" /><use xlink:href=\"#white\" x=\"30.5\" y=\"30.5\" /><use xlink:href=\"#white\" x=\"50.5\" y=\"30.5\" /><use xlink:href=\"#white\" x=\"70.5\" y=\"30.5\" /><use xlink:href=\"#black\" x=\"90.5\" y=\"30.5\" /><use xlink:href=\"#white\" x=\"30.5\" y=\"50.5\" /><use xlink:href=\"#white\" x=\"50.5\" y=\"50.5\" /><use xlink:href=\"#black\" x=\"70.5\" y=\"50.5\" /><use xlink:href=\"#white\" x=\"90.5\" y=\"50.5\" /><use xlink:href=\"#white\" x=\"30.5\" y=\"70.5\" /><use xlink:href=\"#white\" x=\"50.5\" y=\"70.5\" /><use xlink:href=\"#black\" x=\"70.5\" y=\"70.5\" /><use xlink:href=\"#white\" x=\"90.5\" y=\"70.5\" /><use xlink:href=\"#white\" x=\"30.5\" y=\"90.5\" /><use xlink:href=\"#white\" x=\"50.5\" y=\"90.5\" /><use xlink:href=\"#black\" x=\"70.5\" y=\"90.5\" /><use xlink:href=\"#white\" x=\"90.5\" y=\"90.5\" /><use xlink:href=\"#white\" x=\"110.5\" y=\"90.5\" /><use xlink:href=\"#white\" x=\"130.5\" y=\"90.5\" /><use xlink:href=\"#white\" x=\"30.5\" y=\"110.5\" /><use xlink:href=\"#white\" x=\"50.5\" y=\"110.5\" /><use xlink:href=\"#white\" x=\"70.5\" y=\"110.5\" /></svg>"
      ],
      "text/plain": [
       " |abcdefgh\n",
       "-+--------\n",
       "1|x..xxx..\n",
       "2|oooox...\n",
       "3|.ooxo...\n",
       "4|.ooxo...\n",
       "5|.ooxooo.\n",
       "6|.ooo....\n",
       "7|........\n",
       "8|........"
      ]
     },
     "metadata": {},
     "output_type": "display_data"
    },
    {
     "data": {
      "image/png": "[encoded data removed]",
      "text/plain": [
       "<Figure size 300x300 with 1 Axes>"
      ]
     },
     "metadata": {},
     "output_type": "display_data"
    },
    {
     "data": {
      "image/svg+xml": [
       "<svg xmlns=\"http://www.w3.org/2000/svg\" version=\"1.1\" xmlns:xlink=\"http://www.w3.org/1999/xlink\" width=\"215.0\" height=\"215.0\" viewBox=\"0 0 172 172\"><defs><g id=\"black\"><circle cx=\"10\" cy=\"10\" r=\"8.5\" fill=\"black\" /></g><g id=\"white\"><circle cx=\"10\" cy=\"10\" r=\"8.5\" fill=\"white\" /></g></defs><rect fill=\"green\" height=\"161\" width=\"161\" x=\"10\" y=\"10\" /><g stroke=\"black\"><rect width=\"161\" height=\"161\" stroke-width=\"1.5\" fill=\"none\" x=\"10\" y=\"10\" /><line stroke-width=\"1.0\" x1=\"10.5\" x2=\"170.5\" y1=\"30.5\" y2=\"30.5\" /><line stroke-width=\"1.0\" x1=\"10.5\" x2=\"170.5\" y1=\"50.5\" y2=\"50.5\" /><line stroke-width=\"1.0\" x1=\"10.5\" x2=\"170.5\" y1=\"70.5\" y2=\"70.5\" /><line stroke-width=\"1.0\" x1=\"10.5\" x2=\"170.5\" y1=\"90.5\" y2=\"90.5\" /><line stroke-width=\"1.0\" x1=\"10.5\" x2=\"170.5\" y1=\"110.5\" y2=\"110.5\" /><line stroke-width=\"1.0\" x1=\"10.5\" x2=\"170.5\" y1=\"130.5\" y2=\"130.5\" /><line stroke-width=\"1.0\" x1=\"10.5\" x2=\"170.5\" y1=\"150.5\" y2=\"150.5\" /><line stroke-width=\"1.0\" x1=\"30.5\" x2=\"30.5\" y1=\"10.5\" y2=\"170.5\" /><line stroke-width=\"1.0\" x1=\"50.5\" x2=\"50.5\" y1=\"10.5\" y2=\"170.5\" /><line stroke-width=\"1.0\" x1=\"70.5\" x2=\"70.5\" y1=\"10.5\" y2=\"170.5\" /><line stroke-width=\"1.0\" x1=\"90.5\" x2=\"90.5\" y1=\"10.5\" y2=\"170.5\" /><line stroke-width=\"1.0\" x1=\"110.5\" x2=\"110.5\" y1=\"10.5\" y2=\"170.5\" /><line stroke-width=\"1.0\" x1=\"130.5\" x2=\"130.5\" y1=\"10.5\" y2=\"170.5\" /><line stroke-width=\"1.0\" x1=\"150.5\" x2=\"150.5\" y1=\"10.5\" y2=\"170.5\" /></g><g><text font-family=\"serif\" font-size=\"9.5\" text-anchor=\"middle\" x=\"20.5\" y=\"8\">a</text><text font-family=\"serif\" font-size=\"9.5\" text-anchor=\"middle\" x=\"40.5\" y=\"8\">b</text><text font-family=\"serif\" font-size=\"9.5\" text-anchor=\"middle\" x=\"60.5\" y=\"8\">c</text><text font-family=\"serif\" font-size=\"9.5\" text-anchor=\"middle\" x=\"80.5\" y=\"8\">d</text><text font-family=\"serif\" font-size=\"9.5\" text-anchor=\"middle\" x=\"100.5\" y=\"8\">e</text><text font-family=\"serif\" font-size=\"9.5\" text-anchor=\"middle\" x=\"120.5\" y=\"8\">f</text><text font-family=\"serif\" font-size=\"9.5\" text-anchor=\"middle\" x=\"140.5\" y=\"8\">g</text><text font-family=\"serif\" font-size=\"9.5\" text-anchor=\"middle\" x=\"160.5\" y=\"8\">h</text><text font-family=\"serif\" font-size=\"9.5\" x=\"2.5\" y=\"23.5\">1</text><text font-family=\"serif\" font-size=\"9.5\" x=\"2.5\" y=\"43.5\">2</text><text font-family=\"serif\" font-size=\"9.5\" x=\"2.5\" y=\"63.5\">3</text><text font-family=\"serif\" font-size=\"9.5\" x=\"2.5\" y=\"83.5\">4</text><text font-family=\"serif\" font-size=\"9.5\" x=\"2.5\" y=\"103.5\">5</text><text font-family=\"serif\" font-size=\"9.5\" x=\"2.5\" y=\"123.5\">6</text><text font-family=\"serif\" font-size=\"9.5\" x=\"2.5\" y=\"143.5\">7</text><text font-family=\"serif\" font-size=\"9.5\" x=\"2.5\" y=\"163.5\">8</text></g><use xlink:href=\"#black\" x=\"10.5\" y=\"10.5\" /><use xlink:href=\"#black\" x=\"70.5\" y=\"10.5\" /><use xlink:href=\"#black\" x=\"90.5\" y=\"10.5\" /><use xlink:href=\"#black\" x=\"110.5\" y=\"10.5\" /><use xlink:href=\"#black\" x=\"10.5\" y=\"30.5\" /><use xlink:href=\"#white\" x=\"30.5\" y=\"30.5\" /><use xlink:href=\"#white\" x=\"50.5\" y=\"30.5\" /><use xlink:href=\"#white\" x=\"70.5\" y=\"30.5\" /><use xlink:href=\"#black\" x=\"90.5\" y=\"30.5\" /><use xlink:href=\"#black\" x=\"10.5\" y=\"50.5\" /><use xlink:href=\"#black\" x=\"30.5\" y=\"50.5\" /><use xlink:href=\"#black\" x=\"50.5\" y=\"50.5\" /><use xlink:href=\"#black\" x=\"70.5\" y=\"50.5\" /><use xlink:href=\"#white\" x=\"90.5\" y=\"50.5\" /><use xlink:href=\"#white\" x=\"30.5\" y=\"70.5\" /><use xlink:href=\"#white\" x=\"50.5\" y=\"70.5\" /><use xlink:href=\"#black\" x=\"70.5\" y=\"70.5\" /><use xlink:href=\"#white\" x=\"90.5\" y=\"70.5\" /><use xlink:href=\"#white\" x=\"30.5\" y=\"90.5\" /><use xlink:href=\"#white\" x=\"50.5\" y=\"90.5\" /><use xlink:href=\"#black\" x=\"70.5\" y=\"90.5\" /><use xlink:href=\"#white\" x=\"90.5\" y=\"90.5\" /><use xlink:href=\"#white\" x=\"110.5\" y=\"90.5\" /><use xlink:href=\"#white\" x=\"130.5\" y=\"90.5\" /><use xlink:href=\"#white\" x=\"30.5\" y=\"110.5\" /><use xlink:href=\"#white\" x=\"50.5\" y=\"110.5\" /><use xlink:href=\"#white\" x=\"70.5\" y=\"110.5\" /></svg>"
      ],
      "text/plain": [
       " |abcdefgh\n",
       "-+--------\n",
       "1|x..xxx..\n",
       "2|xooox...\n",
       "3|xxxxo...\n",
       "4|.ooxo...\n",
       "5|.ooxooo.\n",
       "6|.ooo....\n",
       "7|........\n",
       "8|........"
      ]
     },
     "metadata": {},
     "output_type": "display_data"
    },
    {
     "data": {
      "image/svg+xml": [
       "<svg xmlns=\"http://www.w3.org/2000/svg\" version=\"1.1\" xmlns:xlink=\"http://www.w3.org/1999/xlink\" width=\"215.0\" height=\"215.0\" viewBox=\"0 0 172 172\"><defs><g id=\"black\"><circle cx=\"10\" cy=\"10\" r=\"8.5\" fill=\"black\" /></g><g id=\"white\"><circle cx=\"10\" cy=\"10\" r=\"8.5\" fill=\"white\" /></g></defs><rect fill=\"green\" height=\"161\" width=\"161\" x=\"10\" y=\"10\" /><g stroke=\"black\"><rect width=\"161\" height=\"161\" stroke-width=\"1.5\" fill=\"none\" x=\"10\" y=\"10\" /><line stroke-width=\"1.0\" x1=\"10.5\" x2=\"170.5\" y1=\"30.5\" y2=\"30.5\" /><line stroke-width=\"1.0\" x1=\"10.5\" x2=\"170.5\" y1=\"50.5\" y2=\"50.5\" /><line stroke-width=\"1.0\" x1=\"10.5\" x2=\"170.5\" y1=\"70.5\" y2=\"70.5\" /><line stroke-width=\"1.0\" x1=\"10.5\" x2=\"170.5\" y1=\"90.5\" y2=\"90.5\" /><line stroke-width=\"1.0\" x1=\"10.5\" x2=\"170.5\" y1=\"110.5\" y2=\"110.5\" /><line stroke-width=\"1.0\" x1=\"10.5\" x2=\"170.5\" y1=\"130.5\" y2=\"130.5\" /><line stroke-width=\"1.0\" x1=\"10.5\" x2=\"170.5\" y1=\"150.5\" y2=\"150.5\" /><line stroke-width=\"1.0\" x1=\"30.5\" x2=\"30.5\" y1=\"10.5\" y2=\"170.5\" /><line stroke-width=\"1.0\" x1=\"50.5\" x2=\"50.5\" y1=\"10.5\" y2=\"170.5\" /><line stroke-width=\"1.0\" x1=\"70.5\" x2=\"70.5\" y1=\"10.5\" y2=\"170.5\" /><line stroke-width=\"1.0\" x1=\"90.5\" x2=\"90.5\" y1=\"10.5\" y2=\"170.5\" /><line stroke-width=\"1.0\" x1=\"110.5\" x2=\"110.5\" y1=\"10.5\" y2=\"170.5\" /><line stroke-width=\"1.0\" x1=\"130.5\" x2=\"130.5\" y1=\"10.5\" y2=\"170.5\" /><line stroke-width=\"1.0\" x1=\"150.5\" x2=\"150.5\" y1=\"10.5\" y2=\"170.5\" /></g><g><text font-family=\"serif\" font-size=\"9.5\" text-anchor=\"middle\" x=\"20.5\" y=\"8\">a</text><text font-family=\"serif\" font-size=\"9.5\" text-anchor=\"middle\" x=\"40.5\" y=\"8\">b</text><text font-family=\"serif\" font-size=\"9.5\" text-anchor=\"middle\" x=\"60.5\" y=\"8\">c</text><text font-family=\"serif\" font-size=\"9.5\" text-anchor=\"middle\" x=\"80.5\" y=\"8\">d</text><text font-family=\"serif\" font-size=\"9.5\" text-anchor=\"middle\" x=\"100.5\" y=\"8\">e</text><text font-family=\"serif\" font-size=\"9.5\" text-anchor=\"middle\" x=\"120.5\" y=\"8\">f</text><text font-family=\"serif\" font-size=\"9.5\" text-anchor=\"middle\" x=\"140.5\" y=\"8\">g</text><text font-family=\"serif\" font-size=\"9.5\" text-anchor=\"middle\" x=\"160.5\" y=\"8\">h</text><text font-family=\"serif\" font-size=\"9.5\" x=\"2.5\" y=\"23.5\">1</text><text font-family=\"serif\" font-size=\"9.5\" x=\"2.5\" y=\"43.5\">2</text><text font-family=\"serif\" font-size=\"9.5\" x=\"2.5\" y=\"63.5\">3</text><text font-family=\"serif\" font-size=\"9.5\" x=\"2.5\" y=\"83.5\">4</text><text font-family=\"serif\" font-size=\"9.5\" x=\"2.5\" y=\"103.5\">5</text><text font-family=\"serif\" font-size=\"9.5\" x=\"2.5\" y=\"123.5\">6</text><text font-family=\"serif\" font-size=\"9.5\" x=\"2.5\" y=\"143.5\">7</text><text font-family=\"serif\" font-size=\"9.5\" x=\"2.5\" y=\"163.5\">8</text></g><use xlink:href=\"#black\" x=\"10.5\" y=\"10.5\" /><use xlink:href=\"#black\" x=\"70.5\" y=\"10.5\" /><use xlink:href=\"#black\" x=\"90.5\" y=\"10.5\" /><use xlink:href=\"#black\" x=\"110.5\" y=\"10.5\" /><use xlink:href=\"#black\" x=\"10.5\" y=\"30.5\" /><use xlink:href=\"#white\" x=\"30.5\" y=\"30.5\" /><use xlink:href=\"#white\" x=\"50.5\" y=\"30.5\" /><use xlink:href=\"#white\" x=\"70.5\" y=\"30.5\" /><use xlink:href=\"#white\" x=\"90.5\" y=\"30.5\" /><use xlink:href=\"#white\" x=\"110.5\" y=\"30.5\" /><use xlink:href=\"#black\" x=\"10.5\" y=\"50.5\" /><use xlink:href=\"#black\" x=\"30.5\" y=\"50.5\" /><use xlink:href=\"#black\" x=\"50.5\" y=\"50.5\" /><use xlink:href=\"#black\" x=\"70.5\" y=\"50.5\" /><use xlink:href=\"#white\" x=\"90.5\" y=\"50.5\" /><use xlink:href=\"#white\" x=\"30.5\" y=\"70.5\" /><use xlink:href=\"#white\" x=\"50.5\" y=\"70.5\" /><use xlink:href=\"#black\" x=\"70.5\" y=\"70.5\" /><use xlink:href=\"#white\" x=\"90.5\" y=\"70.5\" /><use xlink:href=\"#white\" x=\"30.5\" y=\"90.5\" /><use xlink:href=\"#white\" x=\"50.5\" y=\"90.5\" /><use xlink:href=\"#black\" x=\"70.5\" y=\"90.5\" /><use xlink:href=\"#white\" x=\"90.5\" y=\"90.5\" /><use xlink:href=\"#white\" x=\"110.5\" y=\"90.5\" /><use xlink:href=\"#white\" x=\"130.5\" y=\"90.5\" /><use xlink:href=\"#white\" x=\"30.5\" y=\"110.5\" /><use xlink:href=\"#white\" x=\"50.5\" y=\"110.5\" /><use xlink:href=\"#white\" x=\"70.5\" y=\"110.5\" /></svg>"
      ],
      "text/plain": [
       " |abcdefgh\n",
       "-+--------\n",
       "1|x..xxx..\n",
       "2|xooooo..\n",
       "3|xxxxo...\n",
       "4|.ooxo...\n",
       "5|.ooxooo.\n",
       "6|.ooo....\n",
       "7|........\n",
       "8|........"
      ]
     },
     "metadata": {},
     "output_type": "display_data"
    },
    {
     "data": {
      "image/png": "[encoded data removed]",
      "text/plain": [
       "<Figure size 300x300 with 1 Axes>"
      ]
     },
     "metadata": {},
     "output_type": "display_data"
    },
    {
     "data": {
      "image/svg+xml": [
       "<svg xmlns=\"http://www.w3.org/2000/svg\" version=\"1.1\" xmlns:xlink=\"http://www.w3.org/1999/xlink\" width=\"215.0\" height=\"215.0\" viewBox=\"0 0 172 172\"><defs><g id=\"black\"><circle cx=\"10\" cy=\"10\" r=\"8.5\" fill=\"black\" /></g><g id=\"white\"><circle cx=\"10\" cy=\"10\" r=\"8.5\" fill=\"white\" /></g></defs><rect fill=\"green\" height=\"161\" width=\"161\" x=\"10\" y=\"10\" /><g stroke=\"black\"><rect width=\"161\" height=\"161\" stroke-width=\"1.5\" fill=\"none\" x=\"10\" y=\"10\" /><line stroke-width=\"1.0\" x1=\"10.5\" x2=\"170.5\" y1=\"30.5\" y2=\"30.5\" /><line stroke-width=\"1.0\" x1=\"10.5\" x2=\"170.5\" y1=\"50.5\" y2=\"50.5\" /><line stroke-width=\"1.0\" x1=\"10.5\" x2=\"170.5\" y1=\"70.5\" y2=\"70.5\" /><line stroke-width=\"1.0\" x1=\"10.5\" x2=\"170.5\" y1=\"90.5\" y2=\"90.5\" /><line stroke-width=\"1.0\" x1=\"10.5\" x2=\"170.5\" y1=\"110.5\" y2=\"110.5\" /><line stroke-width=\"1.0\" x1=\"10.5\" x2=\"170.5\" y1=\"130.5\" y2=\"130.5\" /><line stroke-width=\"1.0\" x1=\"10.5\" x2=\"170.5\" y1=\"150.5\" y2=\"150.5\" /><line stroke-width=\"1.0\" x1=\"30.5\" x2=\"30.5\" y1=\"10.5\" y2=\"170.5\" /><line stroke-width=\"1.0\" x1=\"50.5\" x2=\"50.5\" y1=\"10.5\" y2=\"170.5\" /><line stroke-width=\"1.0\" x1=\"70.5\" x2=\"70.5\" y1=\"10.5\" y2=\"170.5\" /><line stroke-width=\"1.0\" x1=\"90.5\" x2=\"90.5\" y1=\"10.5\" y2=\"170.5\" /><line stroke-width=\"1.0\" x1=\"110.5\" x2=\"110.5\" y1=\"10.5\" y2=\"170.5\" /><line stroke-width=\"1.0\" x1=\"130.5\" x2=\"130.5\" y1=\"10.5\" y2=\"170.5\" /><line stroke-width=\"1.0\" x1=\"150.5\" x2=\"150.5\" y1=\"10.5\" y2=\"170.5\" /></g><g><text font-family=\"serif\" font-size=\"9.5\" text-anchor=\"middle\" x=\"20.5\" y=\"8\">a</text><text font-family=\"serif\" font-size=\"9.5\" text-anchor=\"middle\" x=\"40.5\" y=\"8\">b</text><text font-family=\"serif\" font-size=\"9.5\" text-anchor=\"middle\" x=\"60.5\" y=\"8\">c</text><text font-family=\"serif\" font-size=\"9.5\" text-anchor=\"middle\" x=\"80.5\" y=\"8\">d</text><text font-family=\"serif\" font-size=\"9.5\" text-anchor=\"middle\" x=\"100.5\" y=\"8\">e</text><text font-family=\"serif\" font-size=\"9.5\" text-anchor=\"middle\" x=\"120.5\" y=\"8\">f</text><text font-family=\"serif\" font-size=\"9.5\" text-anchor=\"middle\" x=\"140.5\" y=\"8\">g</text><text font-family=\"serif\" font-size=\"9.5\" text-anchor=\"middle\" x=\"160.5\" y=\"8\">h</text><text font-family=\"serif\" font-size=\"9.5\" x=\"2.5\" y=\"23.5\">1</text><text font-family=\"serif\" font-size=\"9.5\" x=\"2.5\" y=\"43.5\">2</text><text font-family=\"serif\" font-size=\"9.5\" x=\"2.5\" y=\"63.5\">3</text><text font-family=\"serif\" font-size=\"9.5\" x=\"2.5\" y=\"83.5\">4</text><text font-family=\"serif\" font-size=\"9.5\" x=\"2.5\" y=\"103.5\">5</text><text font-family=\"serif\" font-size=\"9.5\" x=\"2.5\" y=\"123.5\">6</text><text font-family=\"serif\" font-size=\"9.5\" x=\"2.5\" y=\"143.5\">7</text><text font-family=\"serif\" font-size=\"9.5\" x=\"2.5\" y=\"163.5\">8</text></g><use xlink:href=\"#black\" x=\"10.5\" y=\"10.5\" /><use xlink:href=\"#black\" x=\"70.5\" y=\"10.5\" /><use xlink:href=\"#black\" x=\"90.5\" y=\"10.5\" /><use xlink:href=\"#black\" x=\"110.5\" y=\"10.5\" /><use xlink:href=\"#black\" x=\"10.5\" y=\"30.5\" /><use xlink:href=\"#white\" x=\"30.5\" y=\"30.5\" /><use xlink:href=\"#white\" x=\"50.5\" y=\"30.5\" /><use xlink:href=\"#white\" x=\"70.5\" y=\"30.5\" /><use xlink:href=\"#white\" x=\"90.5\" y=\"30.5\" /><use xlink:href=\"#white\" x=\"110.5\" y=\"30.5\" /><use xlink:href=\"#black\" x=\"10.5\" y=\"50.5\" /><use xlink:href=\"#black\" x=\"30.5\" y=\"50.5\" /><use xlink:href=\"#black\" x=\"50.5\" y=\"50.5\" /><use xlink:href=\"#black\" x=\"70.5\" y=\"50.5\" /><use xlink:href=\"#white\" x=\"90.5\" y=\"50.5\" /><use xlink:href=\"#black\" x=\"10.5\" y=\"70.5\" /><use xlink:href=\"#black\" x=\"30.5\" y=\"70.5\" /><use xlink:href=\"#black\" x=\"50.5\" y=\"70.5\" /><use xlink:href=\"#black\" x=\"70.5\" y=\"70.5\" /><use xlink:href=\"#white\" x=\"90.5\" y=\"70.5\" /><use xlink:href=\"#white\" x=\"30.5\" y=\"90.5\" /><use xlink:href=\"#white\" x=\"50.5\" y=\"90.5\" /><use xlink:href=\"#black\" x=\"70.5\" y=\"90.5\" /><use xlink:href=\"#white\" x=\"90.5\" y=\"90.5\" /><use xlink:href=\"#white\" x=\"110.5\" y=\"90.5\" /><use xlink:href=\"#white\" x=\"130.5\" y=\"90.5\" /><use xlink:href=\"#white\" x=\"30.5\" y=\"110.5\" /><use xlink:href=\"#white\" x=\"50.5\" y=\"110.5\" /><use xlink:href=\"#white\" x=\"70.5\" y=\"110.5\" /></svg>"
      ],
      "text/plain": [
       " |abcdefgh\n",
       "-+--------\n",
       "1|x..xxx..\n",
       "2|xooooo..\n",
       "3|xxxxo...\n",
       "4|xxxxo...\n",
       "5|.ooxooo.\n",
       "6|.ooo....\n",
       "7|........\n",
       "8|........"
      ]
     },
     "metadata": {},
     "output_type": "display_data"
    },
    {
     "data": {
      "image/svg+xml": [
       "<svg xmlns=\"http://www.w3.org/2000/svg\" version=\"1.1\" xmlns:xlink=\"http://www.w3.org/1999/xlink\" width=\"215.0\" height=\"215.0\" viewBox=\"0 0 172 172\"><defs><g id=\"black\"><circle cx=\"10\" cy=\"10\" r=\"8.5\" fill=\"black\" /></g><g id=\"white\"><circle cx=\"10\" cy=\"10\" r=\"8.5\" fill=\"white\" /></g></defs><rect fill=\"green\" height=\"161\" width=\"161\" x=\"10\" y=\"10\" /><g stroke=\"black\"><rect width=\"161\" height=\"161\" stroke-width=\"1.5\" fill=\"none\" x=\"10\" y=\"10\" /><line stroke-width=\"1.0\" x1=\"10.5\" x2=\"170.5\" y1=\"30.5\" y2=\"30.5\" /><line stroke-width=\"1.0\" x1=\"10.5\" x2=\"170.5\" y1=\"50.5\" y2=\"50.5\" /><line stroke-width=\"1.0\" x1=\"10.5\" x2=\"170.5\" y1=\"70.5\" y2=\"70.5\" /><line stroke-width=\"1.0\" x1=\"10.5\" x2=\"170.5\" y1=\"90.5\" y2=\"90.5\" /><line stroke-width=\"1.0\" x1=\"10.5\" x2=\"170.5\" y1=\"110.5\" y2=\"110.5\" /><line stroke-width=\"1.0\" x1=\"10.5\" x2=\"170.5\" y1=\"130.5\" y2=\"130.5\" /><line stroke-width=\"1.0\" x1=\"10.5\" x2=\"170.5\" y1=\"150.5\" y2=\"150.5\" /><line stroke-width=\"1.0\" x1=\"30.5\" x2=\"30.5\" y1=\"10.5\" y2=\"170.5\" /><line stroke-width=\"1.0\" x1=\"50.5\" x2=\"50.5\" y1=\"10.5\" y2=\"170.5\" /><line stroke-width=\"1.0\" x1=\"70.5\" x2=\"70.5\" y1=\"10.5\" y2=\"170.5\" /><line stroke-width=\"1.0\" x1=\"90.5\" x2=\"90.5\" y1=\"10.5\" y2=\"170.5\" /><line stroke-width=\"1.0\" x1=\"110.5\" x2=\"110.5\" y1=\"10.5\" y2=\"170.5\" /><line stroke-width=\"1.0\" x1=\"130.5\" x2=\"130.5\" y1=\"10.5\" y2=\"170.5\" /><line stroke-width=\"1.0\" x1=\"150.5\" x2=\"150.5\" y1=\"10.5\" y2=\"170.5\" /></g><g><text font-family=\"serif\" font-size=\"9.5\" text-anchor=\"middle\" x=\"20.5\" y=\"8\">a</text><text font-family=\"serif\" font-size=\"9.5\" text-anchor=\"middle\" x=\"40.5\" y=\"8\">b</text><text font-family=\"serif\" font-size=\"9.5\" text-anchor=\"middle\" x=\"60.5\" y=\"8\">c</text><text font-family=\"serif\" font-size=\"9.5\" text-anchor=\"middle\" x=\"80.5\" y=\"8\">d</text><text font-family=\"serif\" font-size=\"9.5\" text-anchor=\"middle\" x=\"100.5\" y=\"8\">e</text><text font-family=\"serif\" font-size=\"9.5\" text-anchor=\"middle\" x=\"120.5\" y=\"8\">f</text><text font-family=\"serif\" font-size=\"9.5\" text-anchor=\"middle\" x=\"140.5\" y=\"8\">g</text><text font-family=\"serif\" font-size=\"9.5\" text-anchor=\"middle\" x=\"160.5\" y=\"8\">h</text><text font-family=\"serif\" font-size=\"9.5\" x=\"2.5\" y=\"23.5\">1</text><text font-family=\"serif\" font-size=\"9.5\" x=\"2.5\" y=\"43.5\">2</text><text font-family=\"serif\" font-size=\"9.5\" x=\"2.5\" y=\"63.5\">3</text><text font-family=\"serif\" font-size=\"9.5\" x=\"2.5\" y=\"83.5\">4</text><text font-family=\"serif\" font-size=\"9.5\" x=\"2.5\" y=\"103.5\">5</text><text font-family=\"serif\" font-size=\"9.5\" x=\"2.5\" y=\"123.5\">6</text><text font-family=\"serif\" font-size=\"9.5\" x=\"2.5\" y=\"143.5\">7</text><text font-family=\"serif\" font-size=\"9.5\" x=\"2.5\" y=\"163.5\">8</text></g><use xlink:href=\"#black\" x=\"10.5\" y=\"10.5\" /><use xlink:href=\"#black\" x=\"70.5\" y=\"10.5\" /><use xlink:href=\"#black\" x=\"90.5\" y=\"10.5\" /><use xlink:href=\"#black\" x=\"110.5\" y=\"10.5\" /><use xlink:href=\"#black\" x=\"10.5\" y=\"30.5\" /><use xlink:href=\"#white\" x=\"30.5\" y=\"30.5\" /><use xlink:href=\"#white\" x=\"50.5\" y=\"30.5\" /><use xlink:href=\"#white\" x=\"70.5\" y=\"30.5\" /><use xlink:href=\"#white\" x=\"90.5\" y=\"30.5\" /><use xlink:href=\"#white\" x=\"110.5\" y=\"30.5\" /><use xlink:href=\"#black\" x=\"10.5\" y=\"50.5\" /><use xlink:href=\"#black\" x=\"30.5\" y=\"50.5\" /><use xlink:href=\"#white\" x=\"50.5\" y=\"50.5\" /><use xlink:href=\"#black\" x=\"70.5\" y=\"50.5\" /><use xlink:href=\"#white\" x=\"90.5\" y=\"50.5\" /><use xlink:href=\"#black\" x=\"10.5\" y=\"70.5\" /><use xlink:href=\"#white\" x=\"30.5\" y=\"70.5\" /><use xlink:href=\"#black\" x=\"50.5\" y=\"70.5\" /><use xlink:href=\"#black\" x=\"70.5\" y=\"70.5\" /><use xlink:href=\"#white\" x=\"90.5\" y=\"70.5\" /><use xlink:href=\"#white\" x=\"10.5\" y=\"90.5\" /><use xlink:href=\"#white\" x=\"30.5\" y=\"90.5\" /><use xlink:href=\"#white\" x=\"50.5\" y=\"90.5\" /><use xlink:href=\"#black\" x=\"70.5\" y=\"90.5\" /><use xlink:href=\"#white\" x=\"90.5\" y=\"90.5\" /><use xlink:href=\"#white\" x=\"110.5\" y=\"90.5\" /><use xlink:href=\"#white\" x=\"130.5\" y=\"90.5\" /><use xlink:href=\"#white\" x=\"30.5\" y=\"110.5\" /><use xlink:href=\"#white\" x=\"50.5\" y=\"110.5\" /><use xlink:href=\"#white\" x=\"70.5\" y=\"110.5\" /></svg>"
      ],
      "text/plain": [
       " |abcdefgh\n",
       "-+--------\n",
       "1|x..xxx..\n",
       "2|xooooo..\n",
       "3|xxoxo...\n",
       "4|xoxxo...\n",
       "5|oooxooo.\n",
       "6|.ooo....\n",
       "7|........\n",
       "8|........"
      ]
     },
     "metadata": {},
     "output_type": "display_data"
    },
    {
     "data": {
      "image/png": "[encoded data removed]",
      "text/plain": [
       "<Figure size 300x300 with 1 Axes>"
      ]
     },
     "metadata": {},
     "output_type": "display_data"
    },
    {
     "data": {
      "image/svg+xml": [
       "<svg xmlns=\"http://www.w3.org/2000/svg\" version=\"1.1\" xmlns:xlink=\"http://www.w3.org/1999/xlink\" width=\"215.0\" height=\"215.0\" viewBox=\"0 0 172 172\"><defs><g id=\"black\"><circle cx=\"10\" cy=\"10\" r=\"8.5\" fill=\"black\" /></g><g id=\"white\"><circle cx=\"10\" cy=\"10\" r=\"8.5\" fill=\"white\" /></g></defs><rect fill=\"green\" height=\"161\" width=\"161\" x=\"10\" y=\"10\" /><g stroke=\"black\"><rect width=\"161\" height=\"161\" stroke-width=\"1.5\" fill=\"none\" x=\"10\" y=\"10\" /><line stroke-width=\"1.0\" x1=\"10.5\" x2=\"170.5\" y1=\"30.5\" y2=\"30.5\" /><line stroke-width=\"1.0\" x1=\"10.5\" x2=\"170.5\" y1=\"50.5\" y2=\"50.5\" /><line stroke-width=\"1.0\" x1=\"10.5\" x2=\"170.5\" y1=\"70.5\" y2=\"70.5\" /><line stroke-width=\"1.0\" x1=\"10.5\" x2=\"170.5\" y1=\"90.5\" y2=\"90.5\" /><line stroke-width=\"1.0\" x1=\"10.5\" x2=\"170.5\" y1=\"110.5\" y2=\"110.5\" /><line stroke-width=\"1.0\" x1=\"10.5\" x2=\"170.5\" y1=\"130.5\" y2=\"130.5\" /><line stroke-width=\"1.0\" x1=\"10.5\" x2=\"170.5\" y1=\"150.5\" y2=\"150.5\" /><line stroke-width=\"1.0\" x1=\"30.5\" x2=\"30.5\" y1=\"10.5\" y2=\"170.5\" /><line stroke-width=\"1.0\" x1=\"50.5\" x2=\"50.5\" y1=\"10.5\" y2=\"170.5\" /><line stroke-width=\"1.0\" x1=\"70.5\" x2=\"70.5\" y1=\"10.5\" y2=\"170.5\" /><line stroke-width=\"1.0\" x1=\"90.5\" x2=\"90.5\" y1=\"10.5\" y2=\"170.5\" /><line stroke-width=\"1.0\" x1=\"110.5\" x2=\"110.5\" y1=\"10.5\" y2=\"170.5\" /><line stroke-width=\"1.0\" x1=\"130.5\" x2=\"130.5\" y1=\"10.5\" y2=\"170.5\" /><line stroke-width=\"1.0\" x1=\"150.5\" x2=\"150.5\" y1=\"10.5\" y2=\"170.5\" /></g><g><text font-family=\"serif\" font-size=\"9.5\" text-anchor=\"middle\" x=\"20.5\" y=\"8\">a</text><text font-family=\"serif\" font-size=\"9.5\" text-anchor=\"middle\" x=\"40.5\" y=\"8\">b</text><text font-family=\"serif\" font-size=\"9.5\" text-anchor=\"middle\" x=\"60.5\" y=\"8\">c</text><text font-family=\"serif\" font-size=\"9.5\" text-anchor=\"middle\" x=\"80.5\" y=\"8\">d</text><text font-family=\"serif\" font-size=\"9.5\" text-anchor=\"middle\" x=\"100.5\" y=\"8\">e</text><text font-family=\"serif\" font-size=\"9.5\" text-anchor=\"middle\" x=\"120.5\" y=\"8\">f</text><text font-family=\"serif\" font-size=\"9.5\" text-anchor=\"middle\" x=\"140.5\" y=\"8\">g</text><text font-family=\"serif\" font-size=\"9.5\" text-anchor=\"middle\" x=\"160.5\" y=\"8\">h</text><text font-family=\"serif\" font-size=\"9.5\" x=\"2.5\" y=\"23.5\">1</text><text font-family=\"serif\" font-size=\"9.5\" x=\"2.5\" y=\"43.5\">2</text><text font-family=\"serif\" font-size=\"9.5\" x=\"2.5\" y=\"63.5\">3</text><text font-family=\"serif\" font-size=\"9.5\" x=\"2.5\" y=\"83.5\">4</text><text font-family=\"serif\" font-size=\"9.5\" x=\"2.5\" y=\"103.5\">5</text><text font-family=\"serif\" font-size=\"9.5\" x=\"2.5\" y=\"123.5\">6</text><text font-family=\"serif\" font-size=\"9.5\" x=\"2.5\" y=\"143.5\">7</text><text font-family=\"serif\" font-size=\"9.5\" x=\"2.5\" y=\"163.5\">8</text></g><use xlink:href=\"#black\" x=\"10.5\" y=\"10.5\" /><use xlink:href=\"#black\" x=\"70.5\" y=\"10.5\" /><use xlink:href=\"#black\" x=\"90.5\" y=\"10.5\" /><use xlink:href=\"#black\" x=\"110.5\" y=\"10.5\" /><use xlink:href=\"#black\" x=\"10.5\" y=\"30.5\" /><use xlink:href=\"#white\" x=\"30.5\" y=\"30.5\" /><use xlink:href=\"#white\" x=\"50.5\" y=\"30.5\" /><use xlink:href=\"#white\" x=\"70.5\" y=\"30.5\" /><use xlink:href=\"#white\" x=\"90.5\" y=\"30.5\" /><use xlink:href=\"#white\" x=\"110.5\" y=\"30.5\" /><use xlink:href=\"#black\" x=\"10.5\" y=\"50.5\" /><use xlink:href=\"#black\" x=\"30.5\" y=\"50.5\" /><use xlink:href=\"#white\" x=\"50.5\" y=\"50.5\" /><use xlink:href=\"#black\" x=\"70.5\" y=\"50.5\" /><use xlink:href=\"#white\" x=\"90.5\" y=\"50.5\" /><use xlink:href=\"#black\" x=\"10.5\" y=\"70.5\" /><use xlink:href=\"#white\" x=\"30.5\" y=\"70.5\" /><use xlink:href=\"#black\" x=\"50.5\" y=\"70.5\" /><use xlink:href=\"#black\" x=\"70.5\" y=\"70.5\" /><use xlink:href=\"#white\" x=\"90.5\" y=\"70.5\" /><use xlink:href=\"#black\" x=\"10.5\" y=\"90.5\" /><use xlink:href=\"#black\" x=\"30.5\" y=\"90.5\" /><use xlink:href=\"#white\" x=\"50.5\" y=\"90.5\" /><use xlink:href=\"#black\" x=\"70.5\" y=\"90.5\" /><use xlink:href=\"#white\" x=\"90.5\" y=\"90.5\" /><use xlink:href=\"#white\" x=\"110.5\" y=\"90.5\" /><use xlink:href=\"#white\" x=\"130.5\" y=\"90.5\" /><use xlink:href=\"#black\" x=\"10.5\" y=\"110.5\" /><use xlink:href=\"#white\" x=\"30.5\" y=\"110.5\" /><use xlink:href=\"#white\" x=\"50.5\" y=\"110.5\" /><use xlink:href=\"#white\" x=\"70.5\" y=\"110.5\" /></svg>"
      ],
      "text/plain": [
       " |abcdefgh\n",
       "-+--------\n",
       "1|x..xxx..\n",
       "2|xooooo..\n",
       "3|xxoxo...\n",
       "4|xoxxo...\n",
       "5|xxoxooo.\n",
       "6|xooo....\n",
       "7|........\n",
       "8|........"
      ]
     },
     "metadata": {},
     "output_type": "display_data"
    },
    {
     "data": {
      "image/svg+xml": [
       "<svg xmlns=\"http://www.w3.org/2000/svg\" version=\"1.1\" xmlns:xlink=\"http://www.w3.org/1999/xlink\" width=\"215.0\" height=\"215.0\" viewBox=\"0 0 172 172\"><defs><g id=\"black\"><circle cx=\"10\" cy=\"10\" r=\"8.5\" fill=\"black\" /></g><g id=\"white\"><circle cx=\"10\" cy=\"10\" r=\"8.5\" fill=\"white\" /></g></defs><rect fill=\"green\" height=\"161\" width=\"161\" x=\"10\" y=\"10\" /><g stroke=\"black\"><rect width=\"161\" height=\"161\" stroke-width=\"1.5\" fill=\"none\" x=\"10\" y=\"10\" /><line stroke-width=\"1.0\" x1=\"10.5\" x2=\"170.5\" y1=\"30.5\" y2=\"30.5\" /><line stroke-width=\"1.0\" x1=\"10.5\" x2=\"170.5\" y1=\"50.5\" y2=\"50.5\" /><line stroke-width=\"1.0\" x1=\"10.5\" x2=\"170.5\" y1=\"70.5\" y2=\"70.5\" /><line stroke-width=\"1.0\" x1=\"10.5\" x2=\"170.5\" y1=\"90.5\" y2=\"90.5\" /><line stroke-width=\"1.0\" x1=\"10.5\" x2=\"170.5\" y1=\"110.5\" y2=\"110.5\" /><line stroke-width=\"1.0\" x1=\"10.5\" x2=\"170.5\" y1=\"130.5\" y2=\"130.5\" /><line stroke-width=\"1.0\" x1=\"10.5\" x2=\"170.5\" y1=\"150.5\" y2=\"150.5\" /><line stroke-width=\"1.0\" x1=\"30.5\" x2=\"30.5\" y1=\"10.5\" y2=\"170.5\" /><line stroke-width=\"1.0\" x1=\"50.5\" x2=\"50.5\" y1=\"10.5\" y2=\"170.5\" /><line stroke-width=\"1.0\" x1=\"70.5\" x2=\"70.5\" y1=\"10.5\" y2=\"170.5\" /><line stroke-width=\"1.0\" x1=\"90.5\" x2=\"90.5\" y1=\"10.5\" y2=\"170.5\" /><line stroke-width=\"1.0\" x1=\"110.5\" x2=\"110.5\" y1=\"10.5\" y2=\"170.5\" /><line stroke-width=\"1.0\" x1=\"130.5\" x2=\"130.5\" y1=\"10.5\" y2=\"170.5\" /><line stroke-width=\"1.0\" x1=\"150.5\" x2=\"150.5\" y1=\"10.5\" y2=\"170.5\" /></g><g><text font-family=\"serif\" font-size=\"9.5\" text-anchor=\"middle\" x=\"20.5\" y=\"8\">a</text><text font-family=\"serif\" font-size=\"9.5\" text-anchor=\"middle\" x=\"40.5\" y=\"8\">b</text><text font-family=\"serif\" font-size=\"9.5\" text-anchor=\"middle\" x=\"60.5\" y=\"8\">c</text><text font-family=\"serif\" font-size=\"9.5\" text-anchor=\"middle\" x=\"80.5\" y=\"8\">d</text><text font-family=\"serif\" font-size=\"9.5\" text-anchor=\"middle\" x=\"100.5\" y=\"8\">e</text><text font-family=\"serif\" font-size=\"9.5\" text-anchor=\"middle\" x=\"120.5\" y=\"8\">f</text><text font-family=\"serif\" font-size=\"9.5\" text-anchor=\"middle\" x=\"140.5\" y=\"8\">g</text><text font-family=\"serif\" font-size=\"9.5\" text-anchor=\"middle\" x=\"160.5\" y=\"8\">h</text><text font-family=\"serif\" font-size=\"9.5\" x=\"2.5\" y=\"23.5\">1</text><text font-family=\"serif\" font-size=\"9.5\" x=\"2.5\" y=\"43.5\">2</text><text font-family=\"serif\" font-size=\"9.5\" x=\"2.5\" y=\"63.5\">3</text><text font-family=\"serif\" font-size=\"9.5\" x=\"2.5\" y=\"83.5\">4</text><text font-family=\"serif\" font-size=\"9.5\" x=\"2.5\" y=\"103.5\">5</text><text font-family=\"serif\" font-size=\"9.5\" x=\"2.5\" y=\"123.5\">6</text><text font-family=\"serif\" font-size=\"9.5\" x=\"2.5\" y=\"143.5\">7</text><text font-family=\"serif\" font-size=\"9.5\" x=\"2.5\" y=\"163.5\">8</text></g><use xlink:href=\"#black\" x=\"10.5\" y=\"10.5\" /><use xlink:href=\"#black\" x=\"70.5\" y=\"10.5\" /><use xlink:href=\"#black\" x=\"90.5\" y=\"10.5\" /><use xlink:href=\"#black\" x=\"110.5\" y=\"10.5\" /><use xlink:href=\"#black\" x=\"10.5\" y=\"30.5\" /><use xlink:href=\"#white\" x=\"30.5\" y=\"30.5\" /><use xlink:href=\"#white\" x=\"50.5\" y=\"30.5\" /><use xlink:href=\"#white\" x=\"70.5\" y=\"30.5\" /><use xlink:href=\"#white\" x=\"90.5\" y=\"30.5\" /><use xlink:href=\"#white\" x=\"110.5\" y=\"30.5\" /><use xlink:href=\"#black\" x=\"10.5\" y=\"50.5\" /><use xlink:href=\"#black\" x=\"30.5\" y=\"50.5\" /><use xlink:href=\"#white\" x=\"50.5\" y=\"50.5\" /><use xlink:href=\"#black\" x=\"70.5\" y=\"50.5\" /><use xlink:href=\"#white\" x=\"90.5\" y=\"50.5\" /><use xlink:href=\"#black\" x=\"10.5\" y=\"70.5\" /><use xlink:href=\"#white\" x=\"30.5\" y=\"70.5\" /><use xlink:href=\"#black\" x=\"50.5\" y=\"70.5\" /><use xlink:href=\"#black\" x=\"70.5\" y=\"70.5\" /><use xlink:href=\"#white\" x=\"90.5\" y=\"70.5\" /><use xlink:href=\"#black\" x=\"10.5\" y=\"90.5\" /><use xlink:href=\"#black\" x=\"30.5\" y=\"90.5\" /><use xlink:href=\"#white\" x=\"50.5\" y=\"90.5\" /><use xlink:href=\"#black\" x=\"70.5\" y=\"90.5\" /><use xlink:href=\"#white\" x=\"90.5\" y=\"90.5\" /><use xlink:href=\"#white\" x=\"110.5\" y=\"90.5\" /><use xlink:href=\"#white\" x=\"130.5\" y=\"90.5\" /><use xlink:href=\"#black\" x=\"10.5\" y=\"110.5\" /><use xlink:href=\"#white\" x=\"30.5\" y=\"110.5\" /><use xlink:href=\"#white\" x=\"50.5\" y=\"110.5\" /><use xlink:href=\"#white\" x=\"70.5\" y=\"110.5\" /></svg>"
      ],
      "text/plain": [
       " |abcdefgh\n",
       "-+--------\n",
       "1|x..xxx..\n",
       "2|xooooo..\n",
       "3|xxoxo...\n",
       "4|xoxxo...\n",
       "5|xxoxooo.\n",
       "6|xooo....\n",
       "7|........\n",
       "8|........"
      ]
     },
     "metadata": {},
     "output_type": "display_data"
    },
    {
     "data": {
      "image/png": "[encoded data removed]",
      "text/plain": [
       "<Figure size 300x300 with 1 Axes>"
      ]
     },
     "metadata": {},
     "output_type": "display_data"
    },
    {
     "data": {
      "image/svg+xml": [
       "<svg xmlns=\"http://www.w3.org/2000/svg\" version=\"1.1\" xmlns:xlink=\"http://www.w3.org/1999/xlink\" width=\"215.0\" height=\"215.0\" viewBox=\"0 0 172 172\"><defs><g id=\"black\"><circle cx=\"10\" cy=\"10\" r=\"8.5\" fill=\"black\" /></g><g id=\"white\"><circle cx=\"10\" cy=\"10\" r=\"8.5\" fill=\"white\" /></g></defs><rect fill=\"green\" height=\"161\" width=\"161\" x=\"10\" y=\"10\" /><g stroke=\"black\"><rect width=\"161\" height=\"161\" stroke-width=\"1.5\" fill=\"none\" x=\"10\" y=\"10\" /><line stroke-width=\"1.0\" x1=\"10.5\" x2=\"170.5\" y1=\"30.5\" y2=\"30.5\" /><line stroke-width=\"1.0\" x1=\"10.5\" x2=\"170.5\" y1=\"50.5\" y2=\"50.5\" /><line stroke-width=\"1.0\" x1=\"10.5\" x2=\"170.5\" y1=\"70.5\" y2=\"70.5\" /><line stroke-width=\"1.0\" x1=\"10.5\" x2=\"170.5\" y1=\"90.5\" y2=\"90.5\" /><line stroke-width=\"1.0\" x1=\"10.5\" x2=\"170.5\" y1=\"110.5\" y2=\"110.5\" /><line stroke-width=\"1.0\" x1=\"10.5\" x2=\"170.5\" y1=\"130.5\" y2=\"130.5\" /><line stroke-width=\"1.0\" x1=\"10.5\" x2=\"170.5\" y1=\"150.5\" y2=\"150.5\" /><line stroke-width=\"1.0\" x1=\"30.5\" x2=\"30.5\" y1=\"10.5\" y2=\"170.5\" /><line stroke-width=\"1.0\" x1=\"50.5\" x2=\"50.5\" y1=\"10.5\" y2=\"170.5\" /><line stroke-width=\"1.0\" x1=\"70.5\" x2=\"70.5\" y1=\"10.5\" y2=\"170.5\" /><line stroke-width=\"1.0\" x1=\"90.5\" x2=\"90.5\" y1=\"10.5\" y2=\"170.5\" /><line stroke-width=\"1.0\" x1=\"110.5\" x2=\"110.5\" y1=\"10.5\" y2=\"170.5\" /><line stroke-width=\"1.0\" x1=\"130.5\" x2=\"130.5\" y1=\"10.5\" y2=\"170.5\" /><line stroke-width=\"1.0\" x1=\"150.5\" x2=\"150.5\" y1=\"10.5\" y2=\"170.5\" /></g><g><text font-family=\"serif\" font-size=\"9.5\" text-anchor=\"middle\" x=\"20.5\" y=\"8\">a</text><text font-family=\"serif\" font-size=\"9.5\" text-anchor=\"middle\" x=\"40.5\" y=\"8\">b</text><text font-family=\"serif\" font-size=\"9.5\" text-anchor=\"middle\" x=\"60.5\" y=\"8\">c</text><text font-family=\"serif\" font-size=\"9.5\" text-anchor=\"middle\" x=\"80.5\" y=\"8\">d</text><text font-family=\"serif\" font-size=\"9.5\" text-anchor=\"middle\" x=\"100.5\" y=\"8\">e</text><text font-family=\"serif\" font-size=\"9.5\" text-anchor=\"middle\" x=\"120.5\" y=\"8\">f</text><text font-family=\"serif\" font-size=\"9.5\" text-anchor=\"middle\" x=\"140.5\" y=\"8\">g</text><text font-family=\"serif\" font-size=\"9.5\" text-anchor=\"middle\" x=\"160.5\" y=\"8\">h</text><text font-family=\"serif\" font-size=\"9.5\" x=\"2.5\" y=\"23.5\">1</text><text font-family=\"serif\" font-size=\"9.5\" x=\"2.5\" y=\"43.5\">2</text><text font-family=\"serif\" font-size=\"9.5\" x=\"2.5\" y=\"63.5\">3</text><text font-family=\"serif\" font-size=\"9.5\" x=\"2.5\" y=\"83.5\">4</text><text font-family=\"serif\" font-size=\"9.5\" x=\"2.5\" y=\"103.5\">5</text><text font-family=\"serif\" font-size=\"9.5\" x=\"2.5\" y=\"123.5\">6</text><text font-family=\"serif\" font-size=\"9.5\" x=\"2.5\" y=\"143.5\">7</text><text font-family=\"serif\" font-size=\"9.5\" x=\"2.5\" y=\"163.5\">8</text></g><use xlink:href=\"#black\" x=\"10.5\" y=\"10.5\" /><use xlink:href=\"#black\" x=\"70.5\" y=\"10.5\" /><use xlink:href=\"#black\" x=\"90.5\" y=\"10.5\" /><use xlink:href=\"#black\" x=\"110.5\" y=\"10.5\" /><use xlink:href=\"#black\" x=\"130.5\" y=\"10.5\" /><use xlink:href=\"#black\" x=\"10.5\" y=\"30.5\" /><use xlink:href=\"#white\" x=\"30.5\" y=\"30.5\" /><use xlink:href=\"#white\" x=\"50.5\" y=\"30.5\" /><use xlink:href=\"#white\" x=\"70.5\" y=\"30.5\" /><use xlink:href=\"#white\" x=\"90.5\" y=\"30.5\" /><use xlink:href=\"#black\" x=\"110.5\" y=\"30.5\" /><use xlink:href=\"#black\" x=\"10.5\" y=\"50.5\" /><use xlink:href=\"#black\" x=\"30.5\" y=\"50.5\" /><use xlink:href=\"#white\" x=\"50.5\" y=\"50.5\" /><use xlink:href=\"#black\" x=\"70.5\" y=\"50.5\" /><use xlink:href=\"#black\" x=\"90.5\" y=\"50.5\" /><use xlink:href=\"#black\" x=\"10.5\" y=\"70.5\" /><use xlink:href=\"#white\" x=\"30.5\" y=\"70.5\" /><use xlink:href=\"#black\" x=\"50.5\" y=\"70.5\" /><use xlink:href=\"#black\" x=\"70.5\" y=\"70.5\" /><use xlink:href=\"#white\" x=\"90.5\" y=\"70.5\" /><use xlink:href=\"#black\" x=\"10.5\" y=\"90.5\" /><use xlink:href=\"#black\" x=\"30.5\" y=\"90.5\" /><use xlink:href=\"#white\" x=\"50.5\" y=\"90.5\" /><use xlink:href=\"#black\" x=\"70.5\" y=\"90.5\" /><use xlink:href=\"#white\" x=\"90.5\" y=\"90.5\" /><use xlink:href=\"#white\" x=\"110.5\" y=\"90.5\" /><use xlink:href=\"#white\" x=\"130.5\" y=\"90.5\" /><use xlink:href=\"#black\" x=\"10.5\" y=\"110.5\" /><use xlink:href=\"#white\" x=\"30.5\" y=\"110.5\" /><use xlink:href=\"#white\" x=\"50.5\" y=\"110.5\" /><use xlink:href=\"#white\" x=\"70.5\" y=\"110.5\" /></svg>"
      ],
      "text/plain": [
       " |abcdefgh\n",
       "-+--------\n",
       "1|x..xxxx.\n",
       "2|xoooox..\n",
       "3|xxoxx...\n",
       "4|xoxxo...\n",
       "5|xxoxooo.\n",
       "6|xooo....\n",
       "7|........\n",
       "8|........"
      ]
     },
     "metadata": {},
     "output_type": "display_data"
    },
    {
     "data": {
      "image/svg+xml": [
       "<svg xmlns=\"http://www.w3.org/2000/svg\" version=\"1.1\" xmlns:xlink=\"http://www.w3.org/1999/xlink\" width=\"215.0\" height=\"215.0\" viewBox=\"0 0 172 172\"><defs><g id=\"black\"><circle cx=\"10\" cy=\"10\" r=\"8.5\" fill=\"black\" /></g><g id=\"white\"><circle cx=\"10\" cy=\"10\" r=\"8.5\" fill=\"white\" /></g></defs><rect fill=\"green\" height=\"161\" width=\"161\" x=\"10\" y=\"10\" /><g stroke=\"black\"><rect width=\"161\" height=\"161\" stroke-width=\"1.5\" fill=\"none\" x=\"10\" y=\"10\" /><line stroke-width=\"1.0\" x1=\"10.5\" x2=\"170.5\" y1=\"30.5\" y2=\"30.5\" /><line stroke-width=\"1.0\" x1=\"10.5\" x2=\"170.5\" y1=\"50.5\" y2=\"50.5\" /><line stroke-width=\"1.0\" x1=\"10.5\" x2=\"170.5\" y1=\"70.5\" y2=\"70.5\" /><line stroke-width=\"1.0\" x1=\"10.5\" x2=\"170.5\" y1=\"90.5\" y2=\"90.5\" /><line stroke-width=\"1.0\" x1=\"10.5\" x2=\"170.5\" y1=\"110.5\" y2=\"110.5\" /><line stroke-width=\"1.0\" x1=\"10.5\" x2=\"170.5\" y1=\"130.5\" y2=\"130.5\" /><line stroke-width=\"1.0\" x1=\"10.5\" x2=\"170.5\" y1=\"150.5\" y2=\"150.5\" /><line stroke-width=\"1.0\" x1=\"30.5\" x2=\"30.5\" y1=\"10.5\" y2=\"170.5\" /><line stroke-width=\"1.0\" x1=\"50.5\" x2=\"50.5\" y1=\"10.5\" y2=\"170.5\" /><line stroke-width=\"1.0\" x1=\"70.5\" x2=\"70.5\" y1=\"10.5\" y2=\"170.5\" /><line stroke-width=\"1.0\" x1=\"90.5\" x2=\"90.5\" y1=\"10.5\" y2=\"170.5\" /><line stroke-width=\"1.0\" x1=\"110.5\" x2=\"110.5\" y1=\"10.5\" y2=\"170.5\" /><line stroke-width=\"1.0\" x1=\"130.5\" x2=\"130.5\" y1=\"10.5\" y2=\"170.5\" /><line stroke-width=\"1.0\" x1=\"150.5\" x2=\"150.5\" y1=\"10.5\" y2=\"170.5\" /></g><g><text font-family=\"serif\" font-size=\"9.5\" text-anchor=\"middle\" x=\"20.5\" y=\"8\">a</text><text font-family=\"serif\" font-size=\"9.5\" text-anchor=\"middle\" x=\"40.5\" y=\"8\">b</text><text font-family=\"serif\" font-size=\"9.5\" text-anchor=\"middle\" x=\"60.5\" y=\"8\">c</text><text font-family=\"serif\" font-size=\"9.5\" text-anchor=\"middle\" x=\"80.5\" y=\"8\">d</text><text font-family=\"serif\" font-size=\"9.5\" text-anchor=\"middle\" x=\"100.5\" y=\"8\">e</text><text font-family=\"serif\" font-size=\"9.5\" text-anchor=\"middle\" x=\"120.5\" y=\"8\">f</text><text font-family=\"serif\" font-size=\"9.5\" text-anchor=\"middle\" x=\"140.5\" y=\"8\">g</text><text font-family=\"serif\" font-size=\"9.5\" text-anchor=\"middle\" x=\"160.5\" y=\"8\">h</text><text font-family=\"serif\" font-size=\"9.5\" x=\"2.5\" y=\"23.5\">1</text><text font-family=\"serif\" font-size=\"9.5\" x=\"2.5\" y=\"43.5\">2</text><text font-family=\"serif\" font-size=\"9.5\" x=\"2.5\" y=\"63.5\">3</text><text font-family=\"serif\" font-size=\"9.5\" x=\"2.5\" y=\"83.5\">4</text><text font-family=\"serif\" font-size=\"9.5\" x=\"2.5\" y=\"103.5\">5</text><text font-family=\"serif\" font-size=\"9.5\" x=\"2.5\" y=\"123.5\">6</text><text font-family=\"serif\" font-size=\"9.5\" x=\"2.5\" y=\"143.5\">7</text><text font-family=\"serif\" font-size=\"9.5\" x=\"2.5\" y=\"163.5\">8</text></g><use xlink:href=\"#black\" x=\"10.5\" y=\"10.5\" /><use xlink:href=\"#black\" x=\"70.5\" y=\"10.5\" /><use xlink:href=\"#black\" x=\"90.5\" y=\"10.5\" /><use xlink:href=\"#black\" x=\"110.5\" y=\"10.5\" /><use xlink:href=\"#black\" x=\"130.5\" y=\"10.5\" /><use xlink:href=\"#black\" x=\"10.5\" y=\"30.5\" /><use xlink:href=\"#white\" x=\"30.5\" y=\"30.5\" /><use xlink:href=\"#white\" x=\"50.5\" y=\"30.5\" /><use xlink:href=\"#white\" x=\"70.5\" y=\"30.5\" /><use xlink:href=\"#white\" x=\"90.5\" y=\"30.5\" /><use xlink:href=\"#black\" x=\"110.5\" y=\"30.5\" /><use xlink:href=\"#black\" x=\"10.5\" y=\"50.5\" /><use xlink:href=\"#black\" x=\"30.5\" y=\"50.5\" /><use xlink:href=\"#white\" x=\"50.5\" y=\"50.5\" /><use xlink:href=\"#white\" x=\"70.5\" y=\"50.5\" /><use xlink:href=\"#white\" x=\"90.5\" y=\"50.5\" /><use xlink:href=\"#white\" x=\"110.5\" y=\"50.5\" /><use xlink:href=\"#black\" x=\"10.5\" y=\"70.5\" /><use xlink:href=\"#white\" x=\"30.5\" y=\"70.5\" /><use xlink:href=\"#black\" x=\"50.5\" y=\"70.5\" /><use xlink:href=\"#black\" x=\"70.5\" y=\"70.5\" /><use xlink:href=\"#white\" x=\"90.5\" y=\"70.5\" /><use xlink:href=\"#black\" x=\"10.5\" y=\"90.5\" /><use xlink:href=\"#black\" x=\"30.5\" y=\"90.5\" /><use xlink:href=\"#white\" x=\"50.5\" y=\"90.5\" /><use xlink:href=\"#black\" x=\"70.5\" y=\"90.5\" /><use xlink:href=\"#white\" x=\"90.5\" y=\"90.5\" /><use xlink:href=\"#white\" x=\"110.5\" y=\"90.5\" /><use xlink:href=\"#white\" x=\"130.5\" y=\"90.5\" /><use xlink:href=\"#black\" x=\"10.5\" y=\"110.5\" /><use xlink:href=\"#white\" x=\"30.5\" y=\"110.5\" /><use xlink:href=\"#white\" x=\"50.5\" y=\"110.5\" /><use xlink:href=\"#white\" x=\"70.5\" y=\"110.5\" /></svg>"
      ],
      "text/plain": [
       " |abcdefgh\n",
       "-+--------\n",
       "1|x..xxxx.\n",
       "2|xoooox..\n",
       "3|xxoooo..\n",
       "4|xoxxo...\n",
       "5|xxoxooo.\n",
       "6|xooo....\n",
       "7|........\n",
       "8|........"
      ]
     },
     "metadata": {},
     "output_type": "display_data"
    },
    {
     "data": {
      "image/png": "[encoded data removed]",
      "text/plain": [
       "<Figure size 300x300 with 1 Axes>"
      ]
     },
     "metadata": {},
     "output_type": "display_data"
    },
    {
     "data": {
      "image/svg+xml": [
       "<svg xmlns=\"http://www.w3.org/2000/svg\" version=\"1.1\" xmlns:xlink=\"http://www.w3.org/1999/xlink\" width=\"215.0\" height=\"215.0\" viewBox=\"0 0 172 172\"><defs><g id=\"black\"><circle cx=\"10\" cy=\"10\" r=\"8.5\" fill=\"black\" /></g><g id=\"white\"><circle cx=\"10\" cy=\"10\" r=\"8.5\" fill=\"white\" /></g></defs><rect fill=\"green\" height=\"161\" width=\"161\" x=\"10\" y=\"10\" /><g stroke=\"black\"><rect width=\"161\" height=\"161\" stroke-width=\"1.5\" fill=\"none\" x=\"10\" y=\"10\" /><line stroke-width=\"1.0\" x1=\"10.5\" x2=\"170.5\" y1=\"30.5\" y2=\"30.5\" /><line stroke-width=\"1.0\" x1=\"10.5\" x2=\"170.5\" y1=\"50.5\" y2=\"50.5\" /><line stroke-width=\"1.0\" x1=\"10.5\" x2=\"170.5\" y1=\"70.5\" y2=\"70.5\" /><line stroke-width=\"1.0\" x1=\"10.5\" x2=\"170.5\" y1=\"90.5\" y2=\"90.5\" /><line stroke-width=\"1.0\" x1=\"10.5\" x2=\"170.5\" y1=\"110.5\" y2=\"110.5\" /><line stroke-width=\"1.0\" x1=\"10.5\" x2=\"170.5\" y1=\"130.5\" y2=\"130.5\" /><line stroke-width=\"1.0\" x1=\"10.5\" x2=\"170.5\" y1=\"150.5\" y2=\"150.5\" /><line stroke-width=\"1.0\" x1=\"30.5\" x2=\"30.5\" y1=\"10.5\" y2=\"170.5\" /><line stroke-width=\"1.0\" x1=\"50.5\" x2=\"50.5\" y1=\"10.5\" y2=\"170.5\" /><line stroke-width=\"1.0\" x1=\"70.5\" x2=\"70.5\" y1=\"10.5\" y2=\"170.5\" /><line stroke-width=\"1.0\" x1=\"90.5\" x2=\"90.5\" y1=\"10.5\" y2=\"170.5\" /><line stroke-width=\"1.0\" x1=\"110.5\" x2=\"110.5\" y1=\"10.5\" y2=\"170.5\" /><line stroke-width=\"1.0\" x1=\"130.5\" x2=\"130.5\" y1=\"10.5\" y2=\"170.5\" /><line stroke-width=\"1.0\" x1=\"150.5\" x2=\"150.5\" y1=\"10.5\" y2=\"170.5\" /></g><g><text font-family=\"serif\" font-size=\"9.5\" text-anchor=\"middle\" x=\"20.5\" y=\"8\">a</text><text font-family=\"serif\" font-size=\"9.5\" text-anchor=\"middle\" x=\"40.5\" y=\"8\">b</text><text font-family=\"serif\" font-size=\"9.5\" text-anchor=\"middle\" x=\"60.5\" y=\"8\">c</text><text font-family=\"serif\" font-size=\"9.5\" text-anchor=\"middle\" x=\"80.5\" y=\"8\">d</text><text font-family=\"serif\" font-size=\"9.5\" text-anchor=\"middle\" x=\"100.5\" y=\"8\">e</text><text font-family=\"serif\" font-size=\"9.5\" text-anchor=\"middle\" x=\"120.5\" y=\"8\">f</text><text font-family=\"serif\" font-size=\"9.5\" text-anchor=\"middle\" x=\"140.5\" y=\"8\">g</text><text font-family=\"serif\" font-size=\"9.5\" text-anchor=\"middle\" x=\"160.5\" y=\"8\">h</text><text font-family=\"serif\" font-size=\"9.5\" x=\"2.5\" y=\"23.5\">1</text><text font-family=\"serif\" font-size=\"9.5\" x=\"2.5\" y=\"43.5\">2</text><text font-family=\"serif\" font-size=\"9.5\" x=\"2.5\" y=\"63.5\">3</text><text font-family=\"serif\" font-size=\"9.5\" x=\"2.5\" y=\"83.5\">4</text><text font-family=\"serif\" font-size=\"9.5\" x=\"2.5\" y=\"103.5\">5</text><text font-family=\"serif\" font-size=\"9.5\" x=\"2.5\" y=\"123.5\">6</text><text font-family=\"serif\" font-size=\"9.5\" x=\"2.5\" y=\"143.5\">7</text><text font-family=\"serif\" font-size=\"9.5\" x=\"2.5\" y=\"163.5\">8</text></g><use xlink:href=\"#black\" x=\"10.5\" y=\"10.5\" /><use xlink:href=\"#black\" x=\"70.5\" y=\"10.5\" /><use xlink:href=\"#black\" x=\"90.5\" y=\"10.5\" /><use xlink:href=\"#black\" x=\"110.5\" y=\"10.5\" /><use xlink:href=\"#black\" x=\"130.5\" y=\"10.5\" /><use xlink:href=\"#black\" x=\"10.5\" y=\"30.5\" /><use xlink:href=\"#white\" x=\"30.5\" y=\"30.5\" /><use xlink:href=\"#white\" x=\"50.5\" y=\"30.5\" /><use xlink:href=\"#white\" x=\"70.5\" y=\"30.5\" /><use xlink:href=\"#white\" x=\"90.5\" y=\"30.5\" /><use xlink:href=\"#black\" x=\"110.5\" y=\"30.5\" /><use xlink:href=\"#black\" x=\"10.5\" y=\"50.5\" /><use xlink:href=\"#black\" x=\"30.5\" y=\"50.5\" /><use xlink:href=\"#white\" x=\"50.5\" y=\"50.5\" /><use xlink:href=\"#white\" x=\"70.5\" y=\"50.5\" /><use xlink:href=\"#white\" x=\"90.5\" y=\"50.5\" /><use xlink:href=\"#white\" x=\"110.5\" y=\"50.5\" /><use xlink:href=\"#black\" x=\"10.5\" y=\"70.5\" /><use xlink:href=\"#white\" x=\"30.5\" y=\"70.5\" /><use xlink:href=\"#black\" x=\"50.5\" y=\"70.5\" /><use xlink:href=\"#black\" x=\"70.5\" y=\"70.5\" /><use xlink:href=\"#white\" x=\"90.5\" y=\"70.5\" /><use xlink:href=\"#black\" x=\"10.5\" y=\"90.5\" /><use xlink:href=\"#black\" x=\"30.5\" y=\"90.5\" /><use xlink:href=\"#black\" x=\"50.5\" y=\"90.5\" /><use xlink:href=\"#black\" x=\"70.5\" y=\"90.5\" /><use xlink:href=\"#white\" x=\"90.5\" y=\"90.5\" /><use xlink:href=\"#white\" x=\"110.5\" y=\"90.5\" /><use xlink:href=\"#white\" x=\"130.5\" y=\"90.5\" /><use xlink:href=\"#black\" x=\"10.5\" y=\"110.5\" /><use xlink:href=\"#black\" x=\"30.5\" y=\"110.5\" /><use xlink:href=\"#white\" x=\"50.5\" y=\"110.5\" /><use xlink:href=\"#white\" x=\"70.5\" y=\"110.5\" /><use xlink:href=\"#black\" x=\"10.5\" y=\"130.5\" /></svg>"
      ],
      "text/plain": [
       " |abcdefgh\n",
       "-+--------\n",
       "1|x..xxxx.\n",
       "2|xoooox..\n",
       "3|xxoooo..\n",
       "4|xoxxo...\n",
       "5|xxxxooo.\n",
       "6|xxoo....\n",
       "7|x.......\n",
       "8|........"
      ]
     },
     "metadata": {},
     "output_type": "display_data"
    },
    {
     "data": {
      "image/svg+xml": [
       "<svg xmlns=\"http://www.w3.org/2000/svg\" version=\"1.1\" xmlns:xlink=\"http://www.w3.org/1999/xlink\" width=\"215.0\" height=\"215.0\" viewBox=\"0 0 172 172\"><defs><g id=\"black\"><circle cx=\"10\" cy=\"10\" r=\"8.5\" fill=\"black\" /></g><g id=\"white\"><circle cx=\"10\" cy=\"10\" r=\"8.5\" fill=\"white\" /></g></defs><rect fill=\"green\" height=\"161\" width=\"161\" x=\"10\" y=\"10\" /><g stroke=\"black\"><rect width=\"161\" height=\"161\" stroke-width=\"1.5\" fill=\"none\" x=\"10\" y=\"10\" /><line stroke-width=\"1.0\" x1=\"10.5\" x2=\"170.5\" y1=\"30.5\" y2=\"30.5\" /><line stroke-width=\"1.0\" x1=\"10.5\" x2=\"170.5\" y1=\"50.5\" y2=\"50.5\" /><line stroke-width=\"1.0\" x1=\"10.5\" x2=\"170.5\" y1=\"70.5\" y2=\"70.5\" /><line stroke-width=\"1.0\" x1=\"10.5\" x2=\"170.5\" y1=\"90.5\" y2=\"90.5\" /><line stroke-width=\"1.0\" x1=\"10.5\" x2=\"170.5\" y1=\"110.5\" y2=\"110.5\" /><line stroke-width=\"1.0\" x1=\"10.5\" x2=\"170.5\" y1=\"130.5\" y2=\"130.5\" /><line stroke-width=\"1.0\" x1=\"10.5\" x2=\"170.5\" y1=\"150.5\" y2=\"150.5\" /><line stroke-width=\"1.0\" x1=\"30.5\" x2=\"30.5\" y1=\"10.5\" y2=\"170.5\" /><line stroke-width=\"1.0\" x1=\"50.5\" x2=\"50.5\" y1=\"10.5\" y2=\"170.5\" /><line stroke-width=\"1.0\" x1=\"70.5\" x2=\"70.5\" y1=\"10.5\" y2=\"170.5\" /><line stroke-width=\"1.0\" x1=\"90.5\" x2=\"90.5\" y1=\"10.5\" y2=\"170.5\" /><line stroke-width=\"1.0\" x1=\"110.5\" x2=\"110.5\" y1=\"10.5\" y2=\"170.5\" /><line stroke-width=\"1.0\" x1=\"130.5\" x2=\"130.5\" y1=\"10.5\" y2=\"170.5\" /><line stroke-width=\"1.0\" x1=\"150.5\" x2=\"150.5\" y1=\"10.5\" y2=\"170.5\" /></g><g><text font-family=\"serif\" font-size=\"9.5\" text-anchor=\"middle\" x=\"20.5\" y=\"8\">a</text><text font-family=\"serif\" font-size=\"9.5\" text-anchor=\"middle\" x=\"40.5\" y=\"8\">b</text><text font-family=\"serif\" font-size=\"9.5\" text-anchor=\"middle\" x=\"60.5\" y=\"8\">c</text><text font-family=\"serif\" font-size=\"9.5\" text-anchor=\"middle\" x=\"80.5\" y=\"8\">d</text><text font-family=\"serif\" font-size=\"9.5\" text-anchor=\"middle\" x=\"100.5\" y=\"8\">e</text><text font-family=\"serif\" font-size=\"9.5\" text-anchor=\"middle\" x=\"120.5\" y=\"8\">f</text><text font-family=\"serif\" font-size=\"9.5\" text-anchor=\"middle\" x=\"140.5\" y=\"8\">g</text><text font-family=\"serif\" font-size=\"9.5\" text-anchor=\"middle\" x=\"160.5\" y=\"8\">h</text><text font-family=\"serif\" font-size=\"9.5\" x=\"2.5\" y=\"23.5\">1</text><text font-family=\"serif\" font-size=\"9.5\" x=\"2.5\" y=\"43.5\">2</text><text font-family=\"serif\" font-size=\"9.5\" x=\"2.5\" y=\"63.5\">3</text><text font-family=\"serif\" font-size=\"9.5\" x=\"2.5\" y=\"83.5\">4</text><text font-family=\"serif\" font-size=\"9.5\" x=\"2.5\" y=\"103.5\">5</text><text font-family=\"serif\" font-size=\"9.5\" x=\"2.5\" y=\"123.5\">6</text><text font-family=\"serif\" font-size=\"9.5\" x=\"2.5\" y=\"143.5\">7</text><text font-family=\"serif\" font-size=\"9.5\" x=\"2.5\" y=\"163.5\">8</text></g><use xlink:href=\"#black\" x=\"10.5\" y=\"10.5\" /><use xlink:href=\"#black\" x=\"70.5\" y=\"10.5\" /><use xlink:href=\"#black\" x=\"90.5\" y=\"10.5\" /><use xlink:href=\"#black\" x=\"110.5\" y=\"10.5\" /><use xlink:href=\"#black\" x=\"130.5\" y=\"10.5\" /><use xlink:href=\"#black\" x=\"10.5\" y=\"30.5\" /><use xlink:href=\"#white\" x=\"30.5\" y=\"30.5\" /><use xlink:href=\"#white\" x=\"50.5\" y=\"30.5\" /><use xlink:href=\"#white\" x=\"70.5\" y=\"30.5\" /><use xlink:href=\"#white\" x=\"90.5\" y=\"30.5\" /><use xlink:href=\"#white\" x=\"110.5\" y=\"30.5\" /><use xlink:href=\"#white\" x=\"130.5\" y=\"30.5\" /><use xlink:href=\"#black\" x=\"10.5\" y=\"50.5\" /><use xlink:href=\"#black\" x=\"30.5\" y=\"50.5\" /><use xlink:href=\"#white\" x=\"50.5\" y=\"50.5\" /><use xlink:href=\"#white\" x=\"70.5\" y=\"50.5\" /><use xlink:href=\"#white\" x=\"90.5\" y=\"50.5\" /><use xlink:href=\"#white\" x=\"110.5\" y=\"50.5\" /><use xlink:href=\"#black\" x=\"10.5\" y=\"70.5\" /><use xlink:href=\"#white\" x=\"30.5\" y=\"70.5\" /><use xlink:href=\"#black\" x=\"50.5\" y=\"70.5\" /><use xlink:href=\"#black\" x=\"70.5\" y=\"70.5\" /><use xlink:href=\"#white\" x=\"90.5\" y=\"70.5\" /><use xlink:href=\"#black\" x=\"10.5\" y=\"90.5\" /><use xlink:href=\"#black\" x=\"30.5\" y=\"90.5\" /><use xlink:href=\"#black\" x=\"50.5\" y=\"90.5\" /><use xlink:href=\"#black\" x=\"70.5\" y=\"90.5\" /><use xlink:href=\"#white\" x=\"90.5\" y=\"90.5\" /><use xlink:href=\"#white\" x=\"110.5\" y=\"90.5\" /><use xlink:href=\"#white\" x=\"130.5\" y=\"90.5\" /><use xlink:href=\"#black\" x=\"10.5\" y=\"110.5\" /><use xlink:href=\"#black\" x=\"30.5\" y=\"110.5\" /><use xlink:href=\"#white\" x=\"50.5\" y=\"110.5\" /><use xlink:href=\"#white\" x=\"70.5\" y=\"110.5\" /><use xlink:href=\"#black\" x=\"10.5\" y=\"130.5\" /></svg>"
      ],
      "text/plain": [
       " |abcdefgh\n",
       "-+--------\n",
       "1|x..xxxx.\n",
       "2|xoooooo.\n",
       "3|xxoooo..\n",
       "4|xoxxo...\n",
       "5|xxxxooo.\n",
       "6|xxoo....\n",
       "7|x.......\n",
       "8|........"
      ]
     },
     "metadata": {},
     "output_type": "display_data"
    },
    {
     "data": {
      "image/png": "[encoded data removed]",
      "text/plain": [
       "<Figure size 300x300 with 1 Axes>"
      ]
     },
     "metadata": {},
     "output_type": "display_data"
    },
    {
     "data": {
      "image/svg+xml": [
       "<svg xmlns=\"http://www.w3.org/2000/svg\" version=\"1.1\" xmlns:xlink=\"http://www.w3.org/1999/xlink\" width=\"215.0\" height=\"215.0\" viewBox=\"0 0 172 172\"><defs><g id=\"black\"><circle cx=\"10\" cy=\"10\" r=\"8.5\" fill=\"black\" /></g><g id=\"white\"><circle cx=\"10\" cy=\"10\" r=\"8.5\" fill=\"white\" /></g></defs><rect fill=\"green\" height=\"161\" width=\"161\" x=\"10\" y=\"10\" /><g stroke=\"black\"><rect width=\"161\" height=\"161\" stroke-width=\"1.5\" fill=\"none\" x=\"10\" y=\"10\" /><line stroke-width=\"1.0\" x1=\"10.5\" x2=\"170.5\" y1=\"30.5\" y2=\"30.5\" /><line stroke-width=\"1.0\" x1=\"10.5\" x2=\"170.5\" y1=\"50.5\" y2=\"50.5\" /><line stroke-width=\"1.0\" x1=\"10.5\" x2=\"170.5\" y1=\"70.5\" y2=\"70.5\" /><line stroke-width=\"1.0\" x1=\"10.5\" x2=\"170.5\" y1=\"90.5\" y2=\"90.5\" /><line stroke-width=\"1.0\" x1=\"10.5\" x2=\"170.5\" y1=\"110.5\" y2=\"110.5\" /><line stroke-width=\"1.0\" x1=\"10.5\" x2=\"170.5\" y1=\"130.5\" y2=\"130.5\" /><line stroke-width=\"1.0\" x1=\"10.5\" x2=\"170.5\" y1=\"150.5\" y2=\"150.5\" /><line stroke-width=\"1.0\" x1=\"30.5\" x2=\"30.5\" y1=\"10.5\" y2=\"170.5\" /><line stroke-width=\"1.0\" x1=\"50.5\" x2=\"50.5\" y1=\"10.5\" y2=\"170.5\" /><line stroke-width=\"1.0\" x1=\"70.5\" x2=\"70.5\" y1=\"10.5\" y2=\"170.5\" /><line stroke-width=\"1.0\" x1=\"90.5\" x2=\"90.5\" y1=\"10.5\" y2=\"170.5\" /><line stroke-width=\"1.0\" x1=\"110.5\" x2=\"110.5\" y1=\"10.5\" y2=\"170.5\" /><line stroke-width=\"1.0\" x1=\"130.5\" x2=\"130.5\" y1=\"10.5\" y2=\"170.5\" /><line stroke-width=\"1.0\" x1=\"150.5\" x2=\"150.5\" y1=\"10.5\" y2=\"170.5\" /></g><g><text font-family=\"serif\" font-size=\"9.5\" text-anchor=\"middle\" x=\"20.5\" y=\"8\">a</text><text font-family=\"serif\" font-size=\"9.5\" text-anchor=\"middle\" x=\"40.5\" y=\"8\">b</text><text font-family=\"serif\" font-size=\"9.5\" text-anchor=\"middle\" x=\"60.5\" y=\"8\">c</text><text font-family=\"serif\" font-size=\"9.5\" text-anchor=\"middle\" x=\"80.5\" y=\"8\">d</text><text font-family=\"serif\" font-size=\"9.5\" text-anchor=\"middle\" x=\"100.5\" y=\"8\">e</text><text font-family=\"serif\" font-size=\"9.5\" text-anchor=\"middle\" x=\"120.5\" y=\"8\">f</text><text font-family=\"serif\" font-size=\"9.5\" text-anchor=\"middle\" x=\"140.5\" y=\"8\">g</text><text font-family=\"serif\" font-size=\"9.5\" text-anchor=\"middle\" x=\"160.5\" y=\"8\">h</text><text font-family=\"serif\" font-size=\"9.5\" x=\"2.5\" y=\"23.5\">1</text><text font-family=\"serif\" font-size=\"9.5\" x=\"2.5\" y=\"43.5\">2</text><text font-family=\"serif\" font-size=\"9.5\" x=\"2.5\" y=\"63.5\">3</text><text font-family=\"serif\" font-size=\"9.5\" x=\"2.5\" y=\"83.5\">4</text><text font-family=\"serif\" font-size=\"9.5\" x=\"2.5\" y=\"103.5\">5</text><text font-family=\"serif\" font-size=\"9.5\" x=\"2.5\" y=\"123.5\">6</text><text font-family=\"serif\" font-size=\"9.5\" x=\"2.5\" y=\"143.5\">7</text><text font-family=\"serif\" font-size=\"9.5\" x=\"2.5\" y=\"163.5\">8</text></g><use xlink:href=\"#black\" x=\"10.5\" y=\"10.5\" /><use xlink:href=\"#black\" x=\"70.5\" y=\"10.5\" /><use xlink:href=\"#black\" x=\"90.5\" y=\"10.5\" /><use xlink:href=\"#black\" x=\"110.5\" y=\"10.5\" /><use xlink:href=\"#black\" x=\"130.5\" y=\"10.5\" /><use xlink:href=\"#black\" x=\"150.5\" y=\"10.5\" /><use xlink:href=\"#black\" x=\"10.5\" y=\"30.5\" /><use xlink:href=\"#white\" x=\"30.5\" y=\"30.5\" /><use xlink:href=\"#white\" x=\"50.5\" y=\"30.5\" /><use xlink:href=\"#white\" x=\"70.5\" y=\"30.5\" /><use xlink:href=\"#white\" x=\"90.5\" y=\"30.5\" /><use xlink:href=\"#white\" x=\"110.5\" y=\"30.5\" /><use xlink:href=\"#black\" x=\"130.5\" y=\"30.5\" /><use xlink:href=\"#black\" x=\"10.5\" y=\"50.5\" /><use xlink:href=\"#black\" x=\"30.5\" y=\"50.5\" /><use xlink:href=\"#white\" x=\"50.5\" y=\"50.5\" /><use xlink:href=\"#white\" x=\"70.5\" y=\"50.5\" /><use xlink:href=\"#white\" x=\"90.5\" y=\"50.5\" /><use xlink:href=\"#black\" x=\"110.5\" y=\"50.5\" /><use xlink:href=\"#black\" x=\"10.5\" y=\"70.5\" /><use xlink:href=\"#white\" x=\"30.5\" y=\"70.5\" /><use xlink:href=\"#black\" x=\"50.5\" y=\"70.5\" /><use xlink:href=\"#black\" x=\"70.5\" y=\"70.5\" /><use xlink:href=\"#black\" x=\"90.5\" y=\"70.5\" /><use xlink:href=\"#black\" x=\"10.5\" y=\"90.5\" /><use xlink:href=\"#black\" x=\"30.5\" y=\"90.5\" /><use xlink:href=\"#black\" x=\"50.5\" y=\"90.5\" /><use xlink:href=\"#black\" x=\"70.5\" y=\"90.5\" /><use xlink:href=\"#white\" x=\"90.5\" y=\"90.5\" /><use xlink:href=\"#white\" x=\"110.5\" y=\"90.5\" /><use xlink:href=\"#white\" x=\"130.5\" y=\"90.5\" /><use xlink:href=\"#black\" x=\"10.5\" y=\"110.5\" /><use xlink:href=\"#black\" x=\"30.5\" y=\"110.5\" /><use xlink:href=\"#white\" x=\"50.5\" y=\"110.5\" /><use xlink:href=\"#white\" x=\"70.5\" y=\"110.5\" /><use xlink:href=\"#black\" x=\"10.5\" y=\"130.5\" /></svg>"
      ],
      "text/plain": [
       " |abcdefgh\n",
       "-+--------\n",
       "1|x..xxxxx\n",
       "2|xooooox.\n",
       "3|xxooox..\n",
       "4|xoxxx...\n",
       "5|xxxxooo.\n",
       "6|xxoo....\n",
       "7|x.......\n",
       "8|........"
      ]
     },
     "metadata": {},
     "output_type": "display_data"
    },
    {
     "data": {
      "image/svg+xml": [
       "<svg xmlns=\"http://www.w3.org/2000/svg\" version=\"1.1\" xmlns:xlink=\"http://www.w3.org/1999/xlink\" width=\"215.0\" height=\"215.0\" viewBox=\"0 0 172 172\"><defs><g id=\"black\"><circle cx=\"10\" cy=\"10\" r=\"8.5\" fill=\"black\" /></g><g id=\"white\"><circle cx=\"10\" cy=\"10\" r=\"8.5\" fill=\"white\" /></g></defs><rect fill=\"green\" height=\"161\" width=\"161\" x=\"10\" y=\"10\" /><g stroke=\"black\"><rect width=\"161\" height=\"161\" stroke-width=\"1.5\" fill=\"none\" x=\"10\" y=\"10\" /><line stroke-width=\"1.0\" x1=\"10.5\" x2=\"170.5\" y1=\"30.5\" y2=\"30.5\" /><line stroke-width=\"1.0\" x1=\"10.5\" x2=\"170.5\" y1=\"50.5\" y2=\"50.5\" /><line stroke-width=\"1.0\" x1=\"10.5\" x2=\"170.5\" y1=\"70.5\" y2=\"70.5\" /><line stroke-width=\"1.0\" x1=\"10.5\" x2=\"170.5\" y1=\"90.5\" y2=\"90.5\" /><line stroke-width=\"1.0\" x1=\"10.5\" x2=\"170.5\" y1=\"110.5\" y2=\"110.5\" /><line stroke-width=\"1.0\" x1=\"10.5\" x2=\"170.5\" y1=\"130.5\" y2=\"130.5\" /><line stroke-width=\"1.0\" x1=\"10.5\" x2=\"170.5\" y1=\"150.5\" y2=\"150.5\" /><line stroke-width=\"1.0\" x1=\"30.5\" x2=\"30.5\" y1=\"10.5\" y2=\"170.5\" /><line stroke-width=\"1.0\" x1=\"50.5\" x2=\"50.5\" y1=\"10.5\" y2=\"170.5\" /><line stroke-width=\"1.0\" x1=\"70.5\" x2=\"70.5\" y1=\"10.5\" y2=\"170.5\" /><line stroke-width=\"1.0\" x1=\"90.5\" x2=\"90.5\" y1=\"10.5\" y2=\"170.5\" /><line stroke-width=\"1.0\" x1=\"110.5\" x2=\"110.5\" y1=\"10.5\" y2=\"170.5\" /><line stroke-width=\"1.0\" x1=\"130.5\" x2=\"130.5\" y1=\"10.5\" y2=\"170.5\" /><line stroke-width=\"1.0\" x1=\"150.5\" x2=\"150.5\" y1=\"10.5\" y2=\"170.5\" /></g><g><text font-family=\"serif\" font-size=\"9.5\" text-anchor=\"middle\" x=\"20.5\" y=\"8\">a</text><text font-family=\"serif\" font-size=\"9.5\" text-anchor=\"middle\" x=\"40.5\" y=\"8\">b</text><text font-family=\"serif\" font-size=\"9.5\" text-anchor=\"middle\" x=\"60.5\" y=\"8\">c</text><text font-family=\"serif\" font-size=\"9.5\" text-anchor=\"middle\" x=\"80.5\" y=\"8\">d</text><text font-family=\"serif\" font-size=\"9.5\" text-anchor=\"middle\" x=\"100.5\" y=\"8\">e</text><text font-family=\"serif\" font-size=\"9.5\" text-anchor=\"middle\" x=\"120.5\" y=\"8\">f</text><text font-family=\"serif\" font-size=\"9.5\" text-anchor=\"middle\" x=\"140.5\" y=\"8\">g</text><text font-family=\"serif\" font-size=\"9.5\" text-anchor=\"middle\" x=\"160.5\" y=\"8\">h</text><text font-family=\"serif\" font-size=\"9.5\" x=\"2.5\" y=\"23.5\">1</text><text font-family=\"serif\" font-size=\"9.5\" x=\"2.5\" y=\"43.5\">2</text><text font-family=\"serif\" font-size=\"9.5\" x=\"2.5\" y=\"63.5\">3</text><text font-family=\"serif\" font-size=\"9.5\" x=\"2.5\" y=\"83.5\">4</text><text font-family=\"serif\" font-size=\"9.5\" x=\"2.5\" y=\"103.5\">5</text><text font-family=\"serif\" font-size=\"9.5\" x=\"2.5\" y=\"123.5\">6</text><text font-family=\"serif\" font-size=\"9.5\" x=\"2.5\" y=\"143.5\">7</text><text font-family=\"serif\" font-size=\"9.5\" x=\"2.5\" y=\"163.5\">8</text></g><use xlink:href=\"#black\" x=\"10.5\" y=\"10.5\" /><use xlink:href=\"#black\" x=\"70.5\" y=\"10.5\" /><use xlink:href=\"#black\" x=\"90.5\" y=\"10.5\" /><use xlink:href=\"#black\" x=\"110.5\" y=\"10.5\" /><use xlink:href=\"#black\" x=\"130.5\" y=\"10.5\" /><use xlink:href=\"#black\" x=\"150.5\" y=\"10.5\" /><use xlink:href=\"#black\" x=\"10.5\" y=\"30.5\" /><use xlink:href=\"#white\" x=\"30.5\" y=\"30.5\" /><use xlink:href=\"#white\" x=\"50.5\" y=\"30.5\" /><use xlink:href=\"#white\" x=\"70.5\" y=\"30.5\" /><use xlink:href=\"#white\" x=\"90.5\" y=\"30.5\" /><use xlink:href=\"#white\" x=\"110.5\" y=\"30.5\" /><use xlink:href=\"#black\" x=\"130.5\" y=\"30.5\" /><use xlink:href=\"#black\" x=\"10.5\" y=\"50.5\" /><use xlink:href=\"#black\" x=\"30.5\" y=\"50.5\" /><use xlink:href=\"#white\" x=\"50.5\" y=\"50.5\" /><use xlink:href=\"#white\" x=\"70.5\" y=\"50.5\" /><use xlink:href=\"#white\" x=\"90.5\" y=\"50.5\" /><use xlink:href=\"#white\" x=\"110.5\" y=\"50.5\" /><use xlink:href=\"#black\" x=\"10.5\" y=\"70.5\" /><use xlink:href=\"#white\" x=\"30.5\" y=\"70.5\" /><use xlink:href=\"#black\" x=\"50.5\" y=\"70.5\" /><use xlink:href=\"#black\" x=\"70.5\" y=\"70.5\" /><use xlink:href=\"#black\" x=\"90.5\" y=\"70.5\" /><use xlink:href=\"#white\" x=\"130.5\" y=\"70.5\" /><use xlink:href=\"#black\" x=\"10.5\" y=\"90.5\" /><use xlink:href=\"#black\" x=\"30.5\" y=\"90.5\" /><use xlink:href=\"#black\" x=\"50.5\" y=\"90.5\" /><use xlink:href=\"#black\" x=\"70.5\" y=\"90.5\" /><use xlink:href=\"#white\" x=\"90.5\" y=\"90.5\" /><use xlink:href=\"#white\" x=\"110.5\" y=\"90.5\" /><use xlink:href=\"#white\" x=\"130.5\" y=\"90.5\" /><use xlink:href=\"#black\" x=\"10.5\" y=\"110.5\" /><use xlink:href=\"#black\" x=\"30.5\" y=\"110.5\" /><use xlink:href=\"#white\" x=\"50.5\" y=\"110.5\" /><use xlink:href=\"#white\" x=\"70.5\" y=\"110.5\" /><use xlink:href=\"#black\" x=\"10.5\" y=\"130.5\" /></svg>"
      ],
      "text/plain": [
       " |abcdefgh\n",
       "-+--------\n",
       "1|x..xxxxx\n",
       "2|xooooox.\n",
       "3|xxoooo..\n",
       "4|xoxxx.o.\n",
       "5|xxxxooo.\n",
       "6|xxoo....\n",
       "7|x.......\n",
       "8|........"
      ]
     },
     "metadata": {},
     "output_type": "display_data"
    },
    {
     "data": {
      "image/png": "[encoded data removed]",
      "text/plain": [
       "<Figure size 300x300 with 1 Axes>"
      ]
     },
     "metadata": {},
     "output_type": "display_data"
    },
    {
     "data": {
      "image/svg+xml": [
       "<svg xmlns=\"http://www.w3.org/2000/svg\" version=\"1.1\" xmlns:xlink=\"http://www.w3.org/1999/xlink\" width=\"215.0\" height=\"215.0\" viewBox=\"0 0 172 172\"><defs><g id=\"black\"><circle cx=\"10\" cy=\"10\" r=\"8.5\" fill=\"black\" /></g><g id=\"white\"><circle cx=\"10\" cy=\"10\" r=\"8.5\" fill=\"white\" /></g></defs><rect fill=\"green\" height=\"161\" width=\"161\" x=\"10\" y=\"10\" /><g stroke=\"black\"><rect width=\"161\" height=\"161\" stroke-width=\"1.5\" fill=\"none\" x=\"10\" y=\"10\" /><line stroke-width=\"1.0\" x1=\"10.5\" x2=\"170.5\" y1=\"30.5\" y2=\"30.5\" /><line stroke-width=\"1.0\" x1=\"10.5\" x2=\"170.5\" y1=\"50.5\" y2=\"50.5\" /><line stroke-width=\"1.0\" x1=\"10.5\" x2=\"170.5\" y1=\"70.5\" y2=\"70.5\" /><line stroke-width=\"1.0\" x1=\"10.5\" x2=\"170.5\" y1=\"90.5\" y2=\"90.5\" /><line stroke-width=\"1.0\" x1=\"10.5\" x2=\"170.5\" y1=\"110.5\" y2=\"110.5\" /><line stroke-width=\"1.0\" x1=\"10.5\" x2=\"170.5\" y1=\"130.5\" y2=\"130.5\" /><line stroke-width=\"1.0\" x1=\"10.5\" x2=\"170.5\" y1=\"150.5\" y2=\"150.5\" /><line stroke-width=\"1.0\" x1=\"30.5\" x2=\"30.5\" y1=\"10.5\" y2=\"170.5\" /><line stroke-width=\"1.0\" x1=\"50.5\" x2=\"50.5\" y1=\"10.5\" y2=\"170.5\" /><line stroke-width=\"1.0\" x1=\"70.5\" x2=\"70.5\" y1=\"10.5\" y2=\"170.5\" /><line stroke-width=\"1.0\" x1=\"90.5\" x2=\"90.5\" y1=\"10.5\" y2=\"170.5\" /><line stroke-width=\"1.0\" x1=\"110.5\" x2=\"110.5\" y1=\"10.5\" y2=\"170.5\" /><line stroke-width=\"1.0\" x1=\"130.5\" x2=\"130.5\" y1=\"10.5\" y2=\"170.5\" /><line stroke-width=\"1.0\" x1=\"150.5\" x2=\"150.5\" y1=\"10.5\" y2=\"170.5\" /></g><g><text font-family=\"serif\" font-size=\"9.5\" text-anchor=\"middle\" x=\"20.5\" y=\"8\">a</text><text font-family=\"serif\" font-size=\"9.5\" text-anchor=\"middle\" x=\"40.5\" y=\"8\">b</text><text font-family=\"serif\" font-size=\"9.5\" text-anchor=\"middle\" x=\"60.5\" y=\"8\">c</text><text font-family=\"serif\" font-size=\"9.5\" text-anchor=\"middle\" x=\"80.5\" y=\"8\">d</text><text font-family=\"serif\" font-size=\"9.5\" text-anchor=\"middle\" x=\"100.5\" y=\"8\">e</text><text font-family=\"serif\" font-size=\"9.5\" text-anchor=\"middle\" x=\"120.5\" y=\"8\">f</text><text font-family=\"serif\" font-size=\"9.5\" text-anchor=\"middle\" x=\"140.5\" y=\"8\">g</text><text font-family=\"serif\" font-size=\"9.5\" text-anchor=\"middle\" x=\"160.5\" y=\"8\">h</text><text font-family=\"serif\" font-size=\"9.5\" x=\"2.5\" y=\"23.5\">1</text><text font-family=\"serif\" font-size=\"9.5\" x=\"2.5\" y=\"43.5\">2</text><text font-family=\"serif\" font-size=\"9.5\" x=\"2.5\" y=\"63.5\">3</text><text font-family=\"serif\" font-size=\"9.5\" x=\"2.5\" y=\"83.5\">4</text><text font-family=\"serif\" font-size=\"9.5\" x=\"2.5\" y=\"103.5\">5</text><text font-family=\"serif\" font-size=\"9.5\" x=\"2.5\" y=\"123.5\">6</text><text font-family=\"serif\" font-size=\"9.5\" x=\"2.5\" y=\"143.5\">7</text><text font-family=\"serif\" font-size=\"9.5\" x=\"2.5\" y=\"163.5\">8</text></g><use xlink:href=\"#black\" x=\"10.5\" y=\"10.5\" /><use xlink:href=\"#black\" x=\"70.5\" y=\"10.5\" /><use xlink:href=\"#black\" x=\"90.5\" y=\"10.5\" /><use xlink:href=\"#black\" x=\"110.5\" y=\"10.5\" /><use xlink:href=\"#black\" x=\"130.5\" y=\"10.5\" /><use xlink:href=\"#black\" x=\"150.5\" y=\"10.5\" /><use xlink:href=\"#black\" x=\"10.5\" y=\"30.5\" /><use xlink:href=\"#white\" x=\"30.5\" y=\"30.5\" /><use xlink:href=\"#white\" x=\"50.5\" y=\"30.5\" /><use xlink:href=\"#white\" x=\"70.5\" y=\"30.5\" /><use xlink:href=\"#white\" x=\"90.5\" y=\"30.5\" /><use xlink:href=\"#black\" x=\"110.5\" y=\"30.5\" /><use xlink:href=\"#black\" x=\"130.5\" y=\"30.5\" /><use xlink:href=\"#black\" x=\"10.5\" y=\"50.5\" /><use xlink:href=\"#black\" x=\"30.5\" y=\"50.5\" /><use xlink:href=\"#white\" x=\"50.5\" y=\"50.5\" /><use xlink:href=\"#white\" x=\"70.5\" y=\"50.5\" /><use xlink:href=\"#white\" x=\"90.5\" y=\"50.5\" /><use xlink:href=\"#black\" x=\"110.5\" y=\"50.5\" /><use xlink:href=\"#black\" x=\"10.5\" y=\"70.5\" /><use xlink:href=\"#white\" x=\"30.5\" y=\"70.5\" /><use xlink:href=\"#black\" x=\"50.5\" y=\"70.5\" /><use xlink:href=\"#black\" x=\"70.5\" y=\"70.5\" /><use xlink:href=\"#black\" x=\"90.5\" y=\"70.5\" /><use xlink:href=\"#black\" x=\"110.5\" y=\"70.5\" /><use xlink:href=\"#white\" x=\"130.5\" y=\"70.5\" /><use xlink:href=\"#black\" x=\"10.5\" y=\"90.5\" /><use xlink:href=\"#black\" x=\"30.5\" y=\"90.5\" /><use xlink:href=\"#black\" x=\"50.5\" y=\"90.5\" /><use xlink:href=\"#black\" x=\"70.5\" y=\"90.5\" /><use xlink:href=\"#white\" x=\"90.5\" y=\"90.5\" /><use xlink:href=\"#white\" x=\"110.5\" y=\"90.5\" /><use xlink:href=\"#white\" x=\"130.5\" y=\"90.5\" /><use xlink:href=\"#black\" x=\"10.5\" y=\"110.5\" /><use xlink:href=\"#black\" x=\"30.5\" y=\"110.5\" /><use xlink:href=\"#white\" x=\"50.5\" y=\"110.5\" /><use xlink:href=\"#white\" x=\"70.5\" y=\"110.5\" /><use xlink:href=\"#black\" x=\"10.5\" y=\"130.5\" /></svg>"
      ],
      "text/plain": [
       " |abcdefgh\n",
       "-+--------\n",
       "1|x..xxxxx\n",
       "2|xooooxx.\n",
       "3|xxooox..\n",
       "4|xoxxxxo.\n",
       "5|xxxxooo.\n",
       "6|xxoo....\n",
       "7|x.......\n",
       "8|........"
      ]
     },
     "metadata": {},
     "output_type": "display_data"
    },
    {
     "data": {
      "image/svg+xml": [
       "<svg xmlns=\"http://www.w3.org/2000/svg\" version=\"1.1\" xmlns:xlink=\"http://www.w3.org/1999/xlink\" width=\"215.0\" height=\"215.0\" viewBox=\"0 0 172 172\"><defs><g id=\"black\"><circle cx=\"10\" cy=\"10\" r=\"8.5\" fill=\"black\" /></g><g id=\"white\"><circle cx=\"10\" cy=\"10\" r=\"8.5\" fill=\"white\" /></g></defs><rect fill=\"green\" height=\"161\" width=\"161\" x=\"10\" y=\"10\" /><g stroke=\"black\"><rect width=\"161\" height=\"161\" stroke-width=\"1.5\" fill=\"none\" x=\"10\" y=\"10\" /><line stroke-width=\"1.0\" x1=\"10.5\" x2=\"170.5\" y1=\"30.5\" y2=\"30.5\" /><line stroke-width=\"1.0\" x1=\"10.5\" x2=\"170.5\" y1=\"50.5\" y2=\"50.5\" /><line stroke-width=\"1.0\" x1=\"10.5\" x2=\"170.5\" y1=\"70.5\" y2=\"70.5\" /><line stroke-width=\"1.0\" x1=\"10.5\" x2=\"170.5\" y1=\"90.5\" y2=\"90.5\" /><line stroke-width=\"1.0\" x1=\"10.5\" x2=\"170.5\" y1=\"110.5\" y2=\"110.5\" /><line stroke-width=\"1.0\" x1=\"10.5\" x2=\"170.5\" y1=\"130.5\" y2=\"130.5\" /><line stroke-width=\"1.0\" x1=\"10.5\" x2=\"170.5\" y1=\"150.5\" y2=\"150.5\" /><line stroke-width=\"1.0\" x1=\"30.5\" x2=\"30.5\" y1=\"10.5\" y2=\"170.5\" /><line stroke-width=\"1.0\" x1=\"50.5\" x2=\"50.5\" y1=\"10.5\" y2=\"170.5\" /><line stroke-width=\"1.0\" x1=\"70.5\" x2=\"70.5\" y1=\"10.5\" y2=\"170.5\" /><line stroke-width=\"1.0\" x1=\"90.5\" x2=\"90.5\" y1=\"10.5\" y2=\"170.5\" /><line stroke-width=\"1.0\" x1=\"110.5\" x2=\"110.5\" y1=\"10.5\" y2=\"170.5\" /><line stroke-width=\"1.0\" x1=\"130.5\" x2=\"130.5\" y1=\"10.5\" y2=\"170.5\" /><line stroke-width=\"1.0\" x1=\"150.5\" x2=\"150.5\" y1=\"10.5\" y2=\"170.5\" /></g><g><text font-family=\"serif\" font-size=\"9.5\" text-anchor=\"middle\" x=\"20.5\" y=\"8\">a</text><text font-family=\"serif\" font-size=\"9.5\" text-anchor=\"middle\" x=\"40.5\" y=\"8\">b</text><text font-family=\"serif\" font-size=\"9.5\" text-anchor=\"middle\" x=\"60.5\" y=\"8\">c</text><text font-family=\"serif\" font-size=\"9.5\" text-anchor=\"middle\" x=\"80.5\" y=\"8\">d</text><text font-family=\"serif\" font-size=\"9.5\" text-anchor=\"middle\" x=\"100.5\" y=\"8\">e</text><text font-family=\"serif\" font-size=\"9.5\" text-anchor=\"middle\" x=\"120.5\" y=\"8\">f</text><text font-family=\"serif\" font-size=\"9.5\" text-anchor=\"middle\" x=\"140.5\" y=\"8\">g</text><text font-family=\"serif\" font-size=\"9.5\" text-anchor=\"middle\" x=\"160.5\" y=\"8\">h</text><text font-family=\"serif\" font-size=\"9.5\" x=\"2.5\" y=\"23.5\">1</text><text font-family=\"serif\" font-size=\"9.5\" x=\"2.5\" y=\"43.5\">2</text><text font-family=\"serif\" font-size=\"9.5\" x=\"2.5\" y=\"63.5\">3</text><text font-family=\"serif\" font-size=\"9.5\" x=\"2.5\" y=\"83.5\">4</text><text font-family=\"serif\" font-size=\"9.5\" x=\"2.5\" y=\"103.5\">5</text><text font-family=\"serif\" font-size=\"9.5\" x=\"2.5\" y=\"123.5\">6</text><text font-family=\"serif\" font-size=\"9.5\" x=\"2.5\" y=\"143.5\">7</text><text font-family=\"serif\" font-size=\"9.5\" x=\"2.5\" y=\"163.5\">8</text></g><use xlink:href=\"#black\" x=\"10.5\" y=\"10.5\" /><use xlink:href=\"#black\" x=\"70.5\" y=\"10.5\" /><use xlink:href=\"#black\" x=\"90.5\" y=\"10.5\" /><use xlink:href=\"#black\" x=\"110.5\" y=\"10.5\" /><use xlink:href=\"#black\" x=\"130.5\" y=\"10.5\" /><use xlink:href=\"#black\" x=\"150.5\" y=\"10.5\" /><use xlink:href=\"#black\" x=\"10.5\" y=\"30.5\" /><use xlink:href=\"#white\" x=\"30.5\" y=\"30.5\" /><use xlink:href=\"#white\" x=\"50.5\" y=\"30.5\" /><use xlink:href=\"#white\" x=\"70.5\" y=\"30.5\" /><use xlink:href=\"#white\" x=\"90.5\" y=\"30.5\" /><use xlink:href=\"#black\" x=\"110.5\" y=\"30.5\" /><use xlink:href=\"#black\" x=\"130.5\" y=\"30.5\" /><use xlink:href=\"#black\" x=\"10.5\" y=\"50.5\" /><use xlink:href=\"#black\" x=\"30.5\" y=\"50.5\" /><use xlink:href=\"#white\" x=\"50.5\" y=\"50.5\" /><use xlink:href=\"#white\" x=\"70.5\" y=\"50.5\" /><use xlink:href=\"#white\" x=\"90.5\" y=\"50.5\" /><use xlink:href=\"#white\" x=\"110.5\" y=\"50.5\" /><use xlink:href=\"#white\" x=\"130.5\" y=\"50.5\" /><use xlink:href=\"#black\" x=\"10.5\" y=\"70.5\" /><use xlink:href=\"#white\" x=\"30.5\" y=\"70.5\" /><use xlink:href=\"#black\" x=\"50.5\" y=\"70.5\" /><use xlink:href=\"#black\" x=\"70.5\" y=\"70.5\" /><use xlink:href=\"#black\" x=\"90.5\" y=\"70.5\" /><use xlink:href=\"#white\" x=\"110.5\" y=\"70.5\" /><use xlink:href=\"#white\" x=\"130.5\" y=\"70.5\" /><use xlink:href=\"#black\" x=\"10.5\" y=\"90.5\" /><use xlink:href=\"#black\" x=\"30.5\" y=\"90.5\" /><use xlink:href=\"#black\" x=\"50.5\" y=\"90.5\" /><use xlink:href=\"#black\" x=\"70.5\" y=\"90.5\" /><use xlink:href=\"#white\" x=\"90.5\" y=\"90.5\" /><use xlink:href=\"#white\" x=\"110.5\" y=\"90.5\" /><use xlink:href=\"#white\" x=\"130.5\" y=\"90.5\" /><use xlink:href=\"#black\" x=\"10.5\" y=\"110.5\" /><use xlink:href=\"#black\" x=\"30.5\" y=\"110.5\" /><use xlink:href=\"#white\" x=\"50.5\" y=\"110.5\" /><use xlink:href=\"#white\" x=\"70.5\" y=\"110.5\" /><use xlink:href=\"#black\" x=\"10.5\" y=\"130.5\" /></svg>"
      ],
      "text/plain": [
       " |abcdefgh\n",
       "-+--------\n",
       "1|x..xxxxx\n",
       "2|xooooxx.\n",
       "3|xxooooo.\n",
       "4|xoxxxoo.\n",
       "5|xxxxooo.\n",
       "6|xxoo....\n",
       "7|x.......\n",
       "8|........"
      ]
     },
     "metadata": {},
     "output_type": "display_data"
    },
    {
     "data": {
      "image/png": "[encoded data removed]",
      "text/plain": [
       "<Figure size 300x300 with 1 Axes>"
      ]
     },
     "metadata": {},
     "output_type": "display_data"
    },
    {
     "data": {
      "image/svg+xml": [
       "<svg xmlns=\"http://www.w3.org/2000/svg\" version=\"1.1\" xmlns:xlink=\"http://www.w3.org/1999/xlink\" width=\"215.0\" height=\"215.0\" viewBox=\"0 0 172 172\"><defs><g id=\"black\"><circle cx=\"10\" cy=\"10\" r=\"8.5\" fill=\"black\" /></g><g id=\"white\"><circle cx=\"10\" cy=\"10\" r=\"8.5\" fill=\"white\" /></g></defs><rect fill=\"green\" height=\"161\" width=\"161\" x=\"10\" y=\"10\" /><g stroke=\"black\"><rect width=\"161\" height=\"161\" stroke-width=\"1.5\" fill=\"none\" x=\"10\" y=\"10\" /><line stroke-width=\"1.0\" x1=\"10.5\" x2=\"170.5\" y1=\"30.5\" y2=\"30.5\" /><line stroke-width=\"1.0\" x1=\"10.5\" x2=\"170.5\" y1=\"50.5\" y2=\"50.5\" /><line stroke-width=\"1.0\" x1=\"10.5\" x2=\"170.5\" y1=\"70.5\" y2=\"70.5\" /><line stroke-width=\"1.0\" x1=\"10.5\" x2=\"170.5\" y1=\"90.5\" y2=\"90.5\" /><line stroke-width=\"1.0\" x1=\"10.5\" x2=\"170.5\" y1=\"110.5\" y2=\"110.5\" /><line stroke-width=\"1.0\" x1=\"10.5\" x2=\"170.5\" y1=\"130.5\" y2=\"130.5\" /><line stroke-width=\"1.0\" x1=\"10.5\" x2=\"170.5\" y1=\"150.5\" y2=\"150.5\" /><line stroke-width=\"1.0\" x1=\"30.5\" x2=\"30.5\" y1=\"10.5\" y2=\"170.5\" /><line stroke-width=\"1.0\" x1=\"50.5\" x2=\"50.5\" y1=\"10.5\" y2=\"170.5\" /><line stroke-width=\"1.0\" x1=\"70.5\" x2=\"70.5\" y1=\"10.5\" y2=\"170.5\" /><line stroke-width=\"1.0\" x1=\"90.5\" x2=\"90.5\" y1=\"10.5\" y2=\"170.5\" /><line stroke-width=\"1.0\" x1=\"110.5\" x2=\"110.5\" y1=\"10.5\" y2=\"170.5\" /><line stroke-width=\"1.0\" x1=\"130.5\" x2=\"130.5\" y1=\"10.5\" y2=\"170.5\" /><line stroke-width=\"1.0\" x1=\"150.5\" x2=\"150.5\" y1=\"10.5\" y2=\"170.5\" /></g><g><text font-family=\"serif\" font-size=\"9.5\" text-anchor=\"middle\" x=\"20.5\" y=\"8\">a</text><text font-family=\"serif\" font-size=\"9.5\" text-anchor=\"middle\" x=\"40.5\" y=\"8\">b</text><text font-family=\"serif\" font-size=\"9.5\" text-anchor=\"middle\" x=\"60.5\" y=\"8\">c</text><text font-family=\"serif\" font-size=\"9.5\" text-anchor=\"middle\" x=\"80.5\" y=\"8\">d</text><text font-family=\"serif\" font-size=\"9.5\" text-anchor=\"middle\" x=\"100.5\" y=\"8\">e</text><text font-family=\"serif\" font-size=\"9.5\" text-anchor=\"middle\" x=\"120.5\" y=\"8\">f</text><text font-family=\"serif\" font-size=\"9.5\" text-anchor=\"middle\" x=\"140.5\" y=\"8\">g</text><text font-family=\"serif\" font-size=\"9.5\" text-anchor=\"middle\" x=\"160.5\" y=\"8\">h</text><text font-family=\"serif\" font-size=\"9.5\" x=\"2.5\" y=\"23.5\">1</text><text font-family=\"serif\" font-size=\"9.5\" x=\"2.5\" y=\"43.5\">2</text><text font-family=\"serif\" font-size=\"9.5\" x=\"2.5\" y=\"63.5\">3</text><text font-family=\"serif\" font-size=\"9.5\" x=\"2.5\" y=\"83.5\">4</text><text font-family=\"serif\" font-size=\"9.5\" x=\"2.5\" y=\"103.5\">5</text><text font-family=\"serif\" font-size=\"9.5\" x=\"2.5\" y=\"123.5\">6</text><text font-family=\"serif\" font-size=\"9.5\" x=\"2.5\" y=\"143.5\">7</text><text font-family=\"serif\" font-size=\"9.5\" x=\"2.5\" y=\"163.5\">8</text></g><use xlink:href=\"#black\" x=\"10.5\" y=\"10.5\" /><use xlink:href=\"#black\" x=\"70.5\" y=\"10.5\" /><use xlink:href=\"#black\" x=\"90.5\" y=\"10.5\" /><use xlink:href=\"#black\" x=\"110.5\" y=\"10.5\" /><use xlink:href=\"#black\" x=\"130.5\" y=\"10.5\" /><use xlink:href=\"#black\" x=\"150.5\" y=\"10.5\" /><use xlink:href=\"#black\" x=\"10.5\" y=\"30.5\" /><use xlink:href=\"#white\" x=\"30.5\" y=\"30.5\" /><use xlink:href=\"#white\" x=\"50.5\" y=\"30.5\" /><use xlink:href=\"#white\" x=\"70.5\" y=\"30.5\" /><use xlink:href=\"#white\" x=\"90.5\" y=\"30.5\" /><use xlink:href=\"#black\" x=\"110.5\" y=\"30.5\" /><use xlink:href=\"#black\" x=\"130.5\" y=\"30.5\" /><use xlink:href=\"#black\" x=\"10.5\" y=\"50.5\" /><use xlink:href=\"#black\" x=\"30.5\" y=\"50.5\" /><use xlink:href=\"#white\" x=\"50.5\" y=\"50.5\" /><use xlink:href=\"#white\" x=\"70.5\" y=\"50.5\" /><use xlink:href=\"#white\" x=\"90.5\" y=\"50.5\" /><use xlink:href=\"#white\" x=\"110.5\" y=\"50.5\" /><use xlink:href=\"#white\" x=\"130.5\" y=\"50.5\" /><use xlink:href=\"#black\" x=\"10.5\" y=\"70.5\" /><use xlink:href=\"#white\" x=\"30.5\" y=\"70.5\" /><use xlink:href=\"#black\" x=\"50.5\" y=\"70.5\" /><use xlink:href=\"#black\" x=\"70.5\" y=\"70.5\" /><use xlink:href=\"#black\" x=\"90.5\" y=\"70.5\" /><use xlink:href=\"#white\" x=\"110.5\" y=\"70.5\" /><use xlink:href=\"#white\" x=\"130.5\" y=\"70.5\" /><use xlink:href=\"#black\" x=\"10.5\" y=\"90.5\" /><use xlink:href=\"#black\" x=\"30.5\" y=\"90.5\" /><use xlink:href=\"#black\" x=\"50.5\" y=\"90.5\" /><use xlink:href=\"#black\" x=\"70.5\" y=\"90.5\" /><use xlink:href=\"#white\" x=\"90.5\" y=\"90.5\" /><use xlink:href=\"#white\" x=\"110.5\" y=\"90.5\" /><use xlink:href=\"#white\" x=\"130.5\" y=\"90.5\" /><use xlink:href=\"#black\" x=\"10.5\" y=\"110.5\" /><use xlink:href=\"#black\" x=\"30.5\" y=\"110.5\" /><use xlink:href=\"#black\" x=\"50.5\" y=\"110.5\" /><use xlink:href=\"#white\" x=\"70.5\" y=\"110.5\" /><use xlink:href=\"#black\" x=\"10.5\" y=\"130.5\" /><use xlink:href=\"#black\" x=\"50.5\" y=\"130.5\" /></svg>"
      ],
      "text/plain": [
       " |abcdefgh\n",
       "-+--------\n",
       "1|x..xxxxx\n",
       "2|xooooxx.\n",
       "3|xxooooo.\n",
       "4|xoxxxoo.\n",
       "5|xxxxooo.\n",
       "6|xxxo....\n",
       "7|x.x.....\n",
       "8|........"
      ]
     },
     "metadata": {},
     "output_type": "display_data"
    },
    {
     "data": {
      "image/svg+xml": [
       "<svg xmlns=\"http://www.w3.org/2000/svg\" version=\"1.1\" xmlns:xlink=\"http://www.w3.org/1999/xlink\" width=\"215.0\" height=\"215.0\" viewBox=\"0 0 172 172\"><defs><g id=\"black\"><circle cx=\"10\" cy=\"10\" r=\"8.5\" fill=\"black\" /></g><g id=\"white\"><circle cx=\"10\" cy=\"10\" r=\"8.5\" fill=\"white\" /></g></defs><rect fill=\"green\" height=\"161\" width=\"161\" x=\"10\" y=\"10\" /><g stroke=\"black\"><rect width=\"161\" height=\"161\" stroke-width=\"1.5\" fill=\"none\" x=\"10\" y=\"10\" /><line stroke-width=\"1.0\" x1=\"10.5\" x2=\"170.5\" y1=\"30.5\" y2=\"30.5\" /><line stroke-width=\"1.0\" x1=\"10.5\" x2=\"170.5\" y1=\"50.5\" y2=\"50.5\" /><line stroke-width=\"1.0\" x1=\"10.5\" x2=\"170.5\" y1=\"70.5\" y2=\"70.5\" /><line stroke-width=\"1.0\" x1=\"10.5\" x2=\"170.5\" y1=\"90.5\" y2=\"90.5\" /><line stroke-width=\"1.0\" x1=\"10.5\" x2=\"170.5\" y1=\"110.5\" y2=\"110.5\" /><line stroke-width=\"1.0\" x1=\"10.5\" x2=\"170.5\" y1=\"130.5\" y2=\"130.5\" /><line stroke-width=\"1.0\" x1=\"10.5\" x2=\"170.5\" y1=\"150.5\" y2=\"150.5\" /><line stroke-width=\"1.0\" x1=\"30.5\" x2=\"30.5\" y1=\"10.5\" y2=\"170.5\" /><line stroke-width=\"1.0\" x1=\"50.5\" x2=\"50.5\" y1=\"10.5\" y2=\"170.5\" /><line stroke-width=\"1.0\" x1=\"70.5\" x2=\"70.5\" y1=\"10.5\" y2=\"170.5\" /><line stroke-width=\"1.0\" x1=\"90.5\" x2=\"90.5\" y1=\"10.5\" y2=\"170.5\" /><line stroke-width=\"1.0\" x1=\"110.5\" x2=\"110.5\" y1=\"10.5\" y2=\"170.5\" /><line stroke-width=\"1.0\" x1=\"130.5\" x2=\"130.5\" y1=\"10.5\" y2=\"170.5\" /><line stroke-width=\"1.0\" x1=\"150.5\" x2=\"150.5\" y1=\"10.5\" y2=\"170.5\" /></g><g><text font-family=\"serif\" font-size=\"9.5\" text-anchor=\"middle\" x=\"20.5\" y=\"8\">a</text><text font-family=\"serif\" font-size=\"9.5\" text-anchor=\"middle\" x=\"40.5\" y=\"8\">b</text><text font-family=\"serif\" font-size=\"9.5\" text-anchor=\"middle\" x=\"60.5\" y=\"8\">c</text><text font-family=\"serif\" font-size=\"9.5\" text-anchor=\"middle\" x=\"80.5\" y=\"8\">d</text><text font-family=\"serif\" font-size=\"9.5\" text-anchor=\"middle\" x=\"100.5\" y=\"8\">e</text><text font-family=\"serif\" font-size=\"9.5\" text-anchor=\"middle\" x=\"120.5\" y=\"8\">f</text><text font-family=\"serif\" font-size=\"9.5\" text-anchor=\"middle\" x=\"140.5\" y=\"8\">g</text><text font-family=\"serif\" font-size=\"9.5\" text-anchor=\"middle\" x=\"160.5\" y=\"8\">h</text><text font-family=\"serif\" font-size=\"9.5\" x=\"2.5\" y=\"23.5\">1</text><text font-family=\"serif\" font-size=\"9.5\" x=\"2.5\" y=\"43.5\">2</text><text font-family=\"serif\" font-size=\"9.5\" x=\"2.5\" y=\"63.5\">3</text><text font-family=\"serif\" font-size=\"9.5\" x=\"2.5\" y=\"83.5\">4</text><text font-family=\"serif\" font-size=\"9.5\" x=\"2.5\" y=\"103.5\">5</text><text font-family=\"serif\" font-size=\"9.5\" x=\"2.5\" y=\"123.5\">6</text><text font-family=\"serif\" font-size=\"9.5\" x=\"2.5\" y=\"143.5\">7</text><text font-family=\"serif\" font-size=\"9.5\" x=\"2.5\" y=\"163.5\">8</text></g><use xlink:href=\"#black\" x=\"10.5\" y=\"10.5\" /><use xlink:href=\"#black\" x=\"70.5\" y=\"10.5\" /><use xlink:href=\"#black\" x=\"90.5\" y=\"10.5\" /><use xlink:href=\"#black\" x=\"110.5\" y=\"10.5\" /><use xlink:href=\"#black\" x=\"130.5\" y=\"10.5\" /><use xlink:href=\"#black\" x=\"150.5\" y=\"10.5\" /><use xlink:href=\"#black\" x=\"10.5\" y=\"30.5\" /><use xlink:href=\"#white\" x=\"30.5\" y=\"30.5\" /><use xlink:href=\"#white\" x=\"50.5\" y=\"30.5\" /><use xlink:href=\"#white\" x=\"70.5\" y=\"30.5\" /><use xlink:href=\"#white\" x=\"90.5\" y=\"30.5\" /><use xlink:href=\"#black\" x=\"110.5\" y=\"30.5\" /><use xlink:href=\"#black\" x=\"130.5\" y=\"30.5\" /><use xlink:href=\"#black\" x=\"10.5\" y=\"50.5\" /><use xlink:href=\"#black\" x=\"30.5\" y=\"50.5\" /><use xlink:href=\"#white\" x=\"50.5\" y=\"50.5\" /><use xlink:href=\"#white\" x=\"70.5\" y=\"50.5\" /><use xlink:href=\"#white\" x=\"90.5\" y=\"50.5\" /><use xlink:href=\"#white\" x=\"110.5\" y=\"50.5\" /><use xlink:href=\"#white\" x=\"130.5\" y=\"50.5\" /><use xlink:href=\"#black\" x=\"10.5\" y=\"70.5\" /><use xlink:href=\"#white\" x=\"30.5\" y=\"70.5\" /><use xlink:href=\"#white\" x=\"50.5\" y=\"70.5\" /><use xlink:href=\"#black\" x=\"70.5\" y=\"70.5\" /><use xlink:href=\"#black\" x=\"90.5\" y=\"70.5\" /><use xlink:href=\"#white\" x=\"110.5\" y=\"70.5\" /><use xlink:href=\"#white\" x=\"130.5\" y=\"70.5\" /><use xlink:href=\"#black\" x=\"10.5\" y=\"90.5\" /><use xlink:href=\"#black\" x=\"30.5\" y=\"90.5\" /><use xlink:href=\"#white\" x=\"50.5\" y=\"90.5\" /><use xlink:href=\"#black\" x=\"70.5\" y=\"90.5\" /><use xlink:href=\"#white\" x=\"90.5\" y=\"90.5\" /><use xlink:href=\"#white\" x=\"110.5\" y=\"90.5\" /><use xlink:href=\"#white\" x=\"130.5\" y=\"90.5\" /><use xlink:href=\"#black\" x=\"10.5\" y=\"110.5\" /><use xlink:href=\"#black\" x=\"30.5\" y=\"110.5\" /><use xlink:href=\"#white\" x=\"50.5\" y=\"110.5\" /><use xlink:href=\"#white\" x=\"70.5\" y=\"110.5\" /><use xlink:href=\"#black\" x=\"10.5\" y=\"130.5\" /><use xlink:href=\"#white\" x=\"50.5\" y=\"130.5\" /><use xlink:href=\"#white\" x=\"50.5\" y=\"150.5\" /></svg>"
      ],
      "text/plain": [
       " |abcdefgh\n",
       "-+--------\n",
       "1|x..xxxxx\n",
       "2|xooooxx.\n",
       "3|xxooooo.\n",
       "4|xooxxoo.\n",
       "5|xxoxooo.\n",
       "6|xxoo....\n",
       "7|x.o.....\n",
       "8|..o....."
      ]
     },
     "metadata": {},
     "output_type": "display_data"
    },
    {
     "data": {
      "image/png": "[encoded data removed]",
      "text/plain": [
       "<Figure size 300x300 with 1 Axes>"
      ]
     },
     "metadata": {},
     "output_type": "display_data"
    },
    {
     "data": {
      "image/svg+xml": [
       "<svg xmlns=\"http://www.w3.org/2000/svg\" version=\"1.1\" xmlns:xlink=\"http://www.w3.org/1999/xlink\" width=\"215.0\" height=\"215.0\" viewBox=\"0 0 172 172\"><defs><g id=\"black\"><circle cx=\"10\" cy=\"10\" r=\"8.5\" fill=\"black\" /></g><g id=\"white\"><circle cx=\"10\" cy=\"10\" r=\"8.5\" fill=\"white\" /></g></defs><rect fill=\"green\" height=\"161\" width=\"161\" x=\"10\" y=\"10\" /><g stroke=\"black\"><rect width=\"161\" height=\"161\" stroke-width=\"1.5\" fill=\"none\" x=\"10\" y=\"10\" /><line stroke-width=\"1.0\" x1=\"10.5\" x2=\"170.5\" y1=\"30.5\" y2=\"30.5\" /><line stroke-width=\"1.0\" x1=\"10.5\" x2=\"170.5\" y1=\"50.5\" y2=\"50.5\" /><line stroke-width=\"1.0\" x1=\"10.5\" x2=\"170.5\" y1=\"70.5\" y2=\"70.5\" /><line stroke-width=\"1.0\" x1=\"10.5\" x2=\"170.5\" y1=\"90.5\" y2=\"90.5\" /><line stroke-width=\"1.0\" x1=\"10.5\" x2=\"170.5\" y1=\"110.5\" y2=\"110.5\" /><line stroke-width=\"1.0\" x1=\"10.5\" x2=\"170.5\" y1=\"130.5\" y2=\"130.5\" /><line stroke-width=\"1.0\" x1=\"10.5\" x2=\"170.5\" y1=\"150.5\" y2=\"150.5\" /><line stroke-width=\"1.0\" x1=\"30.5\" x2=\"30.5\" y1=\"10.5\" y2=\"170.5\" /><line stroke-width=\"1.0\" x1=\"50.5\" x2=\"50.5\" y1=\"10.5\" y2=\"170.5\" /><line stroke-width=\"1.0\" x1=\"70.5\" x2=\"70.5\" y1=\"10.5\" y2=\"170.5\" /><line stroke-width=\"1.0\" x1=\"90.5\" x2=\"90.5\" y1=\"10.5\" y2=\"170.5\" /><line stroke-width=\"1.0\" x1=\"110.5\" x2=\"110.5\" y1=\"10.5\" y2=\"170.5\" /><line stroke-width=\"1.0\" x1=\"130.5\" x2=\"130.5\" y1=\"10.5\" y2=\"170.5\" /><line stroke-width=\"1.0\" x1=\"150.5\" x2=\"150.5\" y1=\"10.5\" y2=\"170.5\" /></g><g><text font-family=\"serif\" font-size=\"9.5\" text-anchor=\"middle\" x=\"20.5\" y=\"8\">a</text><text font-family=\"serif\" font-size=\"9.5\" text-anchor=\"middle\" x=\"40.5\" y=\"8\">b</text><text font-family=\"serif\" font-size=\"9.5\" text-anchor=\"middle\" x=\"60.5\" y=\"8\">c</text><text font-family=\"serif\" font-size=\"9.5\" text-anchor=\"middle\" x=\"80.5\" y=\"8\">d</text><text font-family=\"serif\" font-size=\"9.5\" text-anchor=\"middle\" x=\"100.5\" y=\"8\">e</text><text font-family=\"serif\" font-size=\"9.5\" text-anchor=\"middle\" x=\"120.5\" y=\"8\">f</text><text font-family=\"serif\" font-size=\"9.5\" text-anchor=\"middle\" x=\"140.5\" y=\"8\">g</text><text font-family=\"serif\" font-size=\"9.5\" text-anchor=\"middle\" x=\"160.5\" y=\"8\">h</text><text font-family=\"serif\" font-size=\"9.5\" x=\"2.5\" y=\"23.5\">1</text><text font-family=\"serif\" font-size=\"9.5\" x=\"2.5\" y=\"43.5\">2</text><text font-family=\"serif\" font-size=\"9.5\" x=\"2.5\" y=\"63.5\">3</text><text font-family=\"serif\" font-size=\"9.5\" x=\"2.5\" y=\"83.5\">4</text><text font-family=\"serif\" font-size=\"9.5\" x=\"2.5\" y=\"103.5\">5</text><text font-family=\"serif\" font-size=\"9.5\" x=\"2.5\" y=\"123.5\">6</text><text font-family=\"serif\" font-size=\"9.5\" x=\"2.5\" y=\"143.5\">7</text><text font-family=\"serif\" font-size=\"9.5\" x=\"2.5\" y=\"163.5\">8</text></g><use xlink:href=\"#black\" x=\"10.5\" y=\"10.5\" /><use xlink:href=\"#black\" x=\"70.5\" y=\"10.5\" /><use xlink:href=\"#black\" x=\"90.5\" y=\"10.5\" /><use xlink:href=\"#black\" x=\"110.5\" y=\"10.5\" /><use xlink:href=\"#black\" x=\"130.5\" y=\"10.5\" /><use xlink:href=\"#black\" x=\"150.5\" y=\"10.5\" /><use xlink:href=\"#black\" x=\"10.5\" y=\"30.5\" /><use xlink:href=\"#white\" x=\"30.5\" y=\"30.5\" /><use xlink:href=\"#white\" x=\"50.5\" y=\"30.5\" /><use xlink:href=\"#white\" x=\"70.5\" y=\"30.5\" /><use xlink:href=\"#white\" x=\"90.5\" y=\"30.5\" /><use xlink:href=\"#black\" x=\"110.5\" y=\"30.5\" /><use xlink:href=\"#black\" x=\"130.5\" y=\"30.5\" /><use xlink:href=\"#black\" x=\"10.5\" y=\"50.5\" /><use xlink:href=\"#black\" x=\"30.5\" y=\"50.5\" /><use xlink:href=\"#white\" x=\"50.5\" y=\"50.5\" /><use xlink:href=\"#white\" x=\"70.5\" y=\"50.5\" /><use xlink:href=\"#white\" x=\"90.5\" y=\"50.5\" /><use xlink:href=\"#white\" x=\"110.5\" y=\"50.5\" /><use xlink:href=\"#white\" x=\"130.5\" y=\"50.5\" /><use xlink:href=\"#black\" x=\"10.5\" y=\"70.5\" /><use xlink:href=\"#black\" x=\"30.5\" y=\"70.5\" /><use xlink:href=\"#white\" x=\"50.5\" y=\"70.5\" /><use xlink:href=\"#black\" x=\"70.5\" y=\"70.5\" /><use xlink:href=\"#black\" x=\"90.5\" y=\"70.5\" /><use xlink:href=\"#white\" x=\"110.5\" y=\"70.5\" /><use xlink:href=\"#white\" x=\"130.5\" y=\"70.5\" /><use xlink:href=\"#black\" x=\"10.5\" y=\"90.5\" /><use xlink:href=\"#black\" x=\"30.5\" y=\"90.5\" /><use xlink:href=\"#black\" x=\"50.5\" y=\"90.5\" /><use xlink:href=\"#black\" x=\"70.5\" y=\"90.5\" /><use xlink:href=\"#white\" x=\"90.5\" y=\"90.5\" /><use xlink:href=\"#white\" x=\"110.5\" y=\"90.5\" /><use xlink:href=\"#white\" x=\"130.5\" y=\"90.5\" /><use xlink:href=\"#black\" x=\"10.5\" y=\"110.5\" /><use xlink:href=\"#black\" x=\"30.5\" y=\"110.5\" /><use xlink:href=\"#white\" x=\"50.5\" y=\"110.5\" /><use xlink:href=\"#black\" x=\"70.5\" y=\"110.5\" /><use xlink:href=\"#black\" x=\"10.5\" y=\"130.5\" /><use xlink:href=\"#white\" x=\"50.5\" y=\"130.5\" /><use xlink:href=\"#black\" x=\"90.5\" y=\"130.5\" /><use xlink:href=\"#white\" x=\"50.5\" y=\"150.5\" /></svg>"
      ],
      "text/plain": [
       " |abcdefgh\n",
       "-+--------\n",
       "1|x..xxxxx\n",
       "2|xooooxx.\n",
       "3|xxooooo.\n",
       "4|xxoxxoo.\n",
       "5|xxxxooo.\n",
       "6|xxox....\n",
       "7|x.o.x...\n",
       "8|..o....."
      ]
     },
     "metadata": {},
     "output_type": "display_data"
    },
    {
     "data": {
      "image/svg+xml": [
       "<svg xmlns=\"http://www.w3.org/2000/svg\" version=\"1.1\" xmlns:xlink=\"http://www.w3.org/1999/xlink\" width=\"215.0\" height=\"215.0\" viewBox=\"0 0 172 172\"><defs><g id=\"black\"><circle cx=\"10\" cy=\"10\" r=\"8.5\" fill=\"black\" /></g><g id=\"white\"><circle cx=\"10\" cy=\"10\" r=\"8.5\" fill=\"white\" /></g></defs><rect fill=\"green\" height=\"161\" width=\"161\" x=\"10\" y=\"10\" /><g stroke=\"black\"><rect width=\"161\" height=\"161\" stroke-width=\"1.5\" fill=\"none\" x=\"10\" y=\"10\" /><line stroke-width=\"1.0\" x1=\"10.5\" x2=\"170.5\" y1=\"30.5\" y2=\"30.5\" /><line stroke-width=\"1.0\" x1=\"10.5\" x2=\"170.5\" y1=\"50.5\" y2=\"50.5\" /><line stroke-width=\"1.0\" x1=\"10.5\" x2=\"170.5\" y1=\"70.5\" y2=\"70.5\" /><line stroke-width=\"1.0\" x1=\"10.5\" x2=\"170.5\" y1=\"90.5\" y2=\"90.5\" /><line stroke-width=\"1.0\" x1=\"10.5\" x2=\"170.5\" y1=\"110.5\" y2=\"110.5\" /><line stroke-width=\"1.0\" x1=\"10.5\" x2=\"170.5\" y1=\"130.5\" y2=\"130.5\" /><line stroke-width=\"1.0\" x1=\"10.5\" x2=\"170.5\" y1=\"150.5\" y2=\"150.5\" /><line stroke-width=\"1.0\" x1=\"30.5\" x2=\"30.5\" y1=\"10.5\" y2=\"170.5\" /><line stroke-width=\"1.0\" x1=\"50.5\" x2=\"50.5\" y1=\"10.5\" y2=\"170.5\" /><line stroke-width=\"1.0\" x1=\"70.5\" x2=\"70.5\" y1=\"10.5\" y2=\"170.5\" /><line stroke-width=\"1.0\" x1=\"90.5\" x2=\"90.5\" y1=\"10.5\" y2=\"170.5\" /><line stroke-width=\"1.0\" x1=\"110.5\" x2=\"110.5\" y1=\"10.5\" y2=\"170.5\" /><line stroke-width=\"1.0\" x1=\"130.5\" x2=\"130.5\" y1=\"10.5\" y2=\"170.5\" /><line stroke-width=\"1.0\" x1=\"150.5\" x2=\"150.5\" y1=\"10.5\" y2=\"170.5\" /></g><g><text font-family=\"serif\" font-size=\"9.5\" text-anchor=\"middle\" x=\"20.5\" y=\"8\">a</text><text font-family=\"serif\" font-size=\"9.5\" text-anchor=\"middle\" x=\"40.5\" y=\"8\">b</text><text font-family=\"serif\" font-size=\"9.5\" text-anchor=\"middle\" x=\"60.5\" y=\"8\">c</text><text font-family=\"serif\" font-size=\"9.5\" text-anchor=\"middle\" x=\"80.5\" y=\"8\">d</text><text font-family=\"serif\" font-size=\"9.5\" text-anchor=\"middle\" x=\"100.5\" y=\"8\">e</text><text font-family=\"serif\" font-size=\"9.5\" text-anchor=\"middle\" x=\"120.5\" y=\"8\">f</text><text font-family=\"serif\" font-size=\"9.5\" text-anchor=\"middle\" x=\"140.5\" y=\"8\">g</text><text font-family=\"serif\" font-size=\"9.5\" text-anchor=\"middle\" x=\"160.5\" y=\"8\">h</text><text font-family=\"serif\" font-size=\"9.5\" x=\"2.5\" y=\"23.5\">1</text><text font-family=\"serif\" font-size=\"9.5\" x=\"2.5\" y=\"43.5\">2</text><text font-family=\"serif\" font-size=\"9.5\" x=\"2.5\" y=\"63.5\">3</text><text font-family=\"serif\" font-size=\"9.5\" x=\"2.5\" y=\"83.5\">4</text><text font-family=\"serif\" font-size=\"9.5\" x=\"2.5\" y=\"103.5\">5</text><text font-family=\"serif\" font-size=\"9.5\" x=\"2.5\" y=\"123.5\">6</text><text font-family=\"serif\" font-size=\"9.5\" x=\"2.5\" y=\"143.5\">7</text><text font-family=\"serif\" font-size=\"9.5\" x=\"2.5\" y=\"163.5\">8</text></g><use xlink:href=\"#black\" x=\"10.5\" y=\"10.5\" /><use xlink:href=\"#black\" x=\"70.5\" y=\"10.5\" /><use xlink:href=\"#black\" x=\"90.5\" y=\"10.5\" /><use xlink:href=\"#black\" x=\"110.5\" y=\"10.5\" /><use xlink:href=\"#black\" x=\"130.5\" y=\"10.5\" /><use xlink:href=\"#black\" x=\"150.5\" y=\"10.5\" /><use xlink:href=\"#black\" x=\"10.5\" y=\"30.5\" /><use xlink:href=\"#white\" x=\"30.5\" y=\"30.5\" /><use xlink:href=\"#white\" x=\"50.5\" y=\"30.5\" /><use xlink:href=\"#white\" x=\"70.5\" y=\"30.5\" /><use xlink:href=\"#white\" x=\"90.5\" y=\"30.5\" /><use xlink:href=\"#white\" x=\"110.5\" y=\"30.5\" /><use xlink:href=\"#white\" x=\"130.5\" y=\"30.5\" /><use xlink:href=\"#white\" x=\"150.5\" y=\"30.5\" /><use xlink:href=\"#black\" x=\"10.5\" y=\"50.5\" /><use xlink:href=\"#black\" x=\"30.5\" y=\"50.5\" /><use xlink:href=\"#white\" x=\"50.5\" y=\"50.5\" /><use xlink:href=\"#white\" x=\"70.5\" y=\"50.5\" /><use xlink:href=\"#white\" x=\"90.5\" y=\"50.5\" /><use xlink:href=\"#white\" x=\"110.5\" y=\"50.5\" /><use xlink:href=\"#white\" x=\"130.5\" y=\"50.5\" /><use xlink:href=\"#black\" x=\"10.5\" y=\"70.5\" /><use xlink:href=\"#black\" x=\"30.5\" y=\"70.5\" /><use xlink:href=\"#white\" x=\"50.5\" y=\"70.5\" /><use xlink:href=\"#black\" x=\"70.5\" y=\"70.5\" /><use xlink:href=\"#black\" x=\"90.5\" y=\"70.5\" /><use xlink:href=\"#white\" x=\"110.5\" y=\"70.5\" /><use xlink:href=\"#white\" x=\"130.5\" y=\"70.5\" /><use xlink:href=\"#black\" x=\"10.5\" y=\"90.5\" /><use xlink:href=\"#black\" x=\"30.5\" y=\"90.5\" /><use xlink:href=\"#black\" x=\"50.5\" y=\"90.5\" /><use xlink:href=\"#black\" x=\"70.5\" y=\"90.5\" /><use xlink:href=\"#white\" x=\"90.5\" y=\"90.5\" /><use xlink:href=\"#white\" x=\"110.5\" y=\"90.5\" /><use xlink:href=\"#white\" x=\"130.5\" y=\"90.5\" /><use xlink:href=\"#black\" x=\"10.5\" y=\"110.5\" /><use xlink:href=\"#black\" x=\"30.5\" y=\"110.5\" /><use xlink:href=\"#white\" x=\"50.5\" y=\"110.5\" /><use xlink:href=\"#black\" x=\"70.5\" y=\"110.5\" /><use xlink:href=\"#black\" x=\"10.5\" y=\"130.5\" /><use xlink:href=\"#white\" x=\"50.5\" y=\"130.5\" /><use xlink:href=\"#black\" x=\"90.5\" y=\"130.5\" /><use xlink:href=\"#white\" x=\"50.5\" y=\"150.5\" /></svg>"
      ],
      "text/plain": [
       " |abcdefgh\n",
       "-+--------\n",
       "1|x..xxxxx\n",
       "2|xooooooo\n",
       "3|xxooooo.\n",
       "4|xxoxxoo.\n",
       "5|xxxxooo.\n",
       "6|xxox....\n",
       "7|x.o.x...\n",
       "8|..o....."
      ]
     },
     "metadata": {},
     "output_type": "display_data"
    },
    {
     "data": {
      "image/png": "[encoded data removed]",
      "text/plain": [
       "<Figure size 300x300 with 1 Axes>"
      ]
     },
     "metadata": {},
     "output_type": "display_data"
    },
    {
     "data": {
      "image/svg+xml": [
       "<svg xmlns=\"http://www.w3.org/2000/svg\" version=\"1.1\" xmlns:xlink=\"http://www.w3.org/1999/xlink\" width=\"215.0\" height=\"215.0\" viewBox=\"0 0 172 172\"><defs><g id=\"black\"><circle cx=\"10\" cy=\"10\" r=\"8.5\" fill=\"black\" /></g><g id=\"white\"><circle cx=\"10\" cy=\"10\" r=\"8.5\" fill=\"white\" /></g></defs><rect fill=\"green\" height=\"161\" width=\"161\" x=\"10\" y=\"10\" /><g stroke=\"black\"><rect width=\"161\" height=\"161\" stroke-width=\"1.5\" fill=\"none\" x=\"10\" y=\"10\" /><line stroke-width=\"1.0\" x1=\"10.5\" x2=\"170.5\" y1=\"30.5\" y2=\"30.5\" /><line stroke-width=\"1.0\" x1=\"10.5\" x2=\"170.5\" y1=\"50.5\" y2=\"50.5\" /><line stroke-width=\"1.0\" x1=\"10.5\" x2=\"170.5\" y1=\"70.5\" y2=\"70.5\" /><line stroke-width=\"1.0\" x1=\"10.5\" x2=\"170.5\" y1=\"90.5\" y2=\"90.5\" /><line stroke-width=\"1.0\" x1=\"10.5\" x2=\"170.5\" y1=\"110.5\" y2=\"110.5\" /><line stroke-width=\"1.0\" x1=\"10.5\" x2=\"170.5\" y1=\"130.5\" y2=\"130.5\" /><line stroke-width=\"1.0\" x1=\"10.5\" x2=\"170.5\" y1=\"150.5\" y2=\"150.5\" /><line stroke-width=\"1.0\" x1=\"30.5\" x2=\"30.5\" y1=\"10.5\" y2=\"170.5\" /><line stroke-width=\"1.0\" x1=\"50.5\" x2=\"50.5\" y1=\"10.5\" y2=\"170.5\" /><line stroke-width=\"1.0\" x1=\"70.5\" x2=\"70.5\" y1=\"10.5\" y2=\"170.5\" /><line stroke-width=\"1.0\" x1=\"90.5\" x2=\"90.5\" y1=\"10.5\" y2=\"170.5\" /><line stroke-width=\"1.0\" x1=\"110.5\" x2=\"110.5\" y1=\"10.5\" y2=\"170.5\" /><line stroke-width=\"1.0\" x1=\"130.5\" x2=\"130.5\" y1=\"10.5\" y2=\"170.5\" /><line stroke-width=\"1.0\" x1=\"150.5\" x2=\"150.5\" y1=\"10.5\" y2=\"170.5\" /></g><g><text font-family=\"serif\" font-size=\"9.5\" text-anchor=\"middle\" x=\"20.5\" y=\"8\">a</text><text font-family=\"serif\" font-size=\"9.5\" text-anchor=\"middle\" x=\"40.5\" y=\"8\">b</text><text font-family=\"serif\" font-size=\"9.5\" text-anchor=\"middle\" x=\"60.5\" y=\"8\">c</text><text font-family=\"serif\" font-size=\"9.5\" text-anchor=\"middle\" x=\"80.5\" y=\"8\">d</text><text font-family=\"serif\" font-size=\"9.5\" text-anchor=\"middle\" x=\"100.5\" y=\"8\">e</text><text font-family=\"serif\" font-size=\"9.5\" text-anchor=\"middle\" x=\"120.5\" y=\"8\">f</text><text font-family=\"serif\" font-size=\"9.5\" text-anchor=\"middle\" x=\"140.5\" y=\"8\">g</text><text font-family=\"serif\" font-size=\"9.5\" text-anchor=\"middle\" x=\"160.5\" y=\"8\">h</text><text font-family=\"serif\" font-size=\"9.5\" x=\"2.5\" y=\"23.5\">1</text><text font-family=\"serif\" font-size=\"9.5\" x=\"2.5\" y=\"43.5\">2</text><text font-family=\"serif\" font-size=\"9.5\" x=\"2.5\" y=\"63.5\">3</text><text font-family=\"serif\" font-size=\"9.5\" x=\"2.5\" y=\"83.5\">4</text><text font-family=\"serif\" font-size=\"9.5\" x=\"2.5\" y=\"103.5\">5</text><text font-family=\"serif\" font-size=\"9.5\" x=\"2.5\" y=\"123.5\">6</text><text font-family=\"serif\" font-size=\"9.5\" x=\"2.5\" y=\"143.5\">7</text><text font-family=\"serif\" font-size=\"9.5\" x=\"2.5\" y=\"163.5\">8</text></g><use xlink:href=\"#black\" x=\"10.5\" y=\"10.5\" /><use xlink:href=\"#black\" x=\"70.5\" y=\"10.5\" /><use xlink:href=\"#black\" x=\"90.5\" y=\"10.5\" /><use xlink:href=\"#black\" x=\"110.5\" y=\"10.5\" /><use xlink:href=\"#black\" x=\"130.5\" y=\"10.5\" /><use xlink:href=\"#black\" x=\"150.5\" y=\"10.5\" /><use xlink:href=\"#black\" x=\"10.5\" y=\"30.5\" /><use xlink:href=\"#white\" x=\"30.5\" y=\"30.5\" /><use xlink:href=\"#white\" x=\"50.5\" y=\"30.5\" /><use xlink:href=\"#white\" x=\"70.5\" y=\"30.5\" /><use xlink:href=\"#white\" x=\"90.5\" y=\"30.5\" /><use xlink:href=\"#white\" x=\"110.5\" y=\"30.5\" /><use xlink:href=\"#white\" x=\"130.5\" y=\"30.5\" /><use xlink:href=\"#white\" x=\"150.5\" y=\"30.5\" /><use xlink:href=\"#black\" x=\"10.5\" y=\"50.5\" /><use xlink:href=\"#black\" x=\"30.5\" y=\"50.5\" /><use xlink:href=\"#white\" x=\"50.5\" y=\"50.5\" /><use xlink:href=\"#white\" x=\"70.5\" y=\"50.5\" /><use xlink:href=\"#white\" x=\"90.5\" y=\"50.5\" /><use xlink:href=\"#white\" x=\"110.5\" y=\"50.5\" /><use xlink:href=\"#white\" x=\"130.5\" y=\"50.5\" /><use xlink:href=\"#black\" x=\"10.5\" y=\"70.5\" /><use xlink:href=\"#black\" x=\"30.5\" y=\"70.5\" /><use xlink:href=\"#white\" x=\"50.5\" y=\"70.5\" /><use xlink:href=\"#black\" x=\"70.5\" y=\"70.5\" /><use xlink:href=\"#black\" x=\"90.5\" y=\"70.5\" /><use xlink:href=\"#white\" x=\"110.5\" y=\"70.5\" /><use xlink:href=\"#white\" x=\"130.5\" y=\"70.5\" /><use xlink:href=\"#black\" x=\"10.5\" y=\"90.5\" /><use xlink:href=\"#black\" x=\"30.5\" y=\"90.5\" /><use xlink:href=\"#black\" x=\"50.5\" y=\"90.5\" /><use xlink:href=\"#black\" x=\"70.5\" y=\"90.5\" /><use xlink:href=\"#white\" x=\"90.5\" y=\"90.5\" /><use xlink:href=\"#white\" x=\"110.5\" y=\"90.5\" /><use xlink:href=\"#white\" x=\"130.5\" y=\"90.5\" /><use xlink:href=\"#black\" x=\"10.5\" y=\"110.5\" /><use xlink:href=\"#black\" x=\"30.5\" y=\"110.5\" /><use xlink:href=\"#black\" x=\"50.5\" y=\"110.5\" /><use xlink:href=\"#black\" x=\"70.5\" y=\"110.5\" /><use xlink:href=\"#black\" x=\"10.5\" y=\"130.5\" /><use xlink:href=\"#white\" x=\"50.5\" y=\"130.5\" /><use xlink:href=\"#black\" x=\"70.5\" y=\"130.5\" /><use xlink:href=\"#black\" x=\"90.5\" y=\"130.5\" /><use xlink:href=\"#white\" x=\"50.5\" y=\"150.5\" /></svg>"
      ],
      "text/plain": [
       " |abcdefgh\n",
       "-+--------\n",
       "1|x..xxxxx\n",
       "2|xooooooo\n",
       "3|xxooooo.\n",
       "4|xxoxxoo.\n",
       "5|xxxxooo.\n",
       "6|xxxx....\n",
       "7|x.oxx...\n",
       "8|..o....."
      ]
     },
     "metadata": {},
     "output_type": "display_data"
    },
    {
     "data": {
      "image/svg+xml": [
       "<svg xmlns=\"http://www.w3.org/2000/svg\" version=\"1.1\" xmlns:xlink=\"http://www.w3.org/1999/xlink\" width=\"215.0\" height=\"215.0\" viewBox=\"0 0 172 172\"><defs><g id=\"black\"><circle cx=\"10\" cy=\"10\" r=\"8.5\" fill=\"black\" /></g><g id=\"white\"><circle cx=\"10\" cy=\"10\" r=\"8.5\" fill=\"white\" /></g></defs><rect fill=\"green\" height=\"161\" width=\"161\" x=\"10\" y=\"10\" /><g stroke=\"black\"><rect width=\"161\" height=\"161\" stroke-width=\"1.5\" fill=\"none\" x=\"10\" y=\"10\" /><line stroke-width=\"1.0\" x1=\"10.5\" x2=\"170.5\" y1=\"30.5\" y2=\"30.5\" /><line stroke-width=\"1.0\" x1=\"10.5\" x2=\"170.5\" y1=\"50.5\" y2=\"50.5\" /><line stroke-width=\"1.0\" x1=\"10.5\" x2=\"170.5\" y1=\"70.5\" y2=\"70.5\" /><line stroke-width=\"1.0\" x1=\"10.5\" x2=\"170.5\" y1=\"90.5\" y2=\"90.5\" /><line stroke-width=\"1.0\" x1=\"10.5\" x2=\"170.5\" y1=\"110.5\" y2=\"110.5\" /><line stroke-width=\"1.0\" x1=\"10.5\" x2=\"170.5\" y1=\"130.5\" y2=\"130.5\" /><line stroke-width=\"1.0\" x1=\"10.5\" x2=\"170.5\" y1=\"150.5\" y2=\"150.5\" /><line stroke-width=\"1.0\" x1=\"30.5\" x2=\"30.5\" y1=\"10.5\" y2=\"170.5\" /><line stroke-width=\"1.0\" x1=\"50.5\" x2=\"50.5\" y1=\"10.5\" y2=\"170.5\" /><line stroke-width=\"1.0\" x1=\"70.5\" x2=\"70.5\" y1=\"10.5\" y2=\"170.5\" /><line stroke-width=\"1.0\" x1=\"90.5\" x2=\"90.5\" y1=\"10.5\" y2=\"170.5\" /><line stroke-width=\"1.0\" x1=\"110.5\" x2=\"110.5\" y1=\"10.5\" y2=\"170.5\" /><line stroke-width=\"1.0\" x1=\"130.5\" x2=\"130.5\" y1=\"10.5\" y2=\"170.5\" /><line stroke-width=\"1.0\" x1=\"150.5\" x2=\"150.5\" y1=\"10.5\" y2=\"170.5\" /></g><g><text font-family=\"serif\" font-size=\"9.5\" text-anchor=\"middle\" x=\"20.5\" y=\"8\">a</text><text font-family=\"serif\" font-size=\"9.5\" text-anchor=\"middle\" x=\"40.5\" y=\"8\">b</text><text font-family=\"serif\" font-size=\"9.5\" text-anchor=\"middle\" x=\"60.5\" y=\"8\">c</text><text font-family=\"serif\" font-size=\"9.5\" text-anchor=\"middle\" x=\"80.5\" y=\"8\">d</text><text font-family=\"serif\" font-size=\"9.5\" text-anchor=\"middle\" x=\"100.5\" y=\"8\">e</text><text font-family=\"serif\" font-size=\"9.5\" text-anchor=\"middle\" x=\"120.5\" y=\"8\">f</text><text font-family=\"serif\" font-size=\"9.5\" text-anchor=\"middle\" x=\"140.5\" y=\"8\">g</text><text font-family=\"serif\" font-size=\"9.5\" text-anchor=\"middle\" x=\"160.5\" y=\"8\">h</text><text font-family=\"serif\" font-size=\"9.5\" x=\"2.5\" y=\"23.5\">1</text><text font-family=\"serif\" font-size=\"9.5\" x=\"2.5\" y=\"43.5\">2</text><text font-family=\"serif\" font-size=\"9.5\" x=\"2.5\" y=\"63.5\">3</text><text font-family=\"serif\" font-size=\"9.5\" x=\"2.5\" y=\"83.5\">4</text><text font-family=\"serif\" font-size=\"9.5\" x=\"2.5\" y=\"103.5\">5</text><text font-family=\"serif\" font-size=\"9.5\" x=\"2.5\" y=\"123.5\">6</text><text font-family=\"serif\" font-size=\"9.5\" x=\"2.5\" y=\"143.5\">7</text><text font-family=\"serif\" font-size=\"9.5\" x=\"2.5\" y=\"163.5\">8</text></g><use xlink:href=\"#black\" x=\"10.5\" y=\"10.5\" /><use xlink:href=\"#black\" x=\"70.5\" y=\"10.5\" /><use xlink:href=\"#black\" x=\"90.5\" y=\"10.5\" /><use xlink:href=\"#black\" x=\"110.5\" y=\"10.5\" /><use xlink:href=\"#black\" x=\"130.5\" y=\"10.5\" /><use xlink:href=\"#black\" x=\"150.5\" y=\"10.5\" /><use xlink:href=\"#black\" x=\"10.5\" y=\"30.5\" /><use xlink:href=\"#white\" x=\"30.5\" y=\"30.5\" /><use xlink:href=\"#white\" x=\"50.5\" y=\"30.5\" /><use xlink:href=\"#white\" x=\"70.5\" y=\"30.5\" /><use xlink:href=\"#white\" x=\"90.5\" y=\"30.5\" /><use xlink:href=\"#white\" x=\"110.5\" y=\"30.5\" /><use xlink:href=\"#white\" x=\"130.5\" y=\"30.5\" /><use xlink:href=\"#white\" x=\"150.5\" y=\"30.5\" /><use xlink:href=\"#black\" x=\"10.5\" y=\"50.5\" /><use xlink:href=\"#black\" x=\"30.5\" y=\"50.5\" /><use xlink:href=\"#white\" x=\"50.5\" y=\"50.5\" /><use xlink:href=\"#white\" x=\"70.5\" y=\"50.5\" /><use xlink:href=\"#white\" x=\"90.5\" y=\"50.5\" /><use xlink:href=\"#white\" x=\"110.5\" y=\"50.5\" /><use xlink:href=\"#white\" x=\"130.5\" y=\"50.5\" /><use xlink:href=\"#black\" x=\"10.5\" y=\"70.5\" /><use xlink:href=\"#black\" x=\"30.5\" y=\"70.5\" /><use xlink:href=\"#white\" x=\"50.5\" y=\"70.5\" /><use xlink:href=\"#white\" x=\"70.5\" y=\"70.5\" /><use xlink:href=\"#black\" x=\"90.5\" y=\"70.5\" /><use xlink:href=\"#white\" x=\"110.5\" y=\"70.5\" /><use xlink:href=\"#white\" x=\"130.5\" y=\"70.5\" /><use xlink:href=\"#black\" x=\"10.5\" y=\"90.5\" /><use xlink:href=\"#black\" x=\"30.5\" y=\"90.5\" /><use xlink:href=\"#black\" x=\"50.5\" y=\"90.5\" /><use xlink:href=\"#white\" x=\"70.5\" y=\"90.5\" /><use xlink:href=\"#white\" x=\"90.5\" y=\"90.5\" /><use xlink:href=\"#white\" x=\"110.5\" y=\"90.5\" /><use xlink:href=\"#white\" x=\"130.5\" y=\"90.5\" /><use xlink:href=\"#black\" x=\"10.5\" y=\"110.5\" /><use xlink:href=\"#black\" x=\"30.5\" y=\"110.5\" /><use xlink:href=\"#black\" x=\"50.5\" y=\"110.5\" /><use xlink:href=\"#white\" x=\"70.5\" y=\"110.5\" /><use xlink:href=\"#black\" x=\"10.5\" y=\"130.5\" /><use xlink:href=\"#white\" x=\"50.5\" y=\"130.5\" /><use xlink:href=\"#white\" x=\"70.5\" y=\"130.5\" /><use xlink:href=\"#black\" x=\"90.5\" y=\"130.5\" /><use xlink:href=\"#white\" x=\"50.5\" y=\"150.5\" /><use xlink:href=\"#white\" x=\"70.5\" y=\"150.5\" /></svg>"
      ],
      "text/plain": [
       " |abcdefgh\n",
       "-+--------\n",
       "1|x..xxxxx\n",
       "2|xooooooo\n",
       "3|xxooooo.\n",
       "4|xxooxoo.\n",
       "5|xxxoooo.\n",
       "6|xxxo....\n",
       "7|x.oox...\n",
       "8|..oo...."
      ]
     },
     "metadata": {},
     "output_type": "display_data"
    },
    {
     "data": {
      "image/png": "[encoded data removed]",
      "text/plain": [
       "<Figure size 300x300 with 1 Axes>"
      ]
     },
     "metadata": {},
     "output_type": "display_data"
    },
    {
     "data": {
      "image/svg+xml": [
       "<svg xmlns=\"http://www.w3.org/2000/svg\" version=\"1.1\" xmlns:xlink=\"http://www.w3.org/1999/xlink\" width=\"215.0\" height=\"215.0\" viewBox=\"0 0 172 172\"><defs><g id=\"black\"><circle cx=\"10\" cy=\"10\" r=\"8.5\" fill=\"black\" /></g><g id=\"white\"><circle cx=\"10\" cy=\"10\" r=\"8.5\" fill=\"white\" /></g></defs><rect fill=\"green\" height=\"161\" width=\"161\" x=\"10\" y=\"10\" /><g stroke=\"black\"><rect width=\"161\" height=\"161\" stroke-width=\"1.5\" fill=\"none\" x=\"10\" y=\"10\" /><line stroke-width=\"1.0\" x1=\"10.5\" x2=\"170.5\" y1=\"30.5\" y2=\"30.5\" /><line stroke-width=\"1.0\" x1=\"10.5\" x2=\"170.5\" y1=\"50.5\" y2=\"50.5\" /><line stroke-width=\"1.0\" x1=\"10.5\" x2=\"170.5\" y1=\"70.5\" y2=\"70.5\" /><line stroke-width=\"1.0\" x1=\"10.5\" x2=\"170.5\" y1=\"90.5\" y2=\"90.5\" /><line stroke-width=\"1.0\" x1=\"10.5\" x2=\"170.5\" y1=\"110.5\" y2=\"110.5\" /><line stroke-width=\"1.0\" x1=\"10.5\" x2=\"170.5\" y1=\"130.5\" y2=\"130.5\" /><line stroke-width=\"1.0\" x1=\"10.5\" x2=\"170.5\" y1=\"150.5\" y2=\"150.5\" /><line stroke-width=\"1.0\" x1=\"30.5\" x2=\"30.5\" y1=\"10.5\" y2=\"170.5\" /><line stroke-width=\"1.0\" x1=\"50.5\" x2=\"50.5\" y1=\"10.5\" y2=\"170.5\" /><line stroke-width=\"1.0\" x1=\"70.5\" x2=\"70.5\" y1=\"10.5\" y2=\"170.5\" /><line stroke-width=\"1.0\" x1=\"90.5\" x2=\"90.5\" y1=\"10.5\" y2=\"170.5\" /><line stroke-width=\"1.0\" x1=\"110.5\" x2=\"110.5\" y1=\"10.5\" y2=\"170.5\" /><line stroke-width=\"1.0\" x1=\"130.5\" x2=\"130.5\" y1=\"10.5\" y2=\"170.5\" /><line stroke-width=\"1.0\" x1=\"150.5\" x2=\"150.5\" y1=\"10.5\" y2=\"170.5\" /></g><g><text font-family=\"serif\" font-size=\"9.5\" text-anchor=\"middle\" x=\"20.5\" y=\"8\">a</text><text font-family=\"serif\" font-size=\"9.5\" text-anchor=\"middle\" x=\"40.5\" y=\"8\">b</text><text font-family=\"serif\" font-size=\"9.5\" text-anchor=\"middle\" x=\"60.5\" y=\"8\">c</text><text font-family=\"serif\" font-size=\"9.5\" text-anchor=\"middle\" x=\"80.5\" y=\"8\">d</text><text font-family=\"serif\" font-size=\"9.5\" text-anchor=\"middle\" x=\"100.5\" y=\"8\">e</text><text font-family=\"serif\" font-size=\"9.5\" text-anchor=\"middle\" x=\"120.5\" y=\"8\">f</text><text font-family=\"serif\" font-size=\"9.5\" text-anchor=\"middle\" x=\"140.5\" y=\"8\">g</text><text font-family=\"serif\" font-size=\"9.5\" text-anchor=\"middle\" x=\"160.5\" y=\"8\">h</text><text font-family=\"serif\" font-size=\"9.5\" x=\"2.5\" y=\"23.5\">1</text><text font-family=\"serif\" font-size=\"9.5\" x=\"2.5\" y=\"43.5\">2</text><text font-family=\"serif\" font-size=\"9.5\" x=\"2.5\" y=\"63.5\">3</text><text font-family=\"serif\" font-size=\"9.5\" x=\"2.5\" y=\"83.5\">4</text><text font-family=\"serif\" font-size=\"9.5\" x=\"2.5\" y=\"103.5\">5</text><text font-family=\"serif\" font-size=\"9.5\" x=\"2.5\" y=\"123.5\">6</text><text font-family=\"serif\" font-size=\"9.5\" x=\"2.5\" y=\"143.5\">7</text><text font-family=\"serif\" font-size=\"9.5\" x=\"2.5\" y=\"163.5\">8</text></g><use xlink:href=\"#black\" x=\"10.5\" y=\"10.5\" /><use xlink:href=\"#black\" x=\"70.5\" y=\"10.5\" /><use xlink:href=\"#black\" x=\"90.5\" y=\"10.5\" /><use xlink:href=\"#black\" x=\"110.5\" y=\"10.5\" /><use xlink:href=\"#black\" x=\"130.5\" y=\"10.5\" /><use xlink:href=\"#black\" x=\"150.5\" y=\"10.5\" /><use xlink:href=\"#black\" x=\"10.5\" y=\"30.5\" /><use xlink:href=\"#white\" x=\"30.5\" y=\"30.5\" /><use xlink:href=\"#white\" x=\"50.5\" y=\"30.5\" /><use xlink:href=\"#white\" x=\"70.5\" y=\"30.5\" /><use xlink:href=\"#white\" x=\"90.5\" y=\"30.5\" /><use xlink:href=\"#white\" x=\"110.5\" y=\"30.5\" /><use xlink:href=\"#white\" x=\"130.5\" y=\"30.5\" /><use xlink:href=\"#white\" x=\"150.5\" y=\"30.5\" /><use xlink:href=\"#black\" x=\"10.5\" y=\"50.5\" /><use xlink:href=\"#black\" x=\"30.5\" y=\"50.5\" /><use xlink:href=\"#white\" x=\"50.5\" y=\"50.5\" /><use xlink:href=\"#white\" x=\"70.5\" y=\"50.5\" /><use xlink:href=\"#white\" x=\"90.5\" y=\"50.5\" /><use xlink:href=\"#white\" x=\"110.5\" y=\"50.5\" /><use xlink:href=\"#white\" x=\"130.5\" y=\"50.5\" /><use xlink:href=\"#black\" x=\"10.5\" y=\"70.5\" /><use xlink:href=\"#black\" x=\"30.5\" y=\"70.5\" /><use xlink:href=\"#white\" x=\"50.5\" y=\"70.5\" /><use xlink:href=\"#white\" x=\"70.5\" y=\"70.5\" /><use xlink:href=\"#black\" x=\"90.5\" y=\"70.5\" /><use xlink:href=\"#white\" x=\"110.5\" y=\"70.5\" /><use xlink:href=\"#white\" x=\"130.5\" y=\"70.5\" /><use xlink:href=\"#black\" x=\"10.5\" y=\"90.5\" /><use xlink:href=\"#black\" x=\"30.5\" y=\"90.5\" /><use xlink:href=\"#black\" x=\"50.5\" y=\"90.5\" /><use xlink:href=\"#white\" x=\"70.5\" y=\"90.5\" /><use xlink:href=\"#white\" x=\"90.5\" y=\"90.5\" /><use xlink:href=\"#white\" x=\"110.5\" y=\"90.5\" /><use xlink:href=\"#white\" x=\"130.5\" y=\"90.5\" /><use xlink:href=\"#black\" x=\"10.5\" y=\"110.5\" /><use xlink:href=\"#black\" x=\"30.5\" y=\"110.5\" /><use xlink:href=\"#black\" x=\"50.5\" y=\"110.5\" /><use xlink:href=\"#white\" x=\"70.5\" y=\"110.5\" /><use xlink:href=\"#black\" x=\"10.5\" y=\"130.5\" /><use xlink:href=\"#white\" x=\"50.5\" y=\"130.5\" /><use xlink:href=\"#black\" x=\"70.5\" y=\"130.5\" /><use xlink:href=\"#black\" x=\"90.5\" y=\"130.5\" /><use xlink:href=\"#white\" x=\"50.5\" y=\"150.5\" /><use xlink:href=\"#white\" x=\"70.5\" y=\"150.5\" /><use xlink:href=\"#black\" x=\"90.5\" y=\"150.5\" /></svg>"
      ],
      "text/plain": [
       " |abcdefgh\n",
       "-+--------\n",
       "1|x..xxxxx\n",
       "2|xooooooo\n",
       "3|xxooooo.\n",
       "4|xxooxoo.\n",
       "5|xxxoooo.\n",
       "6|xxxo....\n",
       "7|x.oxx...\n",
       "8|..oox..."
      ]
     },
     "metadata": {},
     "output_type": "display_data"
    },
    {
     "data": {
      "image/svg+xml": [
       "<svg xmlns=\"http://www.w3.org/2000/svg\" version=\"1.1\" xmlns:xlink=\"http://www.w3.org/1999/xlink\" width=\"215.0\" height=\"215.0\" viewBox=\"0 0 172 172\"><defs><g id=\"black\"><circle cx=\"10\" cy=\"10\" r=\"8.5\" fill=\"black\" /></g><g id=\"white\"><circle cx=\"10\" cy=\"10\" r=\"8.5\" fill=\"white\" /></g></defs><rect fill=\"green\" height=\"161\" width=\"161\" x=\"10\" y=\"10\" /><g stroke=\"black\"><rect width=\"161\" height=\"161\" stroke-width=\"1.5\" fill=\"none\" x=\"10\" y=\"10\" /><line stroke-width=\"1.0\" x1=\"10.5\" x2=\"170.5\" y1=\"30.5\" y2=\"30.5\" /><line stroke-width=\"1.0\" x1=\"10.5\" x2=\"170.5\" y1=\"50.5\" y2=\"50.5\" /><line stroke-width=\"1.0\" x1=\"10.5\" x2=\"170.5\" y1=\"70.5\" y2=\"70.5\" /><line stroke-width=\"1.0\" x1=\"10.5\" x2=\"170.5\" y1=\"90.5\" y2=\"90.5\" /><line stroke-width=\"1.0\" x1=\"10.5\" x2=\"170.5\" y1=\"110.5\" y2=\"110.5\" /><line stroke-width=\"1.0\" x1=\"10.5\" x2=\"170.5\" y1=\"130.5\" y2=\"130.5\" /><line stroke-width=\"1.0\" x1=\"10.5\" x2=\"170.5\" y1=\"150.5\" y2=\"150.5\" /><line stroke-width=\"1.0\" x1=\"30.5\" x2=\"30.5\" y1=\"10.5\" y2=\"170.5\" /><line stroke-width=\"1.0\" x1=\"50.5\" x2=\"50.5\" y1=\"10.5\" y2=\"170.5\" /><line stroke-width=\"1.0\" x1=\"70.5\" x2=\"70.5\" y1=\"10.5\" y2=\"170.5\" /><line stroke-width=\"1.0\" x1=\"90.5\" x2=\"90.5\" y1=\"10.5\" y2=\"170.5\" /><line stroke-width=\"1.0\" x1=\"110.5\" x2=\"110.5\" y1=\"10.5\" y2=\"170.5\" /><line stroke-width=\"1.0\" x1=\"130.5\" x2=\"130.5\" y1=\"10.5\" y2=\"170.5\" /><line stroke-width=\"1.0\" x1=\"150.5\" x2=\"150.5\" y1=\"10.5\" y2=\"170.5\" /></g><g><text font-family=\"serif\" font-size=\"9.5\" text-anchor=\"middle\" x=\"20.5\" y=\"8\">a</text><text font-family=\"serif\" font-size=\"9.5\" text-anchor=\"middle\" x=\"40.5\" y=\"8\">b</text><text font-family=\"serif\" font-size=\"9.5\" text-anchor=\"middle\" x=\"60.5\" y=\"8\">c</text><text font-family=\"serif\" font-size=\"9.5\" text-anchor=\"middle\" x=\"80.5\" y=\"8\">d</text><text font-family=\"serif\" font-size=\"9.5\" text-anchor=\"middle\" x=\"100.5\" y=\"8\">e</text><text font-family=\"serif\" font-size=\"9.5\" text-anchor=\"middle\" x=\"120.5\" y=\"8\">f</text><text font-family=\"serif\" font-size=\"9.5\" text-anchor=\"middle\" x=\"140.5\" y=\"8\">g</text><text font-family=\"serif\" font-size=\"9.5\" text-anchor=\"middle\" x=\"160.5\" y=\"8\">h</text><text font-family=\"serif\" font-size=\"9.5\" x=\"2.5\" y=\"23.5\">1</text><text font-family=\"serif\" font-size=\"9.5\" x=\"2.5\" y=\"43.5\">2</text><text font-family=\"serif\" font-size=\"9.5\" x=\"2.5\" y=\"63.5\">3</text><text font-family=\"serif\" font-size=\"9.5\" x=\"2.5\" y=\"83.5\">4</text><text font-family=\"serif\" font-size=\"9.5\" x=\"2.5\" y=\"103.5\">5</text><text font-family=\"serif\" font-size=\"9.5\" x=\"2.5\" y=\"123.5\">6</text><text font-family=\"serif\" font-size=\"9.5\" x=\"2.5\" y=\"143.5\">7</text><text font-family=\"serif\" font-size=\"9.5\" x=\"2.5\" y=\"163.5\">8</text></g><use xlink:href=\"#black\" x=\"10.5\" y=\"10.5\" /><use xlink:href=\"#black\" x=\"70.5\" y=\"10.5\" /><use xlink:href=\"#black\" x=\"90.5\" y=\"10.5\" /><use xlink:href=\"#black\" x=\"110.5\" y=\"10.5\" /><use xlink:href=\"#black\" x=\"130.5\" y=\"10.5\" /><use xlink:href=\"#black\" x=\"150.5\" y=\"10.5\" /><use xlink:href=\"#black\" x=\"10.5\" y=\"30.5\" /><use xlink:href=\"#white\" x=\"30.5\" y=\"30.5\" /><use xlink:href=\"#white\" x=\"50.5\" y=\"30.5\" /><use xlink:href=\"#white\" x=\"70.5\" y=\"30.5\" /><use xlink:href=\"#white\" x=\"90.5\" y=\"30.5\" /><use xlink:href=\"#white\" x=\"110.5\" y=\"30.5\" /><use xlink:href=\"#white\" x=\"130.5\" y=\"30.5\" /><use xlink:href=\"#white\" x=\"150.5\" y=\"30.5\" /><use xlink:href=\"#black\" x=\"10.5\" y=\"50.5\" /><use xlink:href=\"#white\" x=\"30.5\" y=\"50.5\" /><use xlink:href=\"#white\" x=\"50.5\" y=\"50.5\" /><use xlink:href=\"#white\" x=\"70.5\" y=\"50.5\" /><use xlink:href=\"#white\" x=\"90.5\" y=\"50.5\" /><use xlink:href=\"#white\" x=\"110.5\" y=\"50.5\" /><use xlink:href=\"#white\" x=\"130.5\" y=\"50.5\" /><use xlink:href=\"#black\" x=\"10.5\" y=\"70.5\" /><use xlink:href=\"#white\" x=\"30.5\" y=\"70.5\" /><use xlink:href=\"#white\" x=\"50.5\" y=\"70.5\" /><use xlink:href=\"#white\" x=\"70.5\" y=\"70.5\" /><use xlink:href=\"#black\" x=\"90.5\" y=\"70.5\" /><use xlink:href=\"#white\" x=\"110.5\" y=\"70.5\" /><use xlink:href=\"#white\" x=\"130.5\" y=\"70.5\" /><use xlink:href=\"#black\" x=\"10.5\" y=\"90.5\" /><use xlink:href=\"#white\" x=\"30.5\" y=\"90.5\" /><use xlink:href=\"#black\" x=\"50.5\" y=\"90.5\" /><use xlink:href=\"#white\" x=\"70.5\" y=\"90.5\" /><use xlink:href=\"#white\" x=\"90.5\" y=\"90.5\" /><use xlink:href=\"#white\" x=\"110.5\" y=\"90.5\" /><use xlink:href=\"#white\" x=\"130.5\" y=\"90.5\" /><use xlink:href=\"#black\" x=\"10.5\" y=\"110.5\" /><use xlink:href=\"#white\" x=\"30.5\" y=\"110.5\" /><use xlink:href=\"#white\" x=\"50.5\" y=\"110.5\" /><use xlink:href=\"#white\" x=\"70.5\" y=\"110.5\" /><use xlink:href=\"#black\" x=\"10.5\" y=\"130.5\" /><use xlink:href=\"#white\" x=\"30.5\" y=\"130.5\" /><use xlink:href=\"#white\" x=\"50.5\" y=\"130.5\" /><use xlink:href=\"#black\" x=\"70.5\" y=\"130.5\" /><use xlink:href=\"#black\" x=\"90.5\" y=\"130.5\" /><use xlink:href=\"#white\" x=\"50.5\" y=\"150.5\" /><use xlink:href=\"#white\" x=\"70.5\" y=\"150.5\" /><use xlink:href=\"#black\" x=\"90.5\" y=\"150.5\" /></svg>"
      ],
      "text/plain": [
       " |abcdefgh\n",
       "-+--------\n",
       "1|x..xxxxx\n",
       "2|xooooooo\n",
       "3|xoooooo.\n",
       "4|xoooxoo.\n",
       "5|xoxoooo.\n",
       "6|xooo....\n",
       "7|xooxx...\n",
       "8|..oox..."
      ]
     },
     "metadata": {},
     "output_type": "display_data"
    },
    {
     "data": {
      "image/png": "[encoded data removed]",
      "text/plain": [
       "<Figure size 300x300 with 1 Axes>"
      ]
     },
     "metadata": {},
     "output_type": "display_data"
    },
    {
     "data": {
      "image/svg+xml": [
       "<svg xmlns=\"http://www.w3.org/2000/svg\" version=\"1.1\" xmlns:xlink=\"http://www.w3.org/1999/xlink\" width=\"215.0\" height=\"215.0\" viewBox=\"0 0 172 172\"><defs><g id=\"black\"><circle cx=\"10\" cy=\"10\" r=\"8.5\" fill=\"black\" /></g><g id=\"white\"><circle cx=\"10\" cy=\"10\" r=\"8.5\" fill=\"white\" /></g></defs><rect fill=\"green\" height=\"161\" width=\"161\" x=\"10\" y=\"10\" /><g stroke=\"black\"><rect width=\"161\" height=\"161\" stroke-width=\"1.5\" fill=\"none\" x=\"10\" y=\"10\" /><line stroke-width=\"1.0\" x1=\"10.5\" x2=\"170.5\" y1=\"30.5\" y2=\"30.5\" /><line stroke-width=\"1.0\" x1=\"10.5\" x2=\"170.5\" y1=\"50.5\" y2=\"50.5\" /><line stroke-width=\"1.0\" x1=\"10.5\" x2=\"170.5\" y1=\"70.5\" y2=\"70.5\" /><line stroke-width=\"1.0\" x1=\"10.5\" x2=\"170.5\" y1=\"90.5\" y2=\"90.5\" /><line stroke-width=\"1.0\" x1=\"10.5\" x2=\"170.5\" y1=\"110.5\" y2=\"110.5\" /><line stroke-width=\"1.0\" x1=\"10.5\" x2=\"170.5\" y1=\"130.5\" y2=\"130.5\" /><line stroke-width=\"1.0\" x1=\"10.5\" x2=\"170.5\" y1=\"150.5\" y2=\"150.5\" /><line stroke-width=\"1.0\" x1=\"30.5\" x2=\"30.5\" y1=\"10.5\" y2=\"170.5\" /><line stroke-width=\"1.0\" x1=\"50.5\" x2=\"50.5\" y1=\"10.5\" y2=\"170.5\" /><line stroke-width=\"1.0\" x1=\"70.5\" x2=\"70.5\" y1=\"10.5\" y2=\"170.5\" /><line stroke-width=\"1.0\" x1=\"90.5\" x2=\"90.5\" y1=\"10.5\" y2=\"170.5\" /><line stroke-width=\"1.0\" x1=\"110.5\" x2=\"110.5\" y1=\"10.5\" y2=\"170.5\" /><line stroke-width=\"1.0\" x1=\"130.5\" x2=\"130.5\" y1=\"10.5\" y2=\"170.5\" /><line stroke-width=\"1.0\" x1=\"150.5\" x2=\"150.5\" y1=\"10.5\" y2=\"170.5\" /></g><g><text font-family=\"serif\" font-size=\"9.5\" text-anchor=\"middle\" x=\"20.5\" y=\"8\">a</text><text font-family=\"serif\" font-size=\"9.5\" text-anchor=\"middle\" x=\"40.5\" y=\"8\">b</text><text font-family=\"serif\" font-size=\"9.5\" text-anchor=\"middle\" x=\"60.5\" y=\"8\">c</text><text font-family=\"serif\" font-size=\"9.5\" text-anchor=\"middle\" x=\"80.5\" y=\"8\">d</text><text font-family=\"serif\" font-size=\"9.5\" text-anchor=\"middle\" x=\"100.5\" y=\"8\">e</text><text font-family=\"serif\" font-size=\"9.5\" text-anchor=\"middle\" x=\"120.5\" y=\"8\">f</text><text font-family=\"serif\" font-size=\"9.5\" text-anchor=\"middle\" x=\"140.5\" y=\"8\">g</text><text font-family=\"serif\" font-size=\"9.5\" text-anchor=\"middle\" x=\"160.5\" y=\"8\">h</text><text font-family=\"serif\" font-size=\"9.5\" x=\"2.5\" y=\"23.5\">1</text><text font-family=\"serif\" font-size=\"9.5\" x=\"2.5\" y=\"43.5\">2</text><text font-family=\"serif\" font-size=\"9.5\" x=\"2.5\" y=\"63.5\">3</text><text font-family=\"serif\" font-size=\"9.5\" x=\"2.5\" y=\"83.5\">4</text><text font-family=\"serif\" font-size=\"9.5\" x=\"2.5\" y=\"103.5\">5</text><text font-family=\"serif\" font-size=\"9.5\" x=\"2.5\" y=\"123.5\">6</text><text font-family=\"serif\" font-size=\"9.5\" x=\"2.5\" y=\"143.5\">7</text><text font-family=\"serif\" font-size=\"9.5\" x=\"2.5\" y=\"163.5\">8</text></g><use xlink:href=\"#black\" x=\"10.5\" y=\"10.5\" /><use xlink:href=\"#black\" x=\"70.5\" y=\"10.5\" /><use xlink:href=\"#black\" x=\"90.5\" y=\"10.5\" /><use xlink:href=\"#black\" x=\"110.5\" y=\"10.5\" /><use xlink:href=\"#black\" x=\"130.5\" y=\"10.5\" /><use xlink:href=\"#black\" x=\"150.5\" y=\"10.5\" /><use xlink:href=\"#black\" x=\"10.5\" y=\"30.5\" /><use xlink:href=\"#white\" x=\"30.5\" y=\"30.5\" /><use xlink:href=\"#white\" x=\"50.5\" y=\"30.5\" /><use xlink:href=\"#white\" x=\"70.5\" y=\"30.5\" /><use xlink:href=\"#white\" x=\"90.5\" y=\"30.5\" /><use xlink:href=\"#white\" x=\"110.5\" y=\"30.5\" /><use xlink:href=\"#black\" x=\"130.5\" y=\"30.5\" /><use xlink:href=\"#black\" x=\"150.5\" y=\"30.5\" /><use xlink:href=\"#black\" x=\"10.5\" y=\"50.5\" /><use xlink:href=\"#black\" x=\"30.5\" y=\"50.5\" /><use xlink:href=\"#black\" x=\"50.5\" y=\"50.5\" /><use xlink:href=\"#black\" x=\"70.5\" y=\"50.5\" /><use xlink:href=\"#black\" x=\"90.5\" y=\"50.5\" /><use xlink:href=\"#black\" x=\"110.5\" y=\"50.5\" /><use xlink:href=\"#black\" x=\"130.5\" y=\"50.5\" /><use xlink:href=\"#black\" x=\"150.5\" y=\"50.5\" /><use xlink:href=\"#black\" x=\"10.5\" y=\"70.5\" /><use xlink:href=\"#white\" x=\"30.5\" y=\"70.5\" /><use xlink:href=\"#white\" x=\"50.5\" y=\"70.5\" /><use xlink:href=\"#white\" x=\"70.5\" y=\"70.5\" /><use xlink:href=\"#black\" x=\"90.5\" y=\"70.5\" /><use xlink:href=\"#white\" x=\"110.5\" y=\"70.5\" /><use xlink:href=\"#white\" x=\"130.5\" y=\"70.5\" /><use xlink:href=\"#black\" x=\"10.5\" y=\"90.5\" /><use xlink:href=\"#white\" x=\"30.5\" y=\"90.5\" /><use xlink:href=\"#black\" x=\"50.5\" y=\"90.5\" /><use xlink:href=\"#white\" x=\"70.5\" y=\"90.5\" /><use xlink:href=\"#white\" x=\"90.5\" y=\"90.5\" /><use xlink:href=\"#white\" x=\"110.5\" y=\"90.5\" /><use xlink:href=\"#white\" x=\"130.5\" y=\"90.5\" /><use xlink:href=\"#black\" x=\"10.5\" y=\"110.5\" /><use xlink:href=\"#white\" x=\"30.5\" y=\"110.5\" /><use xlink:href=\"#white\" x=\"50.5\" y=\"110.5\" /><use xlink:href=\"#white\" x=\"70.5\" y=\"110.5\" /><use xlink:href=\"#black\" x=\"10.5\" y=\"130.5\" /><use xlink:href=\"#white\" x=\"30.5\" y=\"130.5\" /><use xlink:href=\"#white\" x=\"50.5\" y=\"130.5\" /><use xlink:href=\"#black\" x=\"70.5\" y=\"130.5\" /><use xlink:href=\"#black\" x=\"90.5\" y=\"130.5\" /><use xlink:href=\"#white\" x=\"50.5\" y=\"150.5\" /><use xlink:href=\"#white\" x=\"70.5\" y=\"150.5\" /><use xlink:href=\"#black\" x=\"90.5\" y=\"150.5\" /></svg>"
      ],
      "text/plain": [
       " |abcdefgh\n",
       "-+--------\n",
       "1|x..xxxxx\n",
       "2|xoooooxx\n",
       "3|xxxxxxxx\n",
       "4|xoooxoo.\n",
       "5|xoxoooo.\n",
       "6|xooo....\n",
       "7|xooxx...\n",
       "8|..oox..."
      ]
     },
     "metadata": {},
     "output_type": "display_data"
    },
    {
     "data": {
      "image/svg+xml": [
       "<svg xmlns=\"http://www.w3.org/2000/svg\" version=\"1.1\" xmlns:xlink=\"http://www.w3.org/1999/xlink\" width=\"215.0\" height=\"215.0\" viewBox=\"0 0 172 172\"><defs><g id=\"black\"><circle cx=\"10\" cy=\"10\" r=\"8.5\" fill=\"black\" /></g><g id=\"white\"><circle cx=\"10\" cy=\"10\" r=\"8.5\" fill=\"white\" /></g></defs><rect fill=\"green\" height=\"161\" width=\"161\" x=\"10\" y=\"10\" /><g stroke=\"black\"><rect width=\"161\" height=\"161\" stroke-width=\"1.5\" fill=\"none\" x=\"10\" y=\"10\" /><line stroke-width=\"1.0\" x1=\"10.5\" x2=\"170.5\" y1=\"30.5\" y2=\"30.5\" /><line stroke-width=\"1.0\" x1=\"10.5\" x2=\"170.5\" y1=\"50.5\" y2=\"50.5\" /><line stroke-width=\"1.0\" x1=\"10.5\" x2=\"170.5\" y1=\"70.5\" y2=\"70.5\" /><line stroke-width=\"1.0\" x1=\"10.5\" x2=\"170.5\" y1=\"90.5\" y2=\"90.5\" /><line stroke-width=\"1.0\" x1=\"10.5\" x2=\"170.5\" y1=\"110.5\" y2=\"110.5\" /><line stroke-width=\"1.0\" x1=\"10.5\" x2=\"170.5\" y1=\"130.5\" y2=\"130.5\" /><line stroke-width=\"1.0\" x1=\"10.5\" x2=\"170.5\" y1=\"150.5\" y2=\"150.5\" /><line stroke-width=\"1.0\" x1=\"30.5\" x2=\"30.5\" y1=\"10.5\" y2=\"170.5\" /><line stroke-width=\"1.0\" x1=\"50.5\" x2=\"50.5\" y1=\"10.5\" y2=\"170.5\" /><line stroke-width=\"1.0\" x1=\"70.5\" x2=\"70.5\" y1=\"10.5\" y2=\"170.5\" /><line stroke-width=\"1.0\" x1=\"90.5\" x2=\"90.5\" y1=\"10.5\" y2=\"170.5\" /><line stroke-width=\"1.0\" x1=\"110.5\" x2=\"110.5\" y1=\"10.5\" y2=\"170.5\" /><line stroke-width=\"1.0\" x1=\"130.5\" x2=\"130.5\" y1=\"10.5\" y2=\"170.5\" /><line stroke-width=\"1.0\" x1=\"150.5\" x2=\"150.5\" y1=\"10.5\" y2=\"170.5\" /></g><g><text font-family=\"serif\" font-size=\"9.5\" text-anchor=\"middle\" x=\"20.5\" y=\"8\">a</text><text font-family=\"serif\" font-size=\"9.5\" text-anchor=\"middle\" x=\"40.5\" y=\"8\">b</text><text font-family=\"serif\" font-size=\"9.5\" text-anchor=\"middle\" x=\"60.5\" y=\"8\">c</text><text font-family=\"serif\" font-size=\"9.5\" text-anchor=\"middle\" x=\"80.5\" y=\"8\">d</text><text font-family=\"serif\" font-size=\"9.5\" text-anchor=\"middle\" x=\"100.5\" y=\"8\">e</text><text font-family=\"serif\" font-size=\"9.5\" text-anchor=\"middle\" x=\"120.5\" y=\"8\">f</text><text font-family=\"serif\" font-size=\"9.5\" text-anchor=\"middle\" x=\"140.5\" y=\"8\">g</text><text font-family=\"serif\" font-size=\"9.5\" text-anchor=\"middle\" x=\"160.5\" y=\"8\">h</text><text font-family=\"serif\" font-size=\"9.5\" x=\"2.5\" y=\"23.5\">1</text><text font-family=\"serif\" font-size=\"9.5\" x=\"2.5\" y=\"43.5\">2</text><text font-family=\"serif\" font-size=\"9.5\" x=\"2.5\" y=\"63.5\">3</text><text font-family=\"serif\" font-size=\"9.5\" x=\"2.5\" y=\"83.5\">4</text><text font-family=\"serif\" font-size=\"9.5\" x=\"2.5\" y=\"103.5\">5</text><text font-family=\"serif\" font-size=\"9.5\" x=\"2.5\" y=\"123.5\">6</text><text font-family=\"serif\" font-size=\"9.5\" x=\"2.5\" y=\"143.5\">7</text><text font-family=\"serif\" font-size=\"9.5\" x=\"2.5\" y=\"163.5\">8</text></g><use xlink:href=\"#black\" x=\"10.5\" y=\"10.5\" /><use xlink:href=\"#black\" x=\"70.5\" y=\"10.5\" /><use xlink:href=\"#black\" x=\"90.5\" y=\"10.5\" /><use xlink:href=\"#black\" x=\"110.5\" y=\"10.5\" /><use xlink:href=\"#black\" x=\"130.5\" y=\"10.5\" /><use xlink:href=\"#black\" x=\"150.5\" y=\"10.5\" /><use xlink:href=\"#black\" x=\"10.5\" y=\"30.5\" /><use xlink:href=\"#white\" x=\"30.5\" y=\"30.5\" /><use xlink:href=\"#white\" x=\"50.5\" y=\"30.5\" /><use xlink:href=\"#white\" x=\"70.5\" y=\"30.5\" /><use xlink:href=\"#white\" x=\"90.5\" y=\"30.5\" /><use xlink:href=\"#white\" x=\"110.5\" y=\"30.5\" /><use xlink:href=\"#black\" x=\"130.5\" y=\"30.5\" /><use xlink:href=\"#black\" x=\"150.5\" y=\"30.5\" /><use xlink:href=\"#black\" x=\"10.5\" y=\"50.5\" /><use xlink:href=\"#black\" x=\"30.5\" y=\"50.5\" /><use xlink:href=\"#black\" x=\"50.5\" y=\"50.5\" /><use xlink:href=\"#black\" x=\"70.5\" y=\"50.5\" /><use xlink:href=\"#black\" x=\"90.5\" y=\"50.5\" /><use xlink:href=\"#black\" x=\"110.5\" y=\"50.5\" /><use xlink:href=\"#black\" x=\"130.5\" y=\"50.5\" /><use xlink:href=\"#black\" x=\"150.5\" y=\"50.5\" /><use xlink:href=\"#black\" x=\"10.5\" y=\"70.5\" /><use xlink:href=\"#white\" x=\"30.5\" y=\"70.5\" /><use xlink:href=\"#white\" x=\"50.5\" y=\"70.5\" /><use xlink:href=\"#white\" x=\"70.5\" y=\"70.5\" /><use xlink:href=\"#black\" x=\"90.5\" y=\"70.5\" /><use xlink:href=\"#white\" x=\"110.5\" y=\"70.5\" /><use xlink:href=\"#white\" x=\"130.5\" y=\"70.5\" /><use xlink:href=\"#black\" x=\"10.5\" y=\"90.5\" /><use xlink:href=\"#white\" x=\"30.5\" y=\"90.5\" /><use xlink:href=\"#black\" x=\"50.5\" y=\"90.5\" /><use xlink:href=\"#white\" x=\"70.5\" y=\"90.5\" /><use xlink:href=\"#white\" x=\"90.5\" y=\"90.5\" /><use xlink:href=\"#white\" x=\"110.5\" y=\"90.5\" /><use xlink:href=\"#white\" x=\"130.5\" y=\"90.5\" /><use xlink:href=\"#black\" x=\"10.5\" y=\"110.5\" /><use xlink:href=\"#white\" x=\"30.5\" y=\"110.5\" /><use xlink:href=\"#white\" x=\"50.5\" y=\"110.5\" /><use xlink:href=\"#white\" x=\"70.5\" y=\"110.5\" /><use xlink:href=\"#white\" x=\"90.5\" y=\"110.5\" /><use xlink:href=\"#black\" x=\"10.5\" y=\"130.5\" /><use xlink:href=\"#white\" x=\"30.5\" y=\"130.5\" /><use xlink:href=\"#white\" x=\"50.5\" y=\"130.5\" /><use xlink:href=\"#white\" x=\"70.5\" y=\"130.5\" /><use xlink:href=\"#black\" x=\"90.5\" y=\"130.5\" /><use xlink:href=\"#white\" x=\"50.5\" y=\"150.5\" /><use xlink:href=\"#white\" x=\"70.5\" y=\"150.5\" /><use xlink:href=\"#black\" x=\"90.5\" y=\"150.5\" /></svg>"
      ],
      "text/plain": [
       " |abcdefgh\n",
       "-+--------\n",
       "1|x..xxxxx\n",
       "2|xoooooxx\n",
       "3|xxxxxxxx\n",
       "4|xoooxoo.\n",
       "5|xoxoooo.\n",
       "6|xoooo...\n",
       "7|xooox...\n",
       "8|..oox..."
      ]
     },
     "metadata": {},
     "output_type": "display_data"
    },
    {
     "data": {
      "image/png": "[encoded data removed]",
      "text/plain": [
       "<Figure size 300x300 with 1 Axes>"
      ]
     },
     "metadata": {},
     "output_type": "display_data"
    },
    {
     "data": {
      "image/svg+xml": [
       "<svg xmlns=\"http://www.w3.org/2000/svg\" version=\"1.1\" xmlns:xlink=\"http://www.w3.org/1999/xlink\" width=\"215.0\" height=\"215.0\" viewBox=\"0 0 172 172\"><defs><g id=\"black\"><circle cx=\"10\" cy=\"10\" r=\"8.5\" fill=\"black\" /></g><g id=\"white\"><circle cx=\"10\" cy=\"10\" r=\"8.5\" fill=\"white\" /></g></defs><rect fill=\"green\" height=\"161\" width=\"161\" x=\"10\" y=\"10\" /><g stroke=\"black\"><rect width=\"161\" height=\"161\" stroke-width=\"1.5\" fill=\"none\" x=\"10\" y=\"10\" /><line stroke-width=\"1.0\" x1=\"10.5\" x2=\"170.5\" y1=\"30.5\" y2=\"30.5\" /><line stroke-width=\"1.0\" x1=\"10.5\" x2=\"170.5\" y1=\"50.5\" y2=\"50.5\" /><line stroke-width=\"1.0\" x1=\"10.5\" x2=\"170.5\" y1=\"70.5\" y2=\"70.5\" /><line stroke-width=\"1.0\" x1=\"10.5\" x2=\"170.5\" y1=\"90.5\" y2=\"90.5\" /><line stroke-width=\"1.0\" x1=\"10.5\" x2=\"170.5\" y1=\"110.5\" y2=\"110.5\" /><line stroke-width=\"1.0\" x1=\"10.5\" x2=\"170.5\" y1=\"130.5\" y2=\"130.5\" /><line stroke-width=\"1.0\" x1=\"10.5\" x2=\"170.5\" y1=\"150.5\" y2=\"150.5\" /><line stroke-width=\"1.0\" x1=\"30.5\" x2=\"30.5\" y1=\"10.5\" y2=\"170.5\" /><line stroke-width=\"1.0\" x1=\"50.5\" x2=\"50.5\" y1=\"10.5\" y2=\"170.5\" /><line stroke-width=\"1.0\" x1=\"70.5\" x2=\"70.5\" y1=\"10.5\" y2=\"170.5\" /><line stroke-width=\"1.0\" x1=\"90.5\" x2=\"90.5\" y1=\"10.5\" y2=\"170.5\" /><line stroke-width=\"1.0\" x1=\"110.5\" x2=\"110.5\" y1=\"10.5\" y2=\"170.5\" /><line stroke-width=\"1.0\" x1=\"130.5\" x2=\"130.5\" y1=\"10.5\" y2=\"170.5\" /><line stroke-width=\"1.0\" x1=\"150.5\" x2=\"150.5\" y1=\"10.5\" y2=\"170.5\" /></g><g><text font-family=\"serif\" font-size=\"9.5\" text-anchor=\"middle\" x=\"20.5\" y=\"8\">a</text><text font-family=\"serif\" font-size=\"9.5\" text-anchor=\"middle\" x=\"40.5\" y=\"8\">b</text><text font-family=\"serif\" font-size=\"9.5\" text-anchor=\"middle\" x=\"60.5\" y=\"8\">c</text><text font-family=\"serif\" font-size=\"9.5\" text-anchor=\"middle\" x=\"80.5\" y=\"8\">d</text><text font-family=\"serif\" font-size=\"9.5\" text-anchor=\"middle\" x=\"100.5\" y=\"8\">e</text><text font-family=\"serif\" font-size=\"9.5\" text-anchor=\"middle\" x=\"120.5\" y=\"8\">f</text><text font-family=\"serif\" font-size=\"9.5\" text-anchor=\"middle\" x=\"140.5\" y=\"8\">g</text><text font-family=\"serif\" font-size=\"9.5\" text-anchor=\"middle\" x=\"160.5\" y=\"8\">h</text><text font-family=\"serif\" font-size=\"9.5\" x=\"2.5\" y=\"23.5\">1</text><text font-family=\"serif\" font-size=\"9.5\" x=\"2.5\" y=\"43.5\">2</text><text font-family=\"serif\" font-size=\"9.5\" x=\"2.5\" y=\"63.5\">3</text><text font-family=\"serif\" font-size=\"9.5\" x=\"2.5\" y=\"83.5\">4</text><text font-family=\"serif\" font-size=\"9.5\" x=\"2.5\" y=\"103.5\">5</text><text font-family=\"serif\" font-size=\"9.5\" x=\"2.5\" y=\"123.5\">6</text><text font-family=\"serif\" font-size=\"9.5\" x=\"2.5\" y=\"143.5\">7</text><text font-family=\"serif\" font-size=\"9.5\" x=\"2.5\" y=\"163.5\">8</text></g><use xlink:href=\"#black\" x=\"10.5\" y=\"10.5\" /><use xlink:href=\"#black\" x=\"70.5\" y=\"10.5\" /><use xlink:href=\"#black\" x=\"90.5\" y=\"10.5\" /><use xlink:href=\"#black\" x=\"110.5\" y=\"10.5\" /><use xlink:href=\"#black\" x=\"130.5\" y=\"10.5\" /><use xlink:href=\"#black\" x=\"150.5\" y=\"10.5\" /><use xlink:href=\"#black\" x=\"10.5\" y=\"30.5\" /><use xlink:href=\"#white\" x=\"30.5\" y=\"30.5\" /><use xlink:href=\"#white\" x=\"50.5\" y=\"30.5\" /><use xlink:href=\"#white\" x=\"70.5\" y=\"30.5\" /><use xlink:href=\"#white\" x=\"90.5\" y=\"30.5\" /><use xlink:href=\"#white\" x=\"110.5\" y=\"30.5\" /><use xlink:href=\"#black\" x=\"130.5\" y=\"30.5\" /><use xlink:href=\"#black\" x=\"150.5\" y=\"30.5\" /><use xlink:href=\"#black\" x=\"10.5\" y=\"50.5\" /><use xlink:href=\"#black\" x=\"30.5\" y=\"50.5\" /><use xlink:href=\"#black\" x=\"50.5\" y=\"50.5\" /><use xlink:href=\"#black\" x=\"70.5\" y=\"50.5\" /><use xlink:href=\"#black\" x=\"90.5\" y=\"50.5\" /><use xlink:href=\"#black\" x=\"110.5\" y=\"50.5\" /><use xlink:href=\"#black\" x=\"130.5\" y=\"50.5\" /><use xlink:href=\"#black\" x=\"150.5\" y=\"50.5\" /><use xlink:href=\"#black\" x=\"10.5\" y=\"70.5\" /><use xlink:href=\"#white\" x=\"30.5\" y=\"70.5\" /><use xlink:href=\"#white\" x=\"50.5\" y=\"70.5\" /><use xlink:href=\"#white\" x=\"70.5\" y=\"70.5\" /><use xlink:href=\"#black\" x=\"90.5\" y=\"70.5\" /><use xlink:href=\"#black\" x=\"110.5\" y=\"70.5\" /><use xlink:href=\"#black\" x=\"130.5\" y=\"70.5\" /><use xlink:href=\"#black\" x=\"150.5\" y=\"70.5\" /><use xlink:href=\"#black\" x=\"10.5\" y=\"90.5\" /><use xlink:href=\"#white\" x=\"30.5\" y=\"90.5\" /><use xlink:href=\"#black\" x=\"50.5\" y=\"90.5\" /><use xlink:href=\"#white\" x=\"70.5\" y=\"90.5\" /><use xlink:href=\"#white\" x=\"90.5\" y=\"90.5\" /><use xlink:href=\"#white\" x=\"110.5\" y=\"90.5\" /><use xlink:href=\"#white\" x=\"130.5\" y=\"90.5\" /><use xlink:href=\"#black\" x=\"10.5\" y=\"110.5\" /><use xlink:href=\"#white\" x=\"30.5\" y=\"110.5\" /><use xlink:href=\"#white\" x=\"50.5\" y=\"110.5\" /><use xlink:href=\"#white\" x=\"70.5\" y=\"110.5\" /><use xlink:href=\"#white\" x=\"90.5\" y=\"110.5\" /><use xlink:href=\"#black\" x=\"10.5\" y=\"130.5\" /><use xlink:href=\"#white\" x=\"30.5\" y=\"130.5\" /><use xlink:href=\"#white\" x=\"50.5\" y=\"130.5\" /><use xlink:href=\"#white\" x=\"70.5\" y=\"130.5\" /><use xlink:href=\"#black\" x=\"90.5\" y=\"130.5\" /><use xlink:href=\"#white\" x=\"50.5\" y=\"150.5\" /><use xlink:href=\"#white\" x=\"70.5\" y=\"150.5\" /><use xlink:href=\"#black\" x=\"90.5\" y=\"150.5\" /></svg>"
      ],
      "text/plain": [
       " |abcdefgh\n",
       "-+--------\n",
       "1|x..xxxxx\n",
       "2|xoooooxx\n",
       "3|xxxxxxxx\n",
       "4|xoooxxxx\n",
       "5|xoxoooo.\n",
       "6|xoooo...\n",
       "7|xooox...\n",
       "8|..oox..."
      ]
     },
     "metadata": {},
     "output_type": "display_data"
    },
    {
     "data": {
      "image/svg+xml": [
       "<svg xmlns=\"http://www.w3.org/2000/svg\" version=\"1.1\" xmlns:xlink=\"http://www.w3.org/1999/xlink\" width=\"215.0\" height=\"215.0\" viewBox=\"0 0 172 172\"><defs><g id=\"black\"><circle cx=\"10\" cy=\"10\" r=\"8.5\" fill=\"black\" /></g><g id=\"white\"><circle cx=\"10\" cy=\"10\" r=\"8.5\" fill=\"white\" /></g></defs><rect fill=\"green\" height=\"161\" width=\"161\" x=\"10\" y=\"10\" /><g stroke=\"black\"><rect width=\"161\" height=\"161\" stroke-width=\"1.5\" fill=\"none\" x=\"10\" y=\"10\" /><line stroke-width=\"1.0\" x1=\"10.5\" x2=\"170.5\" y1=\"30.5\" y2=\"30.5\" /><line stroke-width=\"1.0\" x1=\"10.5\" x2=\"170.5\" y1=\"50.5\" y2=\"50.5\" /><line stroke-width=\"1.0\" x1=\"10.5\" x2=\"170.5\" y1=\"70.5\" y2=\"70.5\" /><line stroke-width=\"1.0\" x1=\"10.5\" x2=\"170.5\" y1=\"90.5\" y2=\"90.5\" /><line stroke-width=\"1.0\" x1=\"10.5\" x2=\"170.5\" y1=\"110.5\" y2=\"110.5\" /><line stroke-width=\"1.0\" x1=\"10.5\" x2=\"170.5\" y1=\"130.5\" y2=\"130.5\" /><line stroke-width=\"1.0\" x1=\"10.5\" x2=\"170.5\" y1=\"150.5\" y2=\"150.5\" /><line stroke-width=\"1.0\" x1=\"30.5\" x2=\"30.5\" y1=\"10.5\" y2=\"170.5\" /><line stroke-width=\"1.0\" x1=\"50.5\" x2=\"50.5\" y1=\"10.5\" y2=\"170.5\" /><line stroke-width=\"1.0\" x1=\"70.5\" x2=\"70.5\" y1=\"10.5\" y2=\"170.5\" /><line stroke-width=\"1.0\" x1=\"90.5\" x2=\"90.5\" y1=\"10.5\" y2=\"170.5\" /><line stroke-width=\"1.0\" x1=\"110.5\" x2=\"110.5\" y1=\"10.5\" y2=\"170.5\" /><line stroke-width=\"1.0\" x1=\"130.5\" x2=\"130.5\" y1=\"10.5\" y2=\"170.5\" /><line stroke-width=\"1.0\" x1=\"150.5\" x2=\"150.5\" y1=\"10.5\" y2=\"170.5\" /></g><g><text font-family=\"serif\" font-size=\"9.5\" text-anchor=\"middle\" x=\"20.5\" y=\"8\">a</text><text font-family=\"serif\" font-size=\"9.5\" text-anchor=\"middle\" x=\"40.5\" y=\"8\">b</text><text font-family=\"serif\" font-size=\"9.5\" text-anchor=\"middle\" x=\"60.5\" y=\"8\">c</text><text font-family=\"serif\" font-size=\"9.5\" text-anchor=\"middle\" x=\"80.5\" y=\"8\">d</text><text font-family=\"serif\" font-size=\"9.5\" text-anchor=\"middle\" x=\"100.5\" y=\"8\">e</text><text font-family=\"serif\" font-size=\"9.5\" text-anchor=\"middle\" x=\"120.5\" y=\"8\">f</text><text font-family=\"serif\" font-size=\"9.5\" text-anchor=\"middle\" x=\"140.5\" y=\"8\">g</text><text font-family=\"serif\" font-size=\"9.5\" text-anchor=\"middle\" x=\"160.5\" y=\"8\">h</text><text font-family=\"serif\" font-size=\"9.5\" x=\"2.5\" y=\"23.5\">1</text><text font-family=\"serif\" font-size=\"9.5\" x=\"2.5\" y=\"43.5\">2</text><text font-family=\"serif\" font-size=\"9.5\" x=\"2.5\" y=\"63.5\">3</text><text font-family=\"serif\" font-size=\"9.5\" x=\"2.5\" y=\"83.5\">4</text><text font-family=\"serif\" font-size=\"9.5\" x=\"2.5\" y=\"103.5\">5</text><text font-family=\"serif\" font-size=\"9.5\" x=\"2.5\" y=\"123.5\">6</text><text font-family=\"serif\" font-size=\"9.5\" x=\"2.5\" y=\"143.5\">7</text><text font-family=\"serif\" font-size=\"9.5\" x=\"2.5\" y=\"163.5\">8</text></g><use xlink:href=\"#black\" x=\"10.5\" y=\"10.5\" /><use xlink:href=\"#black\" x=\"70.5\" y=\"10.5\" /><use xlink:href=\"#black\" x=\"90.5\" y=\"10.5\" /><use xlink:href=\"#black\" x=\"110.5\" y=\"10.5\" /><use xlink:href=\"#black\" x=\"130.5\" y=\"10.5\" /><use xlink:href=\"#black\" x=\"150.5\" y=\"10.5\" /><use xlink:href=\"#black\" x=\"10.5\" y=\"30.5\" /><use xlink:href=\"#white\" x=\"30.5\" y=\"30.5\" /><use xlink:href=\"#white\" x=\"50.5\" y=\"30.5\" /><use xlink:href=\"#white\" x=\"70.5\" y=\"30.5\" /><use xlink:href=\"#white\" x=\"90.5\" y=\"30.5\" /><use xlink:href=\"#white\" x=\"110.5\" y=\"30.5\" /><use xlink:href=\"#black\" x=\"130.5\" y=\"30.5\" /><use xlink:href=\"#black\" x=\"150.5\" y=\"30.5\" /><use xlink:href=\"#black\" x=\"10.5\" y=\"50.5\" /><use xlink:href=\"#black\" x=\"30.5\" y=\"50.5\" /><use xlink:href=\"#black\" x=\"50.5\" y=\"50.5\" /><use xlink:href=\"#black\" x=\"70.5\" y=\"50.5\" /><use xlink:href=\"#black\" x=\"90.5\" y=\"50.5\" /><use xlink:href=\"#black\" x=\"110.5\" y=\"50.5\" /><use xlink:href=\"#black\" x=\"130.5\" y=\"50.5\" /><use xlink:href=\"#black\" x=\"150.5\" y=\"50.5\" /><use xlink:href=\"#black\" x=\"10.5\" y=\"70.5\" /><use xlink:href=\"#white\" x=\"30.5\" y=\"70.5\" /><use xlink:href=\"#white\" x=\"50.5\" y=\"70.5\" /><use xlink:href=\"#white\" x=\"70.5\" y=\"70.5\" /><use xlink:href=\"#black\" x=\"90.5\" y=\"70.5\" /><use xlink:href=\"#black\" x=\"110.5\" y=\"70.5\" /><use xlink:href=\"#black\" x=\"130.5\" y=\"70.5\" /><use xlink:href=\"#black\" x=\"150.5\" y=\"70.5\" /><use xlink:href=\"#black\" x=\"10.5\" y=\"90.5\" /><use xlink:href=\"#white\" x=\"30.5\" y=\"90.5\" /><use xlink:href=\"#black\" x=\"50.5\" y=\"90.5\" /><use xlink:href=\"#white\" x=\"70.5\" y=\"90.5\" /><use xlink:href=\"#white\" x=\"90.5\" y=\"90.5\" /><use xlink:href=\"#white\" x=\"110.5\" y=\"90.5\" /><use xlink:href=\"#white\" x=\"130.5\" y=\"90.5\" /><use xlink:href=\"#black\" x=\"10.5\" y=\"110.5\" /><use xlink:href=\"#white\" x=\"30.5\" y=\"110.5\" /><use xlink:href=\"#white\" x=\"50.5\" y=\"110.5\" /><use xlink:href=\"#white\" x=\"70.5\" y=\"110.5\" /><use xlink:href=\"#white\" x=\"90.5\" y=\"110.5\" /><use xlink:href=\"#white\" x=\"110.5\" y=\"110.5\" /><use xlink:href=\"#black\" x=\"10.5\" y=\"130.5\" /><use xlink:href=\"#white\" x=\"30.5\" y=\"130.5\" /><use xlink:href=\"#white\" x=\"50.5\" y=\"130.5\" /><use xlink:href=\"#white\" x=\"70.5\" y=\"130.5\" /><use xlink:href=\"#white\" x=\"90.5\" y=\"130.5\" /><use xlink:href=\"#white\" x=\"50.5\" y=\"150.5\" /><use xlink:href=\"#white\" x=\"70.5\" y=\"150.5\" /><use xlink:href=\"#black\" x=\"90.5\" y=\"150.5\" /></svg>"
      ],
      "text/plain": [
       " |abcdefgh\n",
       "-+--------\n",
       "1|x..xxxxx\n",
       "2|xoooooxx\n",
       "3|xxxxxxxx\n",
       "4|xoooxxxx\n",
       "5|xoxoooo.\n",
       "6|xooooo..\n",
       "7|xoooo...\n",
       "8|..oox..."
      ]
     },
     "metadata": {},
     "output_type": "display_data"
    },
    {
     "data": {
      "image/png": "[encoded data removed]",
      "text/plain": [
       "<Figure size 300x300 with 1 Axes>"
      ]
     },
     "metadata": {},
     "output_type": "display_data"
    },
    {
     "data": {
      "image/svg+xml": [
       "<svg xmlns=\"http://www.w3.org/2000/svg\" version=\"1.1\" xmlns:xlink=\"http://www.w3.org/1999/xlink\" width=\"215.0\" height=\"215.0\" viewBox=\"0 0 172 172\"><defs><g id=\"black\"><circle cx=\"10\" cy=\"10\" r=\"8.5\" fill=\"black\" /></g><g id=\"white\"><circle cx=\"10\" cy=\"10\" r=\"8.5\" fill=\"white\" /></g></defs><rect fill=\"green\" height=\"161\" width=\"161\" x=\"10\" y=\"10\" /><g stroke=\"black\"><rect width=\"161\" height=\"161\" stroke-width=\"1.5\" fill=\"none\" x=\"10\" y=\"10\" /><line stroke-width=\"1.0\" x1=\"10.5\" x2=\"170.5\" y1=\"30.5\" y2=\"30.5\" /><line stroke-width=\"1.0\" x1=\"10.5\" x2=\"170.5\" y1=\"50.5\" y2=\"50.5\" /><line stroke-width=\"1.0\" x1=\"10.5\" x2=\"170.5\" y1=\"70.5\" y2=\"70.5\" /><line stroke-width=\"1.0\" x1=\"10.5\" x2=\"170.5\" y1=\"90.5\" y2=\"90.5\" /><line stroke-width=\"1.0\" x1=\"10.5\" x2=\"170.5\" y1=\"110.5\" y2=\"110.5\" /><line stroke-width=\"1.0\" x1=\"10.5\" x2=\"170.5\" y1=\"130.5\" y2=\"130.5\" /><line stroke-width=\"1.0\" x1=\"10.5\" x2=\"170.5\" y1=\"150.5\" y2=\"150.5\" /><line stroke-width=\"1.0\" x1=\"30.5\" x2=\"30.5\" y1=\"10.5\" y2=\"170.5\" /><line stroke-width=\"1.0\" x1=\"50.5\" x2=\"50.5\" y1=\"10.5\" y2=\"170.5\" /><line stroke-width=\"1.0\" x1=\"70.5\" x2=\"70.5\" y1=\"10.5\" y2=\"170.5\" /><line stroke-width=\"1.0\" x1=\"90.5\" x2=\"90.5\" y1=\"10.5\" y2=\"170.5\" /><line stroke-width=\"1.0\" x1=\"110.5\" x2=\"110.5\" y1=\"10.5\" y2=\"170.5\" /><line stroke-width=\"1.0\" x1=\"130.5\" x2=\"130.5\" y1=\"10.5\" y2=\"170.5\" /><line stroke-width=\"1.0\" x1=\"150.5\" x2=\"150.5\" y1=\"10.5\" y2=\"170.5\" /></g><g><text font-family=\"serif\" font-size=\"9.5\" text-anchor=\"middle\" x=\"20.5\" y=\"8\">a</text><text font-family=\"serif\" font-size=\"9.5\" text-anchor=\"middle\" x=\"40.5\" y=\"8\">b</text><text font-family=\"serif\" font-size=\"9.5\" text-anchor=\"middle\" x=\"60.5\" y=\"8\">c</text><text font-family=\"serif\" font-size=\"9.5\" text-anchor=\"middle\" x=\"80.5\" y=\"8\">d</text><text font-family=\"serif\" font-size=\"9.5\" text-anchor=\"middle\" x=\"100.5\" y=\"8\">e</text><text font-family=\"serif\" font-size=\"9.5\" text-anchor=\"middle\" x=\"120.5\" y=\"8\">f</text><text font-family=\"serif\" font-size=\"9.5\" text-anchor=\"middle\" x=\"140.5\" y=\"8\">g</text><text font-family=\"serif\" font-size=\"9.5\" text-anchor=\"middle\" x=\"160.5\" y=\"8\">h</text><text font-family=\"serif\" font-size=\"9.5\" x=\"2.5\" y=\"23.5\">1</text><text font-family=\"serif\" font-size=\"9.5\" x=\"2.5\" y=\"43.5\">2</text><text font-family=\"serif\" font-size=\"9.5\" x=\"2.5\" y=\"63.5\">3</text><text font-family=\"serif\" font-size=\"9.5\" x=\"2.5\" y=\"83.5\">4</text><text font-family=\"serif\" font-size=\"9.5\" x=\"2.5\" y=\"103.5\">5</text><text font-family=\"serif\" font-size=\"9.5\" x=\"2.5\" y=\"123.5\">6</text><text font-family=\"serif\" font-size=\"9.5\" x=\"2.5\" y=\"143.5\">7</text><text font-family=\"serif\" font-size=\"9.5\" x=\"2.5\" y=\"163.5\">8</text></g><use xlink:href=\"#black\" x=\"10.5\" y=\"10.5\" /><use xlink:href=\"#black\" x=\"70.5\" y=\"10.5\" /><use xlink:href=\"#black\" x=\"90.5\" y=\"10.5\" /><use xlink:href=\"#black\" x=\"110.5\" y=\"10.5\" /><use xlink:href=\"#black\" x=\"130.5\" y=\"10.5\" /><use xlink:href=\"#black\" x=\"150.5\" y=\"10.5\" /><use xlink:href=\"#black\" x=\"10.5\" y=\"30.5\" /><use xlink:href=\"#white\" x=\"30.5\" y=\"30.5\" /><use xlink:href=\"#white\" x=\"50.5\" y=\"30.5\" /><use xlink:href=\"#white\" x=\"70.5\" y=\"30.5\" /><use xlink:href=\"#white\" x=\"90.5\" y=\"30.5\" /><use xlink:href=\"#white\" x=\"110.5\" y=\"30.5\" /><use xlink:href=\"#black\" x=\"130.5\" y=\"30.5\" /><use xlink:href=\"#black\" x=\"150.5\" y=\"30.5\" /><use xlink:href=\"#black\" x=\"10.5\" y=\"50.5\" /><use xlink:href=\"#black\" x=\"30.5\" y=\"50.5\" /><use xlink:href=\"#black\" x=\"50.5\" y=\"50.5\" /><use xlink:href=\"#black\" x=\"70.5\" y=\"50.5\" /><use xlink:href=\"#black\" x=\"90.5\" y=\"50.5\" /><use xlink:href=\"#black\" x=\"110.5\" y=\"50.5\" /><use xlink:href=\"#black\" x=\"130.5\" y=\"50.5\" /><use xlink:href=\"#black\" x=\"150.5\" y=\"50.5\" /><use xlink:href=\"#black\" x=\"10.5\" y=\"70.5\" /><use xlink:href=\"#white\" x=\"30.5\" y=\"70.5\" /><use xlink:href=\"#white\" x=\"50.5\" y=\"70.5\" /><use xlink:href=\"#white\" x=\"70.5\" y=\"70.5\" /><use xlink:href=\"#black\" x=\"90.5\" y=\"70.5\" /><use xlink:href=\"#black\" x=\"110.5\" y=\"70.5\" /><use xlink:href=\"#black\" x=\"130.5\" y=\"70.5\" /><use xlink:href=\"#black\" x=\"150.5\" y=\"70.5\" /><use xlink:href=\"#black\" x=\"10.5\" y=\"90.5\" /><use xlink:href=\"#white\" x=\"30.5\" y=\"90.5\" /><use xlink:href=\"#black\" x=\"50.5\" y=\"90.5\" /><use xlink:href=\"#black\" x=\"70.5\" y=\"90.5\" /><use xlink:href=\"#black\" x=\"90.5\" y=\"90.5\" /><use xlink:href=\"#black\" x=\"110.5\" y=\"90.5\" /><use xlink:href=\"#black\" x=\"130.5\" y=\"90.5\" /><use xlink:href=\"#black\" x=\"150.5\" y=\"90.5\" /><use xlink:href=\"#black\" x=\"10.5\" y=\"110.5\" /><use xlink:href=\"#white\" x=\"30.5\" y=\"110.5\" /><use xlink:href=\"#white\" x=\"50.5\" y=\"110.5\" /><use xlink:href=\"#white\" x=\"70.5\" y=\"110.5\" /><use xlink:href=\"#white\" x=\"90.5\" y=\"110.5\" /><use xlink:href=\"#white\" x=\"110.5\" y=\"110.5\" /><use xlink:href=\"#black\" x=\"10.5\" y=\"130.5\" /><use xlink:href=\"#white\" x=\"30.5\" y=\"130.5\" /><use xlink:href=\"#white\" x=\"50.5\" y=\"130.5\" /><use xlink:href=\"#white\" x=\"70.5\" y=\"130.5\" /><use xlink:href=\"#white\" x=\"90.5\" y=\"130.5\" /><use xlink:href=\"#white\" x=\"50.5\" y=\"150.5\" /><use xlink:href=\"#white\" x=\"70.5\" y=\"150.5\" /><use xlink:href=\"#black\" x=\"90.5\" y=\"150.5\" /></svg>"
      ],
      "text/plain": [
       " |abcdefgh\n",
       "-+--------\n",
       "1|x..xxxxx\n",
       "2|xoooooxx\n",
       "3|xxxxxxxx\n",
       "4|xoooxxxx\n",
       "5|xoxxxxxx\n",
       "6|xooooo..\n",
       "7|xoooo...\n",
       "8|..oox..."
      ]
     },
     "metadata": {},
     "output_type": "display_data"
    },
    {
     "data": {
      "image/svg+xml": [
       "<svg xmlns=\"http://www.w3.org/2000/svg\" version=\"1.1\" xmlns:xlink=\"http://www.w3.org/1999/xlink\" width=\"215.0\" height=\"215.0\" viewBox=\"0 0 172 172\"><defs><g id=\"black\"><circle cx=\"10\" cy=\"10\" r=\"8.5\" fill=\"black\" /></g><g id=\"white\"><circle cx=\"10\" cy=\"10\" r=\"8.5\" fill=\"white\" /></g></defs><rect fill=\"green\" height=\"161\" width=\"161\" x=\"10\" y=\"10\" /><g stroke=\"black\"><rect width=\"161\" height=\"161\" stroke-width=\"1.5\" fill=\"none\" x=\"10\" y=\"10\" /><line stroke-width=\"1.0\" x1=\"10.5\" x2=\"170.5\" y1=\"30.5\" y2=\"30.5\" /><line stroke-width=\"1.0\" x1=\"10.5\" x2=\"170.5\" y1=\"50.5\" y2=\"50.5\" /><line stroke-width=\"1.0\" x1=\"10.5\" x2=\"170.5\" y1=\"70.5\" y2=\"70.5\" /><line stroke-width=\"1.0\" x1=\"10.5\" x2=\"170.5\" y1=\"90.5\" y2=\"90.5\" /><line stroke-width=\"1.0\" x1=\"10.5\" x2=\"170.5\" y1=\"110.5\" y2=\"110.5\" /><line stroke-width=\"1.0\" x1=\"10.5\" x2=\"170.5\" y1=\"130.5\" y2=\"130.5\" /><line stroke-width=\"1.0\" x1=\"10.5\" x2=\"170.5\" y1=\"150.5\" y2=\"150.5\" /><line stroke-width=\"1.0\" x1=\"30.5\" x2=\"30.5\" y1=\"10.5\" y2=\"170.5\" /><line stroke-width=\"1.0\" x1=\"50.5\" x2=\"50.5\" y1=\"10.5\" y2=\"170.5\" /><line stroke-width=\"1.0\" x1=\"70.5\" x2=\"70.5\" y1=\"10.5\" y2=\"170.5\" /><line stroke-width=\"1.0\" x1=\"90.5\" x2=\"90.5\" y1=\"10.5\" y2=\"170.5\" /><line stroke-width=\"1.0\" x1=\"110.5\" x2=\"110.5\" y1=\"10.5\" y2=\"170.5\" /><line stroke-width=\"1.0\" x1=\"130.5\" x2=\"130.5\" y1=\"10.5\" y2=\"170.5\" /><line stroke-width=\"1.0\" x1=\"150.5\" x2=\"150.5\" y1=\"10.5\" y2=\"170.5\" /></g><g><text font-family=\"serif\" font-size=\"9.5\" text-anchor=\"middle\" x=\"20.5\" y=\"8\">a</text><text font-family=\"serif\" font-size=\"9.5\" text-anchor=\"middle\" x=\"40.5\" y=\"8\">b</text><text font-family=\"serif\" font-size=\"9.5\" text-anchor=\"middle\" x=\"60.5\" y=\"8\">c</text><text font-family=\"serif\" font-size=\"9.5\" text-anchor=\"middle\" x=\"80.5\" y=\"8\">d</text><text font-family=\"serif\" font-size=\"9.5\" text-anchor=\"middle\" x=\"100.5\" y=\"8\">e</text><text font-family=\"serif\" font-size=\"9.5\" text-anchor=\"middle\" x=\"120.5\" y=\"8\">f</text><text font-family=\"serif\" font-size=\"9.5\" text-anchor=\"middle\" x=\"140.5\" y=\"8\">g</text><text font-family=\"serif\" font-size=\"9.5\" text-anchor=\"middle\" x=\"160.5\" y=\"8\">h</text><text font-family=\"serif\" font-size=\"9.5\" x=\"2.5\" y=\"23.5\">1</text><text font-family=\"serif\" font-size=\"9.5\" x=\"2.5\" y=\"43.5\">2</text><text font-family=\"serif\" font-size=\"9.5\" x=\"2.5\" y=\"63.5\">3</text><text font-family=\"serif\" font-size=\"9.5\" x=\"2.5\" y=\"83.5\">4</text><text font-family=\"serif\" font-size=\"9.5\" x=\"2.5\" y=\"103.5\">5</text><text font-family=\"serif\" font-size=\"9.5\" x=\"2.5\" y=\"123.5\">6</text><text font-family=\"serif\" font-size=\"9.5\" x=\"2.5\" y=\"143.5\">7</text><text font-family=\"serif\" font-size=\"9.5\" x=\"2.5\" y=\"163.5\">8</text></g><use xlink:href=\"#black\" x=\"10.5\" y=\"10.5\" /><use xlink:href=\"#black\" x=\"70.5\" y=\"10.5\" /><use xlink:href=\"#black\" x=\"90.5\" y=\"10.5\" /><use xlink:href=\"#black\" x=\"110.5\" y=\"10.5\" /><use xlink:href=\"#black\" x=\"130.5\" y=\"10.5\" /><use xlink:href=\"#black\" x=\"150.5\" y=\"10.5\" /><use xlink:href=\"#black\" x=\"10.5\" y=\"30.5\" /><use xlink:href=\"#white\" x=\"30.5\" y=\"30.5\" /><use xlink:href=\"#white\" x=\"50.5\" y=\"30.5\" /><use xlink:href=\"#white\" x=\"70.5\" y=\"30.5\" /><use xlink:href=\"#white\" x=\"90.5\" y=\"30.5\" /><use xlink:href=\"#white\" x=\"110.5\" y=\"30.5\" /><use xlink:href=\"#black\" x=\"130.5\" y=\"30.5\" /><use xlink:href=\"#black\" x=\"150.5\" y=\"30.5\" /><use xlink:href=\"#black\" x=\"10.5\" y=\"50.5\" /><use xlink:href=\"#black\" x=\"30.5\" y=\"50.5\" /><use xlink:href=\"#black\" x=\"50.5\" y=\"50.5\" /><use xlink:href=\"#white\" x=\"70.5\" y=\"50.5\" /><use xlink:href=\"#black\" x=\"90.5\" y=\"50.5\" /><use xlink:href=\"#black\" x=\"110.5\" y=\"50.5\" /><use xlink:href=\"#black\" x=\"130.5\" y=\"50.5\" /><use xlink:href=\"#black\" x=\"150.5\" y=\"50.5\" /><use xlink:href=\"#black\" x=\"10.5\" y=\"70.5\" /><use xlink:href=\"#white\" x=\"30.5\" y=\"70.5\" /><use xlink:href=\"#white\" x=\"50.5\" y=\"70.5\" /><use xlink:href=\"#white\" x=\"70.5\" y=\"70.5\" /><use xlink:href=\"#white\" x=\"90.5\" y=\"70.5\" /><use xlink:href=\"#black\" x=\"110.5\" y=\"70.5\" /><use xlink:href=\"#black\" x=\"130.5\" y=\"70.5\" /><use xlink:href=\"#black\" x=\"150.5\" y=\"70.5\" /><use xlink:href=\"#black\" x=\"10.5\" y=\"90.5\" /><use xlink:href=\"#white\" x=\"30.5\" y=\"90.5\" /><use xlink:href=\"#black\" x=\"50.5\" y=\"90.5\" /><use xlink:href=\"#black\" x=\"70.5\" y=\"90.5\" /><use xlink:href=\"#black\" x=\"90.5\" y=\"90.5\" /><use xlink:href=\"#white\" x=\"110.5\" y=\"90.5\" /><use xlink:href=\"#black\" x=\"130.5\" y=\"90.5\" /><use xlink:href=\"#black\" x=\"150.5\" y=\"90.5\" /><use xlink:href=\"#black\" x=\"10.5\" y=\"110.5\" /><use xlink:href=\"#white\" x=\"30.5\" y=\"110.5\" /><use xlink:href=\"#white\" x=\"50.5\" y=\"110.5\" /><use xlink:href=\"#white\" x=\"70.5\" y=\"110.5\" /><use xlink:href=\"#white\" x=\"90.5\" y=\"110.5\" /><use xlink:href=\"#white\" x=\"110.5\" y=\"110.5\" /><use xlink:href=\"#white\" x=\"130.5\" y=\"110.5\" /><use xlink:href=\"#black\" x=\"10.5\" y=\"130.5\" /><use xlink:href=\"#white\" x=\"30.5\" y=\"130.5\" /><use xlink:href=\"#white\" x=\"50.5\" y=\"130.5\" /><use xlink:href=\"#white\" x=\"70.5\" y=\"130.5\" /><use xlink:href=\"#white\" x=\"90.5\" y=\"130.5\" /><use xlink:href=\"#white\" x=\"50.5\" y=\"150.5\" /><use xlink:href=\"#white\" x=\"70.5\" y=\"150.5\" /><use xlink:href=\"#black\" x=\"90.5\" y=\"150.5\" /></svg>"
      ],
      "text/plain": [
       " |abcdefgh\n",
       "-+--------\n",
       "1|x..xxxxx\n",
       "2|xoooooxx\n",
       "3|xxxoxxxx\n",
       "4|xooooxxx\n",
       "5|xoxxxoxx\n",
       "6|xoooooo.\n",
       "7|xoooo...\n",
       "8|..oox..."
      ]
     },
     "metadata": {},
     "output_type": "display_data"
    },
    {
     "data": {
      "image/png": "[encoded data removed]",
      "text/plain": [
       "<Figure size 300x300 with 1 Axes>"
      ]
     },
     "metadata": {},
     "output_type": "display_data"
    },
    {
     "data": {
      "image/svg+xml": [
       "<svg xmlns=\"http://www.w3.org/2000/svg\" version=\"1.1\" xmlns:xlink=\"http://www.w3.org/1999/xlink\" width=\"215.0\" height=\"215.0\" viewBox=\"0 0 172 172\"><defs><g id=\"black\"><circle cx=\"10\" cy=\"10\" r=\"8.5\" fill=\"black\" /></g><g id=\"white\"><circle cx=\"10\" cy=\"10\" r=\"8.5\" fill=\"white\" /></g></defs><rect fill=\"green\" height=\"161\" width=\"161\" x=\"10\" y=\"10\" /><g stroke=\"black\"><rect width=\"161\" height=\"161\" stroke-width=\"1.5\" fill=\"none\" x=\"10\" y=\"10\" /><line stroke-width=\"1.0\" x1=\"10.5\" x2=\"170.5\" y1=\"30.5\" y2=\"30.5\" /><line stroke-width=\"1.0\" x1=\"10.5\" x2=\"170.5\" y1=\"50.5\" y2=\"50.5\" /><line stroke-width=\"1.0\" x1=\"10.5\" x2=\"170.5\" y1=\"70.5\" y2=\"70.5\" /><line stroke-width=\"1.0\" x1=\"10.5\" x2=\"170.5\" y1=\"90.5\" y2=\"90.5\" /><line stroke-width=\"1.0\" x1=\"10.5\" x2=\"170.5\" y1=\"110.5\" y2=\"110.5\" /><line stroke-width=\"1.0\" x1=\"10.5\" x2=\"170.5\" y1=\"130.5\" y2=\"130.5\" /><line stroke-width=\"1.0\" x1=\"10.5\" x2=\"170.5\" y1=\"150.5\" y2=\"150.5\" /><line stroke-width=\"1.0\" x1=\"30.5\" x2=\"30.5\" y1=\"10.5\" y2=\"170.5\" /><line stroke-width=\"1.0\" x1=\"50.5\" x2=\"50.5\" y1=\"10.5\" y2=\"170.5\" /><line stroke-width=\"1.0\" x1=\"70.5\" x2=\"70.5\" y1=\"10.5\" y2=\"170.5\" /><line stroke-width=\"1.0\" x1=\"90.5\" x2=\"90.5\" y1=\"10.5\" y2=\"170.5\" /><line stroke-width=\"1.0\" x1=\"110.5\" x2=\"110.5\" y1=\"10.5\" y2=\"170.5\" /><line stroke-width=\"1.0\" x1=\"130.5\" x2=\"130.5\" y1=\"10.5\" y2=\"170.5\" /><line stroke-width=\"1.0\" x1=\"150.5\" x2=\"150.5\" y1=\"10.5\" y2=\"170.5\" /></g><g><text font-family=\"serif\" font-size=\"9.5\" text-anchor=\"middle\" x=\"20.5\" y=\"8\">a</text><text font-family=\"serif\" font-size=\"9.5\" text-anchor=\"middle\" x=\"40.5\" y=\"8\">b</text><text font-family=\"serif\" font-size=\"9.5\" text-anchor=\"middle\" x=\"60.5\" y=\"8\">c</text><text font-family=\"serif\" font-size=\"9.5\" text-anchor=\"middle\" x=\"80.5\" y=\"8\">d</text><text font-family=\"serif\" font-size=\"9.5\" text-anchor=\"middle\" x=\"100.5\" y=\"8\">e</text><text font-family=\"serif\" font-size=\"9.5\" text-anchor=\"middle\" x=\"120.5\" y=\"8\">f</text><text font-family=\"serif\" font-size=\"9.5\" text-anchor=\"middle\" x=\"140.5\" y=\"8\">g</text><text font-family=\"serif\" font-size=\"9.5\" text-anchor=\"middle\" x=\"160.5\" y=\"8\">h</text><text font-family=\"serif\" font-size=\"9.5\" x=\"2.5\" y=\"23.5\">1</text><text font-family=\"serif\" font-size=\"9.5\" x=\"2.5\" y=\"43.5\">2</text><text font-family=\"serif\" font-size=\"9.5\" x=\"2.5\" y=\"63.5\">3</text><text font-family=\"serif\" font-size=\"9.5\" x=\"2.5\" y=\"83.5\">4</text><text font-family=\"serif\" font-size=\"9.5\" x=\"2.5\" y=\"103.5\">5</text><text font-family=\"serif\" font-size=\"9.5\" x=\"2.5\" y=\"123.5\">6</text><text font-family=\"serif\" font-size=\"9.5\" x=\"2.5\" y=\"143.5\">7</text><text font-family=\"serif\" font-size=\"9.5\" x=\"2.5\" y=\"163.5\">8</text></g><use xlink:href=\"#black\" x=\"10.5\" y=\"10.5\" /><use xlink:href=\"#black\" x=\"70.5\" y=\"10.5\" /><use xlink:href=\"#black\" x=\"90.5\" y=\"10.5\" /><use xlink:href=\"#black\" x=\"110.5\" y=\"10.5\" /><use xlink:href=\"#black\" x=\"130.5\" y=\"10.5\" /><use xlink:href=\"#black\" x=\"150.5\" y=\"10.5\" /><use xlink:href=\"#black\" x=\"10.5\" y=\"30.5\" /><use xlink:href=\"#white\" x=\"30.5\" y=\"30.5\" /><use xlink:href=\"#white\" x=\"50.5\" y=\"30.5\" /><use xlink:href=\"#white\" x=\"70.5\" y=\"30.5\" /><use xlink:href=\"#white\" x=\"90.5\" y=\"30.5\" /><use xlink:href=\"#white\" x=\"110.5\" y=\"30.5\" /><use xlink:href=\"#black\" x=\"130.5\" y=\"30.5\" /><use xlink:href=\"#black\" x=\"150.5\" y=\"30.5\" /><use xlink:href=\"#black\" x=\"10.5\" y=\"50.5\" /><use xlink:href=\"#black\" x=\"30.5\" y=\"50.5\" /><use xlink:href=\"#black\" x=\"50.5\" y=\"50.5\" /><use xlink:href=\"#white\" x=\"70.5\" y=\"50.5\" /><use xlink:href=\"#black\" x=\"90.5\" y=\"50.5\" /><use xlink:href=\"#black\" x=\"110.5\" y=\"50.5\" /><use xlink:href=\"#black\" x=\"130.5\" y=\"50.5\" /><use xlink:href=\"#black\" x=\"150.5\" y=\"50.5\" /><use xlink:href=\"#black\" x=\"10.5\" y=\"70.5\" /><use xlink:href=\"#white\" x=\"30.5\" y=\"70.5\" /><use xlink:href=\"#white\" x=\"50.5\" y=\"70.5\" /><use xlink:href=\"#white\" x=\"70.5\" y=\"70.5\" /><use xlink:href=\"#white\" x=\"90.5\" y=\"70.5\" /><use xlink:href=\"#black\" x=\"110.5\" y=\"70.5\" /><use xlink:href=\"#black\" x=\"130.5\" y=\"70.5\" /><use xlink:href=\"#black\" x=\"150.5\" y=\"70.5\" /><use xlink:href=\"#black\" x=\"10.5\" y=\"90.5\" /><use xlink:href=\"#white\" x=\"30.5\" y=\"90.5\" /><use xlink:href=\"#black\" x=\"50.5\" y=\"90.5\" /><use xlink:href=\"#black\" x=\"70.5\" y=\"90.5\" /><use xlink:href=\"#black\" x=\"90.5\" y=\"90.5\" /><use xlink:href=\"#white\" x=\"110.5\" y=\"90.5\" /><use xlink:href=\"#black\" x=\"130.5\" y=\"90.5\" /><use xlink:href=\"#black\" x=\"150.5\" y=\"90.5\" /><use xlink:href=\"#black\" x=\"10.5\" y=\"110.5\" /><use xlink:href=\"#black\" x=\"30.5\" y=\"110.5\" /><use xlink:href=\"#black\" x=\"50.5\" y=\"110.5\" /><use xlink:href=\"#black\" x=\"70.5\" y=\"110.5\" /><use xlink:href=\"#black\" x=\"90.5\" y=\"110.5\" /><use xlink:href=\"#black\" x=\"110.5\" y=\"110.5\" /><use xlink:href=\"#black\" x=\"130.5\" y=\"110.5\" /><use xlink:href=\"#black\" x=\"150.5\" y=\"110.5\" /><use xlink:href=\"#black\" x=\"10.5\" y=\"130.5\" /><use xlink:href=\"#white\" x=\"30.5\" y=\"130.5\" /><use xlink:href=\"#white\" x=\"50.5\" y=\"130.5\" /><use xlink:href=\"#white\" x=\"70.5\" y=\"130.5\" /><use xlink:href=\"#white\" x=\"90.5\" y=\"130.5\" /><use xlink:href=\"#white\" x=\"50.5\" y=\"150.5\" /><use xlink:href=\"#white\" x=\"70.5\" y=\"150.5\" /><use xlink:href=\"#black\" x=\"90.5\" y=\"150.5\" /></svg>"
      ],
      "text/plain": [
       " |abcdefgh\n",
       "-+--------\n",
       "1|x..xxxxx\n",
       "2|xoooooxx\n",
       "3|xxxoxxxx\n",
       "4|xooooxxx\n",
       "5|xoxxxoxx\n",
       "6|xxxxxxxx\n",
       "7|xoooo...\n",
       "8|..oox..."
      ]
     },
     "metadata": {},
     "output_type": "display_data"
    },
    {
     "data": {
      "image/svg+xml": [
       "<svg xmlns=\"http://www.w3.org/2000/svg\" version=\"1.1\" xmlns:xlink=\"http://www.w3.org/1999/xlink\" width=\"215.0\" height=\"215.0\" viewBox=\"0 0 172 172\"><defs><g id=\"black\"><circle cx=\"10\" cy=\"10\" r=\"8.5\" fill=\"black\" /></g><g id=\"white\"><circle cx=\"10\" cy=\"10\" r=\"8.5\" fill=\"white\" /></g></defs><rect fill=\"green\" height=\"161\" width=\"161\" x=\"10\" y=\"10\" /><g stroke=\"black\"><rect width=\"161\" height=\"161\" stroke-width=\"1.5\" fill=\"none\" x=\"10\" y=\"10\" /><line stroke-width=\"1.0\" x1=\"10.5\" x2=\"170.5\" y1=\"30.5\" y2=\"30.5\" /><line stroke-width=\"1.0\" x1=\"10.5\" x2=\"170.5\" y1=\"50.5\" y2=\"50.5\" /><line stroke-width=\"1.0\" x1=\"10.5\" x2=\"170.5\" y1=\"70.5\" y2=\"70.5\" /><line stroke-width=\"1.0\" x1=\"10.5\" x2=\"170.5\" y1=\"90.5\" y2=\"90.5\" /><line stroke-width=\"1.0\" x1=\"10.5\" x2=\"170.5\" y1=\"110.5\" y2=\"110.5\" /><line stroke-width=\"1.0\" x1=\"10.5\" x2=\"170.5\" y1=\"130.5\" y2=\"130.5\" /><line stroke-width=\"1.0\" x1=\"10.5\" x2=\"170.5\" y1=\"150.5\" y2=\"150.5\" /><line stroke-width=\"1.0\" x1=\"30.5\" x2=\"30.5\" y1=\"10.5\" y2=\"170.5\" /><line stroke-width=\"1.0\" x1=\"50.5\" x2=\"50.5\" y1=\"10.5\" y2=\"170.5\" /><line stroke-width=\"1.0\" x1=\"70.5\" x2=\"70.5\" y1=\"10.5\" y2=\"170.5\" /><line stroke-width=\"1.0\" x1=\"90.5\" x2=\"90.5\" y1=\"10.5\" y2=\"170.5\" /><line stroke-width=\"1.0\" x1=\"110.5\" x2=\"110.5\" y1=\"10.5\" y2=\"170.5\" /><line stroke-width=\"1.0\" x1=\"130.5\" x2=\"130.5\" y1=\"10.5\" y2=\"170.5\" /><line stroke-width=\"1.0\" x1=\"150.5\" x2=\"150.5\" y1=\"10.5\" y2=\"170.5\" /></g><g><text font-family=\"serif\" font-size=\"9.5\" text-anchor=\"middle\" x=\"20.5\" y=\"8\">a</text><text font-family=\"serif\" font-size=\"9.5\" text-anchor=\"middle\" x=\"40.5\" y=\"8\">b</text><text font-family=\"serif\" font-size=\"9.5\" text-anchor=\"middle\" x=\"60.5\" y=\"8\">c</text><text font-family=\"serif\" font-size=\"9.5\" text-anchor=\"middle\" x=\"80.5\" y=\"8\">d</text><text font-family=\"serif\" font-size=\"9.5\" text-anchor=\"middle\" x=\"100.5\" y=\"8\">e</text><text font-family=\"serif\" font-size=\"9.5\" text-anchor=\"middle\" x=\"120.5\" y=\"8\">f</text><text font-family=\"serif\" font-size=\"9.5\" text-anchor=\"middle\" x=\"140.5\" y=\"8\">g</text><text font-family=\"serif\" font-size=\"9.5\" text-anchor=\"middle\" x=\"160.5\" y=\"8\">h</text><text font-family=\"serif\" font-size=\"9.5\" x=\"2.5\" y=\"23.5\">1</text><text font-family=\"serif\" font-size=\"9.5\" x=\"2.5\" y=\"43.5\">2</text><text font-family=\"serif\" font-size=\"9.5\" x=\"2.5\" y=\"63.5\">3</text><text font-family=\"serif\" font-size=\"9.5\" x=\"2.5\" y=\"83.5\">4</text><text font-family=\"serif\" font-size=\"9.5\" x=\"2.5\" y=\"103.5\">5</text><text font-family=\"serif\" font-size=\"9.5\" x=\"2.5\" y=\"123.5\">6</text><text font-family=\"serif\" font-size=\"9.5\" x=\"2.5\" y=\"143.5\">7</text><text font-family=\"serif\" font-size=\"9.5\" x=\"2.5\" y=\"163.5\">8</text></g><use xlink:href=\"#black\" x=\"10.5\" y=\"10.5\" /><use xlink:href=\"#black\" x=\"70.5\" y=\"10.5\" /><use xlink:href=\"#black\" x=\"90.5\" y=\"10.5\" /><use xlink:href=\"#black\" x=\"110.5\" y=\"10.5\" /><use xlink:href=\"#black\" x=\"130.5\" y=\"10.5\" /><use xlink:href=\"#black\" x=\"150.5\" y=\"10.5\" /><use xlink:href=\"#black\" x=\"10.5\" y=\"30.5\" /><use xlink:href=\"#white\" x=\"30.5\" y=\"30.5\" /><use xlink:href=\"#white\" x=\"50.5\" y=\"30.5\" /><use xlink:href=\"#white\" x=\"70.5\" y=\"30.5\" /><use xlink:href=\"#white\" x=\"90.5\" y=\"30.5\" /><use xlink:href=\"#white\" x=\"110.5\" y=\"30.5\" /><use xlink:href=\"#black\" x=\"130.5\" y=\"30.5\" /><use xlink:href=\"#black\" x=\"150.5\" y=\"30.5\" /><use xlink:href=\"#black\" x=\"10.5\" y=\"50.5\" /><use xlink:href=\"#black\" x=\"30.5\" y=\"50.5\" /><use xlink:href=\"#black\" x=\"50.5\" y=\"50.5\" /><use xlink:href=\"#white\" x=\"70.5\" y=\"50.5\" /><use xlink:href=\"#black\" x=\"90.5\" y=\"50.5\" /><use xlink:href=\"#black\" x=\"110.5\" y=\"50.5\" /><use xlink:href=\"#black\" x=\"130.5\" y=\"50.5\" /><use xlink:href=\"#black\" x=\"150.5\" y=\"50.5\" /><use xlink:href=\"#black\" x=\"10.5\" y=\"70.5\" /><use xlink:href=\"#white\" x=\"30.5\" y=\"70.5\" /><use xlink:href=\"#white\" x=\"50.5\" y=\"70.5\" /><use xlink:href=\"#white\" x=\"70.5\" y=\"70.5\" /><use xlink:href=\"#white\" x=\"90.5\" y=\"70.5\" /><use xlink:href=\"#black\" x=\"110.5\" y=\"70.5\" /><use xlink:href=\"#black\" x=\"130.5\" y=\"70.5\" /><use xlink:href=\"#black\" x=\"150.5\" y=\"70.5\" /><use xlink:href=\"#black\" x=\"10.5\" y=\"90.5\" /><use xlink:href=\"#white\" x=\"30.5\" y=\"90.5\" /><use xlink:href=\"#black\" x=\"50.5\" y=\"90.5\" /><use xlink:href=\"#black\" x=\"70.5\" y=\"90.5\" /><use xlink:href=\"#black\" x=\"90.5\" y=\"90.5\" /><use xlink:href=\"#white\" x=\"110.5\" y=\"90.5\" /><use xlink:href=\"#black\" x=\"130.5\" y=\"90.5\" /><use xlink:href=\"#black\" x=\"150.5\" y=\"90.5\" /><use xlink:href=\"#black\" x=\"10.5\" y=\"110.5\" /><use xlink:href=\"#black\" x=\"30.5\" y=\"110.5\" /><use xlink:href=\"#black\" x=\"50.5\" y=\"110.5\" /><use xlink:href=\"#black\" x=\"70.5\" y=\"110.5\" /><use xlink:href=\"#black\" x=\"90.5\" y=\"110.5\" /><use xlink:href=\"#black\" x=\"110.5\" y=\"110.5\" /><use xlink:href=\"#black\" x=\"130.5\" y=\"110.5\" /><use xlink:href=\"#black\" x=\"150.5\" y=\"110.5\" /><use xlink:href=\"#black\" x=\"10.5\" y=\"130.5\" /><use xlink:href=\"#white\" x=\"30.5\" y=\"130.5\" /><use xlink:href=\"#white\" x=\"50.5\" y=\"130.5\" /><use xlink:href=\"#white\" x=\"70.5\" y=\"130.5\" /><use xlink:href=\"#white\" x=\"90.5\" y=\"130.5\" /><use xlink:href=\"#white\" x=\"50.5\" y=\"150.5\" /><use xlink:href=\"#white\" x=\"70.5\" y=\"150.5\" /><use xlink:href=\"#white\" x=\"90.5\" y=\"150.5\" /><use xlink:href=\"#white\" x=\"110.5\" y=\"150.5\" /></svg>"
      ],
      "text/plain": [
       " |abcdefgh\n",
       "-+--------\n",
       "1|x..xxxxx\n",
       "2|xoooooxx\n",
       "3|xxxoxxxx\n",
       "4|xooooxxx\n",
       "5|xoxxxoxx\n",
       "6|xxxxxxxx\n",
       "7|xoooo...\n",
       "8|..oooo.."
      ]
     },
     "metadata": {},
     "output_type": "display_data"
    },
    {
     "data": {
      "image/png": "[encoded data removed]",
      "text/plain": [
       "<Figure size 300x300 with 1 Axes>"
      ]
     },
     "metadata": {},
     "output_type": "display_data"
    },
    {
     "data": {
      "image/svg+xml": [
       "<svg xmlns=\"http://www.w3.org/2000/svg\" version=\"1.1\" xmlns:xlink=\"http://www.w3.org/1999/xlink\" width=\"215.0\" height=\"215.0\" viewBox=\"0 0 172 172\"><defs><g id=\"black\"><circle cx=\"10\" cy=\"10\" r=\"8.5\" fill=\"black\" /></g><g id=\"white\"><circle cx=\"10\" cy=\"10\" r=\"8.5\" fill=\"white\" /></g></defs><rect fill=\"green\" height=\"161\" width=\"161\" x=\"10\" y=\"10\" /><g stroke=\"black\"><rect width=\"161\" height=\"161\" stroke-width=\"1.5\" fill=\"none\" x=\"10\" y=\"10\" /><line stroke-width=\"1.0\" x1=\"10.5\" x2=\"170.5\" y1=\"30.5\" y2=\"30.5\" /><line stroke-width=\"1.0\" x1=\"10.5\" x2=\"170.5\" y1=\"50.5\" y2=\"50.5\" /><line stroke-width=\"1.0\" x1=\"10.5\" x2=\"170.5\" y1=\"70.5\" y2=\"70.5\" /><line stroke-width=\"1.0\" x1=\"10.5\" x2=\"170.5\" y1=\"90.5\" y2=\"90.5\" /><line stroke-width=\"1.0\" x1=\"10.5\" x2=\"170.5\" y1=\"110.5\" y2=\"110.5\" /><line stroke-width=\"1.0\" x1=\"10.5\" x2=\"170.5\" y1=\"130.5\" y2=\"130.5\" /><line stroke-width=\"1.0\" x1=\"10.5\" x2=\"170.5\" y1=\"150.5\" y2=\"150.5\" /><line stroke-width=\"1.0\" x1=\"30.5\" x2=\"30.5\" y1=\"10.5\" y2=\"170.5\" /><line stroke-width=\"1.0\" x1=\"50.5\" x2=\"50.5\" y1=\"10.5\" y2=\"170.5\" /><line stroke-width=\"1.0\" x1=\"70.5\" x2=\"70.5\" y1=\"10.5\" y2=\"170.5\" /><line stroke-width=\"1.0\" x1=\"90.5\" x2=\"90.5\" y1=\"10.5\" y2=\"170.5\" /><line stroke-width=\"1.0\" x1=\"110.5\" x2=\"110.5\" y1=\"10.5\" y2=\"170.5\" /><line stroke-width=\"1.0\" x1=\"130.5\" x2=\"130.5\" y1=\"10.5\" y2=\"170.5\" /><line stroke-width=\"1.0\" x1=\"150.5\" x2=\"150.5\" y1=\"10.5\" y2=\"170.5\" /></g><g><text font-family=\"serif\" font-size=\"9.5\" text-anchor=\"middle\" x=\"20.5\" y=\"8\">a</text><text font-family=\"serif\" font-size=\"9.5\" text-anchor=\"middle\" x=\"40.5\" y=\"8\">b</text><text font-family=\"serif\" font-size=\"9.5\" text-anchor=\"middle\" x=\"60.5\" y=\"8\">c</text><text font-family=\"serif\" font-size=\"9.5\" text-anchor=\"middle\" x=\"80.5\" y=\"8\">d</text><text font-family=\"serif\" font-size=\"9.5\" text-anchor=\"middle\" x=\"100.5\" y=\"8\">e</text><text font-family=\"serif\" font-size=\"9.5\" text-anchor=\"middle\" x=\"120.5\" y=\"8\">f</text><text font-family=\"serif\" font-size=\"9.5\" text-anchor=\"middle\" x=\"140.5\" y=\"8\">g</text><text font-family=\"serif\" font-size=\"9.5\" text-anchor=\"middle\" x=\"160.5\" y=\"8\">h</text><text font-family=\"serif\" font-size=\"9.5\" x=\"2.5\" y=\"23.5\">1</text><text font-family=\"serif\" font-size=\"9.5\" x=\"2.5\" y=\"43.5\">2</text><text font-family=\"serif\" font-size=\"9.5\" x=\"2.5\" y=\"63.5\">3</text><text font-family=\"serif\" font-size=\"9.5\" x=\"2.5\" y=\"83.5\">4</text><text font-family=\"serif\" font-size=\"9.5\" x=\"2.5\" y=\"103.5\">5</text><text font-family=\"serif\" font-size=\"9.5\" x=\"2.5\" y=\"123.5\">6</text><text font-family=\"serif\" font-size=\"9.5\" x=\"2.5\" y=\"143.5\">7</text><text font-family=\"serif\" font-size=\"9.5\" x=\"2.5\" y=\"163.5\">8</text></g><use xlink:href=\"#black\" x=\"10.5\" y=\"10.5\" /><use xlink:href=\"#black\" x=\"70.5\" y=\"10.5\" /><use xlink:href=\"#black\" x=\"90.5\" y=\"10.5\" /><use xlink:href=\"#black\" x=\"110.5\" y=\"10.5\" /><use xlink:href=\"#black\" x=\"130.5\" y=\"10.5\" /><use xlink:href=\"#black\" x=\"150.5\" y=\"10.5\" /><use xlink:href=\"#black\" x=\"10.5\" y=\"30.5\" /><use xlink:href=\"#white\" x=\"30.5\" y=\"30.5\" /><use xlink:href=\"#white\" x=\"50.5\" y=\"30.5\" /><use xlink:href=\"#white\" x=\"70.5\" y=\"30.5\" /><use xlink:href=\"#white\" x=\"90.5\" y=\"30.5\" /><use xlink:href=\"#white\" x=\"110.5\" y=\"30.5\" /><use xlink:href=\"#black\" x=\"130.5\" y=\"30.5\" /><use xlink:href=\"#black\" x=\"150.5\" y=\"30.5\" /><use xlink:href=\"#black\" x=\"10.5\" y=\"50.5\" /><use xlink:href=\"#black\" x=\"30.5\" y=\"50.5\" /><use xlink:href=\"#black\" x=\"50.5\" y=\"50.5\" /><use xlink:href=\"#white\" x=\"70.5\" y=\"50.5\" /><use xlink:href=\"#black\" x=\"90.5\" y=\"50.5\" /><use xlink:href=\"#black\" x=\"110.5\" y=\"50.5\" /><use xlink:href=\"#black\" x=\"130.5\" y=\"50.5\" /><use xlink:href=\"#black\" x=\"150.5\" y=\"50.5\" /><use xlink:href=\"#black\" x=\"10.5\" y=\"70.5\" /><use xlink:href=\"#white\" x=\"30.5\" y=\"70.5\" /><use xlink:href=\"#white\" x=\"50.5\" y=\"70.5\" /><use xlink:href=\"#white\" x=\"70.5\" y=\"70.5\" /><use xlink:href=\"#white\" x=\"90.5\" y=\"70.5\" /><use xlink:href=\"#black\" x=\"110.5\" y=\"70.5\" /><use xlink:href=\"#black\" x=\"130.5\" y=\"70.5\" /><use xlink:href=\"#black\" x=\"150.5\" y=\"70.5\" /><use xlink:href=\"#black\" x=\"10.5\" y=\"90.5\" /><use xlink:href=\"#white\" x=\"30.5\" y=\"90.5\" /><use xlink:href=\"#black\" x=\"50.5\" y=\"90.5\" /><use xlink:href=\"#black\" x=\"70.5\" y=\"90.5\" /><use xlink:href=\"#black\" x=\"90.5\" y=\"90.5\" /><use xlink:href=\"#white\" x=\"110.5\" y=\"90.5\" /><use xlink:href=\"#black\" x=\"130.5\" y=\"90.5\" /><use xlink:href=\"#black\" x=\"150.5\" y=\"90.5\" /><use xlink:href=\"#black\" x=\"10.5\" y=\"110.5\" /><use xlink:href=\"#black\" x=\"30.5\" y=\"110.5\" /><use xlink:href=\"#black\" x=\"50.5\" y=\"110.5\" /><use xlink:href=\"#black\" x=\"70.5\" y=\"110.5\" /><use xlink:href=\"#black\" x=\"90.5\" y=\"110.5\" /><use xlink:href=\"#black\" x=\"110.5\" y=\"110.5\" /><use xlink:href=\"#black\" x=\"130.5\" y=\"110.5\" /><use xlink:href=\"#black\" x=\"150.5\" y=\"110.5\" /><use xlink:href=\"#black\" x=\"10.5\" y=\"130.5\" /><use xlink:href=\"#black\" x=\"30.5\" y=\"130.5\" /><use xlink:href=\"#white\" x=\"50.5\" y=\"130.5\" /><use xlink:href=\"#white\" x=\"70.5\" y=\"130.5\" /><use xlink:href=\"#white\" x=\"90.5\" y=\"130.5\" /><use xlink:href=\"#black\" x=\"10.5\" y=\"150.5\" /><use xlink:href=\"#white\" x=\"50.5\" y=\"150.5\" /><use xlink:href=\"#white\" x=\"70.5\" y=\"150.5\" /><use xlink:href=\"#white\" x=\"90.5\" y=\"150.5\" /><use xlink:href=\"#white\" x=\"110.5\" y=\"150.5\" /></svg>"
      ],
      "text/plain": [
       " |abcdefgh\n",
       "-+--------\n",
       "1|x..xxxxx\n",
       "2|xoooooxx\n",
       "3|xxxoxxxx\n",
       "4|xooooxxx\n",
       "5|xoxxxoxx\n",
       "6|xxxxxxxx\n",
       "7|xxooo...\n",
       "8|x.oooo.."
      ]
     },
     "metadata": {},
     "output_type": "display_data"
    },
    {
     "data": {
      "image/svg+xml": [
       "<svg xmlns=\"http://www.w3.org/2000/svg\" version=\"1.1\" xmlns:xlink=\"http://www.w3.org/1999/xlink\" width=\"215.0\" height=\"215.0\" viewBox=\"0 0 172 172\"><defs><g id=\"black\"><circle cx=\"10\" cy=\"10\" r=\"8.5\" fill=\"black\" /></g><g id=\"white\"><circle cx=\"10\" cy=\"10\" r=\"8.5\" fill=\"white\" /></g></defs><rect fill=\"green\" height=\"161\" width=\"161\" x=\"10\" y=\"10\" /><g stroke=\"black\"><rect width=\"161\" height=\"161\" stroke-width=\"1.5\" fill=\"none\" x=\"10\" y=\"10\" /><line stroke-width=\"1.0\" x1=\"10.5\" x2=\"170.5\" y1=\"30.5\" y2=\"30.5\" /><line stroke-width=\"1.0\" x1=\"10.5\" x2=\"170.5\" y1=\"50.5\" y2=\"50.5\" /><line stroke-width=\"1.0\" x1=\"10.5\" x2=\"170.5\" y1=\"70.5\" y2=\"70.5\" /><line stroke-width=\"1.0\" x1=\"10.5\" x2=\"170.5\" y1=\"90.5\" y2=\"90.5\" /><line stroke-width=\"1.0\" x1=\"10.5\" x2=\"170.5\" y1=\"110.5\" y2=\"110.5\" /><line stroke-width=\"1.0\" x1=\"10.5\" x2=\"170.5\" y1=\"130.5\" y2=\"130.5\" /><line stroke-width=\"1.0\" x1=\"10.5\" x2=\"170.5\" y1=\"150.5\" y2=\"150.5\" /><line stroke-width=\"1.0\" x1=\"30.5\" x2=\"30.5\" y1=\"10.5\" y2=\"170.5\" /><line stroke-width=\"1.0\" x1=\"50.5\" x2=\"50.5\" y1=\"10.5\" y2=\"170.5\" /><line stroke-width=\"1.0\" x1=\"70.5\" x2=\"70.5\" y1=\"10.5\" y2=\"170.5\" /><line stroke-width=\"1.0\" x1=\"90.5\" x2=\"90.5\" y1=\"10.5\" y2=\"170.5\" /><line stroke-width=\"1.0\" x1=\"110.5\" x2=\"110.5\" y1=\"10.5\" y2=\"170.5\" /><line stroke-width=\"1.0\" x1=\"130.5\" x2=\"130.5\" y1=\"10.5\" y2=\"170.5\" /><line stroke-width=\"1.0\" x1=\"150.5\" x2=\"150.5\" y1=\"10.5\" y2=\"170.5\" /></g><g><text font-family=\"serif\" font-size=\"9.5\" text-anchor=\"middle\" x=\"20.5\" y=\"8\">a</text><text font-family=\"serif\" font-size=\"9.5\" text-anchor=\"middle\" x=\"40.5\" y=\"8\">b</text><text font-family=\"serif\" font-size=\"9.5\" text-anchor=\"middle\" x=\"60.5\" y=\"8\">c</text><text font-family=\"serif\" font-size=\"9.5\" text-anchor=\"middle\" x=\"80.5\" y=\"8\">d</text><text font-family=\"serif\" font-size=\"9.5\" text-anchor=\"middle\" x=\"100.5\" y=\"8\">e</text><text font-family=\"serif\" font-size=\"9.5\" text-anchor=\"middle\" x=\"120.5\" y=\"8\">f</text><text font-family=\"serif\" font-size=\"9.5\" text-anchor=\"middle\" x=\"140.5\" y=\"8\">g</text><text font-family=\"serif\" font-size=\"9.5\" text-anchor=\"middle\" x=\"160.5\" y=\"8\">h</text><text font-family=\"serif\" font-size=\"9.5\" x=\"2.5\" y=\"23.5\">1</text><text font-family=\"serif\" font-size=\"9.5\" x=\"2.5\" y=\"43.5\">2</text><text font-family=\"serif\" font-size=\"9.5\" x=\"2.5\" y=\"63.5\">3</text><text font-family=\"serif\" font-size=\"9.5\" x=\"2.5\" y=\"83.5\">4</text><text font-family=\"serif\" font-size=\"9.5\" x=\"2.5\" y=\"103.5\">5</text><text font-family=\"serif\" font-size=\"9.5\" x=\"2.5\" y=\"123.5\">6</text><text font-family=\"serif\" font-size=\"9.5\" x=\"2.5\" y=\"143.5\">7</text><text font-family=\"serif\" font-size=\"9.5\" x=\"2.5\" y=\"163.5\">8</text></g><use xlink:href=\"#black\" x=\"10.5\" y=\"10.5\" /><use xlink:href=\"#black\" x=\"70.5\" y=\"10.5\" /><use xlink:href=\"#black\" x=\"90.5\" y=\"10.5\" /><use xlink:href=\"#black\" x=\"110.5\" y=\"10.5\" /><use xlink:href=\"#black\" x=\"130.5\" y=\"10.5\" /><use xlink:href=\"#black\" x=\"150.5\" y=\"10.5\" /><use xlink:href=\"#black\" x=\"10.5\" y=\"30.5\" /><use xlink:href=\"#white\" x=\"30.5\" y=\"30.5\" /><use xlink:href=\"#white\" x=\"50.5\" y=\"30.5\" /><use xlink:href=\"#white\" x=\"70.5\" y=\"30.5\" /><use xlink:href=\"#white\" x=\"90.5\" y=\"30.5\" /><use xlink:href=\"#white\" x=\"110.5\" y=\"30.5\" /><use xlink:href=\"#black\" x=\"130.5\" y=\"30.5\" /><use xlink:href=\"#black\" x=\"150.5\" y=\"30.5\" /><use xlink:href=\"#black\" x=\"10.5\" y=\"50.5\" /><use xlink:href=\"#black\" x=\"30.5\" y=\"50.5\" /><use xlink:href=\"#black\" x=\"50.5\" y=\"50.5\" /><use xlink:href=\"#white\" x=\"70.5\" y=\"50.5\" /><use xlink:href=\"#black\" x=\"90.5\" y=\"50.5\" /><use xlink:href=\"#black\" x=\"110.5\" y=\"50.5\" /><use xlink:href=\"#black\" x=\"130.5\" y=\"50.5\" /><use xlink:href=\"#black\" x=\"150.5\" y=\"50.5\" /><use xlink:href=\"#black\" x=\"10.5\" y=\"70.5\" /><use xlink:href=\"#white\" x=\"30.5\" y=\"70.5\" /><use xlink:href=\"#white\" x=\"50.5\" y=\"70.5\" /><use xlink:href=\"#white\" x=\"70.5\" y=\"70.5\" /><use xlink:href=\"#white\" x=\"90.5\" y=\"70.5\" /><use xlink:href=\"#black\" x=\"110.5\" y=\"70.5\" /><use xlink:href=\"#black\" x=\"130.5\" y=\"70.5\" /><use xlink:href=\"#black\" x=\"150.5\" y=\"70.5\" /><use xlink:href=\"#black\" x=\"10.5\" y=\"90.5\" /><use xlink:href=\"#white\" x=\"30.5\" y=\"90.5\" /><use xlink:href=\"#black\" x=\"50.5\" y=\"90.5\" /><use xlink:href=\"#white\" x=\"70.5\" y=\"90.5\" /><use xlink:href=\"#black\" x=\"90.5\" y=\"90.5\" /><use xlink:href=\"#white\" x=\"110.5\" y=\"90.5\" /><use xlink:href=\"#black\" x=\"130.5\" y=\"90.5\" /><use xlink:href=\"#black\" x=\"150.5\" y=\"90.5\" /><use xlink:href=\"#black\" x=\"10.5\" y=\"110.5\" /><use xlink:href=\"#black\" x=\"30.5\" y=\"110.5\" /><use xlink:href=\"#black\" x=\"50.5\" y=\"110.5\" /><use xlink:href=\"#black\" x=\"70.5\" y=\"110.5\" /><use xlink:href=\"#white\" x=\"90.5\" y=\"110.5\" /><use xlink:href=\"#white\" x=\"110.5\" y=\"110.5\" /><use xlink:href=\"#black\" x=\"130.5\" y=\"110.5\" /><use xlink:href=\"#black\" x=\"150.5\" y=\"110.5\" /><use xlink:href=\"#black\" x=\"10.5\" y=\"130.5\" /><use xlink:href=\"#black\" x=\"30.5\" y=\"130.5\" /><use xlink:href=\"#white\" x=\"50.5\" y=\"130.5\" /><use xlink:href=\"#white\" x=\"70.5\" y=\"130.5\" /><use xlink:href=\"#white\" x=\"90.5\" y=\"130.5\" /><use xlink:href=\"#white\" x=\"110.5\" y=\"130.5\" /><use xlink:href=\"#black\" x=\"10.5\" y=\"150.5\" /><use xlink:href=\"#white\" x=\"50.5\" y=\"150.5\" /><use xlink:href=\"#white\" x=\"70.5\" y=\"150.5\" /><use xlink:href=\"#white\" x=\"90.5\" y=\"150.5\" /><use xlink:href=\"#white\" x=\"110.5\" y=\"150.5\" /></svg>"
      ],
      "text/plain": [
       " |abcdefgh\n",
       "-+--------\n",
       "1|x..xxxxx\n",
       "2|xoooooxx\n",
       "3|xxxoxxxx\n",
       "4|xooooxxx\n",
       "5|xoxoxoxx\n",
       "6|xxxxooxx\n",
       "7|xxoooo..\n",
       "8|x.oooo.."
      ]
     },
     "metadata": {},
     "output_type": "display_data"
    },
    {
     "data": {
      "image/png": "[encoded data removed]",
      "text/plain": [
       "<Figure size 300x300 with 1 Axes>"
      ]
     },
     "metadata": {},
     "output_type": "display_data"
    },
    {
     "data": {
      "image/svg+xml": [
       "<svg xmlns=\"http://www.w3.org/2000/svg\" version=\"1.1\" xmlns:xlink=\"http://www.w3.org/1999/xlink\" width=\"215.0\" height=\"215.0\" viewBox=\"0 0 172 172\"><defs><g id=\"black\"><circle cx=\"10\" cy=\"10\" r=\"8.5\" fill=\"black\" /></g><g id=\"white\"><circle cx=\"10\" cy=\"10\" r=\"8.5\" fill=\"white\" /></g></defs><rect fill=\"green\" height=\"161\" width=\"161\" x=\"10\" y=\"10\" /><g stroke=\"black\"><rect width=\"161\" height=\"161\" stroke-width=\"1.5\" fill=\"none\" x=\"10\" y=\"10\" /><line stroke-width=\"1.0\" x1=\"10.5\" x2=\"170.5\" y1=\"30.5\" y2=\"30.5\" /><line stroke-width=\"1.0\" x1=\"10.5\" x2=\"170.5\" y1=\"50.5\" y2=\"50.5\" /><line stroke-width=\"1.0\" x1=\"10.5\" x2=\"170.5\" y1=\"70.5\" y2=\"70.5\" /><line stroke-width=\"1.0\" x1=\"10.5\" x2=\"170.5\" y1=\"90.5\" y2=\"90.5\" /><line stroke-width=\"1.0\" x1=\"10.5\" x2=\"170.5\" y1=\"110.5\" y2=\"110.5\" /><line stroke-width=\"1.0\" x1=\"10.5\" x2=\"170.5\" y1=\"130.5\" y2=\"130.5\" /><line stroke-width=\"1.0\" x1=\"10.5\" x2=\"170.5\" y1=\"150.5\" y2=\"150.5\" /><line stroke-width=\"1.0\" x1=\"30.5\" x2=\"30.5\" y1=\"10.5\" y2=\"170.5\" /><line stroke-width=\"1.0\" x1=\"50.5\" x2=\"50.5\" y1=\"10.5\" y2=\"170.5\" /><line stroke-width=\"1.0\" x1=\"70.5\" x2=\"70.5\" y1=\"10.5\" y2=\"170.5\" /><line stroke-width=\"1.0\" x1=\"90.5\" x2=\"90.5\" y1=\"10.5\" y2=\"170.5\" /><line stroke-width=\"1.0\" x1=\"110.5\" x2=\"110.5\" y1=\"10.5\" y2=\"170.5\" /><line stroke-width=\"1.0\" x1=\"130.5\" x2=\"130.5\" y1=\"10.5\" y2=\"170.5\" /><line stroke-width=\"1.0\" x1=\"150.5\" x2=\"150.5\" y1=\"10.5\" y2=\"170.5\" /></g><g><text font-family=\"serif\" font-size=\"9.5\" text-anchor=\"middle\" x=\"20.5\" y=\"8\">a</text><text font-family=\"serif\" font-size=\"9.5\" text-anchor=\"middle\" x=\"40.5\" y=\"8\">b</text><text font-family=\"serif\" font-size=\"9.5\" text-anchor=\"middle\" x=\"60.5\" y=\"8\">c</text><text font-family=\"serif\" font-size=\"9.5\" text-anchor=\"middle\" x=\"80.5\" y=\"8\">d</text><text font-family=\"serif\" font-size=\"9.5\" text-anchor=\"middle\" x=\"100.5\" y=\"8\">e</text><text font-family=\"serif\" font-size=\"9.5\" text-anchor=\"middle\" x=\"120.5\" y=\"8\">f</text><text font-family=\"serif\" font-size=\"9.5\" text-anchor=\"middle\" x=\"140.5\" y=\"8\">g</text><text font-family=\"serif\" font-size=\"9.5\" text-anchor=\"middle\" x=\"160.5\" y=\"8\">h</text><text font-family=\"serif\" font-size=\"9.5\" x=\"2.5\" y=\"23.5\">1</text><text font-family=\"serif\" font-size=\"9.5\" x=\"2.5\" y=\"43.5\">2</text><text font-family=\"serif\" font-size=\"9.5\" x=\"2.5\" y=\"63.5\">3</text><text font-family=\"serif\" font-size=\"9.5\" x=\"2.5\" y=\"83.5\">4</text><text font-family=\"serif\" font-size=\"9.5\" x=\"2.5\" y=\"103.5\">5</text><text font-family=\"serif\" font-size=\"9.5\" x=\"2.5\" y=\"123.5\">6</text><text font-family=\"serif\" font-size=\"9.5\" x=\"2.5\" y=\"143.5\">7</text><text font-family=\"serif\" font-size=\"9.5\" x=\"2.5\" y=\"163.5\">8</text></g><use xlink:href=\"#black\" x=\"10.5\" y=\"10.5\" /><use xlink:href=\"#black\" x=\"70.5\" y=\"10.5\" /><use xlink:href=\"#black\" x=\"90.5\" y=\"10.5\" /><use xlink:href=\"#black\" x=\"110.5\" y=\"10.5\" /><use xlink:href=\"#black\" x=\"130.5\" y=\"10.5\" /><use xlink:href=\"#black\" x=\"150.5\" y=\"10.5\" /><use xlink:href=\"#black\" x=\"10.5\" y=\"30.5\" /><use xlink:href=\"#white\" x=\"30.5\" y=\"30.5\" /><use xlink:href=\"#white\" x=\"50.5\" y=\"30.5\" /><use xlink:href=\"#white\" x=\"70.5\" y=\"30.5\" /><use xlink:href=\"#white\" x=\"90.5\" y=\"30.5\" /><use xlink:href=\"#white\" x=\"110.5\" y=\"30.5\" /><use xlink:href=\"#black\" x=\"130.5\" y=\"30.5\" /><use xlink:href=\"#black\" x=\"150.5\" y=\"30.5\" /><use xlink:href=\"#black\" x=\"10.5\" y=\"50.5\" /><use xlink:href=\"#black\" x=\"30.5\" y=\"50.5\" /><use xlink:href=\"#black\" x=\"50.5\" y=\"50.5\" /><use xlink:href=\"#white\" x=\"70.5\" y=\"50.5\" /><use xlink:href=\"#black\" x=\"90.5\" y=\"50.5\" /><use xlink:href=\"#black\" x=\"110.5\" y=\"50.5\" /><use xlink:href=\"#black\" x=\"130.5\" y=\"50.5\" /><use xlink:href=\"#black\" x=\"150.5\" y=\"50.5\" /><use xlink:href=\"#black\" x=\"10.5\" y=\"70.5\" /><use xlink:href=\"#white\" x=\"30.5\" y=\"70.5\" /><use xlink:href=\"#white\" x=\"50.5\" y=\"70.5\" /><use xlink:href=\"#white\" x=\"70.5\" y=\"70.5\" /><use xlink:href=\"#white\" x=\"90.5\" y=\"70.5\" /><use xlink:href=\"#black\" x=\"110.5\" y=\"70.5\" /><use xlink:href=\"#black\" x=\"130.5\" y=\"70.5\" /><use xlink:href=\"#black\" x=\"150.5\" y=\"70.5\" /><use xlink:href=\"#black\" x=\"10.5\" y=\"90.5\" /><use xlink:href=\"#white\" x=\"30.5\" y=\"90.5\" /><use xlink:href=\"#black\" x=\"50.5\" y=\"90.5\" /><use xlink:href=\"#white\" x=\"70.5\" y=\"90.5\" /><use xlink:href=\"#black\" x=\"90.5\" y=\"90.5\" /><use xlink:href=\"#white\" x=\"110.5\" y=\"90.5\" /><use xlink:href=\"#black\" x=\"130.5\" y=\"90.5\" /><use xlink:href=\"#black\" x=\"150.5\" y=\"90.5\" /><use xlink:href=\"#black\" x=\"10.5\" y=\"110.5\" /><use xlink:href=\"#black\" x=\"30.5\" y=\"110.5\" /><use xlink:href=\"#black\" x=\"50.5\" y=\"110.5\" /><use xlink:href=\"#black\" x=\"70.5\" y=\"110.5\" /><use xlink:href=\"#white\" x=\"90.5\" y=\"110.5\" /><use xlink:href=\"#white\" x=\"110.5\" y=\"110.5\" /><use xlink:href=\"#black\" x=\"130.5\" y=\"110.5\" /><use xlink:href=\"#black\" x=\"150.5\" y=\"110.5\" /><use xlink:href=\"#black\" x=\"10.5\" y=\"130.5\" /><use xlink:href=\"#black\" x=\"30.5\" y=\"130.5\" /><use xlink:href=\"#black\" x=\"50.5\" y=\"130.5\" /><use xlink:href=\"#white\" x=\"70.5\" y=\"130.5\" /><use xlink:href=\"#white\" x=\"90.5\" y=\"130.5\" /><use xlink:href=\"#white\" x=\"110.5\" y=\"130.5\" /><use xlink:href=\"#black\" x=\"10.5\" y=\"150.5\" /><use xlink:href=\"#black\" x=\"30.5\" y=\"150.5\" /><use xlink:href=\"#white\" x=\"50.5\" y=\"150.5\" /><use xlink:href=\"#white\" x=\"70.5\" y=\"150.5\" /><use xlink:href=\"#white\" x=\"90.5\" y=\"150.5\" /><use xlink:href=\"#white\" x=\"110.5\" y=\"150.5\" /></svg>"
      ],
      "text/plain": [
       " |abcdefgh\n",
       "-+--------\n",
       "1|x..xxxxx\n",
       "2|xoooooxx\n",
       "3|xxxoxxxx\n",
       "4|xooooxxx\n",
       "5|xoxoxoxx\n",
       "6|xxxxooxx\n",
       "7|xxxooo..\n",
       "8|xxoooo.."
      ]
     },
     "metadata": {},
     "output_type": "display_data"
    },
    {
     "data": {
      "image/svg+xml": [
       "<svg xmlns=\"http://www.w3.org/2000/svg\" version=\"1.1\" xmlns:xlink=\"http://www.w3.org/1999/xlink\" width=\"215.0\" height=\"215.0\" viewBox=\"0 0 172 172\"><defs><g id=\"black\"><circle cx=\"10\" cy=\"10\" r=\"8.5\" fill=\"black\" /></g><g id=\"white\"><circle cx=\"10\" cy=\"10\" r=\"8.5\" fill=\"white\" /></g></defs><rect fill=\"green\" height=\"161\" width=\"161\" x=\"10\" y=\"10\" /><g stroke=\"black\"><rect width=\"161\" height=\"161\" stroke-width=\"1.5\" fill=\"none\" x=\"10\" y=\"10\" /><line stroke-width=\"1.0\" x1=\"10.5\" x2=\"170.5\" y1=\"30.5\" y2=\"30.5\" /><line stroke-width=\"1.0\" x1=\"10.5\" x2=\"170.5\" y1=\"50.5\" y2=\"50.5\" /><line stroke-width=\"1.0\" x1=\"10.5\" x2=\"170.5\" y1=\"70.5\" y2=\"70.5\" /><line stroke-width=\"1.0\" x1=\"10.5\" x2=\"170.5\" y1=\"90.5\" y2=\"90.5\" /><line stroke-width=\"1.0\" x1=\"10.5\" x2=\"170.5\" y1=\"110.5\" y2=\"110.5\" /><line stroke-width=\"1.0\" x1=\"10.5\" x2=\"170.5\" y1=\"130.5\" y2=\"130.5\" /><line stroke-width=\"1.0\" x1=\"10.5\" x2=\"170.5\" y1=\"150.5\" y2=\"150.5\" /><line stroke-width=\"1.0\" x1=\"30.5\" x2=\"30.5\" y1=\"10.5\" y2=\"170.5\" /><line stroke-width=\"1.0\" x1=\"50.5\" x2=\"50.5\" y1=\"10.5\" y2=\"170.5\" /><line stroke-width=\"1.0\" x1=\"70.5\" x2=\"70.5\" y1=\"10.5\" y2=\"170.5\" /><line stroke-width=\"1.0\" x1=\"90.5\" x2=\"90.5\" y1=\"10.5\" y2=\"170.5\" /><line stroke-width=\"1.0\" x1=\"110.5\" x2=\"110.5\" y1=\"10.5\" y2=\"170.5\" /><line stroke-width=\"1.0\" x1=\"130.5\" x2=\"130.5\" y1=\"10.5\" y2=\"170.5\" /><line stroke-width=\"1.0\" x1=\"150.5\" x2=\"150.5\" y1=\"10.5\" y2=\"170.5\" /></g><g><text font-family=\"serif\" font-size=\"9.5\" text-anchor=\"middle\" x=\"20.5\" y=\"8\">a</text><text font-family=\"serif\" font-size=\"9.5\" text-anchor=\"middle\" x=\"40.5\" y=\"8\">b</text><text font-family=\"serif\" font-size=\"9.5\" text-anchor=\"middle\" x=\"60.5\" y=\"8\">c</text><text font-family=\"serif\" font-size=\"9.5\" text-anchor=\"middle\" x=\"80.5\" y=\"8\">d</text><text font-family=\"serif\" font-size=\"9.5\" text-anchor=\"middle\" x=\"100.5\" y=\"8\">e</text><text font-family=\"serif\" font-size=\"9.5\" text-anchor=\"middle\" x=\"120.5\" y=\"8\">f</text><text font-family=\"serif\" font-size=\"9.5\" text-anchor=\"middle\" x=\"140.5\" y=\"8\">g</text><text font-family=\"serif\" font-size=\"9.5\" text-anchor=\"middle\" x=\"160.5\" y=\"8\">h</text><text font-family=\"serif\" font-size=\"9.5\" x=\"2.5\" y=\"23.5\">1</text><text font-family=\"serif\" font-size=\"9.5\" x=\"2.5\" y=\"43.5\">2</text><text font-family=\"serif\" font-size=\"9.5\" x=\"2.5\" y=\"63.5\">3</text><text font-family=\"serif\" font-size=\"9.5\" x=\"2.5\" y=\"83.5\">4</text><text font-family=\"serif\" font-size=\"9.5\" x=\"2.5\" y=\"103.5\">5</text><text font-family=\"serif\" font-size=\"9.5\" x=\"2.5\" y=\"123.5\">6</text><text font-family=\"serif\" font-size=\"9.5\" x=\"2.5\" y=\"143.5\">7</text><text font-family=\"serif\" font-size=\"9.5\" x=\"2.5\" y=\"163.5\">8</text></g><use xlink:href=\"#black\" x=\"10.5\" y=\"10.5\" /><use xlink:href=\"#black\" x=\"70.5\" y=\"10.5\" /><use xlink:href=\"#black\" x=\"90.5\" y=\"10.5\" /><use xlink:href=\"#black\" x=\"110.5\" y=\"10.5\" /><use xlink:href=\"#black\" x=\"130.5\" y=\"10.5\" /><use xlink:href=\"#black\" x=\"150.5\" y=\"10.5\" /><use xlink:href=\"#black\" x=\"10.5\" y=\"30.5\" /><use xlink:href=\"#white\" x=\"30.5\" y=\"30.5\" /><use xlink:href=\"#white\" x=\"50.5\" y=\"30.5\" /><use xlink:href=\"#white\" x=\"70.5\" y=\"30.5\" /><use xlink:href=\"#white\" x=\"90.5\" y=\"30.5\" /><use xlink:href=\"#white\" x=\"110.5\" y=\"30.5\" /><use xlink:href=\"#black\" x=\"130.5\" y=\"30.5\" /><use xlink:href=\"#black\" x=\"150.5\" y=\"30.5\" /><use xlink:href=\"#black\" x=\"10.5\" y=\"50.5\" /><use xlink:href=\"#black\" x=\"30.5\" y=\"50.5\" /><use xlink:href=\"#black\" x=\"50.5\" y=\"50.5\" /><use xlink:href=\"#white\" x=\"70.5\" y=\"50.5\" /><use xlink:href=\"#black\" x=\"90.5\" y=\"50.5\" /><use xlink:href=\"#black\" x=\"110.5\" y=\"50.5\" /><use xlink:href=\"#black\" x=\"130.5\" y=\"50.5\" /><use xlink:href=\"#black\" x=\"150.5\" y=\"50.5\" /><use xlink:href=\"#black\" x=\"10.5\" y=\"70.5\" /><use xlink:href=\"#white\" x=\"30.5\" y=\"70.5\" /><use xlink:href=\"#white\" x=\"50.5\" y=\"70.5\" /><use xlink:href=\"#white\" x=\"70.5\" y=\"70.5\" /><use xlink:href=\"#white\" x=\"90.5\" y=\"70.5\" /><use xlink:href=\"#black\" x=\"110.5\" y=\"70.5\" /><use xlink:href=\"#black\" x=\"130.5\" y=\"70.5\" /><use xlink:href=\"#black\" x=\"150.5\" y=\"70.5\" /><use xlink:href=\"#black\" x=\"10.5\" y=\"90.5\" /><use xlink:href=\"#white\" x=\"30.5\" y=\"90.5\" /><use xlink:href=\"#black\" x=\"50.5\" y=\"90.5\" /><use xlink:href=\"#white\" x=\"70.5\" y=\"90.5\" /><use xlink:href=\"#black\" x=\"90.5\" y=\"90.5\" /><use xlink:href=\"#white\" x=\"110.5\" y=\"90.5\" /><use xlink:href=\"#black\" x=\"130.5\" y=\"90.5\" /><use xlink:href=\"#black\" x=\"150.5\" y=\"90.5\" /><use xlink:href=\"#black\" x=\"10.5\" y=\"110.5\" /><use xlink:href=\"#black\" x=\"30.5\" y=\"110.5\" /><use xlink:href=\"#black\" x=\"50.5\" y=\"110.5\" /><use xlink:href=\"#black\" x=\"70.5\" y=\"110.5\" /><use xlink:href=\"#white\" x=\"90.5\" y=\"110.5\" /><use xlink:href=\"#white\" x=\"110.5\" y=\"110.5\" /><use xlink:href=\"#white\" x=\"130.5\" y=\"110.5\" /><use xlink:href=\"#black\" x=\"150.5\" y=\"110.5\" /><use xlink:href=\"#black\" x=\"10.5\" y=\"130.5\" /><use xlink:href=\"#black\" x=\"30.5\" y=\"130.5\" /><use xlink:href=\"#black\" x=\"50.5\" y=\"130.5\" /><use xlink:href=\"#white\" x=\"70.5\" y=\"130.5\" /><use xlink:href=\"#white\" x=\"90.5\" y=\"130.5\" /><use xlink:href=\"#white\" x=\"110.5\" y=\"130.5\" /><use xlink:href=\"#white\" x=\"150.5\" y=\"130.5\" /><use xlink:href=\"#black\" x=\"10.5\" y=\"150.5\" /><use xlink:href=\"#black\" x=\"30.5\" y=\"150.5\" /><use xlink:href=\"#white\" x=\"50.5\" y=\"150.5\" /><use xlink:href=\"#white\" x=\"70.5\" y=\"150.5\" /><use xlink:href=\"#white\" x=\"90.5\" y=\"150.5\" /><use xlink:href=\"#white\" x=\"110.5\" y=\"150.5\" /></svg>"
      ],
      "text/plain": [
       " |abcdefgh\n",
       "-+--------\n",
       "1|x..xxxxx\n",
       "2|xoooooxx\n",
       "3|xxxoxxxx\n",
       "4|xooooxxx\n",
       "5|xoxoxoxx\n",
       "6|xxxxooox\n",
       "7|xxxooo.o\n",
       "8|xxoooo.."
      ]
     },
     "metadata": {},
     "output_type": "display_data"
    },
    {
     "data": {
      "image/png": "[encoded data removed]",
      "text/plain": [
       "<Figure size 300x300 with 1 Axes>"
      ]
     },
     "metadata": {},
     "output_type": "display_data"
    },
    {
     "data": {
      "image/svg+xml": [
       "<svg xmlns=\"http://www.w3.org/2000/svg\" version=\"1.1\" xmlns:xlink=\"http://www.w3.org/1999/xlink\" width=\"215.0\" height=\"215.0\" viewBox=\"0 0 172 172\"><defs><g id=\"black\"><circle cx=\"10\" cy=\"10\" r=\"8.5\" fill=\"black\" /></g><g id=\"white\"><circle cx=\"10\" cy=\"10\" r=\"8.5\" fill=\"white\" /></g></defs><rect fill=\"green\" height=\"161\" width=\"161\" x=\"10\" y=\"10\" /><g stroke=\"black\"><rect width=\"161\" height=\"161\" stroke-width=\"1.5\" fill=\"none\" x=\"10\" y=\"10\" /><line stroke-width=\"1.0\" x1=\"10.5\" x2=\"170.5\" y1=\"30.5\" y2=\"30.5\" /><line stroke-width=\"1.0\" x1=\"10.5\" x2=\"170.5\" y1=\"50.5\" y2=\"50.5\" /><line stroke-width=\"1.0\" x1=\"10.5\" x2=\"170.5\" y1=\"70.5\" y2=\"70.5\" /><line stroke-width=\"1.0\" x1=\"10.5\" x2=\"170.5\" y1=\"90.5\" y2=\"90.5\" /><line stroke-width=\"1.0\" x1=\"10.5\" x2=\"170.5\" y1=\"110.5\" y2=\"110.5\" /><line stroke-width=\"1.0\" x1=\"10.5\" x2=\"170.5\" y1=\"130.5\" y2=\"130.5\" /><line stroke-width=\"1.0\" x1=\"10.5\" x2=\"170.5\" y1=\"150.5\" y2=\"150.5\" /><line stroke-width=\"1.0\" x1=\"30.5\" x2=\"30.5\" y1=\"10.5\" y2=\"170.5\" /><line stroke-width=\"1.0\" x1=\"50.5\" x2=\"50.5\" y1=\"10.5\" y2=\"170.5\" /><line stroke-width=\"1.0\" x1=\"70.5\" x2=\"70.5\" y1=\"10.5\" y2=\"170.5\" /><line stroke-width=\"1.0\" x1=\"90.5\" x2=\"90.5\" y1=\"10.5\" y2=\"170.5\" /><line stroke-width=\"1.0\" x1=\"110.5\" x2=\"110.5\" y1=\"10.5\" y2=\"170.5\" /><line stroke-width=\"1.0\" x1=\"130.5\" x2=\"130.5\" y1=\"10.5\" y2=\"170.5\" /><line stroke-width=\"1.0\" x1=\"150.5\" x2=\"150.5\" y1=\"10.5\" y2=\"170.5\" /></g><g><text font-family=\"serif\" font-size=\"9.5\" text-anchor=\"middle\" x=\"20.5\" y=\"8\">a</text><text font-family=\"serif\" font-size=\"9.5\" text-anchor=\"middle\" x=\"40.5\" y=\"8\">b</text><text font-family=\"serif\" font-size=\"9.5\" text-anchor=\"middle\" x=\"60.5\" y=\"8\">c</text><text font-family=\"serif\" font-size=\"9.5\" text-anchor=\"middle\" x=\"80.5\" y=\"8\">d</text><text font-family=\"serif\" font-size=\"9.5\" text-anchor=\"middle\" x=\"100.5\" y=\"8\">e</text><text font-family=\"serif\" font-size=\"9.5\" text-anchor=\"middle\" x=\"120.5\" y=\"8\">f</text><text font-family=\"serif\" font-size=\"9.5\" text-anchor=\"middle\" x=\"140.5\" y=\"8\">g</text><text font-family=\"serif\" font-size=\"9.5\" text-anchor=\"middle\" x=\"160.5\" y=\"8\">h</text><text font-family=\"serif\" font-size=\"9.5\" x=\"2.5\" y=\"23.5\">1</text><text font-family=\"serif\" font-size=\"9.5\" x=\"2.5\" y=\"43.5\">2</text><text font-family=\"serif\" font-size=\"9.5\" x=\"2.5\" y=\"63.5\">3</text><text font-family=\"serif\" font-size=\"9.5\" x=\"2.5\" y=\"83.5\">4</text><text font-family=\"serif\" font-size=\"9.5\" x=\"2.5\" y=\"103.5\">5</text><text font-family=\"serif\" font-size=\"9.5\" x=\"2.5\" y=\"123.5\">6</text><text font-family=\"serif\" font-size=\"9.5\" x=\"2.5\" y=\"143.5\">7</text><text font-family=\"serif\" font-size=\"9.5\" x=\"2.5\" y=\"163.5\">8</text></g><use xlink:href=\"#black\" x=\"10.5\" y=\"10.5\" /><use xlink:href=\"#black\" x=\"70.5\" y=\"10.5\" /><use xlink:href=\"#black\" x=\"90.5\" y=\"10.5\" /><use xlink:href=\"#black\" x=\"110.5\" y=\"10.5\" /><use xlink:href=\"#black\" x=\"130.5\" y=\"10.5\" /><use xlink:href=\"#black\" x=\"150.5\" y=\"10.5\" /><use xlink:href=\"#black\" x=\"10.5\" y=\"30.5\" /><use xlink:href=\"#white\" x=\"30.5\" y=\"30.5\" /><use xlink:href=\"#white\" x=\"50.5\" y=\"30.5\" /><use xlink:href=\"#white\" x=\"70.5\" y=\"30.5\" /><use xlink:href=\"#white\" x=\"90.5\" y=\"30.5\" /><use xlink:href=\"#white\" x=\"110.5\" y=\"30.5\" /><use xlink:href=\"#black\" x=\"130.5\" y=\"30.5\" /><use xlink:href=\"#black\" x=\"150.5\" y=\"30.5\" /><use xlink:href=\"#black\" x=\"10.5\" y=\"50.5\" /><use xlink:href=\"#black\" x=\"30.5\" y=\"50.5\" /><use xlink:href=\"#black\" x=\"50.5\" y=\"50.5\" /><use xlink:href=\"#white\" x=\"70.5\" y=\"50.5\" /><use xlink:href=\"#black\" x=\"90.5\" y=\"50.5\" /><use xlink:href=\"#black\" x=\"110.5\" y=\"50.5\" /><use xlink:href=\"#black\" x=\"130.5\" y=\"50.5\" /><use xlink:href=\"#black\" x=\"150.5\" y=\"50.5\" /><use xlink:href=\"#black\" x=\"10.5\" y=\"70.5\" /><use xlink:href=\"#white\" x=\"30.5\" y=\"70.5\" /><use xlink:href=\"#white\" x=\"50.5\" y=\"70.5\" /><use xlink:href=\"#white\" x=\"70.5\" y=\"70.5\" /><use xlink:href=\"#white\" x=\"90.5\" y=\"70.5\" /><use xlink:href=\"#black\" x=\"110.5\" y=\"70.5\" /><use xlink:href=\"#black\" x=\"130.5\" y=\"70.5\" /><use xlink:href=\"#black\" x=\"150.5\" y=\"70.5\" /><use xlink:href=\"#black\" x=\"10.5\" y=\"90.5\" /><use xlink:href=\"#white\" x=\"30.5\" y=\"90.5\" /><use xlink:href=\"#black\" x=\"50.5\" y=\"90.5\" /><use xlink:href=\"#white\" x=\"70.5\" y=\"90.5\" /><use xlink:href=\"#black\" x=\"90.5\" y=\"90.5\" /><use xlink:href=\"#white\" x=\"110.5\" y=\"90.5\" /><use xlink:href=\"#black\" x=\"130.5\" y=\"90.5\" /><use xlink:href=\"#black\" x=\"150.5\" y=\"90.5\" /><use xlink:href=\"#black\" x=\"10.5\" y=\"110.5\" /><use xlink:href=\"#black\" x=\"30.5\" y=\"110.5\" /><use xlink:href=\"#black\" x=\"50.5\" y=\"110.5\" /><use xlink:href=\"#black\" x=\"70.5\" y=\"110.5\" /><use xlink:href=\"#white\" x=\"90.5\" y=\"110.5\" /><use xlink:href=\"#black\" x=\"110.5\" y=\"110.5\" /><use xlink:href=\"#black\" x=\"130.5\" y=\"110.5\" /><use xlink:href=\"#black\" x=\"150.5\" y=\"110.5\" /><use xlink:href=\"#black\" x=\"10.5\" y=\"130.5\" /><use xlink:href=\"#black\" x=\"30.5\" y=\"130.5\" /><use xlink:href=\"#black\" x=\"50.5\" y=\"130.5\" /><use xlink:href=\"#black\" x=\"70.5\" y=\"130.5\" /><use xlink:href=\"#black\" x=\"90.5\" y=\"130.5\" /><use xlink:href=\"#black\" x=\"110.5\" y=\"130.5\" /><use xlink:href=\"#black\" x=\"130.5\" y=\"130.5\" /><use xlink:href=\"#white\" x=\"150.5\" y=\"130.5\" /><use xlink:href=\"#black\" x=\"10.5\" y=\"150.5\" /><use xlink:href=\"#black\" x=\"30.5\" y=\"150.5\" /><use xlink:href=\"#white\" x=\"50.5\" y=\"150.5\" /><use xlink:href=\"#white\" x=\"70.5\" y=\"150.5\" /><use xlink:href=\"#white\" x=\"90.5\" y=\"150.5\" /><use xlink:href=\"#white\" x=\"110.5\" y=\"150.5\" /></svg>"
      ],
      "text/plain": [
       " |abcdefgh\n",
       "-+--------\n",
       "1|x..xxxxx\n",
       "2|xoooooxx\n",
       "3|xxxoxxxx\n",
       "4|xooooxxx\n",
       "5|xoxoxoxx\n",
       "6|xxxxoxxx\n",
       "7|xxxxxxxo\n",
       "8|xxoooo.."
      ]
     },
     "metadata": {},
     "output_type": "display_data"
    },
    {
     "data": {
      "image/svg+xml": [
       "<svg xmlns=\"http://www.w3.org/2000/svg\" version=\"1.1\" xmlns:xlink=\"http://www.w3.org/1999/xlink\" width=\"215.0\" height=\"215.0\" viewBox=\"0 0 172 172\"><defs><g id=\"black\"><circle cx=\"10\" cy=\"10\" r=\"8.5\" fill=\"black\" /></g><g id=\"white\"><circle cx=\"10\" cy=\"10\" r=\"8.5\" fill=\"white\" /></g></defs><rect fill=\"green\" height=\"161\" width=\"161\" x=\"10\" y=\"10\" /><g stroke=\"black\"><rect width=\"161\" height=\"161\" stroke-width=\"1.5\" fill=\"none\" x=\"10\" y=\"10\" /><line stroke-width=\"1.0\" x1=\"10.5\" x2=\"170.5\" y1=\"30.5\" y2=\"30.5\" /><line stroke-width=\"1.0\" x1=\"10.5\" x2=\"170.5\" y1=\"50.5\" y2=\"50.5\" /><line stroke-width=\"1.0\" x1=\"10.5\" x2=\"170.5\" y1=\"70.5\" y2=\"70.5\" /><line stroke-width=\"1.0\" x1=\"10.5\" x2=\"170.5\" y1=\"90.5\" y2=\"90.5\" /><line stroke-width=\"1.0\" x1=\"10.5\" x2=\"170.5\" y1=\"110.5\" y2=\"110.5\" /><line stroke-width=\"1.0\" x1=\"10.5\" x2=\"170.5\" y1=\"130.5\" y2=\"130.5\" /><line stroke-width=\"1.0\" x1=\"10.5\" x2=\"170.5\" y1=\"150.5\" y2=\"150.5\" /><line stroke-width=\"1.0\" x1=\"30.5\" x2=\"30.5\" y1=\"10.5\" y2=\"170.5\" /><line stroke-width=\"1.0\" x1=\"50.5\" x2=\"50.5\" y1=\"10.5\" y2=\"170.5\" /><line stroke-width=\"1.0\" x1=\"70.5\" x2=\"70.5\" y1=\"10.5\" y2=\"170.5\" /><line stroke-width=\"1.0\" x1=\"90.5\" x2=\"90.5\" y1=\"10.5\" y2=\"170.5\" /><line stroke-width=\"1.0\" x1=\"110.5\" x2=\"110.5\" y1=\"10.5\" y2=\"170.5\" /><line stroke-width=\"1.0\" x1=\"130.5\" x2=\"130.5\" y1=\"10.5\" y2=\"170.5\" /><line stroke-width=\"1.0\" x1=\"150.5\" x2=\"150.5\" y1=\"10.5\" y2=\"170.5\" /></g><g><text font-family=\"serif\" font-size=\"9.5\" text-anchor=\"middle\" x=\"20.5\" y=\"8\">a</text><text font-family=\"serif\" font-size=\"9.5\" text-anchor=\"middle\" x=\"40.5\" y=\"8\">b</text><text font-family=\"serif\" font-size=\"9.5\" text-anchor=\"middle\" x=\"60.5\" y=\"8\">c</text><text font-family=\"serif\" font-size=\"9.5\" text-anchor=\"middle\" x=\"80.5\" y=\"8\">d</text><text font-family=\"serif\" font-size=\"9.5\" text-anchor=\"middle\" x=\"100.5\" y=\"8\">e</text><text font-family=\"serif\" font-size=\"9.5\" text-anchor=\"middle\" x=\"120.5\" y=\"8\">f</text><text font-family=\"serif\" font-size=\"9.5\" text-anchor=\"middle\" x=\"140.5\" y=\"8\">g</text><text font-family=\"serif\" font-size=\"9.5\" text-anchor=\"middle\" x=\"160.5\" y=\"8\">h</text><text font-family=\"serif\" font-size=\"9.5\" x=\"2.5\" y=\"23.5\">1</text><text font-family=\"serif\" font-size=\"9.5\" x=\"2.5\" y=\"43.5\">2</text><text font-family=\"serif\" font-size=\"9.5\" x=\"2.5\" y=\"63.5\">3</text><text font-family=\"serif\" font-size=\"9.5\" x=\"2.5\" y=\"83.5\">4</text><text font-family=\"serif\" font-size=\"9.5\" x=\"2.5\" y=\"103.5\">5</text><text font-family=\"serif\" font-size=\"9.5\" x=\"2.5\" y=\"123.5\">6</text><text font-family=\"serif\" font-size=\"9.5\" x=\"2.5\" y=\"143.5\">7</text><text font-family=\"serif\" font-size=\"9.5\" x=\"2.5\" y=\"163.5\">8</text></g><use xlink:href=\"#black\" x=\"10.5\" y=\"10.5\" /><use xlink:href=\"#black\" x=\"70.5\" y=\"10.5\" /><use xlink:href=\"#black\" x=\"90.5\" y=\"10.5\" /><use xlink:href=\"#black\" x=\"110.5\" y=\"10.5\" /><use xlink:href=\"#black\" x=\"130.5\" y=\"10.5\" /><use xlink:href=\"#black\" x=\"150.5\" y=\"10.5\" /><use xlink:href=\"#black\" x=\"10.5\" y=\"30.5\" /><use xlink:href=\"#white\" x=\"30.5\" y=\"30.5\" /><use xlink:href=\"#white\" x=\"50.5\" y=\"30.5\" /><use xlink:href=\"#white\" x=\"70.5\" y=\"30.5\" /><use xlink:href=\"#white\" x=\"90.5\" y=\"30.5\" /><use xlink:href=\"#white\" x=\"110.5\" y=\"30.5\" /><use xlink:href=\"#black\" x=\"130.5\" y=\"30.5\" /><use xlink:href=\"#black\" x=\"150.5\" y=\"30.5\" /><use xlink:href=\"#black\" x=\"10.5\" y=\"50.5\" /><use xlink:href=\"#black\" x=\"30.5\" y=\"50.5\" /><use xlink:href=\"#black\" x=\"50.5\" y=\"50.5\" /><use xlink:href=\"#white\" x=\"70.5\" y=\"50.5\" /><use xlink:href=\"#black\" x=\"90.5\" y=\"50.5\" /><use xlink:href=\"#black\" x=\"110.5\" y=\"50.5\" /><use xlink:href=\"#black\" x=\"130.5\" y=\"50.5\" /><use xlink:href=\"#black\" x=\"150.5\" y=\"50.5\" /><use xlink:href=\"#black\" x=\"10.5\" y=\"70.5\" /><use xlink:href=\"#white\" x=\"30.5\" y=\"70.5\" /><use xlink:href=\"#white\" x=\"50.5\" y=\"70.5\" /><use xlink:href=\"#white\" x=\"70.5\" y=\"70.5\" /><use xlink:href=\"#white\" x=\"90.5\" y=\"70.5\" /><use xlink:href=\"#black\" x=\"110.5\" y=\"70.5\" /><use xlink:href=\"#black\" x=\"130.5\" y=\"70.5\" /><use xlink:href=\"#black\" x=\"150.5\" y=\"70.5\" /><use xlink:href=\"#black\" x=\"10.5\" y=\"90.5\" /><use xlink:href=\"#white\" x=\"30.5\" y=\"90.5\" /><use xlink:href=\"#black\" x=\"50.5\" y=\"90.5\" /><use xlink:href=\"#white\" x=\"70.5\" y=\"90.5\" /><use xlink:href=\"#black\" x=\"90.5\" y=\"90.5\" /><use xlink:href=\"#white\" x=\"110.5\" y=\"90.5\" /><use xlink:href=\"#black\" x=\"130.5\" y=\"90.5\" /><use xlink:href=\"#black\" x=\"150.5\" y=\"90.5\" /><use xlink:href=\"#black\" x=\"10.5\" y=\"110.5\" /><use xlink:href=\"#black\" x=\"30.5\" y=\"110.5\" /><use xlink:href=\"#black\" x=\"50.5\" y=\"110.5\" /><use xlink:href=\"#black\" x=\"70.5\" y=\"110.5\" /><use xlink:href=\"#white\" x=\"90.5\" y=\"110.5\" /><use xlink:href=\"#black\" x=\"110.5\" y=\"110.5\" /><use xlink:href=\"#black\" x=\"130.5\" y=\"110.5\" /><use xlink:href=\"#black\" x=\"150.5\" y=\"110.5\" /><use xlink:href=\"#black\" x=\"10.5\" y=\"130.5\" /><use xlink:href=\"#black\" x=\"30.5\" y=\"130.5\" /><use xlink:href=\"#black\" x=\"50.5\" y=\"130.5\" /><use xlink:href=\"#black\" x=\"70.5\" y=\"130.5\" /><use xlink:href=\"#black\" x=\"90.5\" y=\"130.5\" /><use xlink:href=\"#white\" x=\"110.5\" y=\"130.5\" /><use xlink:href=\"#black\" x=\"130.5\" y=\"130.5\" /><use xlink:href=\"#white\" x=\"150.5\" y=\"130.5\" /><use xlink:href=\"#black\" x=\"10.5\" y=\"150.5\" /><use xlink:href=\"#black\" x=\"30.5\" y=\"150.5\" /><use xlink:href=\"#white\" x=\"50.5\" y=\"150.5\" /><use xlink:href=\"#white\" x=\"70.5\" y=\"150.5\" /><use xlink:href=\"#white\" x=\"90.5\" y=\"150.5\" /><use xlink:href=\"#white\" x=\"110.5\" y=\"150.5\" /><use xlink:href=\"#white\" x=\"130.5\" y=\"150.5\" /></svg>"
      ],
      "text/plain": [
       " |abcdefgh\n",
       "-+--------\n",
       "1|x..xxxxx\n",
       "2|xoooooxx\n",
       "3|xxxoxxxx\n",
       "4|xooooxxx\n",
       "5|xoxoxoxx\n",
       "6|xxxxoxxx\n",
       "7|xxxxxoxo\n",
       "8|xxooooo."
      ]
     },
     "metadata": {},
     "output_type": "display_data"
    },
    {
     "data": {
      "image/png": "[encoded data removed]",
      "text/plain": [
       "<Figure size 300x300 with 1 Axes>"
      ]
     },
     "metadata": {},
     "output_type": "display_data"
    },
    {
     "data": {
      "image/svg+xml": [
       "<svg xmlns=\"http://www.w3.org/2000/svg\" version=\"1.1\" xmlns:xlink=\"http://www.w3.org/1999/xlink\" width=\"215.0\" height=\"215.0\" viewBox=\"0 0 172 172\"><defs><g id=\"black\"><circle cx=\"10\" cy=\"10\" r=\"8.5\" fill=\"black\" /></g><g id=\"white\"><circle cx=\"10\" cy=\"10\" r=\"8.5\" fill=\"white\" /></g></defs><rect fill=\"green\" height=\"161\" width=\"161\" x=\"10\" y=\"10\" /><g stroke=\"black\"><rect width=\"161\" height=\"161\" stroke-width=\"1.5\" fill=\"none\" x=\"10\" y=\"10\" /><line stroke-width=\"1.0\" x1=\"10.5\" x2=\"170.5\" y1=\"30.5\" y2=\"30.5\" /><line stroke-width=\"1.0\" x1=\"10.5\" x2=\"170.5\" y1=\"50.5\" y2=\"50.5\" /><line stroke-width=\"1.0\" x1=\"10.5\" x2=\"170.5\" y1=\"70.5\" y2=\"70.5\" /><line stroke-width=\"1.0\" x1=\"10.5\" x2=\"170.5\" y1=\"90.5\" y2=\"90.5\" /><line stroke-width=\"1.0\" x1=\"10.5\" x2=\"170.5\" y1=\"110.5\" y2=\"110.5\" /><line stroke-width=\"1.0\" x1=\"10.5\" x2=\"170.5\" y1=\"130.5\" y2=\"130.5\" /><line stroke-width=\"1.0\" x1=\"10.5\" x2=\"170.5\" y1=\"150.5\" y2=\"150.5\" /><line stroke-width=\"1.0\" x1=\"30.5\" x2=\"30.5\" y1=\"10.5\" y2=\"170.5\" /><line stroke-width=\"1.0\" x1=\"50.5\" x2=\"50.5\" y1=\"10.5\" y2=\"170.5\" /><line stroke-width=\"1.0\" x1=\"70.5\" x2=\"70.5\" y1=\"10.5\" y2=\"170.5\" /><line stroke-width=\"1.0\" x1=\"90.5\" x2=\"90.5\" y1=\"10.5\" y2=\"170.5\" /><line stroke-width=\"1.0\" x1=\"110.5\" x2=\"110.5\" y1=\"10.5\" y2=\"170.5\" /><line stroke-width=\"1.0\" x1=\"130.5\" x2=\"130.5\" y1=\"10.5\" y2=\"170.5\" /><line stroke-width=\"1.0\" x1=\"150.5\" x2=\"150.5\" y1=\"10.5\" y2=\"170.5\" /></g><g><text font-family=\"serif\" font-size=\"9.5\" text-anchor=\"middle\" x=\"20.5\" y=\"8\">a</text><text font-family=\"serif\" font-size=\"9.5\" text-anchor=\"middle\" x=\"40.5\" y=\"8\">b</text><text font-family=\"serif\" font-size=\"9.5\" text-anchor=\"middle\" x=\"60.5\" y=\"8\">c</text><text font-family=\"serif\" font-size=\"9.5\" text-anchor=\"middle\" x=\"80.5\" y=\"8\">d</text><text font-family=\"serif\" font-size=\"9.5\" text-anchor=\"middle\" x=\"100.5\" y=\"8\">e</text><text font-family=\"serif\" font-size=\"9.5\" text-anchor=\"middle\" x=\"120.5\" y=\"8\">f</text><text font-family=\"serif\" font-size=\"9.5\" text-anchor=\"middle\" x=\"140.5\" y=\"8\">g</text><text font-family=\"serif\" font-size=\"9.5\" text-anchor=\"middle\" x=\"160.5\" y=\"8\">h</text><text font-family=\"serif\" font-size=\"9.5\" x=\"2.5\" y=\"23.5\">1</text><text font-family=\"serif\" font-size=\"9.5\" x=\"2.5\" y=\"43.5\">2</text><text font-family=\"serif\" font-size=\"9.5\" x=\"2.5\" y=\"63.5\">3</text><text font-family=\"serif\" font-size=\"9.5\" x=\"2.5\" y=\"83.5\">4</text><text font-family=\"serif\" font-size=\"9.5\" x=\"2.5\" y=\"103.5\">5</text><text font-family=\"serif\" font-size=\"9.5\" x=\"2.5\" y=\"123.5\">6</text><text font-family=\"serif\" font-size=\"9.5\" x=\"2.5\" y=\"143.5\">7</text><text font-family=\"serif\" font-size=\"9.5\" x=\"2.5\" y=\"163.5\">8</text></g><use xlink:href=\"#black\" x=\"10.5\" y=\"10.5\" /><use xlink:href=\"#black\" x=\"70.5\" y=\"10.5\" /><use xlink:href=\"#black\" x=\"90.5\" y=\"10.5\" /><use xlink:href=\"#black\" x=\"110.5\" y=\"10.5\" /><use xlink:href=\"#black\" x=\"130.5\" y=\"10.5\" /><use xlink:href=\"#black\" x=\"150.5\" y=\"10.5\" /><use xlink:href=\"#black\" x=\"10.5\" y=\"30.5\" /><use xlink:href=\"#white\" x=\"30.5\" y=\"30.5\" /><use xlink:href=\"#white\" x=\"50.5\" y=\"30.5\" /><use xlink:href=\"#white\" x=\"70.5\" y=\"30.5\" /><use xlink:href=\"#white\" x=\"90.5\" y=\"30.5\" /><use xlink:href=\"#white\" x=\"110.5\" y=\"30.5\" /><use xlink:href=\"#black\" x=\"130.5\" y=\"30.5\" /><use xlink:href=\"#black\" x=\"150.5\" y=\"30.5\" /><use xlink:href=\"#black\" x=\"10.5\" y=\"50.5\" /><use xlink:href=\"#black\" x=\"30.5\" y=\"50.5\" /><use xlink:href=\"#black\" x=\"50.5\" y=\"50.5\" /><use xlink:href=\"#white\" x=\"70.5\" y=\"50.5\" /><use xlink:href=\"#black\" x=\"90.5\" y=\"50.5\" /><use xlink:href=\"#black\" x=\"110.5\" y=\"50.5\" /><use xlink:href=\"#black\" x=\"130.5\" y=\"50.5\" /><use xlink:href=\"#black\" x=\"150.5\" y=\"50.5\" /><use xlink:href=\"#black\" x=\"10.5\" y=\"70.5\" /><use xlink:href=\"#white\" x=\"30.5\" y=\"70.5\" /><use xlink:href=\"#white\" x=\"50.5\" y=\"70.5\" /><use xlink:href=\"#white\" x=\"70.5\" y=\"70.5\" /><use xlink:href=\"#white\" x=\"90.5\" y=\"70.5\" /><use xlink:href=\"#black\" x=\"110.5\" y=\"70.5\" /><use xlink:href=\"#black\" x=\"130.5\" y=\"70.5\" /><use xlink:href=\"#black\" x=\"150.5\" y=\"70.5\" /><use xlink:href=\"#black\" x=\"10.5\" y=\"90.5\" /><use xlink:href=\"#white\" x=\"30.5\" y=\"90.5\" /><use xlink:href=\"#black\" x=\"50.5\" y=\"90.5\" /><use xlink:href=\"#white\" x=\"70.5\" y=\"90.5\" /><use xlink:href=\"#black\" x=\"90.5\" y=\"90.5\" /><use xlink:href=\"#white\" x=\"110.5\" y=\"90.5\" /><use xlink:href=\"#black\" x=\"130.5\" y=\"90.5\" /><use xlink:href=\"#black\" x=\"150.5\" y=\"90.5\" /><use xlink:href=\"#black\" x=\"10.5\" y=\"110.5\" /><use xlink:href=\"#black\" x=\"30.5\" y=\"110.5\" /><use xlink:href=\"#black\" x=\"50.5\" y=\"110.5\" /><use xlink:href=\"#black\" x=\"70.5\" y=\"110.5\" /><use xlink:href=\"#white\" x=\"90.5\" y=\"110.5\" /><use xlink:href=\"#black\" x=\"110.5\" y=\"110.5\" /><use xlink:href=\"#black\" x=\"130.5\" y=\"110.5\" /><use xlink:href=\"#black\" x=\"150.5\" y=\"110.5\" /><use xlink:href=\"#black\" x=\"10.5\" y=\"130.5\" /><use xlink:href=\"#black\" x=\"30.5\" y=\"130.5\" /><use xlink:href=\"#black\" x=\"50.5\" y=\"130.5\" /><use xlink:href=\"#black\" x=\"70.5\" y=\"130.5\" /><use xlink:href=\"#black\" x=\"90.5\" y=\"130.5\" /><use xlink:href=\"#white\" x=\"110.5\" y=\"130.5\" /><use xlink:href=\"#black\" x=\"130.5\" y=\"130.5\" /><use xlink:href=\"#black\" x=\"150.5\" y=\"130.5\" /><use xlink:href=\"#black\" x=\"10.5\" y=\"150.5\" /><use xlink:href=\"#black\" x=\"30.5\" y=\"150.5\" /><use xlink:href=\"#black\" x=\"50.5\" y=\"150.5\" /><use xlink:href=\"#black\" x=\"70.5\" y=\"150.5\" /><use xlink:href=\"#black\" x=\"90.5\" y=\"150.5\" /><use xlink:href=\"#black\" x=\"110.5\" y=\"150.5\" /><use xlink:href=\"#black\" x=\"130.5\" y=\"150.5\" /><use xlink:href=\"#black\" x=\"150.5\" y=\"150.5\" /></svg>"
      ],
      "text/plain": [
       " |abcdefgh\n",
       "-+--------\n",
       "1|x..xxxxx\n",
       "2|xoooooxx\n",
       "3|xxxoxxxx\n",
       "4|xooooxxx\n",
       "5|xoxoxoxx\n",
       "6|xxxxoxxx\n",
       "7|xxxxxoxx\n",
       "8|xxxxxxxx"
      ]
     },
     "metadata": {},
     "output_type": "display_data"
    },
    {
     "data": {
      "image/svg+xml": [
       "<svg xmlns=\"http://www.w3.org/2000/svg\" version=\"1.1\" xmlns:xlink=\"http://www.w3.org/1999/xlink\" width=\"215.0\" height=\"215.0\" viewBox=\"0 0 172 172\"><defs><g id=\"black\"><circle cx=\"10\" cy=\"10\" r=\"8.5\" fill=\"black\" /></g><g id=\"white\"><circle cx=\"10\" cy=\"10\" r=\"8.5\" fill=\"white\" /></g></defs><rect fill=\"green\" height=\"161\" width=\"161\" x=\"10\" y=\"10\" /><g stroke=\"black\"><rect width=\"161\" height=\"161\" stroke-width=\"1.5\" fill=\"none\" x=\"10\" y=\"10\" /><line stroke-width=\"1.0\" x1=\"10.5\" x2=\"170.5\" y1=\"30.5\" y2=\"30.5\" /><line stroke-width=\"1.0\" x1=\"10.5\" x2=\"170.5\" y1=\"50.5\" y2=\"50.5\" /><line stroke-width=\"1.0\" x1=\"10.5\" x2=\"170.5\" y1=\"70.5\" y2=\"70.5\" /><line stroke-width=\"1.0\" x1=\"10.5\" x2=\"170.5\" y1=\"90.5\" y2=\"90.5\" /><line stroke-width=\"1.0\" x1=\"10.5\" x2=\"170.5\" y1=\"110.5\" y2=\"110.5\" /><line stroke-width=\"1.0\" x1=\"10.5\" x2=\"170.5\" y1=\"130.5\" y2=\"130.5\" /><line stroke-width=\"1.0\" x1=\"10.5\" x2=\"170.5\" y1=\"150.5\" y2=\"150.5\" /><line stroke-width=\"1.0\" x1=\"30.5\" x2=\"30.5\" y1=\"10.5\" y2=\"170.5\" /><line stroke-width=\"1.0\" x1=\"50.5\" x2=\"50.5\" y1=\"10.5\" y2=\"170.5\" /><line stroke-width=\"1.0\" x1=\"70.5\" x2=\"70.5\" y1=\"10.5\" y2=\"170.5\" /><line stroke-width=\"1.0\" x1=\"90.5\" x2=\"90.5\" y1=\"10.5\" y2=\"170.5\" /><line stroke-width=\"1.0\" x1=\"110.5\" x2=\"110.5\" y1=\"10.5\" y2=\"170.5\" /><line stroke-width=\"1.0\" x1=\"130.5\" x2=\"130.5\" y1=\"10.5\" y2=\"170.5\" /><line stroke-width=\"1.0\" x1=\"150.5\" x2=\"150.5\" y1=\"10.5\" y2=\"170.5\" /></g><g><text font-family=\"serif\" font-size=\"9.5\" text-anchor=\"middle\" x=\"20.5\" y=\"8\">a</text><text font-family=\"serif\" font-size=\"9.5\" text-anchor=\"middle\" x=\"40.5\" y=\"8\">b</text><text font-family=\"serif\" font-size=\"9.5\" text-anchor=\"middle\" x=\"60.5\" y=\"8\">c</text><text font-family=\"serif\" font-size=\"9.5\" text-anchor=\"middle\" x=\"80.5\" y=\"8\">d</text><text font-family=\"serif\" font-size=\"9.5\" text-anchor=\"middle\" x=\"100.5\" y=\"8\">e</text><text font-family=\"serif\" font-size=\"9.5\" text-anchor=\"middle\" x=\"120.5\" y=\"8\">f</text><text font-family=\"serif\" font-size=\"9.5\" text-anchor=\"middle\" x=\"140.5\" y=\"8\">g</text><text font-family=\"serif\" font-size=\"9.5\" text-anchor=\"middle\" x=\"160.5\" y=\"8\">h</text><text font-family=\"serif\" font-size=\"9.5\" x=\"2.5\" y=\"23.5\">1</text><text font-family=\"serif\" font-size=\"9.5\" x=\"2.5\" y=\"43.5\">2</text><text font-family=\"serif\" font-size=\"9.5\" x=\"2.5\" y=\"63.5\">3</text><text font-family=\"serif\" font-size=\"9.5\" x=\"2.5\" y=\"83.5\">4</text><text font-family=\"serif\" font-size=\"9.5\" x=\"2.5\" y=\"103.5\">5</text><text font-family=\"serif\" font-size=\"9.5\" x=\"2.5\" y=\"123.5\">6</text><text font-family=\"serif\" font-size=\"9.5\" x=\"2.5\" y=\"143.5\">7</text><text font-family=\"serif\" font-size=\"9.5\" x=\"2.5\" y=\"163.5\">8</text></g><use xlink:href=\"#black\" x=\"10.5\" y=\"10.5\" /><use xlink:href=\"#black\" x=\"70.5\" y=\"10.5\" /><use xlink:href=\"#black\" x=\"90.5\" y=\"10.5\" /><use xlink:href=\"#black\" x=\"110.5\" y=\"10.5\" /><use xlink:href=\"#black\" x=\"130.5\" y=\"10.5\" /><use xlink:href=\"#black\" x=\"150.5\" y=\"10.5\" /><use xlink:href=\"#black\" x=\"10.5\" y=\"30.5\" /><use xlink:href=\"#white\" x=\"30.5\" y=\"30.5\" /><use xlink:href=\"#white\" x=\"50.5\" y=\"30.5\" /><use xlink:href=\"#white\" x=\"70.5\" y=\"30.5\" /><use xlink:href=\"#white\" x=\"90.5\" y=\"30.5\" /><use xlink:href=\"#white\" x=\"110.5\" y=\"30.5\" /><use xlink:href=\"#black\" x=\"130.5\" y=\"30.5\" /><use xlink:href=\"#black\" x=\"150.5\" y=\"30.5\" /><use xlink:href=\"#black\" x=\"10.5\" y=\"50.5\" /><use xlink:href=\"#black\" x=\"30.5\" y=\"50.5\" /><use xlink:href=\"#black\" x=\"50.5\" y=\"50.5\" /><use xlink:href=\"#white\" x=\"70.5\" y=\"50.5\" /><use xlink:href=\"#black\" x=\"90.5\" y=\"50.5\" /><use xlink:href=\"#black\" x=\"110.5\" y=\"50.5\" /><use xlink:href=\"#black\" x=\"130.5\" y=\"50.5\" /><use xlink:href=\"#black\" x=\"150.5\" y=\"50.5\" /><use xlink:href=\"#black\" x=\"10.5\" y=\"70.5\" /><use xlink:href=\"#white\" x=\"30.5\" y=\"70.5\" /><use xlink:href=\"#white\" x=\"50.5\" y=\"70.5\" /><use xlink:href=\"#white\" x=\"70.5\" y=\"70.5\" /><use xlink:href=\"#white\" x=\"90.5\" y=\"70.5\" /><use xlink:href=\"#black\" x=\"110.5\" y=\"70.5\" /><use xlink:href=\"#black\" x=\"130.5\" y=\"70.5\" /><use xlink:href=\"#black\" x=\"150.5\" y=\"70.5\" /><use xlink:href=\"#black\" x=\"10.5\" y=\"90.5\" /><use xlink:href=\"#white\" x=\"30.5\" y=\"90.5\" /><use xlink:href=\"#black\" x=\"50.5\" y=\"90.5\" /><use xlink:href=\"#white\" x=\"70.5\" y=\"90.5\" /><use xlink:href=\"#black\" x=\"90.5\" y=\"90.5\" /><use xlink:href=\"#white\" x=\"110.5\" y=\"90.5\" /><use xlink:href=\"#black\" x=\"130.5\" y=\"90.5\" /><use xlink:href=\"#black\" x=\"150.5\" y=\"90.5\" /><use xlink:href=\"#black\" x=\"10.5\" y=\"110.5\" /><use xlink:href=\"#black\" x=\"30.5\" y=\"110.5\" /><use xlink:href=\"#black\" x=\"50.5\" y=\"110.5\" /><use xlink:href=\"#black\" x=\"70.5\" y=\"110.5\" /><use xlink:href=\"#white\" x=\"90.5\" y=\"110.5\" /><use xlink:href=\"#black\" x=\"110.5\" y=\"110.5\" /><use xlink:href=\"#black\" x=\"130.5\" y=\"110.5\" /><use xlink:href=\"#black\" x=\"150.5\" y=\"110.5\" /><use xlink:href=\"#black\" x=\"10.5\" y=\"130.5\" /><use xlink:href=\"#black\" x=\"30.5\" y=\"130.5\" /><use xlink:href=\"#black\" x=\"50.5\" y=\"130.5\" /><use xlink:href=\"#black\" x=\"70.5\" y=\"130.5\" /><use xlink:href=\"#black\" x=\"90.5\" y=\"130.5\" /><use xlink:href=\"#white\" x=\"110.5\" y=\"130.5\" /><use xlink:href=\"#black\" x=\"130.5\" y=\"130.5\" /><use xlink:href=\"#black\" x=\"150.5\" y=\"130.5\" /><use xlink:href=\"#black\" x=\"10.5\" y=\"150.5\" /><use xlink:href=\"#black\" x=\"30.5\" y=\"150.5\" /><use xlink:href=\"#black\" x=\"50.5\" y=\"150.5\" /><use xlink:href=\"#black\" x=\"70.5\" y=\"150.5\" /><use xlink:href=\"#black\" x=\"90.5\" y=\"150.5\" /><use xlink:href=\"#black\" x=\"110.5\" y=\"150.5\" /><use xlink:href=\"#black\" x=\"130.5\" y=\"150.5\" /><use xlink:href=\"#black\" x=\"150.5\" y=\"150.5\" /></svg>"
      ],
      "text/plain": [
       " |abcdefgh\n",
       "-+--------\n",
       "1|x..xxxxx\n",
       "2|xoooooxx\n",
       "3|xxxoxxxx\n",
       "4|xooooxxx\n",
       "5|xoxoxoxx\n",
       "6|xxxxoxxx\n",
       "7|xxxxxoxx\n",
       "8|xxxxxxxx"
      ]
     },
     "metadata": {},
     "output_type": "display_data"
    },
    {
     "data": {
      "image/png": "[encoded data removed]",
      "text/plain": [
       "<Figure size 300x300 with 1 Axes>"
      ]
     },
     "metadata": {},
     "output_type": "display_data"
    },
    {
     "data": {
      "image/svg+xml": [
       "<svg xmlns=\"http://www.w3.org/2000/svg\" version=\"1.1\" xmlns:xlink=\"http://www.w3.org/1999/xlink\" width=\"215.0\" height=\"215.0\" viewBox=\"0 0 172 172\"><defs><g id=\"black\"><circle cx=\"10\" cy=\"10\" r=\"8.5\" fill=\"black\" /></g><g id=\"white\"><circle cx=\"10\" cy=\"10\" r=\"8.5\" fill=\"white\" /></g></defs><rect fill=\"green\" height=\"161\" width=\"161\" x=\"10\" y=\"10\" /><g stroke=\"black\"><rect width=\"161\" height=\"161\" stroke-width=\"1.5\" fill=\"none\" x=\"10\" y=\"10\" /><line stroke-width=\"1.0\" x1=\"10.5\" x2=\"170.5\" y1=\"30.5\" y2=\"30.5\" /><line stroke-width=\"1.0\" x1=\"10.5\" x2=\"170.5\" y1=\"50.5\" y2=\"50.5\" /><line stroke-width=\"1.0\" x1=\"10.5\" x2=\"170.5\" y1=\"70.5\" y2=\"70.5\" /><line stroke-width=\"1.0\" x1=\"10.5\" x2=\"170.5\" y1=\"90.5\" y2=\"90.5\" /><line stroke-width=\"1.0\" x1=\"10.5\" x2=\"170.5\" y1=\"110.5\" y2=\"110.5\" /><line stroke-width=\"1.0\" x1=\"10.5\" x2=\"170.5\" y1=\"130.5\" y2=\"130.5\" /><line stroke-width=\"1.0\" x1=\"10.5\" x2=\"170.5\" y1=\"150.5\" y2=\"150.5\" /><line stroke-width=\"1.0\" x1=\"30.5\" x2=\"30.5\" y1=\"10.5\" y2=\"170.5\" /><line stroke-width=\"1.0\" x1=\"50.5\" x2=\"50.5\" y1=\"10.5\" y2=\"170.5\" /><line stroke-width=\"1.0\" x1=\"70.5\" x2=\"70.5\" y1=\"10.5\" y2=\"170.5\" /><line stroke-width=\"1.0\" x1=\"90.5\" x2=\"90.5\" y1=\"10.5\" y2=\"170.5\" /><line stroke-width=\"1.0\" x1=\"110.5\" x2=\"110.5\" y1=\"10.5\" y2=\"170.5\" /><line stroke-width=\"1.0\" x1=\"130.5\" x2=\"130.5\" y1=\"10.5\" y2=\"170.5\" /><line stroke-width=\"1.0\" x1=\"150.5\" x2=\"150.5\" y1=\"10.5\" y2=\"170.5\" /></g><g><text font-family=\"serif\" font-size=\"9.5\" text-anchor=\"middle\" x=\"20.5\" y=\"8\">a</text><text font-family=\"serif\" font-size=\"9.5\" text-anchor=\"middle\" x=\"40.5\" y=\"8\">b</text><text font-family=\"serif\" font-size=\"9.5\" text-anchor=\"middle\" x=\"60.5\" y=\"8\">c</text><text font-family=\"serif\" font-size=\"9.5\" text-anchor=\"middle\" x=\"80.5\" y=\"8\">d</text><text font-family=\"serif\" font-size=\"9.5\" text-anchor=\"middle\" x=\"100.5\" y=\"8\">e</text><text font-family=\"serif\" font-size=\"9.5\" text-anchor=\"middle\" x=\"120.5\" y=\"8\">f</text><text font-family=\"serif\" font-size=\"9.5\" text-anchor=\"middle\" x=\"140.5\" y=\"8\">g</text><text font-family=\"serif\" font-size=\"9.5\" text-anchor=\"middle\" x=\"160.5\" y=\"8\">h</text><text font-family=\"serif\" font-size=\"9.5\" x=\"2.5\" y=\"23.5\">1</text><text font-family=\"serif\" font-size=\"9.5\" x=\"2.5\" y=\"43.5\">2</text><text font-family=\"serif\" font-size=\"9.5\" x=\"2.5\" y=\"63.5\">3</text><text font-family=\"serif\" font-size=\"9.5\" x=\"2.5\" y=\"83.5\">4</text><text font-family=\"serif\" font-size=\"9.5\" x=\"2.5\" y=\"103.5\">5</text><text font-family=\"serif\" font-size=\"9.5\" x=\"2.5\" y=\"123.5\">6</text><text font-family=\"serif\" font-size=\"9.5\" x=\"2.5\" y=\"143.5\">7</text><text font-family=\"serif\" font-size=\"9.5\" x=\"2.5\" y=\"163.5\">8</text></g><use xlink:href=\"#black\" x=\"10.5\" y=\"10.5\" /><use xlink:href=\"#black\" x=\"30.5\" y=\"10.5\" /><use xlink:href=\"#black\" x=\"70.5\" y=\"10.5\" /><use xlink:href=\"#black\" x=\"90.5\" y=\"10.5\" /><use xlink:href=\"#black\" x=\"110.5\" y=\"10.5\" /><use xlink:href=\"#black\" x=\"130.5\" y=\"10.5\" /><use xlink:href=\"#black\" x=\"150.5\" y=\"10.5\" /><use xlink:href=\"#black\" x=\"10.5\" y=\"30.5\" /><use xlink:href=\"#black\" x=\"30.5\" y=\"30.5\" /><use xlink:href=\"#black\" x=\"50.5\" y=\"30.5\" /><use xlink:href=\"#white\" x=\"70.5\" y=\"30.5\" /><use xlink:href=\"#white\" x=\"90.5\" y=\"30.5\" /><use xlink:href=\"#white\" x=\"110.5\" y=\"30.5\" /><use xlink:href=\"#black\" x=\"130.5\" y=\"30.5\" /><use xlink:href=\"#black\" x=\"150.5\" y=\"30.5\" /><use xlink:href=\"#black\" x=\"10.5\" y=\"50.5\" /><use xlink:href=\"#black\" x=\"30.5\" y=\"50.5\" /><use xlink:href=\"#black\" x=\"50.5\" y=\"50.5\" /><use xlink:href=\"#black\" x=\"70.5\" y=\"50.5\" /><use xlink:href=\"#black\" x=\"90.5\" y=\"50.5\" /><use xlink:href=\"#black\" x=\"110.5\" y=\"50.5\" /><use xlink:href=\"#black\" x=\"130.5\" y=\"50.5\" /><use xlink:href=\"#black\" x=\"150.5\" y=\"50.5\" /><use xlink:href=\"#black\" x=\"10.5\" y=\"70.5\" /><use xlink:href=\"#white\" x=\"30.5\" y=\"70.5\" /><use xlink:href=\"#white\" x=\"50.5\" y=\"70.5\" /><use xlink:href=\"#white\" x=\"70.5\" y=\"70.5\" /><use xlink:href=\"#black\" x=\"90.5\" y=\"70.5\" /><use xlink:href=\"#black\" x=\"110.5\" y=\"70.5\" /><use xlink:href=\"#black\" x=\"130.5\" y=\"70.5\" /><use xlink:href=\"#black\" x=\"150.5\" y=\"70.5\" /><use xlink:href=\"#black\" x=\"10.5\" y=\"90.5\" /><use xlink:href=\"#white\" x=\"30.5\" y=\"90.5\" /><use xlink:href=\"#black\" x=\"50.5\" y=\"90.5\" /><use xlink:href=\"#white\" x=\"70.5\" y=\"90.5\" /><use xlink:href=\"#black\" x=\"90.5\" y=\"90.5\" /><use xlink:href=\"#black\" x=\"110.5\" y=\"90.5\" /><use xlink:href=\"#black\" x=\"130.5\" y=\"90.5\" /><use xlink:href=\"#black\" x=\"150.5\" y=\"90.5\" /><use xlink:href=\"#black\" x=\"10.5\" y=\"110.5\" /><use xlink:href=\"#black\" x=\"30.5\" y=\"110.5\" /><use xlink:href=\"#black\" x=\"50.5\" y=\"110.5\" /><use xlink:href=\"#black\" x=\"70.5\" y=\"110.5\" /><use xlink:href=\"#white\" x=\"90.5\" y=\"110.5\" /><use xlink:href=\"#black\" x=\"110.5\" y=\"110.5\" /><use xlink:href=\"#black\" x=\"130.5\" y=\"110.5\" /><use xlink:href=\"#black\" x=\"150.5\" y=\"110.5\" /><use xlink:href=\"#black\" x=\"10.5\" y=\"130.5\" /><use xlink:href=\"#black\" x=\"30.5\" y=\"130.5\" /><use xlink:href=\"#black\" x=\"50.5\" y=\"130.5\" /><use xlink:href=\"#black\" x=\"70.5\" y=\"130.5\" /><use xlink:href=\"#black\" x=\"90.5\" y=\"130.5\" /><use xlink:href=\"#white\" x=\"110.5\" y=\"130.5\" /><use xlink:href=\"#black\" x=\"130.5\" y=\"130.5\" /><use xlink:href=\"#black\" x=\"150.5\" y=\"130.5\" /><use xlink:href=\"#black\" x=\"10.5\" y=\"150.5\" /><use xlink:href=\"#black\" x=\"30.5\" y=\"150.5\" /><use xlink:href=\"#black\" x=\"50.5\" y=\"150.5\" /><use xlink:href=\"#black\" x=\"70.5\" y=\"150.5\" /><use xlink:href=\"#black\" x=\"90.5\" y=\"150.5\" /><use xlink:href=\"#black\" x=\"110.5\" y=\"150.5\" /><use xlink:href=\"#black\" x=\"130.5\" y=\"150.5\" /><use xlink:href=\"#black\" x=\"150.5\" y=\"150.5\" /></svg>"
      ],
      "text/plain": [
       " |abcdefgh\n",
       "-+--------\n",
       "1|xx.xxxxx\n",
       "2|xxxoooxx\n",
       "3|xxxxxxxx\n",
       "4|xoooxxxx\n",
       "5|xoxoxxxx\n",
       "6|xxxxoxxx\n",
       "7|xxxxxoxx\n",
       "8|xxxxxxxx"
      ]
     },
     "metadata": {},
     "output_type": "display_data"
    },
    {
     "data": {
      "image/svg+xml": [
       "<svg xmlns=\"http://www.w3.org/2000/svg\" version=\"1.1\" xmlns:xlink=\"http://www.w3.org/1999/xlink\" width=\"215.0\" height=\"215.0\" viewBox=\"0 0 172 172\"><defs><g id=\"black\"><circle cx=\"10\" cy=\"10\" r=\"8.5\" fill=\"black\" /></g><g id=\"white\"><circle cx=\"10\" cy=\"10\" r=\"8.5\" fill=\"white\" /></g></defs><rect fill=\"green\" height=\"161\" width=\"161\" x=\"10\" y=\"10\" /><g stroke=\"black\"><rect width=\"161\" height=\"161\" stroke-width=\"1.5\" fill=\"none\" x=\"10\" y=\"10\" /><line stroke-width=\"1.0\" x1=\"10.5\" x2=\"170.5\" y1=\"30.5\" y2=\"30.5\" /><line stroke-width=\"1.0\" x1=\"10.5\" x2=\"170.5\" y1=\"50.5\" y2=\"50.5\" /><line stroke-width=\"1.0\" x1=\"10.5\" x2=\"170.5\" y1=\"70.5\" y2=\"70.5\" /><line stroke-width=\"1.0\" x1=\"10.5\" x2=\"170.5\" y1=\"90.5\" y2=\"90.5\" /><line stroke-width=\"1.0\" x1=\"10.5\" x2=\"170.5\" y1=\"110.5\" y2=\"110.5\" /><line stroke-width=\"1.0\" x1=\"10.5\" x2=\"170.5\" y1=\"130.5\" y2=\"130.5\" /><line stroke-width=\"1.0\" x1=\"10.5\" x2=\"170.5\" y1=\"150.5\" y2=\"150.5\" /><line stroke-width=\"1.0\" x1=\"30.5\" x2=\"30.5\" y1=\"10.5\" y2=\"170.5\" /><line stroke-width=\"1.0\" x1=\"50.5\" x2=\"50.5\" y1=\"10.5\" y2=\"170.5\" /><line stroke-width=\"1.0\" x1=\"70.5\" x2=\"70.5\" y1=\"10.5\" y2=\"170.5\" /><line stroke-width=\"1.0\" x1=\"90.5\" x2=\"90.5\" y1=\"10.5\" y2=\"170.5\" /><line stroke-width=\"1.0\" x1=\"110.5\" x2=\"110.5\" y1=\"10.5\" y2=\"170.5\" /><line stroke-width=\"1.0\" x1=\"130.5\" x2=\"130.5\" y1=\"10.5\" y2=\"170.5\" /><line stroke-width=\"1.0\" x1=\"150.5\" x2=\"150.5\" y1=\"10.5\" y2=\"170.5\" /></g><g><text font-family=\"serif\" font-size=\"9.5\" text-anchor=\"middle\" x=\"20.5\" y=\"8\">a</text><text font-family=\"serif\" font-size=\"9.5\" text-anchor=\"middle\" x=\"40.5\" y=\"8\">b</text><text font-family=\"serif\" font-size=\"9.5\" text-anchor=\"middle\" x=\"60.5\" y=\"8\">c</text><text font-family=\"serif\" font-size=\"9.5\" text-anchor=\"middle\" x=\"80.5\" y=\"8\">d</text><text font-family=\"serif\" font-size=\"9.5\" text-anchor=\"middle\" x=\"100.5\" y=\"8\">e</text><text font-family=\"serif\" font-size=\"9.5\" text-anchor=\"middle\" x=\"120.5\" y=\"8\">f</text><text font-family=\"serif\" font-size=\"9.5\" text-anchor=\"middle\" x=\"140.5\" y=\"8\">g</text><text font-family=\"serif\" font-size=\"9.5\" text-anchor=\"middle\" x=\"160.5\" y=\"8\">h</text><text font-family=\"serif\" font-size=\"9.5\" x=\"2.5\" y=\"23.5\">1</text><text font-family=\"serif\" font-size=\"9.5\" x=\"2.5\" y=\"43.5\">2</text><text font-family=\"serif\" font-size=\"9.5\" x=\"2.5\" y=\"63.5\">3</text><text font-family=\"serif\" font-size=\"9.5\" x=\"2.5\" y=\"83.5\">4</text><text font-family=\"serif\" font-size=\"9.5\" x=\"2.5\" y=\"103.5\">5</text><text font-family=\"serif\" font-size=\"9.5\" x=\"2.5\" y=\"123.5\">6</text><text font-family=\"serif\" font-size=\"9.5\" x=\"2.5\" y=\"143.5\">7</text><text font-family=\"serif\" font-size=\"9.5\" x=\"2.5\" y=\"163.5\">8</text></g><use xlink:href=\"#black\" x=\"10.5\" y=\"10.5\" /><use xlink:href=\"#black\" x=\"30.5\" y=\"10.5\" /><use xlink:href=\"#white\" x=\"50.5\" y=\"10.5\" /><use xlink:href=\"#black\" x=\"70.5\" y=\"10.5\" /><use xlink:href=\"#black\" x=\"90.5\" y=\"10.5\" /><use xlink:href=\"#black\" x=\"110.5\" y=\"10.5\" /><use xlink:href=\"#black\" x=\"130.5\" y=\"10.5\" /><use xlink:href=\"#black\" x=\"150.5\" y=\"10.5\" /><use xlink:href=\"#black\" x=\"10.5\" y=\"30.5\" /><use xlink:href=\"#black\" x=\"30.5\" y=\"30.5\" /><use xlink:href=\"#white\" x=\"50.5\" y=\"30.5\" /><use xlink:href=\"#white\" x=\"70.5\" y=\"30.5\" /><use xlink:href=\"#white\" x=\"90.5\" y=\"30.5\" /><use xlink:href=\"#white\" x=\"110.5\" y=\"30.5\" /><use xlink:href=\"#black\" x=\"130.5\" y=\"30.5\" /><use xlink:href=\"#black\" x=\"150.5\" y=\"30.5\" /><use xlink:href=\"#black\" x=\"10.5\" y=\"50.5\" /><use xlink:href=\"#black\" x=\"30.5\" y=\"50.5\" /><use xlink:href=\"#white\" x=\"50.5\" y=\"50.5\" /><use xlink:href=\"#black\" x=\"70.5\" y=\"50.5\" /><use xlink:href=\"#black\" x=\"90.5\" y=\"50.5\" /><use xlink:href=\"#black\" x=\"110.5\" y=\"50.5\" /><use xlink:href=\"#black\" x=\"130.5\" y=\"50.5\" /><use xlink:href=\"#black\" x=\"150.5\" y=\"50.5\" /><use xlink:href=\"#black\" x=\"10.5\" y=\"70.5\" /><use xlink:href=\"#white\" x=\"30.5\" y=\"70.5\" /><use xlink:href=\"#white\" x=\"50.5\" y=\"70.5\" /><use xlink:href=\"#white\" x=\"70.5\" y=\"70.5\" /><use xlink:href=\"#black\" x=\"90.5\" y=\"70.5\" /><use xlink:href=\"#black\" x=\"110.5\" y=\"70.5\" /><use xlink:href=\"#black\" x=\"130.5\" y=\"70.5\" /><use xlink:href=\"#black\" x=\"150.5\" y=\"70.5\" /><use xlink:href=\"#black\" x=\"10.5\" y=\"90.5\" /><use xlink:href=\"#white\" x=\"30.5\" y=\"90.5\" /><use xlink:href=\"#black\" x=\"50.5\" y=\"90.5\" /><use xlink:href=\"#white\" x=\"70.5\" y=\"90.5\" /><use xlink:href=\"#black\" x=\"90.5\" y=\"90.5\" /><use xlink:href=\"#black\" x=\"110.5\" y=\"90.5\" /><use xlink:href=\"#black\" x=\"130.5\" y=\"90.5\" /><use xlink:href=\"#black\" x=\"150.5\" y=\"90.5\" /><use xlink:href=\"#black\" x=\"10.5\" y=\"110.5\" /><use xlink:href=\"#black\" x=\"30.5\" y=\"110.5\" /><use xlink:href=\"#black\" x=\"50.5\" y=\"110.5\" /><use xlink:href=\"#black\" x=\"70.5\" y=\"110.5\" /><use xlink:href=\"#white\" x=\"90.5\" y=\"110.5\" /><use xlink:href=\"#black\" x=\"110.5\" y=\"110.5\" /><use xlink:href=\"#black\" x=\"130.5\" y=\"110.5\" /><use xlink:href=\"#black\" x=\"150.5\" y=\"110.5\" /><use xlink:href=\"#black\" x=\"10.5\" y=\"130.5\" /><use xlink:href=\"#black\" x=\"30.5\" y=\"130.5\" /><use xlink:href=\"#black\" x=\"50.5\" y=\"130.5\" /><use xlink:href=\"#black\" x=\"70.5\" y=\"130.5\" /><use xlink:href=\"#black\" x=\"90.5\" y=\"130.5\" /><use xlink:href=\"#white\" x=\"110.5\" y=\"130.5\" /><use xlink:href=\"#black\" x=\"130.5\" y=\"130.5\" /><use xlink:href=\"#black\" x=\"150.5\" y=\"130.5\" /><use xlink:href=\"#black\" x=\"10.5\" y=\"150.5\" /><use xlink:href=\"#black\" x=\"30.5\" y=\"150.5\" /><use xlink:href=\"#black\" x=\"50.5\" y=\"150.5\" /><use xlink:href=\"#black\" x=\"70.5\" y=\"150.5\" /><use xlink:href=\"#black\" x=\"90.5\" y=\"150.5\" /><use xlink:href=\"#black\" x=\"110.5\" y=\"150.5\" /><use xlink:href=\"#black\" x=\"130.5\" y=\"150.5\" /><use xlink:href=\"#black\" x=\"150.5\" y=\"150.5\" /></svg>"
      ],
      "text/plain": [
       " |abcdefgh\n",
       "-+--------\n",
       "1|xxoxxxxx\n",
       "2|xxooooxx\n",
       "3|xxoxxxxx\n",
       "4|xoooxxxx\n",
       "5|xoxoxxxx\n",
       "6|xxxxoxxx\n",
       "7|xxxxxoxx\n",
       "8|xxxxxxxx"
      ]
     },
     "metadata": {},
     "output_type": "display_data"
    }
   ],
   "source": [
    "# 学習成果\n",
    "n_trial = 1000\n",
    "softmax = nn.Softmax(dim=1)\n",
    "results = []\n",
    "\n",
    "for trial in tqdm(range(n_trial)):\n",
    "    board = Board()\n",
    "    while not board.is_game_over():\n",
    "        if board.turn:\n",
    "            p = model(torch.from_numpy(board_to_array(board))).detach()\n",
    "            move = p.argmax().item()\n",
    "            if trial == 0:\n",
    "                plt.figure(figsize=(3,3))\n",
    "                p = softmax(p).numpy().reshape(8,8) *100\n",
    "                sns.heatmap(p, cmap='gray_r',annot=True, fmt='.0f',cbar=False)\n",
    "                plt.show()\n",
    "        else:\n",
    "            move = np.random.choice(list(board.legal_moves))\n",
    "        board.move(move)\n",
    "        if trial == 0:\n",
    "            display(board)\n",
    "    diff = board.diff_num()\n",
    "    if board.turn:\n",
    "        results.append(diff)\n",
    "    else:\n",
    "        results.append(-diff)"
   ]
  },
  {
   "cell_type": "code",
   "execution_count": 14,
   "id": "b406d3be",
   "metadata": {
    "execution": {
     "iopub.execute_input": "2023-08-09T01:42:10.409310Z",
     "iopub.status.busy": "2023-08-09T01:42:10.407047Z",
     "iopub.status.idle": "2023-08-09T01:42:10.675049Z",
     "shell.execute_reply": "2023-08-09T01:42:10.674122Z"
    },
    "papermill": {
     "duration": 0.303416,
     "end_time": "2023-08-09T01:42:10.677238",
     "exception": false,
     "start_time": "2023-08-09T01:42:10.373822",
     "status": "completed"
    },
    "tags": []
   },
   "outputs": [
    {
     "name": "stdout",
     "output_type": "stream",
     "text": [
      "95.6%\n"
     ]
    },
    {
     "data": {
      "image/png": "[encoded data removed]",
      "text/plain": [
       "<Figure size 640x480 with 1 Axes>"
      ]
     },
     "metadata": {},
     "output_type": "display_data"
    }
   ],
   "source": [
    "print(f'{np.where(np.array(results)>0,1,0).sum()/n_trial *100}%')\n",
    "plt.hist(results,bins=30)\n",
    "plt.show()"
   ]
  }
 ],
 "metadata": {
  "kernelspec": {
   "display_name": "Python 3",
   "language": "python",
   "name": "python3"
  },
  "language_info": {
   "codemirror_mode": {
    "name": "ipython",
    "version": 3
   },
   "file_extension": ".py",
   "mimetype": "text/x-python",
   "name": "python",
   "nbconvert_exporter": "python",
   "pygments_lexer": "ipython3",
   "version": "3.10.12"
  },
  "papermill": {
   "default_parameters": {},
   "duration": 2866.978471,
   "end_time": "2023-08-09T01:42:13.126988",
   "environment_variables": {},
   "exception": null,
   "input_path": "__notebook__.ipynb",
   "output_path": "__notebook__.ipynb",
   "parameters": {},
   "start_time": "2023-08-09T00:54:26.148517",
   "version": "2.4.0"
  },
  "widgets": {
   "application/vnd.jupyter.widget-state+json": {
    "state": {
     "02ef5af9bbac4cab895ed54aa69c3ad4": {
      "model_module": "@jupyter-widgets/base",
      "model_module_version": "1.2.0",
      "model_name": "LayoutModel",
      "state": {
       "_model_module": "@jupyter-widgets/base",
       "_model_module_version": "1.2.0",
       "_model_name": "LayoutModel",
       "_view_count": null,
       "_view_module": "@jupyter-widgets/base",
       "_view_module_version": "1.2.0",
       "_view_name": "LayoutView",
       "align_content": null,
       "align_items": null,
       "align_self": null,
       "border": null,
       "bottom": null,
       "display": null,
       "flex": null,
       "flex_flow": null,
       "grid_area": null,
       "grid_auto_columns": null,
       "grid_auto_flow": null,
       "grid_auto_rows": null,
       "grid_column": null,
       "grid_gap": null,
       "grid_row": null,
       "grid_template_areas": null,
       "grid_template_columns": null,
       "grid_template_rows": null,
       "height": null,
       "justify_content": null,
       "justify_items": null,
       "left": null,
       "margin": null,
       "max_height": null,
       "max_width": null,
       "min_height": null,
       "min_width": null,
       "object_fit": null,
       "object_position": null,
       "order": null,
       "overflow": null,
       "overflow_x": null,
       "overflow_y": null,
       "padding": null,
       "right": null,
       "top": null,
       "visibility": null,
       "width": null
      }
     },
     "0393b87c46964b66b25da24dd267fd05": {
      "model_module": "@jupyter-widgets/base",
      "model_module_version": "1.2.0",
      "model_name": "LayoutModel",
      "state": {
       "_model_module": "@jupyter-widgets/base",
       "_model_module_version": "1.2.0",
       "_model_name": "LayoutModel",
       "_view_count": null,
       "_view_module": "@jupyter-widgets/base",
       "_view_module_version": "1.2.0",
       "_view_name": "LayoutView",
       "align_content": null,
       "align_items": null,
       "align_self": null,
       "border": null,
       "bottom": null,
       "display": null,
       "flex": null,
       "flex_flow": null,
       "grid_area": null,
       "grid_auto_columns": null,
       "grid_auto_flow": null,
       "grid_auto_rows": null,
       "grid_column": null,
       "grid_gap": null,
       "grid_row": null,
       "grid_template_areas": null,
       "grid_template_columns": null,
       "grid_template_rows": null,
       "height": null,
       "justify_content": null,
       "justify_items": null,
       "left": null,
       "margin": null,
       "max_height": null,
       "max_width": null,
       "min_height": null,
       "min_width": null,
       "object_fit": null,
       "object_position": null,
       "order": null,
       "overflow": null,
       "overflow_x": null,
       "overflow_y": null,
       "padding": null,
       "right": null,
       "top": null,
       "visibility": null,
       "width": null
      }
     },
     "05631eee69254b8b9e16ae1c3a48d442": {
      "model_module": "@jupyter-widgets/controls",
      "model_module_version": "1.5.0",
      "model_name": "HTMLModel",
      "state": {
       "_dom_classes": [],
       "_model_module": "@jupyter-widgets/controls",
       "_model_module_version": "1.5.0",
       "_model_name": "HTMLModel",
       "_view_count": null,
       "_view_module": "@jupyter-widgets/controls",
       "_view_module_version": "1.5.0",
       "_view_name": "HTMLView",
       "description": "",
       "description_tooltip": null,
       "layout": "IPY_MODEL_c38c589da3434a7e8caac90072abef7e",
       "placeholder": "​",
       "style": "IPY_MODEL_872cffbb525c457982a394b15c008ea3",
       "value": " 16077/16077 [01:25&lt;00:00, 209.23it/s]"
      }
     },
     "07b355142f254ee6bd8ab28f5bb37860": {
      "model_module": "@jupyter-widgets/controls",
      "model_module_version": "1.5.0",
      "model_name": "HTMLModel",
      "state": {
       "_dom_classes": [],
       "_model_module": "@jupyter-widgets/controls",
       "_model_module_version": "1.5.0",
       "_model_name": "HTMLModel",
       "_view_count": null,
       "_view_module": "@jupyter-widgets/controls",
       "_view_module_version": "1.5.0",
       "_view_name": "HTMLView",
       "description": "",
       "description_tooltip": null,
       "layout": "IPY_MODEL_6baf050ba79143f8b7cfcd9b1413197e",
       "placeholder": "​",
       "style": "IPY_MODEL_e228185a3f55424b95bf3a01a05559f9",
       "value": " 1000/1000 [01:52&lt;00:00, 10.14it/s]"
      }
     },
     "08c5f883fdba43cf81206f96971e7240": {
      "model_module": "@jupyter-widgets/base",
      "model_module_version": "1.2.0",
      "model_name": "LayoutModel",
      "state": {
       "_model_module": "@jupyter-widgets/base",
       "_model_module_version": "1.2.0",
       "_model_name": "LayoutModel",
       "_view_count": null,
       "_view_module": "@jupyter-widgets/base",
       "_view_module_version": "1.2.0",
       "_view_name": "LayoutView",
       "align_content": null,
       "align_items": null,
       "align_self": null,
       "border": null,
       "bottom": null,
       "display": null,
       "flex": null,
       "flex_flow": null,
       "grid_area": null,
       "grid_auto_columns": null,
       "grid_auto_flow": null,
       "grid_auto_rows": null,
       "grid_column": null,
       "grid_gap": null,
       "grid_row": null,
       "grid_template_areas": null,
       "grid_template_columns": null,
       "grid_template_rows": null,
       "height": null,
       "justify_content": null,
       "justify_items": null,
       "left": null,
       "margin": null,
       "max_height": null,
       "max_width": null,
       "min_height": null,
       "min_width": null,
       "object_fit": null,
       "object_position": null,
       "order": null,
       "overflow": null,
       "overflow_x": null,
       "overflow_y": null,
       "padding": null,
       "right": null,
       "top": null,
       "visibility": null,
       "width": null
      }
     },
     "091dd51fe97e4fb382b70f091fdd19fc": {
      "model_module": "@jupyter-widgets/controls",
      "model_module_version": "1.5.0",
      "model_name": "FloatProgressModel",
      "state": {
       "_dom_classes": [],
       "_model_module": "@jupyter-widgets/controls",
       "_model_module_version": "1.5.0",
       "_model_name": "FloatProgressModel",
       "_view_count": null,
       "_view_module": "@jupyter-widgets/controls",
       "_view_module_version": "1.5.0",
       "_view_name": "ProgressView",
       "bar_style": "success",
       "description": "",
       "description_tooltip": null,
       "layout": "IPY_MODEL_46d45e7a97324ab083656009e856f5b8",
       "max": 16077.0,
       "min": 0.0,
       "orientation": "horizontal",
       "style": "IPY_MODEL_3a7101009c924f53bb9d5cbfce3730c2",
       "value": 16077.0
      }
     },
     "0d61c81cc2934bf69204f2fbbf25e7bd": {
      "model_module": "@jupyter-widgets/controls",
      "model_module_version": "1.5.0",
      "model_name": "ProgressStyleModel",
      "state": {
       "_model_module": "@jupyter-widgets/controls",
       "_model_module_version": "1.5.0",
       "_model_name": "ProgressStyleModel",
       "_view_count": null,
       "_view_module": "@jupyter-widgets/base",
       "_view_module_version": "1.2.0",
       "_view_name": "StyleView",
       "bar_color": null,
       "description_width": ""
      }
     },
     "0ea133d24d82413a817d52d3f235cb01": {
      "model_module": "@jupyter-widgets/base",
      "model_module_version": "1.2.0",
      "model_name": "LayoutModel",
      "state": {
       "_model_module": "@jupyter-widgets/base",
       "_model_module_version": "1.2.0",
       "_model_name": "LayoutModel",
       "_view_count": null,
       "_view_module": "@jupyter-widgets/base",
       "_view_module_version": "1.2.0",
       "_view_name": "LayoutView",
       "align_content": null,
       "align_items": null,
       "align_self": null,
       "border": null,
       "bottom": null,
       "display": null,
       "flex": null,
       "flex_flow": null,
       "grid_area": null,
       "grid_auto_columns": null,
       "grid_auto_flow": null,
       "grid_auto_rows": null,
       "grid_column": null,
       "grid_gap": null,
       "grid_row": null,
       "grid_template_areas": null,
       "grid_template_columns": null,
       "grid_template_rows": null,
       "height": null,
       "justify_content": null,
       "justify_items": null,
       "left": null,
       "margin": null,
       "max_height": null,
       "max_width": null,
       "min_height": null,
       "min_width": null,
       "object_fit": null,
       "object_position": null,
       "order": null,
       "overflow": null,
       "overflow_x": null,
       "overflow_y": null,
       "padding": null,
       "right": null,
       "top": null,
       "visibility": null,
       "width": null
      }
     },
     "0ed11b8e6b1746e1996b65af7a7107d0": {
      "model_module": "@jupyter-widgets/controls",
      "model_module_version": "1.5.0",
      "model_name": "DescriptionStyleModel",
      "state": {
       "_model_module": "@jupyter-widgets/controls",
       "_model_module_version": "1.5.0",
       "_model_name": "DescriptionStyleModel",
       "_view_count": null,
       "_view_module": "@jupyter-widgets/base",
       "_view_module_version": "1.2.0",
       "_view_name": "StyleView",
       "description_width": ""
      }
     },
     "111557b021d34f2eabae5aa7d7e1fe0a": {
      "model_module": "@jupyter-widgets/controls",
      "model_module_version": "1.5.0",
      "model_name": "HTMLModel",
      "state": {
       "_dom_classes": [],
       "_model_module": "@jupyter-widgets/controls",
       "_model_module_version": "1.5.0",
       "_model_name": "HTMLModel",
       "_view_count": null,
       "_view_module": "@jupyter-widgets/controls",
       "_view_module_version": "1.5.0",
       "_view_name": "HTMLView",
       "description": "",
       "description_tooltip": null,
       "layout": "IPY_MODEL_f4af2771d65349df8326a85a9fa0f313",
       "placeholder": "​",
       "style": "IPY_MODEL_603dc0bc9dd84040a902cad7ec5dd111",
       "value": " 16077/16077 [01:29&lt;00:00, 159.79it/s]"
      }
     },
     "16d5393e151449d4af9062c9b70e4117": {
      "model_module": "@jupyter-widgets/controls",
      "model_module_version": "1.5.0",
      "model_name": "DescriptionStyleModel",
      "state": {
       "_model_module": "@jupyter-widgets/controls",
       "_model_module_version": "1.5.0",
       "_model_name": "DescriptionStyleModel",
       "_view_count": null,
       "_view_module": "@jupyter-widgets/base",
       "_view_module_version": "1.2.0",
       "_view_name": "StyleView",
       "description_width": ""
      }
     },
     "185bb5a6a5fc4930b10d86882f991f73": {
      "model_module": "@jupyter-widgets/controls",
      "model_module_version": "1.5.0",
      "model_name": "HTMLModel",
      "state": {
       "_dom_classes": [],
       "_model_module": "@jupyter-widgets/controls",
       "_model_module_version": "1.5.0",
       "_model_name": "HTMLModel",
       "_view_count": null,
       "_view_module": "@jupyter-widgets/controls",
       "_view_module_version": "1.5.0",
       "_view_name": "HTMLView",
       "description": "",
       "description_tooltip": null,
       "layout": "IPY_MODEL_8bb40e6e268f4b7288e3e9ae0e0440a2",
       "placeholder": "​",
       "style": "IPY_MODEL_b5d41cf6e0d5415a98adb5c40ab35be2",
       "value": " 46/46 [00:24&lt;00:00,  3.86it/s]"
      }
     },
     "1caf36304e254d579e2570f55affdcfe": {
      "model_module": "@jupyter-widgets/controls",
      "model_module_version": "1.5.0",
      "model_name": "ProgressStyleModel",
      "state": {
       "_model_module": "@jupyter-widgets/controls",
       "_model_module_version": "1.5.0",
       "_model_name": "ProgressStyleModel",
       "_view_count": null,
       "_view_module": "@jupyter-widgets/base",
       "_view_module_version": "1.2.0",
       "_view_name": "StyleView",
       "bar_color": null,
       "description_width": ""
      }
     },
     "1db86b9d2ad3471d867e79d1ff63e81c": {
      "model_module": "@jupyter-widgets/base",
      "model_module_version": "1.2.0",
      "model_name": "LayoutModel",
      "state": {
       "_model_module": "@jupyter-widgets/base",
       "_model_module_version": "1.2.0",
       "_model_name": "LayoutModel",
       "_view_count": null,
       "_view_module": "@jupyter-widgets/base",
       "_view_module_version": "1.2.0",
       "_view_name": "LayoutView",
       "align_content": null,
       "align_items": null,
       "align_self": null,
       "border": null,
       "bottom": null,
       "display": null,
       "flex": null,
       "flex_flow": null,
       "grid_area": null,
       "grid_auto_columns": null,
       "grid_auto_flow": null,
       "grid_auto_rows": null,
       "grid_column": null,
       "grid_gap": null,
       "grid_row": null,
       "grid_template_areas": null,
       "grid_template_columns": null,
       "grid_template_rows": null,
       "height": null,
       "justify_content": null,
       "justify_items": null,
       "left": null,
       "margin": null,
       "max_height": null,
       "max_width": null,
       "min_height": null,
       "min_width": null,
       "object_fit": null,
       "object_position": null,
       "order": null,
       "overflow": null,
       "overflow_x": null,
       "overflow_y": null,
       "padding": null,
       "right": null,
       "top": null,
       "visibility": null,
       "width": null
      }
     },
     "1fb8677d0f9542cfab42d08395b9aeff": {
      "model_module": "@jupyter-widgets/base",
      "model_module_version": "1.2.0",
      "model_name": "LayoutModel",
      "state": {
       "_model_module": "@jupyter-widgets/base",
       "_model_module_version": "1.2.0",
       "_model_name": "LayoutModel",
       "_view_count": null,
       "_view_module": "@jupyter-widgets/base",
       "_view_module_version": "1.2.0",
       "_view_name": "LayoutView",
       "align_content": null,
       "align_items": null,
       "align_self": null,
       "border": null,
       "bottom": null,
       "display": null,
       "flex": null,
       "flex_flow": null,
       "grid_area": null,
       "grid_auto_columns": null,
       "grid_auto_flow": null,
       "grid_auto_rows": null,
       "grid_column": null,
       "grid_gap": null,
       "grid_row": null,
       "grid_template_areas": null,
       "grid_template_columns": null,
       "grid_template_rows": null,
       "height": null,
       "justify_content": null,
       "justify_items": null,
       "left": null,
       "margin": null,
       "max_height": null,
       "max_width": null,
       "min_height": null,
       "min_width": null,
       "object_fit": null,
       "object_position": null,
       "order": null,
       "overflow": null,
       "overflow_x": null,
       "overflow_y": null,
       "padding": null,
       "right": null,
       "top": null,
       "visibility": null,
       "width": null
      }
     },
     "20baa7f54a154fb98a7b2d6c28a487c4": {
      "model_module": "@jupyter-widgets/controls",
      "model_module_version": "1.5.0",
      "model_name": "HTMLModel",
      "state": {
       "_dom_classes": [],
       "_model_module": "@jupyter-widgets/controls",
       "_model_module_version": "1.5.0",
       "_model_name": "HTMLModel",
       "_view_count": null,
       "_view_module": "@jupyter-widgets/controls",
       "_view_module_version": "1.5.0",
       "_view_name": "HTMLView",
       "description": "",
       "description_tooltip": null,
       "layout": "IPY_MODEL_53d185d6a92643b8ba5c9a82651e71e0",
       "placeholder": "​",
       "style": "IPY_MODEL_5fc9519436974be1aaa38c4af1586b14",
       "value": "100%"
      }
     },
     "24742a9981024aca81cd56cf976d7ec7": {
      "model_module": "@jupyter-widgets/controls",
      "model_module_version": "1.5.0",
      "model_name": "FloatProgressModel",
      "state": {
       "_dom_classes": [],
       "_model_module": "@jupyter-widgets/controls",
       "_model_module_version": "1.5.0",
       "_model_name": "FloatProgressModel",
       "_view_count": null,
       "_view_module": "@jupyter-widgets/controls",
       "_view_module_version": "1.5.0",
       "_view_name": "ProgressView",
       "bar_style": "success",
       "description": "",
       "description_tooltip": null,
       "layout": "IPY_MODEL_c05b69bf298f49a8b651471060782f5e",
       "max": 16077.0,
       "min": 0.0,
       "orientation": "horizontal",
       "style": "IPY_MODEL_7a9c33deb1984586ab4abbffaf529016",
       "value": 16077.0
      }
     },
     "29d75b8bf70c46a1b1eb4eece00c8275": {
      "model_module": "@jupyter-widgets/controls",
      "model_module_version": "1.5.0",
      "model_name": "HBoxModel",
      "state": {
       "_dom_classes": [],
       "_model_module": "@jupyter-widgets/controls",
       "_model_module_version": "1.5.0",
       "_model_name": "HBoxModel",
       "_view_count": null,
       "_view_module": "@jupyter-widgets/controls",
       "_view_module_version": "1.5.0",
       "_view_name": "HBoxView",
       "box_style": "",
       "children": [
        "IPY_MODEL_cc1e887cc83c48309de08f9f25e941c1",
        "IPY_MODEL_87d44e4847f14ebc84544abb66d40126",
        "IPY_MODEL_07b355142f254ee6bd8ab28f5bb37860"
       ],
       "layout": "IPY_MODEL_3389bcce12a449f4b9a7161d14d851c8"
      }
     },
     "2cee9ba1d72540438bc85070512062a9": {
      "model_module": "@jupyter-widgets/base",
      "model_module_version": "1.2.0",
      "model_name": "LayoutModel",
      "state": {
       "_model_module": "@jupyter-widgets/base",
       "_model_module_version": "1.2.0",
       "_model_name": "LayoutModel",
       "_view_count": null,
       "_view_module": "@jupyter-widgets/base",
       "_view_module_version": "1.2.0",
       "_view_name": "LayoutView",
       "align_content": null,
       "align_items": null,
       "align_self": null,
       "border": null,
       "bottom": null,
       "display": null,
       "flex": null,
       "flex_flow": null,
       "grid_area": null,
       "grid_auto_columns": null,
       "grid_auto_flow": null,
       "grid_auto_rows": null,
       "grid_column": null,
       "grid_gap": null,
       "grid_row": null,
       "grid_template_areas": null,
       "grid_template_columns": null,
       "grid_template_rows": null,
       "height": null,
       "justify_content": null,
       "justify_items": null,
       "left": null,
       "margin": null,
       "max_height": null,
       "max_width": null,
       "min_height": null,
       "min_width": null,
       "object_fit": null,
       "object_position": null,
       "order": null,
       "overflow": null,
       "overflow_x": null,
       "overflow_y": null,
       "padding": null,
       "right": null,
       "top": null,
       "visibility": null,
       "width": null
      }
     },
     "2dd775044cd340b29fefffa6492ccca5": {
      "model_module": "@jupyter-widgets/controls",
      "model_module_version": "1.5.0",
      "model_name": "ProgressStyleModel",
      "state": {
       "_model_module": "@jupyter-widgets/controls",
       "_model_module_version": "1.5.0",
       "_model_name": "ProgressStyleModel",
       "_view_count": null,
       "_view_module": "@jupyter-widgets/base",
       "_view_module_version": "1.2.0",
       "_view_name": "StyleView",
       "bar_color": null,
       "description_width": ""
      }
     },
     "2e1b5ca4b768436b852df7c4e38a5520": {
      "model_module": "@jupyter-widgets/base",
      "model_module_version": "1.2.0",
      "model_name": "LayoutModel",
      "state": {
       "_model_module": "@jupyter-widgets/base",
       "_model_module_version": "1.2.0",
       "_model_name": "LayoutModel",
       "_view_count": null,
       "_view_module": "@jupyter-widgets/base",
       "_view_module_version": "1.2.0",
       "_view_name": "LayoutView",
       "align_content": null,
       "align_items": null,
       "align_self": null,
       "border": null,
       "bottom": null,
       "display": null,
       "flex": null,
       "flex_flow": null,
       "grid_area": null,
       "grid_auto_columns": null,
       "grid_auto_flow": null,
       "grid_auto_rows": null,
       "grid_column": null,
       "grid_gap": null,
       "grid_row": null,
       "grid_template_areas": null,
       "grid_template_columns": null,
       "grid_template_rows": null,
       "height": null,
       "justify_content": null,
       "justify_items": null,
       "left": null,
       "margin": null,
       "max_height": null,
       "max_width": null,
       "min_height": null,
       "min_width": null,
       "object_fit": null,
       "object_position": null,
       "order": null,
       "overflow": null,
       "overflow_x": null,
       "overflow_y": null,
       "padding": null,
       "right": null,
       "top": null,
       "visibility": null,
       "width": null
      }
     },
     "30a5f235e78c484088701b915480beed": {
      "model_module": "@jupyter-widgets/base",
      "model_module_version": "1.2.0",
      "model_name": "LayoutModel",
      "state": {
       "_model_module": "@jupyter-widgets/base",
       "_model_module_version": "1.2.0",
       "_model_name": "LayoutModel",
       "_view_count": null,
       "_view_module": "@jupyter-widgets/base",
       "_view_module_version": "1.2.0",
       "_view_name": "LayoutView",
       "align_content": null,
       "align_items": null,
       "align_self": null,
       "border": null,
       "bottom": null,
       "display": null,
       "flex": null,
       "flex_flow": null,
       "grid_area": null,
       "grid_auto_columns": null,
       "grid_auto_flow": null,
       "grid_auto_rows": null,
       "grid_column": null,
       "grid_gap": null,
       "grid_row": null,
       "grid_template_areas": null,
       "grid_template_columns": null,
       "grid_template_rows": null,
       "height": null,
       "justify_content": null,
       "justify_items": null,
       "left": null,
       "margin": null,
       "max_height": null,
       "max_width": null,
       "min_height": null,
       "min_width": null,
       "object_fit": null,
       "object_position": null,
       "order": null,
       "overflow": null,
       "overflow_x": null,
       "overflow_y": null,
       "padding": null,
       "right": null,
       "top": null,
       "visibility": null,
       "width": null
      }
     },
     "31c3a7ab08a44a10b7df96d900af2374": {
      "model_module": "@jupyter-widgets/base",
      "model_module_version": "1.2.0",
      "model_name": "LayoutModel",
      "state": {
       "_model_module": "@jupyter-widgets/base",
       "_model_module_version": "1.2.0",
       "_model_name": "LayoutModel",
       "_view_count": null,
       "_view_module": "@jupyter-widgets/base",
       "_view_module_version": "1.2.0",
       "_view_name": "LayoutView",
       "align_content": null,
       "align_items": null,
       "align_self": null,
       "border": null,
       "bottom": null,
       "display": null,
       "flex": null,
       "flex_flow": null,
       "grid_area": null,
       "grid_auto_columns": null,
       "grid_auto_flow": null,
       "grid_auto_rows": null,
       "grid_column": null,
       "grid_gap": null,
       "grid_row": null,
       "grid_template_areas": null,
       "grid_template_columns": null,
       "grid_template_rows": null,
       "height": null,
       "justify_content": null,
       "justify_items": null,
       "left": null,
       "margin": null,
       "max_height": null,
       "max_width": null,
       "min_height": null,
       "min_width": null,
       "object_fit": null,
       "object_position": null,
       "order": null,
       "overflow": null,
       "overflow_x": null,
       "overflow_y": null,
       "padding": null,
       "right": null,
       "top": null,
       "visibility": null,
       "width": null
      }
     },
     "3389bcce12a449f4b9a7161d14d851c8": {
      "model_module": "@jupyter-widgets/base",
      "model_module_version": "1.2.0",
      "model_name": "LayoutModel",
      "state": {
       "_model_module": "@jupyter-widgets/base",
       "_model_module_version": "1.2.0",
       "_model_name": "LayoutModel",
       "_view_count": null,
       "_view_module": "@jupyter-widgets/base",
       "_view_module_version": "1.2.0",
       "_view_name": "LayoutView",
       "align_content": null,
       "align_items": null,
       "align_self": null,
       "border": null,
       "bottom": null,
       "display": null,
       "flex": null,
       "flex_flow": null,
       "grid_area": null,
       "grid_auto_columns": null,
       "grid_auto_flow": null,
       "grid_auto_rows": null,
       "grid_column": null,
       "grid_gap": null,
       "grid_row": null,
       "grid_template_areas": null,
       "grid_template_columns": null,
       "grid_template_rows": null,
       "height": null,
       "justify_content": null,
       "justify_items": null,
       "left": null,
       "margin": null,
       "max_height": null,
       "max_width": null,
       "min_height": null,
       "min_width": null,
       "object_fit": null,
       "object_position": null,
       "order": null,
       "overflow": null,
       "overflow_x": null,
       "overflow_y": null,
       "padding": null,
       "right": null,
       "top": null,
       "visibility": null,
       "width": null
      }
     },
     "3840b1c27baf4c2f8067048393bc150a": {
      "model_module": "@jupyter-widgets/controls",
      "model_module_version": "1.5.0",
      "model_name": "HBoxModel",
      "state": {
       "_dom_classes": [],
       "_model_module": "@jupyter-widgets/controls",
       "_model_module_version": "1.5.0",
       "_model_name": "HBoxModel",
       "_view_count": null,
       "_view_module": "@jupyter-widgets/controls",
       "_view_module_version": "1.5.0",
       "_view_name": "HBoxView",
       "box_style": "",
       "children": [
        "IPY_MODEL_975da1a16ef440d68e9d511ce43f8145",
        "IPY_MODEL_a6846c6960014cc2859251a841b85c94",
        "IPY_MODEL_d0f9f01615db49079802f825eaabcd83"
       ],
       "layout": "IPY_MODEL_08c5f883fdba43cf81206f96971e7240"
      }
     },
     "3a7101009c924f53bb9d5cbfce3730c2": {
      "model_module": "@jupyter-widgets/controls",
      "model_module_version": "1.5.0",
      "model_name": "ProgressStyleModel",
      "state": {
       "_model_module": "@jupyter-widgets/controls",
       "_model_module_version": "1.5.0",
       "_model_name": "ProgressStyleModel",
       "_view_count": null,
       "_view_module": "@jupyter-widgets/base",
       "_view_module_version": "1.2.0",
       "_view_name": "StyleView",
       "bar_color": null,
       "description_width": ""
      }
     },
     "3b0eddeb24b9422ba5d1f18c99da0553": {
      "model_module": "@jupyter-widgets/controls",
      "model_module_version": "1.5.0",
      "model_name": "DescriptionStyleModel",
      "state": {
       "_model_module": "@jupyter-widgets/controls",
       "_model_module_version": "1.5.0",
       "_model_name": "DescriptionStyleModel",
       "_view_count": null,
       "_view_module": "@jupyter-widgets/base",
       "_view_module_version": "1.2.0",
       "_view_name": "StyleView",
       "description_width": ""
      }
     },
     "3c1f5bd2bff1464f8dc63106dddf96f0": {
      "model_module": "@jupyter-widgets/base",
      "model_module_version": "1.2.0",
      "model_name": "LayoutModel",
      "state": {
       "_model_module": "@jupyter-widgets/base",
       "_model_module_version": "1.2.0",
       "_model_name": "LayoutModel",
       "_view_count": null,
       "_view_module": "@jupyter-widgets/base",
       "_view_module_version": "1.2.0",
       "_view_name": "LayoutView",
       "align_content": null,
       "align_items": null,
       "align_self": null,
       "border": null,
       "bottom": null,
       "display": null,
       "flex": null,
       "flex_flow": null,
       "grid_area": null,
       "grid_auto_columns": null,
       "grid_auto_flow": null,
       "grid_auto_rows": null,
       "grid_column": null,
       "grid_gap": null,
       "grid_row": null,
       "grid_template_areas": null,
       "grid_template_columns": null,
       "grid_template_rows": null,
       "height": null,
       "justify_content": null,
       "justify_items": null,
       "left": null,
       "margin": null,
       "max_height": null,
       "max_width": null,
       "min_height": null,
       "min_width": null,
       "object_fit": null,
       "object_position": null,
       "order": null,
       "overflow": null,
       "overflow_x": null,
       "overflow_y": null,
       "padding": null,
       "right": null,
       "top": null,
       "visibility": null,
       "width": null
      }
     },
     "3ffcb4e595f5461584e5b9e0cd354c4e": {
      "model_module": "@jupyter-widgets/base",
      "model_module_version": "1.2.0",
      "model_name": "LayoutModel",
      "state": {
       "_model_module": "@jupyter-widgets/base",
       "_model_module_version": "1.2.0",
       "_model_name": "LayoutModel",
       "_view_count": null,
       "_view_module": "@jupyter-widgets/base",
       "_view_module_version": "1.2.0",
       "_view_name": "LayoutView",
       "align_content": null,
       "align_items": null,
       "align_self": null,
       "border": null,
       "bottom": null,
       "display": null,
       "flex": null,
       "flex_flow": null,
       "grid_area": null,
       "grid_auto_columns": null,
       "grid_auto_flow": null,
       "grid_auto_rows": null,
       "grid_column": null,
       "grid_gap": null,
       "grid_row": null,
       "grid_template_areas": null,
       "grid_template_columns": null,
       "grid_template_rows": null,
       "height": null,
       "justify_content": null,
       "justify_items": null,
       "left": null,
       "margin": null,
       "max_height": null,
       "max_width": null,
       "min_height": null,
       "min_width": null,
       "object_fit": null,
       "object_position": null,
       "order": null,
       "overflow": null,
       "overflow_x": null,
       "overflow_y": null,
       "padding": null,
       "right": null,
       "top": null,
       "visibility": null,
       "width": null
      }
     },
     "405ddaac1fa7463ba7d4e597738dfe5b": {
      "model_module": "@jupyter-widgets/controls",
      "model_module_version": "1.5.0",
      "model_name": "DescriptionStyleModel",
      "state": {
       "_model_module": "@jupyter-widgets/controls",
       "_model_module_version": "1.5.0",
       "_model_name": "DescriptionStyleModel",
       "_view_count": null,
       "_view_module": "@jupyter-widgets/base",
       "_view_module_version": "1.2.0",
       "_view_name": "StyleView",
       "description_width": ""
      }
     },
     "43f3b3eca1ee4aac955a89bb310a48ed": {
      "model_module": "@jupyter-widgets/controls",
      "model_module_version": "1.5.0",
      "model_name": "ProgressStyleModel",
      "state": {
       "_model_module": "@jupyter-widgets/controls",
       "_model_module_version": "1.5.0",
       "_model_name": "ProgressStyleModel",
       "_view_count": null,
       "_view_module": "@jupyter-widgets/base",
       "_view_module_version": "1.2.0",
       "_view_name": "StyleView",
       "bar_color": null,
       "description_width": ""
      }
     },
     "45e7af84843f440599e261b10e43420b": {
      "model_module": "@jupyter-widgets/controls",
      "model_module_version": "1.5.0",
      "model_name": "FloatProgressModel",
      "state": {
       "_dom_classes": [],
       "_model_module": "@jupyter-widgets/controls",
       "_model_module_version": "1.5.0",
       "_model_name": "FloatProgressModel",
       "_view_count": null,
       "_view_module": "@jupyter-widgets/controls",
       "_view_module_version": "1.5.0",
       "_view_name": "ProgressView",
       "bar_style": "success",
       "description": "",
       "description_tooltip": null,
       "layout": "IPY_MODEL_9f1f5039d3c54485b9cfe249af3fc2cb",
       "max": 16077.0,
       "min": 0.0,
       "orientation": "horizontal",
       "style": "IPY_MODEL_1caf36304e254d579e2570f55affdcfe",
       "value": 16077.0
      }
     },
     "460ae9e288c5442bbe36e9a09390b04e": {
      "model_module": "@jupyter-widgets/controls",
      "model_module_version": "1.5.0",
      "model_name": "HBoxModel",
      "state": {
       "_dom_classes": [],
       "_model_module": "@jupyter-widgets/controls",
       "_model_module_version": "1.5.0",
       "_model_name": "HBoxModel",
       "_view_count": null,
       "_view_module": "@jupyter-widgets/controls",
       "_view_module_version": "1.5.0",
       "_view_name": "HBoxView",
       "box_style": "",
       "children": [
        "IPY_MODEL_8b697fc89ecc48da807d1b4306b82544",
        "IPY_MODEL_45e7af84843f440599e261b10e43420b",
        "IPY_MODEL_05631eee69254b8b9e16ae1c3a48d442"
       ],
       "layout": "IPY_MODEL_2e1b5ca4b768436b852df7c4e38a5520"
      }
     },
     "46d45e7a97324ab083656009e856f5b8": {
      "model_module": "@jupyter-widgets/base",
      "model_module_version": "1.2.0",
      "model_name": "LayoutModel",
      "state": {
       "_model_module": "@jupyter-widgets/base",
       "_model_module_version": "1.2.0",
       "_model_name": "LayoutModel",
       "_view_count": null,
       "_view_module": "@jupyter-widgets/base",
       "_view_module_version": "1.2.0",
       "_view_name": "LayoutView",
       "align_content": null,
       "align_items": null,
       "align_self": null,
       "border": null,
       "bottom": null,
       "display": null,
       "flex": null,
       "flex_flow": null,
       "grid_area": null,
       "grid_auto_columns": null,
       "grid_auto_flow": null,
       "grid_auto_rows": null,
       "grid_column": null,
       "grid_gap": null,
       "grid_row": null,
       "grid_template_areas": null,
       "grid_template_columns": null,
       "grid_template_rows": null,
       "height": null,
       "justify_content": null,
       "justify_items": null,
       "left": null,
       "margin": null,
       "max_height": null,
       "max_width": null,
       "min_height": null,
       "min_width": null,
       "object_fit": null,
       "object_position": null,
       "order": null,
       "overflow": null,
       "overflow_x": null,
       "overflow_y": null,
       "padding": null,
       "right": null,
       "top": null,
       "visibility": null,
       "width": null
      }
     },
     "4c2f0aa8b1ce42d2aa0cf386a870c29e": {
      "model_module": "@jupyter-widgets/base",
      "model_module_version": "1.2.0",
      "model_name": "LayoutModel",
      "state": {
       "_model_module": "@jupyter-widgets/base",
       "_model_module_version": "1.2.0",
       "_model_name": "LayoutModel",
       "_view_count": null,
       "_view_module": "@jupyter-widgets/base",
       "_view_module_version": "1.2.0",
       "_view_name": "LayoutView",
       "align_content": null,
       "align_items": null,
       "align_self": null,
       "border": null,
       "bottom": null,
       "display": null,
       "flex": null,
       "flex_flow": null,
       "grid_area": null,
       "grid_auto_columns": null,
       "grid_auto_flow": null,
       "grid_auto_rows": null,
       "grid_column": null,
       "grid_gap": null,
       "grid_row": null,
       "grid_template_areas": null,
       "grid_template_columns": null,
       "grid_template_rows": null,
       "height": null,
       "justify_content": null,
       "justify_items": null,
       "left": null,
       "margin": null,
       "max_height": null,
       "max_width": null,
       "min_height": null,
       "min_width": null,
       "object_fit": null,
       "object_position": null,
       "order": null,
       "overflow": null,
       "overflow_x": null,
       "overflow_y": null,
       "padding": null,
       "right": null,
       "top": null,
       "visibility": null,
       "width": null
      }
     },
     "4eac3e82eb6743e1b2da67bb3e6971ea": {
      "model_module": "@jupyter-widgets/base",
      "model_module_version": "1.2.0",
      "model_name": "LayoutModel",
      "state": {
       "_model_module": "@jupyter-widgets/base",
       "_model_module_version": "1.2.0",
       "_model_name": "LayoutModel",
       "_view_count": null,
       "_view_module": "@jupyter-widgets/base",
       "_view_module_version": "1.2.0",
       "_view_name": "LayoutView",
       "align_content": null,
       "align_items": null,
       "align_self": null,
       "border": null,
       "bottom": null,
       "display": null,
       "flex": null,
       "flex_flow": null,
       "grid_area": null,
       "grid_auto_columns": null,
       "grid_auto_flow": null,
       "grid_auto_rows": null,
       "grid_column": null,
       "grid_gap": null,
       "grid_row": null,
       "grid_template_areas": null,
       "grid_template_columns": null,
       "grid_template_rows": null,
       "height": null,
       "justify_content": null,
       "justify_items": null,
       "left": null,
       "margin": null,
       "max_height": null,
       "max_width": null,
       "min_height": null,
       "min_width": null,
       "object_fit": null,
       "object_position": null,
       "order": null,
       "overflow": null,
       "overflow_x": null,
       "overflow_y": null,
       "padding": null,
       "right": null,
       "top": null,
       "visibility": null,
       "width": null
      }
     },
     "4f5e68ab30f64d338f5bee0ca41b2507": {
      "model_module": "@jupyter-widgets/base",
      "model_module_version": "1.2.0",
      "model_name": "LayoutModel",
      "state": {
       "_model_module": "@jupyter-widgets/base",
       "_model_module_version": "1.2.0",
       "_model_name": "LayoutModel",
       "_view_count": null,
       "_view_module": "@jupyter-widgets/base",
       "_view_module_version": "1.2.0",
       "_view_name": "LayoutView",
       "align_content": null,
       "align_items": null,
       "align_self": null,
       "border": null,
       "bottom": null,
       "display": null,
       "flex": null,
       "flex_flow": null,
       "grid_area": null,
       "grid_auto_columns": null,
       "grid_auto_flow": null,
       "grid_auto_rows": null,
       "grid_column": null,
       "grid_gap": null,
       "grid_row": null,
       "grid_template_areas": null,
       "grid_template_columns": null,
       "grid_template_rows": null,
       "height": null,
       "justify_content": null,
       "justify_items": null,
       "left": null,
       "margin": null,
       "max_height": null,
       "max_width": null,
       "min_height": null,
       "min_width": null,
       "object_fit": null,
       "object_position": null,
       "order": null,
       "overflow": null,
       "overflow_x": null,
       "overflow_y": null,
       "padding": null,
       "right": null,
       "top": null,
       "visibility": null,
       "width": null
      }
     },
     "52ca33684fb040dfa3814d4c9a7187fd": {
      "model_module": "@jupyter-widgets/base",
      "model_module_version": "1.2.0",
      "model_name": "LayoutModel",
      "state": {
       "_model_module": "@jupyter-widgets/base",
       "_model_module_version": "1.2.0",
       "_model_name": "LayoutModel",
       "_view_count": null,
       "_view_module": "@jupyter-widgets/base",
       "_view_module_version": "1.2.0",
       "_view_name": "LayoutView",
       "align_content": null,
       "align_items": null,
       "align_self": null,
       "border": null,
       "bottom": null,
       "display": null,
       "flex": null,
       "flex_flow": null,
       "grid_area": null,
       "grid_auto_columns": null,
       "grid_auto_flow": null,
       "grid_auto_rows": null,
       "grid_column": null,
       "grid_gap": null,
       "grid_row": null,
       "grid_template_areas": null,
       "grid_template_columns": null,
       "grid_template_rows": null,
       "height": null,
       "justify_content": null,
       "justify_items": null,
       "left": null,
       "margin": null,
       "max_height": null,
       "max_width": null,
       "min_height": null,
       "min_width": null,
       "object_fit": null,
       "object_position": null,
       "order": null,
       "overflow": null,
       "overflow_x": null,
       "overflow_y": null,
       "padding": null,
       "right": null,
       "top": null,
       "visibility": null,
       "width": null
      }
     },
     "53d185d6a92643b8ba5c9a82651e71e0": {
      "model_module": "@jupyter-widgets/base",
      "model_module_version": "1.2.0",
      "model_name": "LayoutModel",
      "state": {
       "_model_module": "@jupyter-widgets/base",
       "_model_module_version": "1.2.0",
       "_model_name": "LayoutModel",
       "_view_count": null,
       "_view_module": "@jupyter-widgets/base",
       "_view_module_version": "1.2.0",
       "_view_name": "LayoutView",
       "align_content": null,
       "align_items": null,
       "align_self": null,
       "border": null,
       "bottom": null,
       "display": null,
       "flex": null,
       "flex_flow": null,
       "grid_area": null,
       "grid_auto_columns": null,
       "grid_auto_flow": null,
       "grid_auto_rows": null,
       "grid_column": null,
       "grid_gap": null,
       "grid_row": null,
       "grid_template_areas": null,
       "grid_template_columns": null,
       "grid_template_rows": null,
       "height": null,
       "justify_content": null,
       "justify_items": null,
       "left": null,
       "margin": null,
       "max_height": null,
       "max_width": null,
       "min_height": null,
       "min_width": null,
       "object_fit": null,
       "object_position": null,
       "order": null,
       "overflow": null,
       "overflow_x": null,
       "overflow_y": null,
       "padding": null,
       "right": null,
       "top": null,
       "visibility": null,
       "width": null
      }
     },
     "58346f637bae46059d9f6609e7d87d64": {
      "model_module": "@jupyter-widgets/base",
      "model_module_version": "1.2.0",
      "model_name": "LayoutModel",
      "state": {
       "_model_module": "@jupyter-widgets/base",
       "_model_module_version": "1.2.0",
       "_model_name": "LayoutModel",
       "_view_count": null,
       "_view_module": "@jupyter-widgets/base",
       "_view_module_version": "1.2.0",
       "_view_name": "LayoutView",
       "align_content": null,
       "align_items": null,
       "align_self": null,
       "border": null,
       "bottom": null,
       "display": null,
       "flex": null,
       "flex_flow": null,
       "grid_area": null,
       "grid_auto_columns": null,
       "grid_auto_flow": null,
       "grid_auto_rows": null,
       "grid_column": null,
       "grid_gap": null,
       "grid_row": null,
       "grid_template_areas": null,
       "grid_template_columns": null,
       "grid_template_rows": null,
       "height": null,
       "justify_content": null,
       "justify_items": null,
       "left": null,
       "margin": null,
       "max_height": null,
       "max_width": null,
       "min_height": null,
       "min_width": null,
       "object_fit": null,
       "object_position": null,
       "order": null,
       "overflow": null,
       "overflow_x": null,
       "overflow_y": null,
       "padding": null,
       "right": null,
       "top": null,
       "visibility": null,
       "width": null
      }
     },
     "59be1ecd849743dd8b990d444aa77939": {
      "model_module": "@jupyter-widgets/controls",
      "model_module_version": "1.5.0",
      "model_name": "HTMLModel",
      "state": {
       "_dom_classes": [],
       "_model_module": "@jupyter-widgets/controls",
       "_model_module_version": "1.5.0",
       "_model_name": "HTMLModel",
       "_view_count": null,
       "_view_module": "@jupyter-widgets/controls",
       "_view_module_version": "1.5.0",
       "_view_name": "HTMLView",
       "description": "",
       "description_tooltip": null,
       "layout": "IPY_MODEL_d9f3695b2e8c47bc930a45e2493e2976",
       "placeholder": "​",
       "style": "IPY_MODEL_3b0eddeb24b9422ba5d1f18c99da0553",
       "value": " 16077/16077 [01:05&lt;00:00, 247.89it/s]"
      }
     },
     "5ac597675e0f42d7b5c6dee5da8502cd": {
      "model_module": "@jupyter-widgets/controls",
      "model_module_version": "1.5.0",
      "model_name": "HBoxModel",
      "state": {
       "_dom_classes": [],
       "_model_module": "@jupyter-widgets/controls",
       "_model_module_version": "1.5.0",
       "_model_name": "HBoxModel",
       "_view_count": null,
       "_view_module": "@jupyter-widgets/controls",
       "_view_module_version": "1.5.0",
       "_view_name": "HBoxView",
       "box_style": "",
       "children": [
        "IPY_MODEL_aa922d42c7424739bdf44484578546a9",
        "IPY_MODEL_95460dbfdade4ef89f7188631b077e90",
        "IPY_MODEL_185bb5a6a5fc4930b10d86882f991f73"
       ],
       "layout": "IPY_MODEL_0393b87c46964b66b25da24dd267fd05"
      }
     },
     "5dab5fae47fe4af4b47e8950d624de33": {
      "model_module": "@jupyter-widgets/controls",
      "model_module_version": "1.5.0",
      "model_name": "DescriptionStyleModel",
      "state": {
       "_model_module": "@jupyter-widgets/controls",
       "_model_module_version": "1.5.0",
       "_model_name": "DescriptionStyleModel",
       "_view_count": null,
       "_view_module": "@jupyter-widgets/base",
       "_view_module_version": "1.2.0",
       "_view_name": "StyleView",
       "description_width": ""
      }
     },
     "5dff1786a8a94722a224e6f96328ca68": {
      "model_module": "@jupyter-widgets/controls",
      "model_module_version": "1.5.0",
      "model_name": "FloatProgressModel",
      "state": {
       "_dom_classes": [],
       "_model_module": "@jupyter-widgets/controls",
       "_model_module_version": "1.5.0",
       "_model_name": "FloatProgressModel",
       "_view_count": null,
       "_view_module": "@jupyter-widgets/controls",
       "_view_module_version": "1.5.0",
       "_view_name": "ProgressView",
       "bar_style": "success",
       "description": "",
       "description_tooltip": null,
       "layout": "IPY_MODEL_3ffcb4e595f5461584e5b9e0cd354c4e",
       "max": 16077.0,
       "min": 0.0,
       "orientation": "horizontal",
       "style": "IPY_MODEL_43f3b3eca1ee4aac955a89bb310a48ed",
       "value": 16077.0
      }
     },
     "5fc9519436974be1aaa38c4af1586b14": {
      "model_module": "@jupyter-widgets/controls",
      "model_module_version": "1.5.0",
      "model_name": "DescriptionStyleModel",
      "state": {
       "_model_module": "@jupyter-widgets/controls",
       "_model_module_version": "1.5.0",
       "_model_name": "DescriptionStyleModel",
       "_view_count": null,
       "_view_module": "@jupyter-widgets/base",
       "_view_module_version": "1.2.0",
       "_view_name": "StyleView",
       "description_width": ""
      }
     },
     "603dc0bc9dd84040a902cad7ec5dd111": {
      "model_module": "@jupyter-widgets/controls",
      "model_module_version": "1.5.0",
      "model_name": "DescriptionStyleModel",
      "state": {
       "_model_module": "@jupyter-widgets/controls",
       "_model_module_version": "1.5.0",
       "_model_name": "DescriptionStyleModel",
       "_view_count": null,
       "_view_module": "@jupyter-widgets/base",
       "_view_module_version": "1.2.0",
       "_view_name": "StyleView",
       "description_width": ""
      }
     },
     "62947541fdfb422a85431b6d446f688f": {
      "model_module": "@jupyter-widgets/controls",
      "model_module_version": "1.5.0",
      "model_name": "FloatProgressModel",
      "state": {
       "_dom_classes": [],
       "_model_module": "@jupyter-widgets/controls",
       "_model_module_version": "1.5.0",
       "_model_name": "FloatProgressModel",
       "_view_count": null,
       "_view_module": "@jupyter-widgets/controls",
       "_view_module_version": "1.5.0",
       "_view_name": "ProgressView",
       "bar_style": "success",
       "description": "",
       "description_tooltip": null,
       "layout": "IPY_MODEL_bdb679723d414eb9927f747131f7bc9d",
       "max": 16077.0,
       "min": 0.0,
       "orientation": "horizontal",
       "style": "IPY_MODEL_dc234819ecf34c938571dfa6520693bf",
       "value": 16077.0
      }
     },
     "681114027b7a4fabae75f6c0bf0bd424": {
      "model_module": "@jupyter-widgets/controls",
      "model_module_version": "1.5.0",
      "model_name": "HBoxModel",
      "state": {
       "_dom_classes": [],
       "_model_module": "@jupyter-widgets/controls",
       "_model_module_version": "1.5.0",
       "_model_name": "HBoxModel",
       "_view_count": null,
       "_view_module": "@jupyter-widgets/controls",
       "_view_module_version": "1.5.0",
       "_view_name": "HBoxView",
       "box_style": "",
       "children": [
        "IPY_MODEL_20baa7f54a154fb98a7b2d6c28a487c4",
        "IPY_MODEL_a2b104601e0f4b8081133ccaf449232a",
        "IPY_MODEL_e8c8b01d6ca845bcad2d112159ddcafa"
       ],
       "layout": "IPY_MODEL_4f5e68ab30f64d338f5bee0ca41b2507"
      }
     },
     "6baf050ba79143f8b7cfcd9b1413197e": {
      "model_module": "@jupyter-widgets/base",
      "model_module_version": "1.2.0",
      "model_name": "LayoutModel",
      "state": {
       "_model_module": "@jupyter-widgets/base",
       "_model_module_version": "1.2.0",
       "_model_name": "LayoutModel",
       "_view_count": null,
       "_view_module": "@jupyter-widgets/base",
       "_view_module_version": "1.2.0",
       "_view_name": "LayoutView",
       "align_content": null,
       "align_items": null,
       "align_self": null,
       "border": null,
       "bottom": null,
       "display": null,
       "flex": null,
       "flex_flow": null,
       "grid_area": null,
       "grid_auto_columns": null,
       "grid_auto_flow": null,
       "grid_auto_rows": null,
       "grid_column": null,
       "grid_gap": null,
       "grid_row": null,
       "grid_template_areas": null,
       "grid_template_columns": null,
       "grid_template_rows": null,
       "height": null,
       "justify_content": null,
       "justify_items": null,
       "left": null,
       "margin": null,
       "max_height": null,
       "max_width": null,
       "min_height": null,
       "min_width": null,
       "object_fit": null,
       "object_position": null,
       "order": null,
       "overflow": null,
       "overflow_x": null,
       "overflow_y": null,
       "padding": null,
       "right": null,
       "top": null,
       "visibility": null,
       "width": null
      }
     },
     "6bb0592cdf0e4abfa363b74fd1360468": {
      "model_module": "@jupyter-widgets/controls",
      "model_module_version": "1.5.0",
      "model_name": "ProgressStyleModel",
      "state": {
       "_model_module": "@jupyter-widgets/controls",
       "_model_module_version": "1.5.0",
       "_model_name": "ProgressStyleModel",
       "_view_count": null,
       "_view_module": "@jupyter-widgets/base",
       "_view_module_version": "1.2.0",
       "_view_name": "StyleView",
       "bar_color": null,
       "description_width": ""
      }
     },
     "6c6b28d7446b4a5da3b65ce698416549": {
      "model_module": "@jupyter-widgets/base",
      "model_module_version": "1.2.0",
      "model_name": "LayoutModel",
      "state": {
       "_model_module": "@jupyter-widgets/base",
       "_model_module_version": "1.2.0",
       "_model_name": "LayoutModel",
       "_view_count": null,
       "_view_module": "@jupyter-widgets/base",
       "_view_module_version": "1.2.0",
       "_view_name": "LayoutView",
       "align_content": null,
       "align_items": null,
       "align_self": null,
       "border": null,
       "bottom": null,
       "display": null,
       "flex": null,
       "flex_flow": null,
       "grid_area": null,
       "grid_auto_columns": null,
       "grid_auto_flow": null,
       "grid_auto_rows": null,
       "grid_column": null,
       "grid_gap": null,
       "grid_row": null,
       "grid_template_areas": null,
       "grid_template_columns": null,
       "grid_template_rows": null,
       "height": null,
       "justify_content": null,
       "justify_items": null,
       "left": null,
       "margin": null,
       "max_height": null,
       "max_width": null,
       "min_height": null,
       "min_width": null,
       "object_fit": null,
       "object_position": null,
       "order": null,
       "overflow": null,
       "overflow_x": null,
       "overflow_y": null,
       "padding": null,
       "right": null,
       "top": null,
       "visibility": null,
       "width": null
      }
     },
     "78e71aeda3f8490ca2fc7c811f8b16fd": {
      "model_module": "@jupyter-widgets/controls",
      "model_module_version": "1.5.0",
      "model_name": "HTMLModel",
      "state": {
       "_dom_classes": [],
       "_model_module": "@jupyter-widgets/controls",
       "_model_module_version": "1.5.0",
       "_model_name": "HTMLModel",
       "_view_count": null,
       "_view_module": "@jupyter-widgets/controls",
       "_view_module_version": "1.5.0",
       "_view_name": "HTMLView",
       "description": "",
       "description_tooltip": null,
       "layout": "IPY_MODEL_940bed7e00ca46309504981201ce4272",
       "placeholder": "​",
       "style": "IPY_MODEL_fe011d466c1b4933ae5844402c04b95f",
       "value": "100%"
      }
     },
     "7a071bbe71b1465cad7589a99cf2bf37": {
      "model_module": "@jupyter-widgets/base",
      "model_module_version": "1.2.0",
      "model_name": "LayoutModel",
      "state": {
       "_model_module": "@jupyter-widgets/base",
       "_model_module_version": "1.2.0",
       "_model_name": "LayoutModel",
       "_view_count": null,
       "_view_module": "@jupyter-widgets/base",
       "_view_module_version": "1.2.0",
       "_view_name": "LayoutView",
       "align_content": null,
       "align_items": null,
       "align_self": null,
       "border": null,
       "bottom": null,
       "display": null,
       "flex": null,
       "flex_flow": null,
       "grid_area": null,
       "grid_auto_columns": null,
       "grid_auto_flow": null,
       "grid_auto_rows": null,
       "grid_column": null,
       "grid_gap": null,
       "grid_row": null,
       "grid_template_areas": null,
       "grid_template_columns": null,
       "grid_template_rows": null,
       "height": null,
       "justify_content": null,
       "justify_items": null,
       "left": null,
       "margin": null,
       "max_height": null,
       "max_width": null,
       "min_height": null,
       "min_width": null,
       "object_fit": null,
       "object_position": null,
       "order": null,
       "overflow": null,
       "overflow_x": null,
       "overflow_y": null,
       "padding": null,
       "right": null,
       "top": null,
       "visibility": null,
       "width": null
      }
     },
     "7a9c33deb1984586ab4abbffaf529016": {
      "model_module": "@jupyter-widgets/controls",
      "model_module_version": "1.5.0",
      "model_name": "ProgressStyleModel",
      "state": {
       "_model_module": "@jupyter-widgets/controls",
       "_model_module_version": "1.5.0",
       "_model_name": "ProgressStyleModel",
       "_view_count": null,
       "_view_module": "@jupyter-widgets/base",
       "_view_module_version": "1.2.0",
       "_view_name": "StyleView",
       "bar_color": null,
       "description_width": ""
      }
     },
     "7dcc4c11dd7743909ed678f9c307aeb0": {
      "model_module": "@jupyter-widgets/controls",
      "model_module_version": "1.5.0",
      "model_name": "HTMLModel",
      "state": {
       "_dom_classes": [],
       "_model_module": "@jupyter-widgets/controls",
       "_model_module_version": "1.5.0",
       "_model_name": "HTMLModel",
       "_view_count": null,
       "_view_module": "@jupyter-widgets/controls",
       "_view_module_version": "1.5.0",
       "_view_name": "HTMLView",
       "description": "",
       "description_tooltip": null,
       "layout": "IPY_MODEL_ac5030d7531c4aec963dfe00beb75532",
       "placeholder": "​",
       "style": "IPY_MODEL_97de417966974cdbb02f65a1ff0c085e",
       "value": "100%"
      }
     },
     "7e5290e1ee1946d5b34b139fd192a2bc": {
      "model_module": "@jupyter-widgets/controls",
      "model_module_version": "1.5.0",
      "model_name": "HTMLModel",
      "state": {
       "_dom_classes": [],
       "_model_module": "@jupyter-widgets/controls",
       "_model_module_version": "1.5.0",
       "_model_name": "HTMLModel",
       "_view_count": null,
       "_view_module": "@jupyter-widgets/controls",
       "_view_module_version": "1.5.0",
       "_view_name": "HTMLView",
       "description": "",
       "description_tooltip": null,
       "layout": "IPY_MODEL_c58ad232a2094396af81a3143057a764",
       "placeholder": "​",
       "style": "IPY_MODEL_932c88f46ad544d39e9db26926c7327a",
       "value": "100%"
      }
     },
     "7f22bf5349ff486491441ab37f19845d": {
      "model_module": "@jupyter-widgets/controls",
      "model_module_version": "1.5.0",
      "model_name": "ProgressStyleModel",
      "state": {
       "_model_module": "@jupyter-widgets/controls",
       "_model_module_version": "1.5.0",
       "_model_name": "ProgressStyleModel",
       "_view_count": null,
       "_view_module": "@jupyter-widgets/base",
       "_view_module_version": "1.2.0",
       "_view_name": "StyleView",
       "bar_color": null,
       "description_width": ""
      }
     },
     "82487919ae89433b871af56e611eafc9": {
      "model_module": "@jupyter-widgets/base",
      "model_module_version": "1.2.0",
      "model_name": "LayoutModel",
      "state": {
       "_model_module": "@jupyter-widgets/base",
       "_model_module_version": "1.2.0",
       "_model_name": "LayoutModel",
       "_view_count": null,
       "_view_module": "@jupyter-widgets/base",
       "_view_module_version": "1.2.0",
       "_view_name": "LayoutView",
       "align_content": null,
       "align_items": null,
       "align_self": null,
       "border": null,
       "bottom": null,
       "display": null,
       "flex": null,
       "flex_flow": null,
       "grid_area": null,
       "grid_auto_columns": null,
       "grid_auto_flow": null,
       "grid_auto_rows": null,
       "grid_column": null,
       "grid_gap": null,
       "grid_row": null,
       "grid_template_areas": null,
       "grid_template_columns": null,
       "grid_template_rows": null,
       "height": null,
       "justify_content": null,
       "justify_items": null,
       "left": null,
       "margin": null,
       "max_height": null,
       "max_width": null,
       "min_height": null,
       "min_width": null,
       "object_fit": null,
       "object_position": null,
       "order": null,
       "overflow": null,
       "overflow_x": null,
       "overflow_y": null,
       "padding": null,
       "right": null,
       "top": null,
       "visibility": null,
       "width": null
      }
     },
     "872cffbb525c457982a394b15c008ea3": {
      "model_module": "@jupyter-widgets/controls",
      "model_module_version": "1.5.0",
      "model_name": "DescriptionStyleModel",
      "state": {
       "_model_module": "@jupyter-widgets/controls",
       "_model_module_version": "1.5.0",
       "_model_name": "DescriptionStyleModel",
       "_view_count": null,
       "_view_module": "@jupyter-widgets/base",
       "_view_module_version": "1.2.0",
       "_view_name": "StyleView",
       "description_width": ""
      }
     },
     "87d44e4847f14ebc84544abb66d40126": {
      "model_module": "@jupyter-widgets/controls",
      "model_module_version": "1.5.0",
      "model_name": "FloatProgressModel",
      "state": {
       "_dom_classes": [],
       "_model_module": "@jupyter-widgets/controls",
       "_model_module_version": "1.5.0",
       "_model_name": "FloatProgressModel",
       "_view_count": null,
       "_view_module": "@jupyter-widgets/controls",
       "_view_module_version": "1.5.0",
       "_view_name": "ProgressView",
       "bar_style": "success",
       "description": "",
       "description_tooltip": null,
       "layout": "IPY_MODEL_52ca33684fb040dfa3814d4c9a7187fd",
       "max": 1000.0,
       "min": 0.0,
       "orientation": "horizontal",
       "style": "IPY_MODEL_efc6e1d08e074bab8dded183b1676075",
       "value": 1000.0
      }
     },
     "8b697fc89ecc48da807d1b4306b82544": {
      "model_module": "@jupyter-widgets/controls",
      "model_module_version": "1.5.0",
      "model_name": "HTMLModel",
      "state": {
       "_dom_classes": [],
       "_model_module": "@jupyter-widgets/controls",
       "_model_module_version": "1.5.0",
       "_model_name": "HTMLModel",
       "_view_count": null,
       "_view_module": "@jupyter-widgets/controls",
       "_view_module_version": "1.5.0",
       "_view_name": "HTMLView",
       "description": "",
       "description_tooltip": null,
       "layout": "IPY_MODEL_acfdc76650d44c58a78762ae035c8e39",
       "placeholder": "​",
       "style": "IPY_MODEL_8f2acb1f95b14a54b997bddf277545e6",
       "value": "100%"
      }
     },
     "8ba0c382e53f46e3ae2c96dd5592df4f": {
      "model_module": "@jupyter-widgets/controls",
      "model_module_version": "1.5.0",
      "model_name": "HBoxModel",
      "state": {
       "_dom_classes": [],
       "_model_module": "@jupyter-widgets/controls",
       "_model_module_version": "1.5.0",
       "_model_name": "HBoxModel",
       "_view_count": null,
       "_view_module": "@jupyter-widgets/controls",
       "_view_module_version": "1.5.0",
       "_view_name": "HBoxView",
       "box_style": "",
       "children": [
        "IPY_MODEL_ae026822c7e54be9b8bf8ef519cf8874",
        "IPY_MODEL_62947541fdfb422a85431b6d446f688f",
        "IPY_MODEL_ad73eeb7904b4bc9bc55c0a20b42b579"
       ],
       "layout": "IPY_MODEL_1fb8677d0f9542cfab42d08395b9aeff"
      }
     },
     "8bb40e6e268f4b7288e3e9ae0e0440a2": {
      "model_module": "@jupyter-widgets/base",
      "model_module_version": "1.2.0",
      "model_name": "LayoutModel",
      "state": {
       "_model_module": "@jupyter-widgets/base",
       "_model_module_version": "1.2.0",
       "_model_name": "LayoutModel",
       "_view_count": null,
       "_view_module": "@jupyter-widgets/base",
       "_view_module_version": "1.2.0",
       "_view_name": "LayoutView",
       "align_content": null,
       "align_items": null,
       "align_self": null,
       "border": null,
       "bottom": null,
       "display": null,
       "flex": null,
       "flex_flow": null,
       "grid_area": null,
       "grid_auto_columns": null,
       "grid_auto_flow": null,
       "grid_auto_rows": null,
       "grid_column": null,
       "grid_gap": null,
       "grid_row": null,
       "grid_template_areas": null,
       "grid_template_columns": null,
       "grid_template_rows": null,
       "height": null,
       "justify_content": null,
       "justify_items": null,
       "left": null,
       "margin": null,
       "max_height": null,
       "max_width": null,
       "min_height": null,
       "min_width": null,
       "object_fit": null,
       "object_position": null,
       "order": null,
       "overflow": null,
       "overflow_x": null,
       "overflow_y": null,
       "padding": null,
       "right": null,
       "top": null,
       "visibility": null,
       "width": null
      }
     },
     "8c1f9861df814fbf9ba73bf26b9cebf1": {
      "model_module": "@jupyter-widgets/controls",
      "model_module_version": "1.5.0",
      "model_name": "DescriptionStyleModel",
      "state": {
       "_model_module": "@jupyter-widgets/controls",
       "_model_module_version": "1.5.0",
       "_model_name": "DescriptionStyleModel",
       "_view_count": null,
       "_view_module": "@jupyter-widgets/base",
       "_view_module_version": "1.2.0",
       "_view_name": "StyleView",
       "description_width": ""
      }
     },
     "8ee3d945a496437d8dd2e19d51e07a9d": {
      "model_module": "@jupyter-widgets/controls",
      "model_module_version": "1.5.0",
      "model_name": "HBoxModel",
      "state": {
       "_dom_classes": [],
       "_model_module": "@jupyter-widgets/controls",
       "_model_module_version": "1.5.0",
       "_model_name": "HBoxModel",
       "_view_count": null,
       "_view_module": "@jupyter-widgets/controls",
       "_view_module_version": "1.5.0",
       "_view_name": "HBoxView",
       "box_style": "",
       "children": [
        "IPY_MODEL_7e5290e1ee1946d5b34b139fd192a2bc",
        "IPY_MODEL_fddaa7b54b094005ad5a4efff112948a",
        "IPY_MODEL_e6245a54701f4bed8b5ba8b3d03cd627"
       ],
       "layout": "IPY_MODEL_02ef5af9bbac4cab895ed54aa69c3ad4"
      }
     },
     "8f2acb1f95b14a54b997bddf277545e6": {
      "model_module": "@jupyter-widgets/controls",
      "model_module_version": "1.5.0",
      "model_name": "DescriptionStyleModel",
      "state": {
       "_model_module": "@jupyter-widgets/controls",
       "_model_module_version": "1.5.0",
       "_model_name": "DescriptionStyleModel",
       "_view_count": null,
       "_view_module": "@jupyter-widgets/base",
       "_view_module_version": "1.2.0",
       "_view_name": "StyleView",
       "description_width": ""
      }
     },
     "932c88f46ad544d39e9db26926c7327a": {
      "model_module": "@jupyter-widgets/controls",
      "model_module_version": "1.5.0",
      "model_name": "DescriptionStyleModel",
      "state": {
       "_model_module": "@jupyter-widgets/controls",
       "_model_module_version": "1.5.0",
       "_model_name": "DescriptionStyleModel",
       "_view_count": null,
       "_view_module": "@jupyter-widgets/base",
       "_view_module_version": "1.2.0",
       "_view_name": "StyleView",
       "description_width": ""
      }
     },
     "940bed7e00ca46309504981201ce4272": {
      "model_module": "@jupyter-widgets/base",
      "model_module_version": "1.2.0",
      "model_name": "LayoutModel",
      "state": {
       "_model_module": "@jupyter-widgets/base",
       "_model_module_version": "1.2.0",
       "_model_name": "LayoutModel",
       "_view_count": null,
       "_view_module": "@jupyter-widgets/base",
       "_view_module_version": "1.2.0",
       "_view_name": "LayoutView",
       "align_content": null,
       "align_items": null,
       "align_self": null,
       "border": null,
       "bottom": null,
       "display": null,
       "flex": null,
       "flex_flow": null,
       "grid_area": null,
       "grid_auto_columns": null,
       "grid_auto_flow": null,
       "grid_auto_rows": null,
       "grid_column": null,
       "grid_gap": null,
       "grid_row": null,
       "grid_template_areas": null,
       "grid_template_columns": null,
       "grid_template_rows": null,
       "height": null,
       "justify_content": null,
       "justify_items": null,
       "left": null,
       "margin": null,
       "max_height": null,
       "max_width": null,
       "min_height": null,
       "min_width": null,
       "object_fit": null,
       "object_position": null,
       "order": null,
       "overflow": null,
       "overflow_x": null,
       "overflow_y": null,
       "padding": null,
       "right": null,
       "top": null,
       "visibility": null,
       "width": null
      }
     },
     "9445289869e84a8dabd8bf34cc19722f": {
      "model_module": "@jupyter-widgets/base",
      "model_module_version": "1.2.0",
      "model_name": "LayoutModel",
      "state": {
       "_model_module": "@jupyter-widgets/base",
       "_model_module_version": "1.2.0",
       "_model_name": "LayoutModel",
       "_view_count": null,
       "_view_module": "@jupyter-widgets/base",
       "_view_module_version": "1.2.0",
       "_view_name": "LayoutView",
       "align_content": null,
       "align_items": null,
       "align_self": null,
       "border": null,
       "bottom": null,
       "display": null,
       "flex": null,
       "flex_flow": null,
       "grid_area": null,
       "grid_auto_columns": null,
       "grid_auto_flow": null,
       "grid_auto_rows": null,
       "grid_column": null,
       "grid_gap": null,
       "grid_row": null,
       "grid_template_areas": null,
       "grid_template_columns": null,
       "grid_template_rows": null,
       "height": null,
       "justify_content": null,
       "justify_items": null,
       "left": null,
       "margin": null,
       "max_height": null,
       "max_width": null,
       "min_height": null,
       "min_width": null,
       "object_fit": null,
       "object_position": null,
       "order": null,
       "overflow": null,
       "overflow_x": null,
       "overflow_y": null,
       "padding": null,
       "right": null,
       "top": null,
       "visibility": null,
       "width": null
      }
     },
     "95460dbfdade4ef89f7188631b077e90": {
      "model_module": "@jupyter-widgets/controls",
      "model_module_version": "1.5.0",
      "model_name": "FloatProgressModel",
      "state": {
       "_dom_classes": [],
       "_model_module": "@jupyter-widgets/controls",
       "_model_module_version": "1.5.0",
       "_model_name": "FloatProgressModel",
       "_view_count": null,
       "_view_module": "@jupyter-widgets/controls",
       "_view_module_version": "1.5.0",
       "_view_name": "ProgressView",
       "bar_style": "success",
       "description": "",
       "description_tooltip": null,
       "layout": "IPY_MODEL_f7bbbede61c34fb0af3a3fb11ee4c489",
       "max": 46.0,
       "min": 0.0,
       "orientation": "horizontal",
       "style": "IPY_MODEL_7f22bf5349ff486491441ab37f19845d",
       "value": 46.0
      }
     },
     "975da1a16ef440d68e9d511ce43f8145": {
      "model_module": "@jupyter-widgets/controls",
      "model_module_version": "1.5.0",
      "model_name": "HTMLModel",
      "state": {
       "_dom_classes": [],
       "_model_module": "@jupyter-widgets/controls",
       "_model_module_version": "1.5.0",
       "_model_name": "HTMLModel",
       "_view_count": null,
       "_view_module": "@jupyter-widgets/controls",
       "_view_module_version": "1.5.0",
       "_view_name": "HTMLView",
       "description": "",
       "description_tooltip": null,
       "layout": "IPY_MODEL_4c2f0aa8b1ce42d2aa0cf386a870c29e",
       "placeholder": "​",
       "style": "IPY_MODEL_b227e73fd30b4b43ac61a58653b4e370",
       "value": "100%"
      }
     },
     "97de417966974cdbb02f65a1ff0c085e": {
      "model_module": "@jupyter-widgets/controls",
      "model_module_version": "1.5.0",
      "model_name": "DescriptionStyleModel",
      "state": {
       "_model_module": "@jupyter-widgets/controls",
       "_model_module_version": "1.5.0",
       "_model_name": "DescriptionStyleModel",
       "_view_count": null,
       "_view_module": "@jupyter-widgets/base",
       "_view_module_version": "1.2.0",
       "_view_name": "StyleView",
       "description_width": ""
      }
     },
     "9f1f5039d3c54485b9cfe249af3fc2cb": {
      "model_module": "@jupyter-widgets/base",
      "model_module_version": "1.2.0",
      "model_name": "LayoutModel",
      "state": {
       "_model_module": "@jupyter-widgets/base",
       "_model_module_version": "1.2.0",
       "_model_name": "LayoutModel",
       "_view_count": null,
       "_view_module": "@jupyter-widgets/base",
       "_view_module_version": "1.2.0",
       "_view_name": "LayoutView",
       "align_content": null,
       "align_items": null,
       "align_self": null,
       "border": null,
       "bottom": null,
       "display": null,
       "flex": null,
       "flex_flow": null,
       "grid_area": null,
       "grid_auto_columns": null,
       "grid_auto_flow": null,
       "grid_auto_rows": null,
       "grid_column": null,
       "grid_gap": null,
       "grid_row": null,
       "grid_template_areas": null,
       "grid_template_columns": null,
       "grid_template_rows": null,
       "height": null,
       "justify_content": null,
       "justify_items": null,
       "left": null,
       "margin": null,
       "max_height": null,
       "max_width": null,
       "min_height": null,
       "min_width": null,
       "object_fit": null,
       "object_position": null,
       "order": null,
       "overflow": null,
       "overflow_x": null,
       "overflow_y": null,
       "padding": null,
       "right": null,
       "top": null,
       "visibility": null,
       "width": null
      }
     },
     "a2b104601e0f4b8081133ccaf449232a": {
      "model_module": "@jupyter-widgets/controls",
      "model_module_version": "1.5.0",
      "model_name": "FloatProgressModel",
      "state": {
       "_dom_classes": [],
       "_model_module": "@jupyter-widgets/controls",
       "_model_module_version": "1.5.0",
       "_model_name": "FloatProgressModel",
       "_view_count": null,
       "_view_module": "@jupyter-widgets/controls",
       "_view_module_version": "1.5.0",
       "_view_name": "ProgressView",
       "bar_style": "success",
       "description": "",
       "description_tooltip": null,
       "layout": "IPY_MODEL_82487919ae89433b871af56e611eafc9",
       "max": 16077.0,
       "min": 0.0,
       "orientation": "horizontal",
       "style": "IPY_MODEL_2dd775044cd340b29fefffa6492ccca5",
       "value": 16077.0
      }
     },
     "a6846c6960014cc2859251a841b85c94": {
      "model_module": "@jupyter-widgets/controls",
      "model_module_version": "1.5.0",
      "model_name": "FloatProgressModel",
      "state": {
       "_dom_classes": [],
       "_model_module": "@jupyter-widgets/controls",
       "_model_module_version": "1.5.0",
       "_model_name": "FloatProgressModel",
       "_view_count": null,
       "_view_module": "@jupyter-widgets/controls",
       "_view_module_version": "1.5.0",
       "_view_name": "ProgressView",
       "bar_style": "success",
       "description": "",
       "description_tooltip": null,
       "layout": "IPY_MODEL_abccf9268da34b588d441efede2a1513",
       "max": 16077.0,
       "min": 0.0,
       "orientation": "horizontal",
       "style": "IPY_MODEL_0d61c81cc2934bf69204f2fbbf25e7bd",
       "value": 16077.0
      }
     },
     "a7c03cf6aedf4ee395302ddd18950ec9": {
      "model_module": "@jupyter-widgets/controls",
      "model_module_version": "1.5.0",
      "model_name": "DescriptionStyleModel",
      "state": {
       "_model_module": "@jupyter-widgets/controls",
       "_model_module_version": "1.5.0",
       "_model_name": "DescriptionStyleModel",
       "_view_count": null,
       "_view_module": "@jupyter-widgets/base",
       "_view_module_version": "1.2.0",
       "_view_name": "StyleView",
       "description_width": ""
      }
     },
     "aa922d42c7424739bdf44484578546a9": {
      "model_module": "@jupyter-widgets/controls",
      "model_module_version": "1.5.0",
      "model_name": "HTMLModel",
      "state": {
       "_dom_classes": [],
       "_model_module": "@jupyter-widgets/controls",
       "_model_module_version": "1.5.0",
       "_model_name": "HTMLModel",
       "_view_count": null,
       "_view_module": "@jupyter-widgets/controls",
       "_view_module_version": "1.5.0",
       "_view_name": "HTMLView",
       "description": "",
       "description_tooltip": null,
       "layout": "IPY_MODEL_9445289869e84a8dabd8bf34cc19722f",
       "placeholder": "​",
       "style": "IPY_MODEL_ebccb9a38bf14649ad04397534feba7a",
       "value": "100%"
      }
     },
     "ab9e140b5b2747eface8989a7bb4c4f0": {
      "model_module": "@jupyter-widgets/controls",
      "model_module_version": "1.5.0",
      "model_name": "HBoxModel",
      "state": {
       "_dom_classes": [],
       "_model_module": "@jupyter-widgets/controls",
       "_model_module_version": "1.5.0",
       "_model_name": "HBoxModel",
       "_view_count": null,
       "_view_module": "@jupyter-widgets/controls",
       "_view_module_version": "1.5.0",
       "_view_name": "HBoxView",
       "box_style": "",
       "children": [
        "IPY_MODEL_7dcc4c11dd7743909ed678f9c307aeb0",
        "IPY_MODEL_5dff1786a8a94722a224e6f96328ca68",
        "IPY_MODEL_59be1ecd849743dd8b990d444aa77939"
       ],
       "layout": "IPY_MODEL_b2118dc31b264bd38442bb9590845b1a"
      }
     },
     "abccf9268da34b588d441efede2a1513": {
      "model_module": "@jupyter-widgets/base",
      "model_module_version": "1.2.0",
      "model_name": "LayoutModel",
      "state": {
       "_model_module": "@jupyter-widgets/base",
       "_model_module_version": "1.2.0",
       "_model_name": "LayoutModel",
       "_view_count": null,
       "_view_module": "@jupyter-widgets/base",
       "_view_module_version": "1.2.0",
       "_view_name": "LayoutView",
       "align_content": null,
       "align_items": null,
       "align_self": null,
       "border": null,
       "bottom": null,
       "display": null,
       "flex": null,
       "flex_flow": null,
       "grid_area": null,
       "grid_auto_columns": null,
       "grid_auto_flow": null,
       "grid_auto_rows": null,
       "grid_column": null,
       "grid_gap": null,
       "grid_row": null,
       "grid_template_areas": null,
       "grid_template_columns": null,
       "grid_template_rows": null,
       "height": null,
       "justify_content": null,
       "justify_items": null,
       "left": null,
       "margin": null,
       "max_height": null,
       "max_width": null,
       "min_height": null,
       "min_width": null,
       "object_fit": null,
       "object_position": null,
       "order": null,
       "overflow": null,
       "overflow_x": null,
       "overflow_y": null,
       "padding": null,
       "right": null,
       "top": null,
       "visibility": null,
       "width": null
      }
     },
     "ac5030d7531c4aec963dfe00beb75532": {
      "model_module": "@jupyter-widgets/base",
      "model_module_version": "1.2.0",
      "model_name": "LayoutModel",
      "state": {
       "_model_module": "@jupyter-widgets/base",
       "_model_module_version": "1.2.0",
       "_model_name": "LayoutModel",
       "_view_count": null,
       "_view_module": "@jupyter-widgets/base",
       "_view_module_version": "1.2.0",
       "_view_name": "LayoutView",
       "align_content": null,
       "align_items": null,
       "align_self": null,
       "border": null,
       "bottom": null,
       "display": null,
       "flex": null,
       "flex_flow": null,
       "grid_area": null,
       "grid_auto_columns": null,
       "grid_auto_flow": null,
       "grid_auto_rows": null,
       "grid_column": null,
       "grid_gap": null,
       "grid_row": null,
       "grid_template_areas": null,
       "grid_template_columns": null,
       "grid_template_rows": null,
       "height": null,
       "justify_content": null,
       "justify_items": null,
       "left": null,
       "margin": null,
       "max_height": null,
       "max_width": null,
       "min_height": null,
       "min_width": null,
       "object_fit": null,
       "object_position": null,
       "order": null,
       "overflow": null,
       "overflow_x": null,
       "overflow_y": null,
       "padding": null,
       "right": null,
       "top": null,
       "visibility": null,
       "width": null
      }
     },
     "acfdc76650d44c58a78762ae035c8e39": {
      "model_module": "@jupyter-widgets/base",
      "model_module_version": "1.2.0",
      "model_name": "LayoutModel",
      "state": {
       "_model_module": "@jupyter-widgets/base",
       "_model_module_version": "1.2.0",
       "_model_name": "LayoutModel",
       "_view_count": null,
       "_view_module": "@jupyter-widgets/base",
       "_view_module_version": "1.2.0",
       "_view_name": "LayoutView",
       "align_content": null,
       "align_items": null,
       "align_self": null,
       "border": null,
       "bottom": null,
       "display": null,
       "flex": null,
       "flex_flow": null,
       "grid_area": null,
       "grid_auto_columns": null,
       "grid_auto_flow": null,
       "grid_auto_rows": null,
       "grid_column": null,
       "grid_gap": null,
       "grid_row": null,
       "grid_template_areas": null,
       "grid_template_columns": null,
       "grid_template_rows": null,
       "height": null,
       "justify_content": null,
       "justify_items": null,
       "left": null,
       "margin": null,
       "max_height": null,
       "max_width": null,
       "min_height": null,
       "min_width": null,
       "object_fit": null,
       "object_position": null,
       "order": null,
       "overflow": null,
       "overflow_x": null,
       "overflow_y": null,
       "padding": null,
       "right": null,
       "top": null,
       "visibility": null,
       "width": null
      }
     },
     "ad73eeb7904b4bc9bc55c0a20b42b579": {
      "model_module": "@jupyter-widgets/controls",
      "model_module_version": "1.5.0",
      "model_name": "HTMLModel",
      "state": {
       "_dom_classes": [],
       "_model_module": "@jupyter-widgets/controls",
       "_model_module_version": "1.5.0",
       "_model_name": "HTMLModel",
       "_view_count": null,
       "_view_module": "@jupyter-widgets/controls",
       "_view_module_version": "1.5.0",
       "_view_name": "HTMLView",
       "description": "",
       "description_tooltip": null,
       "layout": "IPY_MODEL_58346f637bae46059d9f6609e7d87d64",
       "placeholder": "​",
       "style": "IPY_MODEL_0ed11b8e6b1746e1996b65af7a7107d0",
       "value": " 16077/16077 [01:32&lt;00:00, 176.74it/s]"
      }
     },
     "ae026822c7e54be9b8bf8ef519cf8874": {
      "model_module": "@jupyter-widgets/controls",
      "model_module_version": "1.5.0",
      "model_name": "HTMLModel",
      "state": {
       "_dom_classes": [],
       "_model_module": "@jupyter-widgets/controls",
       "_model_module_version": "1.5.0",
       "_model_name": "HTMLModel",
       "_view_count": null,
       "_view_module": "@jupyter-widgets/controls",
       "_view_module_version": "1.5.0",
       "_view_name": "HTMLView",
       "description": "",
       "description_tooltip": null,
       "layout": "IPY_MODEL_31c3a7ab08a44a10b7df96d900af2374",
       "placeholder": "​",
       "style": "IPY_MODEL_a7c03cf6aedf4ee395302ddd18950ec9",
       "value": "100%"
      }
     },
     "b2118dc31b264bd38442bb9590845b1a": {
      "model_module": "@jupyter-widgets/base",
      "model_module_version": "1.2.0",
      "model_name": "LayoutModel",
      "state": {
       "_model_module": "@jupyter-widgets/base",
       "_model_module_version": "1.2.0",
       "_model_name": "LayoutModel",
       "_view_count": null,
       "_view_module": "@jupyter-widgets/base",
       "_view_module_version": "1.2.0",
       "_view_name": "LayoutView",
       "align_content": null,
       "align_items": null,
       "align_self": null,
       "border": null,
       "bottom": null,
       "display": null,
       "flex": null,
       "flex_flow": null,
       "grid_area": null,
       "grid_auto_columns": null,
       "grid_auto_flow": null,
       "grid_auto_rows": null,
       "grid_column": null,
       "grid_gap": null,
       "grid_row": null,
       "grid_template_areas": null,
       "grid_template_columns": null,
       "grid_template_rows": null,
       "height": null,
       "justify_content": null,
       "justify_items": null,
       "left": null,
       "margin": null,
       "max_height": null,
       "max_width": null,
       "min_height": null,
       "min_width": null,
       "object_fit": null,
       "object_position": null,
       "order": null,
       "overflow": null,
       "overflow_x": null,
       "overflow_y": null,
       "padding": null,
       "right": null,
       "top": null,
       "visibility": null,
       "width": null
      }
     },
     "b227e73fd30b4b43ac61a58653b4e370": {
      "model_module": "@jupyter-widgets/controls",
      "model_module_version": "1.5.0",
      "model_name": "DescriptionStyleModel",
      "state": {
       "_model_module": "@jupyter-widgets/controls",
       "_model_module_version": "1.5.0",
       "_model_name": "DescriptionStyleModel",
       "_view_count": null,
       "_view_module": "@jupyter-widgets/base",
       "_view_module_version": "1.2.0",
       "_view_name": "StyleView",
       "description_width": ""
      }
     },
     "b5d41cf6e0d5415a98adb5c40ab35be2": {
      "model_module": "@jupyter-widgets/controls",
      "model_module_version": "1.5.0",
      "model_name": "DescriptionStyleModel",
      "state": {
       "_model_module": "@jupyter-widgets/controls",
       "_model_module_version": "1.5.0",
       "_model_name": "DescriptionStyleModel",
       "_view_count": null,
       "_view_module": "@jupyter-widgets/base",
       "_view_module_version": "1.2.0",
       "_view_name": "StyleView",
       "description_width": ""
      }
     },
     "b82578aa5b424c1c8601aef090d15aa7": {
      "model_module": "@jupyter-widgets/controls",
      "model_module_version": "1.5.0",
      "model_name": "HTMLModel",
      "state": {
       "_dom_classes": [],
       "_model_module": "@jupyter-widgets/controls",
       "_model_module_version": "1.5.0",
       "_model_name": "HTMLModel",
       "_view_count": null,
       "_view_module": "@jupyter-widgets/controls",
       "_view_module_version": "1.5.0",
       "_view_name": "HTMLView",
       "description": "",
       "description_tooltip": null,
       "layout": "IPY_MODEL_3c1f5bd2bff1464f8dc63106dddf96f0",
       "placeholder": "​",
       "style": "IPY_MODEL_5dab5fae47fe4af4b47e8950d624de33",
       "value": "100%"
      }
     },
     "bca7d73c028b48629e43f1e6df6bd535": {
      "model_module": "@jupyter-widgets/controls",
      "model_module_version": "1.5.0",
      "model_name": "DescriptionStyleModel",
      "state": {
       "_model_module": "@jupyter-widgets/controls",
       "_model_module_version": "1.5.0",
       "_model_name": "DescriptionStyleModel",
       "_view_count": null,
       "_view_module": "@jupyter-widgets/base",
       "_view_module_version": "1.2.0",
       "_view_name": "StyleView",
       "description_width": ""
      }
     },
     "bdb679723d414eb9927f747131f7bc9d": {
      "model_module": "@jupyter-widgets/base",
      "model_module_version": "1.2.0",
      "model_name": "LayoutModel",
      "state": {
       "_model_module": "@jupyter-widgets/base",
       "_model_module_version": "1.2.0",
       "_model_name": "LayoutModel",
       "_view_count": null,
       "_view_module": "@jupyter-widgets/base",
       "_view_module_version": "1.2.0",
       "_view_name": "LayoutView",
       "align_content": null,
       "align_items": null,
       "align_self": null,
       "border": null,
       "bottom": null,
       "display": null,
       "flex": null,
       "flex_flow": null,
       "grid_area": null,
       "grid_auto_columns": null,
       "grid_auto_flow": null,
       "grid_auto_rows": null,
       "grid_column": null,
       "grid_gap": null,
       "grid_row": null,
       "grid_template_areas": null,
       "grid_template_columns": null,
       "grid_template_rows": null,
       "height": null,
       "justify_content": null,
       "justify_items": null,
       "left": null,
       "margin": null,
       "max_height": null,
       "max_width": null,
       "min_height": null,
       "min_width": null,
       "object_fit": null,
       "object_position": null,
       "order": null,
       "overflow": null,
       "overflow_x": null,
       "overflow_y": null,
       "padding": null,
       "right": null,
       "top": null,
       "visibility": null,
       "width": null
      }
     },
     "c05b69bf298f49a8b651471060782f5e": {
      "model_module": "@jupyter-widgets/base",
      "model_module_version": "1.2.0",
      "model_name": "LayoutModel",
      "state": {
       "_model_module": "@jupyter-widgets/base",
       "_model_module_version": "1.2.0",
       "_model_name": "LayoutModel",
       "_view_count": null,
       "_view_module": "@jupyter-widgets/base",
       "_view_module_version": "1.2.0",
       "_view_name": "LayoutView",
       "align_content": null,
       "align_items": null,
       "align_self": null,
       "border": null,
       "bottom": null,
       "display": null,
       "flex": null,
       "flex_flow": null,
       "grid_area": null,
       "grid_auto_columns": null,
       "grid_auto_flow": null,
       "grid_auto_rows": null,
       "grid_column": null,
       "grid_gap": null,
       "grid_row": null,
       "grid_template_areas": null,
       "grid_template_columns": null,
       "grid_template_rows": null,
       "height": null,
       "justify_content": null,
       "justify_items": null,
       "left": null,
       "margin": null,
       "max_height": null,
       "max_width": null,
       "min_height": null,
       "min_width": null,
       "object_fit": null,
       "object_position": null,
       "order": null,
       "overflow": null,
       "overflow_x": null,
       "overflow_y": null,
       "padding": null,
       "right": null,
       "top": null,
       "visibility": null,
       "width": null
      }
     },
     "c38c589da3434a7e8caac90072abef7e": {
      "model_module": "@jupyter-widgets/base",
      "model_module_version": "1.2.0",
      "model_name": "LayoutModel",
      "state": {
       "_model_module": "@jupyter-widgets/base",
       "_model_module_version": "1.2.0",
       "_model_name": "LayoutModel",
       "_view_count": null,
       "_view_module": "@jupyter-widgets/base",
       "_view_module_version": "1.2.0",
       "_view_name": "LayoutView",
       "align_content": null,
       "align_items": null,
       "align_self": null,
       "border": null,
       "bottom": null,
       "display": null,
       "flex": null,
       "flex_flow": null,
       "grid_area": null,
       "grid_auto_columns": null,
       "grid_auto_flow": null,
       "grid_auto_rows": null,
       "grid_column": null,
       "grid_gap": null,
       "grid_row": null,
       "grid_template_areas": null,
       "grid_template_columns": null,
       "grid_template_rows": null,
       "height": null,
       "justify_content": null,
       "justify_items": null,
       "left": null,
       "margin": null,
       "max_height": null,
       "max_width": null,
       "min_height": null,
       "min_width": null,
       "object_fit": null,
       "object_position": null,
       "order": null,
       "overflow": null,
       "overflow_x": null,
       "overflow_y": null,
       "padding": null,
       "right": null,
       "top": null,
       "visibility": null,
       "width": null
      }
     },
     "c58ad232a2094396af81a3143057a764": {
      "model_module": "@jupyter-widgets/base",
      "model_module_version": "1.2.0",
      "model_name": "LayoutModel",
      "state": {
       "_model_module": "@jupyter-widgets/base",
       "_model_module_version": "1.2.0",
       "_model_name": "LayoutModel",
       "_view_count": null,
       "_view_module": "@jupyter-widgets/base",
       "_view_module_version": "1.2.0",
       "_view_name": "LayoutView",
       "align_content": null,
       "align_items": null,
       "align_self": null,
       "border": null,
       "bottom": null,
       "display": null,
       "flex": null,
       "flex_flow": null,
       "grid_area": null,
       "grid_auto_columns": null,
       "grid_auto_flow": null,
       "grid_auto_rows": null,
       "grid_column": null,
       "grid_gap": null,
       "grid_row": null,
       "grid_template_areas": null,
       "grid_template_columns": null,
       "grid_template_rows": null,
       "height": null,
       "justify_content": null,
       "justify_items": null,
       "left": null,
       "margin": null,
       "max_height": null,
       "max_width": null,
       "min_height": null,
       "min_width": null,
       "object_fit": null,
       "object_position": null,
       "order": null,
       "overflow": null,
       "overflow_x": null,
       "overflow_y": null,
       "padding": null,
       "right": null,
       "top": null,
       "visibility": null,
       "width": null
      }
     },
     "cc1e887cc83c48309de08f9f25e941c1": {
      "model_module": "@jupyter-widgets/controls",
      "model_module_version": "1.5.0",
      "model_name": "HTMLModel",
      "state": {
       "_dom_classes": [],
       "_model_module": "@jupyter-widgets/controls",
       "_model_module_version": "1.5.0",
       "_model_name": "HTMLModel",
       "_view_count": null,
       "_view_module": "@jupyter-widgets/controls",
       "_view_module_version": "1.5.0",
       "_view_name": "HTMLView",
       "description": "",
       "description_tooltip": null,
       "layout": "IPY_MODEL_e9d203d488bf41cf9c4439a80cbd388e",
       "placeholder": "​",
       "style": "IPY_MODEL_bca7d73c028b48629e43f1e6df6bd535",
       "value": "100%"
      }
     },
     "d0f9f01615db49079802f825eaabcd83": {
      "model_module": "@jupyter-widgets/controls",
      "model_module_version": "1.5.0",
      "model_name": "HTMLModel",
      "state": {
       "_dom_classes": [],
       "_model_module": "@jupyter-widgets/controls",
       "_model_module_version": "1.5.0",
       "_model_name": "HTMLModel",
       "_view_count": null,
       "_view_module": "@jupyter-widgets/controls",
       "_view_module_version": "1.5.0",
       "_view_name": "HTMLView",
       "description": "",
       "description_tooltip": null,
       "layout": "IPY_MODEL_6c6b28d7446b4a5da3b65ce698416549",
       "placeholder": "​",
       "style": "IPY_MODEL_8c1f9861df814fbf9ba73bf26b9cebf1",
       "value": " 16077/16077 [01:32&lt;00:00, 207.70it/s]"
      }
     },
     "d9f3695b2e8c47bc930a45e2493e2976": {
      "model_module": "@jupyter-widgets/base",
      "model_module_version": "1.2.0",
      "model_name": "LayoutModel",
      "state": {
       "_model_module": "@jupyter-widgets/base",
       "_model_module_version": "1.2.0",
       "_model_name": "LayoutModel",
       "_view_count": null,
       "_view_module": "@jupyter-widgets/base",
       "_view_module_version": "1.2.0",
       "_view_name": "LayoutView",
       "align_content": null,
       "align_items": null,
       "align_self": null,
       "border": null,
       "bottom": null,
       "display": null,
       "flex": null,
       "flex_flow": null,
       "grid_area": null,
       "grid_auto_columns": null,
       "grid_auto_flow": null,
       "grid_auto_rows": null,
       "grid_column": null,
       "grid_gap": null,
       "grid_row": null,
       "grid_template_areas": null,
       "grid_template_columns": null,
       "grid_template_rows": null,
       "height": null,
       "justify_content": null,
       "justify_items": null,
       "left": null,
       "margin": null,
       "max_height": null,
       "max_width": null,
       "min_height": null,
       "min_width": null,
       "object_fit": null,
       "object_position": null,
       "order": null,
       "overflow": null,
       "overflow_x": null,
       "overflow_y": null,
       "padding": null,
       "right": null,
       "top": null,
       "visibility": null,
       "width": null
      }
     },
     "dc234819ecf34c938571dfa6520693bf": {
      "model_module": "@jupyter-widgets/controls",
      "model_module_version": "1.5.0",
      "model_name": "ProgressStyleModel",
      "state": {
       "_model_module": "@jupyter-widgets/controls",
       "_model_module_version": "1.5.0",
       "_model_name": "ProgressStyleModel",
       "_view_count": null,
       "_view_module": "@jupyter-widgets/base",
       "_view_module_version": "1.2.0",
       "_view_name": "StyleView",
       "bar_color": null,
       "description_width": ""
      }
     },
     "e228185a3f55424b95bf3a01a05559f9": {
      "model_module": "@jupyter-widgets/controls",
      "model_module_version": "1.5.0",
      "model_name": "DescriptionStyleModel",
      "state": {
       "_model_module": "@jupyter-widgets/controls",
       "_model_module_version": "1.5.0",
       "_model_name": "DescriptionStyleModel",
       "_view_count": null,
       "_view_module": "@jupyter-widgets/base",
       "_view_module_version": "1.2.0",
       "_view_name": "StyleView",
       "description_width": ""
      }
     },
     "e6245a54701f4bed8b5ba8b3d03cd627": {
      "model_module": "@jupyter-widgets/controls",
      "model_module_version": "1.5.0",
      "model_name": "HTMLModel",
      "state": {
       "_dom_classes": [],
       "_model_module": "@jupyter-widgets/controls",
       "_model_module_version": "1.5.0",
       "_model_name": "HTMLModel",
       "_view_count": null,
       "_view_module": "@jupyter-widgets/controls",
       "_view_module_version": "1.5.0",
       "_view_name": "HTMLView",
       "description": "",
       "description_tooltip": null,
       "layout": "IPY_MODEL_0ea133d24d82413a817d52d3f235cb01",
       "placeholder": "​",
       "style": "IPY_MODEL_16d5393e151449d4af9062c9b70e4117",
       "value": " 16077/16077 [01:20&lt;00:00, 217.96it/s]"
      }
     },
     "e8c8b01d6ca845bcad2d112159ddcafa": {
      "model_module": "@jupyter-widgets/controls",
      "model_module_version": "1.5.0",
      "model_name": "HTMLModel",
      "state": {
       "_dom_classes": [],
       "_model_module": "@jupyter-widgets/controls",
       "_model_module_version": "1.5.0",
       "_model_name": "HTMLModel",
       "_view_count": null,
       "_view_module": "@jupyter-widgets/controls",
       "_view_module_version": "1.5.0",
       "_view_name": "HTMLView",
       "description": "",
       "description_tooltip": null,
       "layout": "IPY_MODEL_7a071bbe71b1465cad7589a99cf2bf37",
       "placeholder": "​",
       "style": "IPY_MODEL_f6b08156cafd4e8aa15bcff66d06069f",
       "value": " 16077/16077 [01:31&lt;00:00, 196.72it/s]"
      }
     },
     "e9d203d488bf41cf9c4439a80cbd388e": {
      "model_module": "@jupyter-widgets/base",
      "model_module_version": "1.2.0",
      "model_name": "LayoutModel",
      "state": {
       "_model_module": "@jupyter-widgets/base",
       "_model_module_version": "1.2.0",
       "_model_name": "LayoutModel",
       "_view_count": null,
       "_view_module": "@jupyter-widgets/base",
       "_view_module_version": "1.2.0",
       "_view_name": "LayoutView",
       "align_content": null,
       "align_items": null,
       "align_self": null,
       "border": null,
       "bottom": null,
       "display": null,
       "flex": null,
       "flex_flow": null,
       "grid_area": null,
       "grid_auto_columns": null,
       "grid_auto_flow": null,
       "grid_auto_rows": null,
       "grid_column": null,
       "grid_gap": null,
       "grid_row": null,
       "grid_template_areas": null,
       "grid_template_columns": null,
       "grid_template_rows": null,
       "height": null,
       "justify_content": null,
       "justify_items": null,
       "left": null,
       "margin": null,
       "max_height": null,
       "max_width": null,
       "min_height": null,
       "min_width": null,
       "object_fit": null,
       "object_position": null,
       "order": null,
       "overflow": null,
       "overflow_x": null,
       "overflow_y": null,
       "padding": null,
       "right": null,
       "top": null,
       "visibility": null,
       "width": null
      }
     },
     "ebccb9a38bf14649ad04397534feba7a": {
      "model_module": "@jupyter-widgets/controls",
      "model_module_version": "1.5.0",
      "model_name": "DescriptionStyleModel",
      "state": {
       "_model_module": "@jupyter-widgets/controls",
       "_model_module_version": "1.5.0",
       "_model_name": "DescriptionStyleModel",
       "_view_count": null,
       "_view_module": "@jupyter-widgets/base",
       "_view_module_version": "1.2.0",
       "_view_name": "StyleView",
       "description_width": ""
      }
     },
     "ed45c07c34c243cabc2df098031b10ab": {
      "model_module": "@jupyter-widgets/controls",
      "model_module_version": "1.5.0",
      "model_name": "HTMLModel",
      "state": {
       "_dom_classes": [],
       "_model_module": "@jupyter-widgets/controls",
       "_model_module_version": "1.5.0",
       "_model_name": "HTMLModel",
       "_view_count": null,
       "_view_module": "@jupyter-widgets/controls",
       "_view_module_version": "1.5.0",
       "_view_name": "HTMLView",
       "description": "",
       "description_tooltip": null,
       "layout": "IPY_MODEL_2cee9ba1d72540438bc85070512062a9",
       "placeholder": "​",
       "style": "IPY_MODEL_405ddaac1fa7463ba7d4e597738dfe5b",
       "value": " 16077/16077 [01:25&lt;00:00, 232.52it/s]"
      }
     },
     "eeb9162c2edd4d508f3218fdfa7238f4": {
      "model_module": "@jupyter-widgets/controls",
      "model_module_version": "1.5.0",
      "model_name": "HBoxModel",
      "state": {
       "_dom_classes": [],
       "_model_module": "@jupyter-widgets/controls",
       "_model_module_version": "1.5.0",
       "_model_name": "HBoxModel",
       "_view_count": null,
       "_view_module": "@jupyter-widgets/controls",
       "_view_module_version": "1.5.0",
       "_view_name": "HBoxView",
       "box_style": "",
       "children": [
        "IPY_MODEL_b82578aa5b424c1c8601aef090d15aa7",
        "IPY_MODEL_091dd51fe97e4fb382b70f091fdd19fc",
        "IPY_MODEL_ed45c07c34c243cabc2df098031b10ab"
       ],
       "layout": "IPY_MODEL_30a5f235e78c484088701b915480beed"
      }
     },
     "efc6e1d08e074bab8dded183b1676075": {
      "model_module": "@jupyter-widgets/controls",
      "model_module_version": "1.5.0",
      "model_name": "ProgressStyleModel",
      "state": {
       "_model_module": "@jupyter-widgets/controls",
       "_model_module_version": "1.5.0",
       "_model_name": "ProgressStyleModel",
       "_view_count": null,
       "_view_module": "@jupyter-widgets/base",
       "_view_module_version": "1.2.0",
       "_view_name": "StyleView",
       "bar_color": null,
       "description_width": ""
      }
     },
     "f4af2771d65349df8326a85a9fa0f313": {
      "model_module": "@jupyter-widgets/base",
      "model_module_version": "1.2.0",
      "model_name": "LayoutModel",
      "state": {
       "_model_module": "@jupyter-widgets/base",
       "_model_module_version": "1.2.0",
       "_model_name": "LayoutModel",
       "_view_count": null,
       "_view_module": "@jupyter-widgets/base",
       "_view_module_version": "1.2.0",
       "_view_name": "LayoutView",
       "align_content": null,
       "align_items": null,
       "align_self": null,
       "border": null,
       "bottom": null,
       "display": null,
       "flex": null,
       "flex_flow": null,
       "grid_area": null,
       "grid_auto_columns": null,
       "grid_auto_flow": null,
       "grid_auto_rows": null,
       "grid_column": null,
       "grid_gap": null,
       "grid_row": null,
       "grid_template_areas": null,
       "grid_template_columns": null,
       "grid_template_rows": null,
       "height": null,
       "justify_content": null,
       "justify_items": null,
       "left": null,
       "margin": null,
       "max_height": null,
       "max_width": null,
       "min_height": null,
       "min_width": null,
       "object_fit": null,
       "object_position": null,
       "order": null,
       "overflow": null,
       "overflow_x": null,
       "overflow_y": null,
       "padding": null,
       "right": null,
       "top": null,
       "visibility": null,
       "width": null
      }
     },
     "f6b08156cafd4e8aa15bcff66d06069f": {
      "model_module": "@jupyter-widgets/controls",
      "model_module_version": "1.5.0",
      "model_name": "DescriptionStyleModel",
      "state": {
       "_model_module": "@jupyter-widgets/controls",
       "_model_module_version": "1.5.0",
       "_model_name": "DescriptionStyleModel",
       "_view_count": null,
       "_view_module": "@jupyter-widgets/base",
       "_view_module_version": "1.2.0",
       "_view_name": "StyleView",
       "description_width": ""
      }
     },
     "f7bbbede61c34fb0af3a3fb11ee4c489": {
      "model_module": "@jupyter-widgets/base",
      "model_module_version": "1.2.0",
      "model_name": "LayoutModel",
      "state": {
       "_model_module": "@jupyter-widgets/base",
       "_model_module_version": "1.2.0",
       "_model_name": "LayoutModel",
       "_view_count": null,
       "_view_module": "@jupyter-widgets/base",
       "_view_module_version": "1.2.0",
       "_view_name": "LayoutView",
       "align_content": null,
       "align_items": null,
       "align_self": null,
       "border": null,
       "bottom": null,
       "display": null,
       "flex": null,
       "flex_flow": null,
       "grid_area": null,
       "grid_auto_columns": null,
       "grid_auto_flow": null,
       "grid_auto_rows": null,
       "grid_column": null,
       "grid_gap": null,
       "grid_row": null,
       "grid_template_areas": null,
       "grid_template_columns": null,
       "grid_template_rows": null,
       "height": null,
       "justify_content": null,
       "justify_items": null,
       "left": null,
       "margin": null,
       "max_height": null,
       "max_width": null,
       "min_height": null,
       "min_width": null,
       "object_fit": null,
       "object_position": null,
       "order": null,
       "overflow": null,
       "overflow_x": null,
       "overflow_y": null,
       "padding": null,
       "right": null,
       "top": null,
       "visibility": null,
       "width": null
      }
     },
     "fcb0b928dd364cdca1416d6e778c74ec": {
      "model_module": "@jupyter-widgets/controls",
      "model_module_version": "1.5.0",
      "model_name": "HBoxModel",
      "state": {
       "_dom_classes": [],
       "_model_module": "@jupyter-widgets/controls",
       "_model_module_version": "1.5.0",
       "_model_name": "HBoxModel",
       "_view_count": null,
       "_view_module": "@jupyter-widgets/controls",
       "_view_module_version": "1.5.0",
       "_view_name": "HBoxView",
       "box_style": "",
       "children": [
        "IPY_MODEL_78e71aeda3f8490ca2fc7c811f8b16fd",
        "IPY_MODEL_24742a9981024aca81cd56cf976d7ec7",
        "IPY_MODEL_111557b021d34f2eabae5aa7d7e1fe0a"
       ],
       "layout": "IPY_MODEL_1db86b9d2ad3471d867e79d1ff63e81c"
      }
     },
     "fddaa7b54b094005ad5a4efff112948a": {
      "model_module": "@jupyter-widgets/controls",
      "model_module_version": "1.5.0",
      "model_name": "FloatProgressModel",
      "state": {
       "_dom_classes": [],
       "_model_module": "@jupyter-widgets/controls",
       "_model_module_version": "1.5.0",
       "_model_name": "FloatProgressModel",
       "_view_count": null,
       "_view_module": "@jupyter-widgets/controls",
       "_view_module_version": "1.5.0",
       "_view_name": "ProgressView",
       "bar_style": "success",
       "description": "",
       "description_tooltip": null,
       "layout": "IPY_MODEL_4eac3e82eb6743e1b2da67bb3e6971ea",
       "max": 16077.0,
       "min": 0.0,
       "orientation": "horizontal",
       "style": "IPY_MODEL_6bb0592cdf0e4abfa363b74fd1360468",
       "value": 16077.0
      }
     },
     "fe011d466c1b4933ae5844402c04b95f": {
      "model_module": "@jupyter-widgets/controls",
      "model_module_version": "1.5.0",
      "model_name": "DescriptionStyleModel",
      "state": {
       "_model_module": "@jupyter-widgets/controls",
       "_model_module_version": "1.5.0",
       "_model_name": "DescriptionStyleModel",
       "_view_count": null,
       "_view_module": "@jupyter-widgets/base",
       "_view_module_version": "1.2.0",
       "_view_name": "StyleView",
       "description_width": ""
      }
     }
    },
    "version_major": 2,
    "version_minor": 0
   }
  }
 },
 "nbformat": 4,
 "nbformat_minor": 5
}
